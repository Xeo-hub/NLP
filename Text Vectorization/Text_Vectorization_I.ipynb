{
  "nbformat": 4,
  "nbformat_minor": 0,
  "metadata": {
    "colab": {
      "provenance": []
    },
    "kernelspec": {
      "name": "python3",
      "display_name": "Python 3"
    },
    "language_info": {
      "name": "python"
    }
  },
  "cells": [
    {
      "cell_type": "markdown",
      "source": [
        "# **Text Vectorization I**\n",
        "\n",
        "---\n",
        "### Natural Language Processing\n",
        "Date: Nov 11, 2022\n",
        "\n",
        "---\n",
        "\n",
        "Our goal here is to provide a basic overview of the following aspects:\n",
        "\n",
        "\n",
        "*   NLP preprocessing\n",
        "*   Document BoW and TF-IDF representation\n",
        "*   Utilization of the latter to solve a Text Classification task\n",
        "\n",
        "\n"
      ],
      "metadata": {
        "id": "iPj3TQkUZihZ"
      }
    },
    {
      "cell_type": "code",
      "metadata": {
        "id": "wIEhJkSaWW8Z",
        "colab": {
          "base_uri": "https://localhost:8080/"
        },
        "outputId": "b3ca7d54-3083-4e79-cd51-749e6987be72"
      },
      "source": [
        "# Common imports\n",
        "import os\n",
        "import numpy as np\n",
        "import pandas as pd\n",
        "from termcolor import colored\n",
        "import seaborn as sns\n",
        "import matplotlib.pyplot as plt\n",
        "\n",
        "# Figures plotted inside the notebook\n",
        "%matplotlib inline\n",
        "# High quality figures\n",
        "%config InlineBackend.figure_format = 'retina'\n",
        "# Figures style\n",
        "plt.style.use('seaborn-whitegrid')\n",
        "sns.set_style(\"darkgrid\")\n",
        "sns.color_palette(\"deep\")\n",
        "# Figues size\n",
        "plt.rcParams['figure.figsize'] = [8, 6]"
      ],
      "execution_count": null,
      "outputs": [
        {
          "output_type": "stream",
          "name": "stderr",
          "text": [
            "<ipython-input-1-5aa9cf6e1fc1>:14: MatplotlibDeprecationWarning: The seaborn styles shipped by Matplotlib are deprecated since 3.6, as they no longer correspond to the styles shipped by seaborn. However, they will remain available as 'seaborn-v0_8-<style>'. Alternatively, directly use the seaborn API instead.\n",
            "  plt.style.use('seaborn-whitegrid')\n"
          ]
        }
      ]
    },
    {
      "cell_type": "code",
      "metadata": {
        "id": "s33bt1hoFviC"
      },
      "source": [
        "# To wrap long text lines\n",
        "from IPython.display import HTML, display\n",
        "\n",
        "def set_css():\n",
        "  display(HTML('''\n",
        "  <style>\n",
        "    pre {\n",
        "        white-space: pre-wrap;\n",
        "    }\n",
        "  </style>\n",
        "  '''))\n",
        "get_ipython().events.register('pre_run_cell', set_css)"
      ],
      "execution_count": null,
      "outputs": []
    },
    {
      "cell_type": "code",
      "metadata": {
        "id": "D-LnZYfyY9EX",
        "colab": {
          "base_uri": "https://localhost:8080/",
          "height": 17
        },
        "outputId": "7ba04a8f-ebdb-4dd0-b6cf-bb2895c75afc"
      },
      "source": [
        "# For fancy table Display\n",
        "%load_ext google.colab.data_table"
      ],
      "execution_count": null,
      "outputs": [
        {
          "output_type": "display_data",
          "data": {
            "text/plain": [
              "<IPython.core.display.HTML object>"
            ],
            "text/html": [
              "\n",
              "  <style>\n",
              "    pre {\n",
              "        white-space: pre-wrap;\n",
              "    }\n",
              "  </style>\n",
              "  "
            ]
          },
          "metadata": {}
        }
      ]
    },
    {
      "cell_type": "markdown",
      "source": [
        "We are going to save all the files in this notebook generated into our Drive. For doing so, you must fill the variable ``path_to_folder`` with your Drive's folder in which you want to save the files. Please, note that the home path to your Drive is given by:\n",
        "\n",
        "``\n",
        "/content/drive/My Drive/\n",
        "``\n",
        "\n",
        "Hence, if you want to save this lab's results into a folder named ``NLP_IA``, then the variable ``path_to_folder`` for you should look as follows:\n",
        "\n",
        "``\n",
        "path_to_folder = '/content/drive/My Drive/NLP_IA'\n",
        "``"
      ],
      "metadata": {
        "id": "_sRa3IcDaH66"
      }
    },
    {
      "cell_type": "code",
      "source": [
        "path_to_folder = '/content/drive/MyDrive/NLP_IA'  # UPDATE THIS ACCORDING TO WHERE YOU WANT TO SAVE THE FILES!!!!"
      ],
      "metadata": {
        "colab": {
          "base_uri": "https://localhost:8080/",
          "height": 17
        },
        "id": "Q2HyVfyOaAH6",
        "outputId": "f61fa039-326d-4746-ba78-7b3757ce532c"
      },
      "execution_count": null,
      "outputs": [
        {
          "output_type": "display_data",
          "data": {
            "text/plain": [
              "<IPython.core.display.HTML object>"
            ],
            "text/html": [
              "\n",
              "  <style>\n",
              "    pre {\n",
              "        white-space: pre-wrap;\n",
              "    }\n",
              "  </style>\n",
              "  "
            ]
          },
          "metadata": {}
        }
      ]
    },
    {
      "cell_type": "code",
      "source": [
        "# Load the Drive helper and mount\n",
        "from google.colab import drive\n",
        "\n",
        "# This will prompt for authorization.\n",
        "drive.mount('/content/drive')\n",
        "\n",
        "# Change to assignment directory\n",
        "os.chdir(path_to_folder)"
      ],
      "metadata": {
        "id": "oI-dH_8vW4Su",
        "colab": {
          "base_uri": "https://localhost:8080/",
          "height": 34
        },
        "outputId": "2f1451c0-8cca-4a49-8f66-67b7b7ed44c4"
      },
      "execution_count": null,
      "outputs": [
        {
          "output_type": "display_data",
          "data": {
            "text/plain": [
              "<IPython.core.display.HTML object>"
            ],
            "text/html": [
              "\n",
              "  <style>\n",
              "    pre {\n",
              "        white-space: pre-wrap;\n",
              "    }\n",
              "  </style>\n",
              "  "
            ]
          },
          "metadata": {}
        },
        {
          "output_type": "stream",
          "name": "stdout",
          "text": [
            "Mounted at /content/drive\n"
          ]
        }
      ]
    },
    {
      "cell_type": "markdown",
      "source": [
        "## **1. Data preparation**\n",
        "---\n"
      ],
      "metadata": {
        "id": "myiD58wpbymQ"
      }
    },
    {
      "cell_type": "markdown",
      "source": [
        "### *1.1. Data loading*\n",
        "\n",
        "The first step to start working with text vectorization is downloading the dataset with which we will work. Here we will be using the **IMDB Dataset of 50K Movie Reviews**, which contains 50K movie reviews for natural language processing or Text analytics.\n"
      ],
      "metadata": {
        "id": "nZ3x5vfLclE_"
      }
    },
    {
      "cell_type": "code",
      "source": [
        "try:\n",
        "  import opendatasets as od\n",
        "except ModuleNotFoundError:\n",
        "  %pip install opendatasets\n",
        "  import opendatasets as od"
      ],
      "metadata": {
        "id": "P2G-hmU3b24N",
        "colab": {
          "base_uri": "https://localhost:8080/",
          "height": 329
        },
        "outputId": "b51a0e95-3cbc-4510-ef76-3b525c4e2495"
      },
      "execution_count": null,
      "outputs": [
        {
          "output_type": "display_data",
          "data": {
            "text/plain": [
              "<IPython.core.display.HTML object>"
            ],
            "text/html": [
              "\n",
              "  <style>\n",
              "    pre {\n",
              "        white-space: pre-wrap;\n",
              "    }\n",
              "  </style>\n",
              "  "
            ]
          },
          "metadata": {}
        },
        {
          "output_type": "stream",
          "name": "stdout",
          "text": [
            "Collecting opendatasets\n",
            "  Downloading opendatasets-0.1.22-py3-none-any.whl (15 kB)\n",
            "Requirement already satisfied: tqdm in /usr/local/lib/python3.10/dist-packages (from opendatasets) (4.66.1)\n",
            "Requirement already satisfied: kaggle in /usr/local/lib/python3.10/dist-packages (from opendatasets) (1.5.16)\n",
            "Requirement already satisfied: click in /usr/local/lib/python3.10/dist-packages (from opendatasets) (8.1.7)\n",
            "Requirement already satisfied: six>=1.10 in /usr/local/lib/python3.10/dist-packages (from kaggle->opendatasets) (1.16.0)\n",
            "Requirement already satisfied: certifi in /usr/local/lib/python3.10/dist-packages (from kaggle->opendatasets) (2023.11.17)\n",
            "Requirement already satisfied: python-dateutil in /usr/local/lib/python3.10/dist-packages (from kaggle->opendatasets) (2.8.2)\n",
            "Requirement already satisfied: requests in /usr/local/lib/python3.10/dist-packages (from kaggle->opendatasets) (2.31.0)\n",
            "Requirement already satisfied: python-slugify in /usr/local/lib/python3.10/dist-packages (from kaggle->opendatasets) (8.0.1)\n",
            "Requirement already satisfied: urllib3 in /usr/local/lib/python3.10/dist-packages (from kaggle->opendatasets) (2.0.7)\n",
            "Requirement already satisfied: bleach in /usr/local/lib/python3.10/dist-packages (from kaggle->opendatasets) (6.1.0)\n",
            "Requirement already satisfied: webencodings in /usr/local/lib/python3.10/dist-packages (from bleach->kaggle->opendatasets) (0.5.1)\n",
            "Requirement already satisfied: text-unidecode>=1.3 in /usr/local/lib/python3.10/dist-packages (from python-slugify->kaggle->opendatasets) (1.3)\n",
            "Requirement already satisfied: charset-normalizer<4,>=2 in /usr/local/lib/python3.10/dist-packages (from requests->kaggle->opendatasets) (3.3.2)\n",
            "Requirement already satisfied: idna<4,>=2.5 in /usr/local/lib/python3.10/dist-packages (from requests->kaggle->opendatasets) (3.6)\n",
            "Installing collected packages: opendatasets\n",
            "Successfully installed opendatasets-0.1.22\n"
          ]
        }
      ]
    },
    {
      "cell_type": "markdown",
      "source": [
        "The IMDB dataset can be downloaded from **Kaggle**. For doing so, you must create an account at [kaggle.com](https://www.kaggle.com/).\n",
        "\n",
        "Once you have your account, go to ``Your profile`` and select ``Edit Public Profile``. If you scroll down in this view, you will see a button named ``Create New API Token``. By clicking it will automatically download a file ``kaggle.json`` containing your **username** and **key**. You will need them for executing the next cell.\n",
        "\n",
        "You just need to execute the following cell once, since it will store the dataset file in the drive folder you have specified above."
      ],
      "metadata": {
        "id": "PudNbhBg-uAi"
      }
    },
    {
      "cell_type": "code",
      "source": [
        "# TODO: Comment this cell after executing it the first time\n",
        "od.download(\"https://www.kaggle.com/datasets/lakshmi25npathi/imdb-dataset-of-50k-movie-reviews\")"
      ],
      "metadata": {
        "colab": {
          "base_uri": "https://localhost:8080/",
          "height": 34
        },
        "id": "uAkQE-SP5_pK",
        "outputId": "3bbe1865-5054-4adc-e0b2-e6ddd64d3780"
      },
      "execution_count": null,
      "outputs": [
        {
          "output_type": "display_data",
          "data": {
            "text/plain": [
              "<IPython.core.display.HTML object>"
            ],
            "text/html": [
              "\n",
              "  <style>\n",
              "    pre {\n",
              "        white-space: pre-wrap;\n",
              "    }\n",
              "  </style>\n",
              "  "
            ]
          },
          "metadata": {}
        },
        {
          "output_type": "stream",
          "name": "stdout",
          "text": [
            "Skipping, found downloaded files in \"./imdb-dataset-of-50k-movie-reviews\" (use force=True to force download)\n"
          ]
        }
      ]
    },
    {
      "cell_type": "markdown",
      "source": [
        "Let's save the dataset as dataframe.\n",
        "\n",
        "This dataset is oriented toward binary sentence classification, i.e., the prediction of whether each of the reviews in the dataset is positive or negative using either classification or deep learning algorithms.\n",
        "\n",
        "Hence, we have two columns in our dataframe: the ``review`` column contains the textual information and the ``sentiment`` column contains the output labels. Here we will be working first on the ``review`` column for applying distinct types of text vectorization, and finally, we will utilize the ``sentiment`` column to carry out the sentiment analysis task.\n",
        "\n",
        "To accelerate the process, we will be only using a third of the reviews contained in the dataset."
      ],
      "metadata": {
        "id": "FSWQtKh4_b4v"
      }
    },
    {
      "cell_type": "code",
      "source": [
        "corpus_df = pd.read_csv('imdb-dataset-of-50k-movie-reviews/IMDB Dataset.csv')\n",
        "corpus_df = corpus_df.sample(frac=0.3, replace=True, random_state=1)\n",
        "print(len(corpus_df))\n",
        "corpus_df.head()"
      ],
      "metadata": {
        "id": "dvre6LFf8puM",
        "colab": {
          "base_uri": "https://localhost:8080/",
          "height": 1155
        },
        "outputId": "f867d104-1b2c-4b79-9235-4da7fea6c37d"
      },
      "execution_count": null,
      "outputs": [
        {
          "output_type": "display_data",
          "data": {
            "text/plain": [
              "<IPython.core.display.HTML object>"
            ],
            "text/html": [
              "\n",
              "  <style>\n",
              "    pre {\n",
              "        white-space: pre-wrap;\n",
              "    }\n",
              "  </style>\n",
              "  "
            ]
          },
          "metadata": {}
        },
        {
          "output_type": "stream",
          "name": "stdout",
          "text": [
            "15000\n"
          ]
        },
        {
          "output_type": "execute_result",
          "data": {
            "text/plain": [
              "                                                  review sentiment\n",
              "33003  Set in Paris in the year 1910, a retired old r...  positive\n",
              "12172  Basic structure of a story: Beginning, Middle,...  negative\n",
              "5192   An odd, willfully skewed biopic of Dyan Thomas...  negative\n",
              "32511  Okay, you have:<br /><br />Penelope Keith as M...  negative\n",
              "43723  The larger-than-life figures of Wyatt Earp and...  positive"
            ],
            "text/html": [
              "\n",
              "  <div id=\"df-673102e1-92c3-48f0-bf74-8a9acef34ff1\" class=\"colab-df-container\">\n",
              "    <div>\n",
              "<style scoped>\n",
              "    .dataframe tbody tr th:only-of-type {\n",
              "        vertical-align: middle;\n",
              "    }\n",
              "\n",
              "    .dataframe tbody tr th {\n",
              "        vertical-align: top;\n",
              "    }\n",
              "\n",
              "    .dataframe thead th {\n",
              "        text-align: right;\n",
              "    }\n",
              "</style>\n",
              "<table border=\"1\" class=\"dataframe\">\n",
              "  <thead>\n",
              "    <tr style=\"text-align: right;\">\n",
              "      <th></th>\n",
              "      <th>review</th>\n",
              "      <th>sentiment</th>\n",
              "    </tr>\n",
              "  </thead>\n",
              "  <tbody>\n",
              "    <tr>\n",
              "      <th>33003</th>\n",
              "      <td>Set in Paris in the year 1910, a retired old r...</td>\n",
              "      <td>positive</td>\n",
              "    </tr>\n",
              "    <tr>\n",
              "      <th>12172</th>\n",
              "      <td>Basic structure of a story: Beginning, Middle,...</td>\n",
              "      <td>negative</td>\n",
              "    </tr>\n",
              "    <tr>\n",
              "      <th>5192</th>\n",
              "      <td>An odd, willfully skewed biopic of Dyan Thomas...</td>\n",
              "      <td>negative</td>\n",
              "    </tr>\n",
              "    <tr>\n",
              "      <th>32511</th>\n",
              "      <td>Okay, you have:&lt;br /&gt;&lt;br /&gt;Penelope Keith as M...</td>\n",
              "      <td>negative</td>\n",
              "    </tr>\n",
              "    <tr>\n",
              "      <th>43723</th>\n",
              "      <td>The larger-than-life figures of Wyatt Earp and...</td>\n",
              "      <td>positive</td>\n",
              "    </tr>\n",
              "  </tbody>\n",
              "</table>\n",
              "</div>\n",
              "    <div class=\"colab-df-buttons\">\n",
              "\n",
              "  <div class=\"colab-df-container\">\n",
              "    <button class=\"colab-df-convert\" onclick=\"convertToInteractive('df-673102e1-92c3-48f0-bf74-8a9acef34ff1')\"\n",
              "            title=\"Convert this dataframe to an interactive table.\"\n",
              "            style=\"display:none;\">\n",
              "\n",
              "  <svg xmlns=\"http://www.w3.org/2000/svg\" height=\"24px\" viewBox=\"0 -960 960 960\">\n",
              "    <path d=\"M120-120v-720h720v720H120Zm60-500h600v-160H180v160Zm220 220h160v-160H400v160Zm0 220h160v-160H400v160ZM180-400h160v-160H180v160Zm440 0h160v-160H620v160ZM180-180h160v-160H180v160Zm440 0h160v-160H620v160Z\"/>\n",
              "  </svg>\n",
              "    </button>\n",
              "\n",
              "  <style>\n",
              "    .colab-df-container {\n",
              "      display:flex;\n",
              "      gap: 12px;\n",
              "    }\n",
              "\n",
              "    .colab-df-convert {\n",
              "      background-color: #E8F0FE;\n",
              "      border: none;\n",
              "      border-radius: 50%;\n",
              "      cursor: pointer;\n",
              "      display: none;\n",
              "      fill: #1967D2;\n",
              "      height: 32px;\n",
              "      padding: 0 0 0 0;\n",
              "      width: 32px;\n",
              "    }\n",
              "\n",
              "    .colab-df-convert:hover {\n",
              "      background-color: #E2EBFA;\n",
              "      box-shadow: 0px 1px 2px rgba(60, 64, 67, 0.3), 0px 1px 3px 1px rgba(60, 64, 67, 0.15);\n",
              "      fill: #174EA6;\n",
              "    }\n",
              "\n",
              "    .colab-df-buttons div {\n",
              "      margin-bottom: 4px;\n",
              "    }\n",
              "\n",
              "    [theme=dark] .colab-df-convert {\n",
              "      background-color: #3B4455;\n",
              "      fill: #D2E3FC;\n",
              "    }\n",
              "\n",
              "    [theme=dark] .colab-df-convert:hover {\n",
              "      background-color: #434B5C;\n",
              "      box-shadow: 0px 1px 3px 1px rgba(0, 0, 0, 0.15);\n",
              "      filter: drop-shadow(0px 1px 2px rgba(0, 0, 0, 0.3));\n",
              "      fill: #FFFFFF;\n",
              "    }\n",
              "  </style>\n",
              "\n",
              "    <script>\n",
              "      const buttonEl =\n",
              "        document.querySelector('#df-673102e1-92c3-48f0-bf74-8a9acef34ff1 button.colab-df-convert');\n",
              "      buttonEl.style.display =\n",
              "        google.colab.kernel.accessAllowed ? 'block' : 'none';\n",
              "\n",
              "      async function convertToInteractive(key) {\n",
              "        const element = document.querySelector('#df-673102e1-92c3-48f0-bf74-8a9acef34ff1');\n",
              "        const dataTable =\n",
              "          await google.colab.kernel.invokeFunction('convertToInteractive',\n",
              "                                                    [key], {});\n",
              "        if (!dataTable) return;\n",
              "\n",
              "        const docLinkHtml = 'Like what you see? Visit the ' +\n",
              "          '<a target=\"_blank\" href=https://colab.research.google.com/notebooks/data_table.ipynb>data table notebook</a>'\n",
              "          + ' to learn more about interactive tables.';\n",
              "        element.innerHTML = '';\n",
              "        dataTable['output_type'] = 'display_data';\n",
              "        await google.colab.output.renderOutput(dataTable, element);\n",
              "        const docLink = document.createElement('div');\n",
              "        docLink.innerHTML = docLinkHtml;\n",
              "        element.appendChild(docLink);\n",
              "      }\n",
              "    </script>\n",
              "  </div>\n",
              "\n",
              "\n",
              "<div id=\"df-6f510bc0-5165-42cb-a33a-f97e23a883ef\">\n",
              "  <button class=\"colab-df-quickchart\" onclick=\"quickchart('df-6f510bc0-5165-42cb-a33a-f97e23a883ef')\"\n",
              "            title=\"Suggest charts\"\n",
              "            style=\"display:none;\">\n",
              "\n",
              "<svg xmlns=\"http://www.w3.org/2000/svg\" height=\"24px\"viewBox=\"0 0 24 24\"\n",
              "     width=\"24px\">\n",
              "    <g>\n",
              "        <path d=\"M19 3H5c-1.1 0-2 .9-2 2v14c0 1.1.9 2 2 2h14c1.1 0 2-.9 2-2V5c0-1.1-.9-2-2-2zM9 17H7v-7h2v7zm4 0h-2V7h2v10zm4 0h-2v-4h2v4z\"/>\n",
              "    </g>\n",
              "</svg>\n",
              "  </button>\n",
              "\n",
              "<style>\n",
              "  .colab-df-quickchart {\n",
              "      --bg-color: #E8F0FE;\n",
              "      --fill-color: #1967D2;\n",
              "      --hover-bg-color: #E2EBFA;\n",
              "      --hover-fill-color: #174EA6;\n",
              "      --disabled-fill-color: #AAA;\n",
              "      --disabled-bg-color: #DDD;\n",
              "  }\n",
              "\n",
              "  [theme=dark] .colab-df-quickchart {\n",
              "      --bg-color: #3B4455;\n",
              "      --fill-color: #D2E3FC;\n",
              "      --hover-bg-color: #434B5C;\n",
              "      --hover-fill-color: #FFFFFF;\n",
              "      --disabled-bg-color: #3B4455;\n",
              "      --disabled-fill-color: #666;\n",
              "  }\n",
              "\n",
              "  .colab-df-quickchart {\n",
              "    background-color: var(--bg-color);\n",
              "    border: none;\n",
              "    border-radius: 50%;\n",
              "    cursor: pointer;\n",
              "    display: none;\n",
              "    fill: var(--fill-color);\n",
              "    height: 32px;\n",
              "    padding: 0;\n",
              "    width: 32px;\n",
              "  }\n",
              "\n",
              "  .colab-df-quickchart:hover {\n",
              "    background-color: var(--hover-bg-color);\n",
              "    box-shadow: 0 1px 2px rgba(60, 64, 67, 0.3), 0 1px 3px 1px rgba(60, 64, 67, 0.15);\n",
              "    fill: var(--button-hover-fill-color);\n",
              "  }\n",
              "\n",
              "  .colab-df-quickchart-complete:disabled,\n",
              "  .colab-df-quickchart-complete:disabled:hover {\n",
              "    background-color: var(--disabled-bg-color);\n",
              "    fill: var(--disabled-fill-color);\n",
              "    box-shadow: none;\n",
              "  }\n",
              "\n",
              "  .colab-df-spinner {\n",
              "    border: 2px solid var(--fill-color);\n",
              "    border-color: transparent;\n",
              "    border-bottom-color: var(--fill-color);\n",
              "    animation:\n",
              "      spin 1s steps(1) infinite;\n",
              "  }\n",
              "\n",
              "  @keyframes spin {\n",
              "    0% {\n",
              "      border-color: transparent;\n",
              "      border-bottom-color: var(--fill-color);\n",
              "      border-left-color: var(--fill-color);\n",
              "    }\n",
              "    20% {\n",
              "      border-color: transparent;\n",
              "      border-left-color: var(--fill-color);\n",
              "      border-top-color: var(--fill-color);\n",
              "    }\n",
              "    30% {\n",
              "      border-color: transparent;\n",
              "      border-left-color: var(--fill-color);\n",
              "      border-top-color: var(--fill-color);\n",
              "      border-right-color: var(--fill-color);\n",
              "    }\n",
              "    40% {\n",
              "      border-color: transparent;\n",
              "      border-right-color: var(--fill-color);\n",
              "      border-top-color: var(--fill-color);\n",
              "    }\n",
              "    60% {\n",
              "      border-color: transparent;\n",
              "      border-right-color: var(--fill-color);\n",
              "    }\n",
              "    80% {\n",
              "      border-color: transparent;\n",
              "      border-right-color: var(--fill-color);\n",
              "      border-bottom-color: var(--fill-color);\n",
              "    }\n",
              "    90% {\n",
              "      border-color: transparent;\n",
              "      border-bottom-color: var(--fill-color);\n",
              "    }\n",
              "  }\n",
              "</style>\n",
              "\n",
              "  <script>\n",
              "    async function quickchart(key) {\n",
              "      const quickchartButtonEl =\n",
              "        document.querySelector('#' + key + ' button');\n",
              "      quickchartButtonEl.disabled = true;  // To prevent multiple clicks.\n",
              "      quickchartButtonEl.classList.add('colab-df-spinner');\n",
              "      try {\n",
              "        const charts = await google.colab.kernel.invokeFunction(\n",
              "            'suggestCharts', [key], {});\n",
              "      } catch (error) {\n",
              "        console.error('Error during call to suggestCharts:', error);\n",
              "      }\n",
              "      quickchartButtonEl.classList.remove('colab-df-spinner');\n",
              "      quickchartButtonEl.classList.add('colab-df-quickchart-complete');\n",
              "    }\n",
              "    (() => {\n",
              "      let quickchartButtonEl =\n",
              "        document.querySelector('#df-6f510bc0-5165-42cb-a33a-f97e23a883ef button');\n",
              "      quickchartButtonEl.style.display =\n",
              "        google.colab.kernel.accessAllowed ? 'block' : 'none';\n",
              "    })();\n",
              "  </script>\n",
              "</div>\n",
              "    </div>\n",
              "  </div>\n"
            ],
            "application/vnd.google.colaboratory.module+javascript": "\n      import \"https://ssl.gstatic.com/colaboratory/data_table/881c4a0d49046431/data_table.js\";\n\n      const table = window.createDataTable({\n        data: [[{\n            'v': 33003,\n            'f': \"33003\",\n        },\n\"Set in Paris in the year 1910, a retired old rich opera singer decides to give her fortune away to her beautiful cat Duchess ( voiced by Eva Gabor) and her kittens, but the jealous butler Edgar comes up with a plan as he kidnaps the cats and leaves them in the countryside. Luckily for them with the help of a streetwise and independent tomcat named Thomas O'Malley ( voiced by Phil Harris) helps them get home especially meeting some of his good friends like the swinging' Scat Cat ( voiced by Scatman Crothers) and try to foil Edgar's plans.<br /><br />Very entertaining and edgy post-Walt Disney's death animated movie with a couple of nice jazzy tunes like the memorable \\\"Everybody wants to be a cat\\\", good voice acting and some terrific animation for it's time even in these times of computer animation. Not one of the greatest Disney animated movies but a cult Disney animated fave and one of the few gems of it's day that works well, highly recommended.\",\n\"positive\"],\n [{\n            'v': 12172,\n            'f': \"12172\",\n        },\n\"Basic structure of a story: Beginning, Middle, End.<br /><br />Sometimes this structure is played with, and we get Memento or Irreversible and the story plays backwards. Sometimes it's just not linear, a la Pulp Fiction. Regardless, they all have a beginning, middle and end.<br /><br />This is the first film I have ever seen that doesn't have an end.<br /><br />Beginning: Girl's best friend is expelled.<br /><br />Middle: Girl needs to cope without best friend.<br /><br />End: Non existent.<br /><br />Not that having an end would've saved this film, but at least it would have been complete.<br /><br />It's an exercise in apathy; we get a party-mix of characters, and they all turn out to be duds. Boring, vain, vapid and pallid imitations of people.<br /><br />And here's the action within this film: NOTHING HAPPENS. Nothing at all happens. Mischa Barton tries to talk with a plummy English accent, Dominique Swain whines a lot and Brad Renfro receives a blow job from some old guy. End of movie.<br /><br />By the time the credits rolled, I had a horrible feeling that many prisoners must feel: periods of time, those precious minutes of our life, have just been wasted.<br /><br />The only passable point (and that is a very emphatic ONLY) is Brad Renfro. He acts well. Lacey Chabert I tend to like, but no luck here. Due to good work in other films, I will forgive Mischa Barton this travesty, but I hope all cast members were slapped in the face for their involvement.<br /><br />Please, I implore you. Avoid. Don't fool yourself into thinking \\\"I'll make up my own mind\\\". My sister told me to never see this, and I ignored her, wanting to make up my own mind. That was a bad decision.<br /><br />I have never hated a film. There are many I don't like, but I have never hated a film. Until I saw this.\",\n\"negative\"],\n [{\n            'v': 5192,\n            'f': \"5192\",\n        },\n\"An odd, willfully skewed biopic of Dyan Thomas in which we hear little more than a dozen lines of his poetry. Instead we have to endure a raw character expos\\u00e9e seen through the prism of his proto-bigamous relationship with wife (Sienna Miller) and childhood love (Keira Knightley). Matthew Rhys plays Thomas with sufficient charm to inoculate us against his otherwise repellent self-interest and Cillian Murphy makes up the persistently tense lovetet.<br /><br />The film never seems to decide on where it's going. There's no arc so much as a viaduct from one end of the war to the other. Maybury seems much more interested in his two female leads (who wouldn't!?) than in the man who brings them together and then divides them. Miller is the choice of the two (I found Knightley competent at best but then I have never found her sympathetic) but they both offer dreadfully inconsistent Welsh accents. Other funny decisions include too much for the inconsequential character of William (Murphy), arty production (eg double crossfades) that is neither impressionist nor symbolic and the old chestnut act of period footage which doesn't blend. 4/10\",\n\"negative\"],\n [{\n            'v': 32511,\n            'f': \"32511\",\n        },\n\"Okay, you have:<br /><br />Penelope Keith as Miss Herringbone-Tweed, B.B.E. (Backbone of England.) She's killed off in the first scene - that's right, folks; this show has no backbone!<br /><br />Peter O'Toole as Ol' Colonel Cricket from The First War and now the emblazered Lord of the Manor.<br /><br />Joanna Lumley as the ensweatered Lady of the Manor, 20 years younger than the colonel and 20 years past her own prime but still glamourous (Brit spelling, not mine) enough to have a toy-boy on the side. It's alright, they have Col. Cricket's full knowledge and consent (they guy even comes 'round for Christmas!) Still, she's considerate of the colonel enough to have said toy-boy her own age (what a gal!)<br /><br />David McCallum as said toy-boy, equally as pointlessly glamourous as his squeeze. Pilcher couldn't come up with any cover for him within the story, so she gave him a hush-hush job at the Circus.<br /><br />and finally:<br /><br />Susan Hampshire as Miss Polonia Teacups, Venerable Headmistress of the Venerable Girls' Boarding-School, serving tea in her office with a dash of deep, poignant advice for life in the outside world just before graduation. Her best bit of advice: \\\"I've only been to Nancherrow (the local Stately Home of England) once. I thought it was very beautiful but, somehow, not part of the real world.\\\" Well, we can't say they didn't warn us.<br /><br />Ah, Susan - time was, your character would have been running the whole show. They don't write 'em like that any more. Our loss, not yours.<br /><br />So - with a cast and setting like this, you have the re-makings of \\\"Brideshead Revisited,\\\" right?<br /><br />Wrong! They took these 1-dimensional supporting roles because they paid so well. After all, acting is one of the oldest temp-jobs there is (YOU name another!)<br /><br />First warning sign: lots and lots of backlighting. They get around it by shooting outdoors - \\\"hey, it's just the sunlight!\\\"<br /><br />Second warning sign: Leading Lady cries a lot. When not crying, her eyes are moist. That's the law of romance novels: Leading Lady is \\\"dewy-eyed.\\\"<br /><br />Henceforth, Leading Lady shall be known as L.L.<br /><br />Third warning sign: L.L. actually has stars in her eyes when she's in love. Still, I'll give Emily Mortimer an award just for having to act with that spotlight in her eyes (I wonder . did they use contacts?)<br /><br />And lastly, fourth warning sign: no on-screen female character is \\\"Mrs.\\\" She's either \\\"Miss\\\" or \\\"Lady.\\\"<br /><br />When all was said and done, I still couldn't tell you who was pursuing whom and why. I couldn't even tell you what was said and done.<br /><br />To sum up: they all live through World War II without anything happening to them at all.<br /><br />OK, at the end, L.L. finds she's lost her parents to the Japanese prison camps and baby sis comes home catatonic. Meanwhile (there's always a \\\"meanwhile,\\\") some young guy L.L. had a crush on (when, I don't know) comes home from some wartime tough spot and is found living on the street by Lady of the Manor (must be some street if SHE's going to find him there.) Both war casualties are whisked away to recover at Nancherrow (SOMEBODY has to be \\\"whisked away\\\" SOMEWHERE in these romance stories!)<br /><br />Great drama.\",\n\"negative\"],\n [{\n            'v': 43723,\n            'f': \"43723\",\n        },\n\"The larger-than-life figures of Wyatt Earp and Bat Masterson, and the specters of George Armstrong Custer and Sitting Bull, loom over director Anthony Mann's hugely entertaining first western with James Stewart. Although Stewart's quest to avenge his father's murder is the primary story, Winchester '73 is really an ensemble piece, with the eponymous, one-in-a-thousand firearm passing through the hands of many colorful owners, including a wry trader (John McIntire, especially great) and outlaw Dan Duryea, who's even more despicable than usual. The film's conflation of fiction and history produces a breezy pace and an ambivalent tone brilliantly in step with Mann's pared-down, compositionally rigorous film-making. His themes of psychological unrest and past dictating present faintly underlie this tall tale of good and bad men chasing after a fabled gun, but they starkly emerge in a vignette about a husband's cowardice and failed attempt at atonement, and are defined in Stewart's conversations with sidekick Millard Mitchell. Mann's use of environment is what sets him apart from other filmmakers of westerns. Instead of gazing at vistas from afar, he incorporates them into the drama as characters that redirect, complicate, or evoke the human characters' goals. Just as mountains, caves, and rapids had to be accounted for in The Naked Spur, here a gunfight occurs amidst the loose rocks and boulders of a small mountain, a physical obstruction that fatalistically determines the roles of victor and victim between two equally skilled sharpshooters. (I would be remiss in not recognizing cinematographer William H. Daniels's contribution, particularly his superlative day-for-night, open-range photography.) Not merely an adept outdoorsman, Mann presents an equally vivid picture of Wyatt Earp-patrolled Dodge City, primarily through scaled, multiple-plane staging. The shooting contest does not depend on brisk camera shifts or twitchy cuts for effect because Mann instinctively knows where to place the camera and how to move it to display the greatest density of information in a given shot. Nor does he care to spell out the plot in dialogue, relying on the actors' eyes or a well-chosen image to convey the stakes. One scene in particular serves to explain his attitude: Mitchell's telling of Stewart's motivation to Shelley Winters, which is interrupted by the climactic gunfight that soon enough reveals all. Light without feeling insubstantial, intense without being overbearing, Winchester '73 seems more modern than its contemporaries and is a joy to behold.\",\n\"positive\"]],\n        columns: [[\"number\", \"index\"], [\"string\", \"review\"], [\"string\", \"sentiment\"]],\n        columnOptions: [{\"width\": \"1px\", \"className\": \"index_column\"}],\n        rowsPerPage: 25,\n        helpUrl: \"https://colab.research.google.com/notebooks/data_table.ipynb\",\n        suppressOutputScrolling: true,\n        minimumWidth: undefined,\n      });\n\n      function appendQuickchartButton(parentElement) {\n        let quickchartButtonContainerElement = document.createElement('div');\n        quickchartButtonContainerElement.innerHTML = `\n<div id=\"df-086030cc-5acd-4f95-974b-4eda58922355\">\n  <button class=\"colab-df-quickchart\" onclick=\"quickchart('df-086030cc-5acd-4f95-974b-4eda58922355')\"\n            title=\"Suggest charts\"\n            style=\"display:none;\">\n    \n<svg xmlns=\"http://www.w3.org/2000/svg\" height=\"24px\"viewBox=\"0 0 24 24\"\n     width=\"24px\">\n    <g>\n        <path d=\"M19 3H5c-1.1 0-2 .9-2 2v14c0 1.1.9 2 2 2h14c1.1 0 2-.9 2-2V5c0-1.1-.9-2-2-2zM9 17H7v-7h2v7zm4 0h-2V7h2v10zm4 0h-2v-4h2v4z\"/>\n    </g>\n</svg>\n  </button>\n  \n<style>\n  .colab-df-quickchart {\n      --bg-color: #E8F0FE;\n      --fill-color: #1967D2;\n      --hover-bg-color: #E2EBFA;\n      --hover-fill-color: #174EA6;\n      --disabled-fill-color: #AAA;\n      --disabled-bg-color: #DDD;\n  }\n\n  [theme=dark] .colab-df-quickchart {\n      --bg-color: #3B4455;\n      --fill-color: #D2E3FC;\n      --hover-bg-color: #434B5C;\n      --hover-fill-color: #FFFFFF;\n      --disabled-bg-color: #3B4455;\n      --disabled-fill-color: #666;\n  }\n\n  .colab-df-quickchart {\n    background-color: var(--bg-color);\n    border: none;\n    border-radius: 50%;\n    cursor: pointer;\n    display: none;\n    fill: var(--fill-color);\n    height: 32px;\n    padding: 0;\n    width: 32px;\n  }\n\n  .colab-df-quickchart:hover {\n    background-color: var(--hover-bg-color);\n    box-shadow: 0 1px 2px rgba(60, 64, 67, 0.3), 0 1px 3px 1px rgba(60, 64, 67, 0.15);\n    fill: var(--button-hover-fill-color);\n  }\n\n  .colab-df-quickchart-complete:disabled,\n  .colab-df-quickchart-complete:disabled:hover {\n    background-color: var(--disabled-bg-color);\n    fill: var(--disabled-fill-color);\n    box-shadow: none;\n  }\n\n  .colab-df-spinner {\n    border: 2px solid var(--fill-color);\n    border-color: transparent;\n    border-bottom-color: var(--fill-color);\n    animation:\n      spin 1s steps(1) infinite;\n  }\n\n  @keyframes spin {\n    0% {\n      border-color: transparent;\n      border-bottom-color: var(--fill-color);\n      border-left-color: var(--fill-color);\n    }\n    20% {\n      border-color: transparent;\n      border-left-color: var(--fill-color);\n      border-top-color: var(--fill-color);\n    }\n    30% {\n      border-color: transparent;\n      border-left-color: var(--fill-color);\n      border-top-color: var(--fill-color);\n      border-right-color: var(--fill-color);\n    }\n    40% {\n      border-color: transparent;\n      border-right-color: var(--fill-color);\n      border-top-color: var(--fill-color);\n    }\n    60% {\n      border-color: transparent;\n      border-right-color: var(--fill-color);\n    }\n    80% {\n      border-color: transparent;\n      border-right-color: var(--fill-color);\n      border-bottom-color: var(--fill-color);\n    }\n    90% {\n      border-color: transparent;\n      border-bottom-color: var(--fill-color);\n    }\n  }\n</style>\n\n  <script>\n    async function quickchart(key) {\n      const quickchartButtonEl =\n        document.querySelector('#' + key + ' button');\n      quickchartButtonEl.disabled = true;  // To prevent multiple clicks.\n      quickchartButtonEl.classList.add('colab-df-spinner');\n      try {\n        const charts = await google.colab.kernel.invokeFunction(\n            'suggestCharts', [key], {});\n      } catch (error) {\n        console.error('Error during call to suggestCharts:', error);\n      }\n      quickchartButtonEl.classList.remove('colab-df-spinner');\n      quickchartButtonEl.classList.add('colab-df-quickchart-complete');\n    }\n    (() => {\n      let quickchartButtonEl =\n        document.querySelector('#df-086030cc-5acd-4f95-974b-4eda58922355 button');\n      quickchartButtonEl.style.display =\n        google.colab.kernel.accessAllowed ? 'block' : 'none';\n    })();\n  </script>\n</div>`;\n        parentElement.appendChild(quickchartButtonContainerElement);\n      }\n\n      appendQuickchartButton(table);\n    "
          },
          "metadata": {},
          "execution_count": 8
        }
      ]
    },
    {
      "cell_type": "markdown",
      "source": [
        "### *1.2. Preprocessing*\n",
        "\n",
        "Before continuing with the vectorization task, we should structure and clean the text so that we only keep the information that allows us to capture the semantic content of the corpus. This will improve the result of our embeddings.\n",
        "\n",
        "For this purpose, we will apply the following three steps, which are typical of any NLP processing task:\n",
        "\n",
        "1.   Text Wrangling\n",
        "2.   Tokenization\n",
        "3.   Homogenization\n",
        "4.   Cleaning\n",
        "\n",
        "For the next steps, we will be using some methods available from:\n",
        "\n",
        "*   [Natural Language Toolkit](https://www.nltk.org/)\n",
        "*   [Beautiful Soup](https://pypi.org/project/beautifulsoup4/)\n",
        "*   [Contractions](https://pypi.org/project/contractions/)\n",
        "*   [re — Regular expression operations](https://docs.python.org/3/library/re.html)"
      ],
      "metadata": {
        "id": "8vMI2q90cnLY"
      }
    },
    {
      "cell_type": "code",
      "source": [
        "import re\n",
        "import nltk\n",
        "\n",
        "def check_nltk_packages():\n",
        "  packages = ['punkt','stopwords','omw-1.4','wordnet']\n",
        "\n",
        "  for package in packages:\n",
        "    try:\n",
        "      nltk.data.find('tokenizers/' + package)\n",
        "    except LookupError:\n",
        "      nltk.download(package)\n",
        "check_nltk_packages()\n",
        "\n",
        "try:\n",
        "  import lxml\n",
        "except ModuleNotFoundError:\n",
        "  %pip install lxml\n",
        "\n",
        "try:\n",
        "  import contractions\n",
        "except ModuleNotFoundError:\n",
        "  %pip install contractions\n",
        "  import contractions\n",
        "\n",
        "from bs4 import BeautifulSoup\n",
        "import re"
      ],
      "metadata": {
        "id": "1dq2D5uzfHaR",
        "colab": {
          "base_uri": "https://localhost:8080/",
          "height": 329
        },
        "outputId": "1e4ed803-cc42-4bc8-df1e-da117801e4d4"
      },
      "execution_count": null,
      "outputs": [
        {
          "output_type": "display_data",
          "data": {
            "text/plain": [
              "<IPython.core.display.HTML object>"
            ],
            "text/html": [
              "\n",
              "  <style>\n",
              "    pre {\n",
              "        white-space: pre-wrap;\n",
              "    }\n",
              "  </style>\n",
              "  "
            ]
          },
          "metadata": {}
        },
        {
          "output_type": "stream",
          "name": "stderr",
          "text": [
            "[nltk_data] Downloading package punkt to /root/nltk_data...\n",
            "[nltk_data]   Unzipping tokenizers/punkt.zip.\n",
            "[nltk_data] Downloading package stopwords to /root/nltk_data...\n",
            "[nltk_data]   Unzipping corpora/stopwords.zip.\n",
            "[nltk_data] Downloading package omw-1.4 to /root/nltk_data...\n",
            "[nltk_data] Downloading package wordnet to /root/nltk_data...\n"
          ]
        },
        {
          "output_type": "stream",
          "name": "stdout",
          "text": [
            "Collecting contractions\n",
            "  Downloading contractions-0.1.73-py2.py3-none-any.whl (8.7 kB)\n",
            "Collecting textsearch>=0.0.21 (from contractions)\n",
            "  Downloading textsearch-0.0.24-py2.py3-none-any.whl (7.6 kB)\n",
            "Collecting anyascii (from textsearch>=0.0.21->contractions)\n",
            "  Downloading anyascii-0.3.2-py3-none-any.whl (289 kB)\n",
            "\u001b[2K     \u001b[90m━━━━━━━━━━━━━━━━━━━━━━━━━━━━━━━━━━━━━━━━\u001b[0m \u001b[32m289.9/289.9 kB\u001b[0m \u001b[31m5.5 MB/s\u001b[0m eta \u001b[36m0:00:00\u001b[0m\n",
            "\u001b[?25hCollecting pyahocorasick (from textsearch>=0.0.21->contractions)\n",
            "  Downloading pyahocorasick-2.0.0-cp310-cp310-manylinux_2_5_x86_64.manylinux1_x86_64.manylinux_2_12_x86_64.manylinux2010_x86_64.whl (110 kB)\n",
            "\u001b[2K     \u001b[90m━━━━━━━━━━━━━━━━━━━━━━━━━━━━━━━━━━━━━━━━\u001b[0m \u001b[32m110.8/110.8 kB\u001b[0m \u001b[31m17.6 MB/s\u001b[0m eta \u001b[36m0:00:00\u001b[0m\n",
            "\u001b[?25hInstalling collected packages: pyahocorasick, anyascii, textsearch, contractions\n",
            "Successfully installed anyascii-0.3.2 contractions-0.1.73 pyahocorasick-2.0.0 textsearch-0.0.24\n"
          ]
        }
      ]
    },
    {
      "cell_type": "markdown",
      "source": [
        "#### *1.2.1. Text Wrangling*\n",
        "\n",
        "If we inspect the reviews, we can see that they contain many HTML tags and some URLs that we do not want to keep for our text vectorization task since they don't add much value for understanding and analyzing the text.\n",
        "\n",
        "Additionally, there are many English contractions ('ll, 're) that we would like to transform into their base form (will, are) to later help with the standardization process."
      ],
      "metadata": {
        "id": "7DKEcMr5aMcu"
      }
    },
    {
      "cell_type": "markdown",
      "source": [
        "##### **Exercise 1**\n",
        "\n",
        "Complete the function ``wrangle_text`` that performs the text wrangling task. For doing so:\n",
        "\n",
        "*   Make use of the library ``BeautifulSoup`` with the parser ``\"lxml\"`` to get rid of all HTML tags.\n",
        "*   Use the function ``re.sub`` to remove all URLs in text. To this function, we need to provide a **regular expression**, i.e., a special sequence of characters that help us match or find other strings or sets of strings, using a specialized syntax held in a pattern, and a string to replace the occurrences of the regular expression found. Typically, we would use define the regular expressions as raw strings in the form r'expression'.\n",
        "You can identify URLs using the pattern ``r'https://\\S+|www\\.\\S+'``.\n",
        "* Use the method ``fix`` from the ``contractions`` library to expand the contractions.\n",
        "\n",
        "Apply the ``wrangle_text`` function into the first positive ``review`` in the corpus and save the result into a variable named ``wrangled_review``. Print the review before and after making the text wrangling.\n"
      ],
      "metadata": {
        "id": "RUpFZpQBE9Cl"
      }
    },
    {
      "cell_type": "code",
      "source": [
        "#<SOL>\n",
        "def wrangle_text(text):\n",
        "  # Remove HTML tags using BeautifulSoup\n",
        "    text = BeautifulSoup(text, \"lxml\").get_text()\n",
        "    text = re.sub(r'https://\\S+|www\\.\\S+', '', text, count=0, flags=0)\n",
        "    text = contractions.fix(text)\n",
        "    return text\n",
        "  # TODO: Implement\n",
        "#</SOL>\n",
        "\n",
        "print(colored('\\n============= First review in corpus =============', 'blue'))\n",
        "\n",
        "#<SOL>\n",
        "print(corpus_df.iloc[0,0])\n",
        "#</SOL>\n",
        "\n",
        "print(colored('\\n============= After wrangling result =============', 'blue'))\n",
        "\n",
        "#<SOL>\n",
        "print(wrangle_text(corpus_df.iloc[0,0]))\n",
        "#</SOL>"
      ],
      "metadata": {
        "id": "8s7hUSGrzKVm",
        "colab": {
          "base_uri": "https://localhost:8080/",
          "height": 329
        },
        "outputId": "a7f66ad8-8340-4b63-cbbe-e3447aa256c4"
      },
      "execution_count": null,
      "outputs": [
        {
          "output_type": "display_data",
          "data": {
            "text/plain": [
              "<IPython.core.display.HTML object>"
            ],
            "text/html": [
              "\n",
              "  <style>\n",
              "    pre {\n",
              "        white-space: pre-wrap;\n",
              "    }\n",
              "  </style>\n",
              "  "
            ]
          },
          "metadata": {}
        },
        {
          "output_type": "stream",
          "name": "stdout",
          "text": [
            "\n",
            "============= First review in corpus =============\n",
            "Set in Paris in the year 1910, a retired old rich opera singer decides to give her fortune away to her beautiful cat Duchess ( voiced by Eva Gabor) and her kittens, but the jealous butler Edgar comes up with a plan as he kidnaps the cats and leaves them in the countryside. Luckily for them with the help of a streetwise and independent tomcat named Thomas O'Malley ( voiced by Phil Harris) helps them get home especially meeting some of his good friends like the swinging' Scat Cat ( voiced by Scatman Crothers) and try to foil Edgar's plans.<br /><br />Very entertaining and edgy post-Walt Disney's death animated movie with a couple of nice jazzy tunes like the memorable \"Everybody wants to be a cat\", good voice acting and some terrific animation for it's time even in these times of computer animation. Not one of the greatest Disney animated movies but a cult Disney animated fave and one of the few gems of it's day that works well, highly recommended.\n",
            "\n",
            "============= After wrangling result =============\n",
            "Set in Paris in the year 1910, a retired old rich opera singer decides to give her fortune away to her beautiful cat Duchess ( voiced by Eva Gabor) and her kittens, but the jealous butler Edgar comes up with a plan as he kidnaps the cats and leaves them in the countryside. Luckily for them with the help of a streetwise and independent tomcat named Thomas O'Malley ( voiced by Phil Harris) helps them get home especially meeting some of his good friends like the swinging' Scat Cat ( voiced by Scatman Crothers) and try to foil Edgar's plans.Very entertaining and edgy post-Walt Disney's death animated movie with a couple of nice jazzy tunes like the memorable \"Everybody wants to be a cat\", good voice acting and some terrific animation for it is time even in these times of computer animation. Not one of the greatest Disney animated movies but a cult Disney animated fave and one of the few gems of it is day that works well, highly recommended.\n"
          ]
        }
      ]
    },
    {
      "cell_type": "markdown",
      "source": [
        "#### *1.2.2. Tokenization*\n",
        "\n",
        "Tokenization is the process of segmenting a text into words,\n",
        "referred to as **tokens**. This procedure will often also break off punctuation symbols (commas, periods, etc.), phrases, and other possible meaningful elements from the text, such as separate tokens. The list of tokens resulting from tokenization becomes the input for the homogenization stage.\n",
        "\n",
        "The [NLTK Tokenizer Package](https://www.nltk.org/api/nltk.tokenize.html) offers several functions to perform tokenization operations on any text string. Here we will be using the ``wordpunct_tokenize`` function, which allows the separation of punctuation marks. Since sometimes we will be interested in performing the tokenization at the sentence level, we can combine ``wordpunct_tokenize`` and ``sent_tokenize``."
      ],
      "metadata": {
        "id": "cL978MLjLTey"
      }
    },
    {
      "cell_type": "markdown",
      "source": [
        "##### **Exercise 2**\n",
        "\n",
        "* Tokenize the ``wrangled_review`` at the word level using the ``wordpunct_tokenize`` function. Save the tokenized review in a variable named ``review_tokens``.\n",
        "* Tokenize the the ``wrangled_review`` at the sentence level using the combination of ``wordpunct_tokenize`` and  ``sent_tokenize`` functions. Save the tokenized review in a variable named ``review_tokens_sent``."
      ],
      "metadata": {
        "id": "vFEwe3wSRCbk"
      }
    },
    {
      "cell_type": "code",
      "source": [
        "from nltk.tokenize import wordpunct_tokenize\n",
        "from nltk.tokenize import sent_tokenize\n",
        "\n",
        "wrangled_review = wrangle_text(corpus_df.iloc[0,0])\n",
        "\n",
        "print(colored('\\n============= First review in corpus =============', 'blue'))\n",
        "print(wrangled_review)\n",
        "\n",
        "#<SOL>\n",
        "\n",
        "# Using wordpunct_tokenize\n",
        "review_tokens = wordpunct_tokenize(wrangled_review)\n",
        "\n",
        "# Using wordpunct_tokenize and sent_tokenize\n",
        "review_tokens_sent = []\n",
        "separated_prhases = sent_tokenize(wrangled_review)\n",
        "for i in separated_prhases:\n",
        "  review_tokens_sent.append(wordpunct_tokenize(i))\n",
        "\n",
        "#</SOL>\n",
        "\n",
        "print(colored('\\n============= First review (tokens) =============', 'blue'))\n",
        "print(review_tokens)\n",
        "\n",
        "print(colored('\\n============= First review (tokens sent level) =============', 'blue'))\n",
        "print(review_tokens_sent)"
      ],
      "metadata": {
        "id": "uuKWO0k8R_g1",
        "colab": {
          "base_uri": "https://localhost:8080/",
          "height": 624
        },
        "outputId": "9dd1e8ce-237f-4089-8a14-f4961cc8c314"
      },
      "execution_count": null,
      "outputs": [
        {
          "output_type": "display_data",
          "data": {
            "text/plain": [
              "<IPython.core.display.HTML object>"
            ],
            "text/html": [
              "\n",
              "  <style>\n",
              "    pre {\n",
              "        white-space: pre-wrap;\n",
              "    }\n",
              "  </style>\n",
              "  "
            ]
          },
          "metadata": {}
        },
        {
          "output_type": "stream",
          "name": "stdout",
          "text": [
            "\n",
            "============= First review in corpus =============\n",
            "Set in Paris in the year 1910, a retired old rich opera singer decides to give her fortune away to her beautiful cat Duchess ( voiced by Eva Gabor) and her kittens, but the jealous butler Edgar comes up with a plan as he kidnaps the cats and leaves them in the countryside. Luckily for them with the help of a streetwise and independent tomcat named Thomas O'Malley ( voiced by Phil Harris) helps them get home especially meeting some of his good friends like the swinging' Scat Cat ( voiced by Scatman Crothers) and try to foil Edgar's plans.Very entertaining and edgy post-Walt Disney's death animated movie with a couple of nice jazzy tunes like the memorable \"Everybody wants to be a cat\", good voice acting and some terrific animation for it is time even in these times of computer animation. Not one of the greatest Disney animated movies but a cult Disney animated fave and one of the few gems of it is day that works well, highly recommended.\n",
            "\n",
            "============= First review (tokens) =============\n",
            "['Set', 'in', 'Paris', 'in', 'the', 'year', '1910', ',', 'a', 'retired', 'old', 'rich', 'opera', 'singer', 'decides', 'to', 'give', 'her', 'fortune', 'away', 'to', 'her', 'beautiful', 'cat', 'Duchess', '(', 'voiced', 'by', 'Eva', 'Gabor', ')', 'and', 'her', 'kittens', ',', 'but', 'the', 'jealous', 'butler', 'Edgar', 'comes', 'up', 'with', 'a', 'plan', 'as', 'he', 'kidnaps', 'the', 'cats', 'and', 'leaves', 'them', 'in', 'the', 'countryside', '.', 'Luckily', 'for', 'them', 'with', 'the', 'help', 'of', 'a', 'streetwise', 'and', 'independent', 'tomcat', 'named', 'Thomas', 'O', \"'\", 'Malley', '(', 'voiced', 'by', 'Phil', 'Harris', ')', 'helps', 'them', 'get', 'home', 'especially', 'meeting', 'some', 'of', 'his', 'good', 'friends', 'like', 'the', 'swinging', \"'\", 'Scat', 'Cat', '(', 'voiced', 'by', 'Scatman', 'Crothers', ')', 'and', 'try', 'to', 'foil', 'Edgar', \"'\", 's', 'plans', '.', 'Very', 'entertaining', 'and', 'edgy', 'post', '-', 'Walt', 'Disney', \"'\", 's', 'death', 'animated', 'movie', 'with', 'a', 'couple', 'of', 'nice', 'jazzy', 'tunes', 'like', 'the', 'memorable', '\"', 'Everybody', 'wants', 'to', 'be', 'a', 'cat', '\",', 'good', 'voice', 'acting', 'and', 'some', 'terrific', 'animation', 'for', 'it', 'is', 'time', 'even', 'in', 'these', 'times', 'of', 'computer', 'animation', '.', 'Not', 'one', 'of', 'the', 'greatest', 'Disney', 'animated', 'movies', 'but', 'a', 'cult', 'Disney', 'animated', 'fave', 'and', 'one', 'of', 'the', 'few', 'gems', 'of', 'it', 'is', 'day', 'that', 'works', 'well', ',', 'highly', 'recommended', '.']\n",
            "\n",
            "============= First review (tokens sent level) =============\n",
            "[['Set', 'in', 'Paris', 'in', 'the', 'year', '1910', ',', 'a', 'retired', 'old', 'rich', 'opera', 'singer', 'decides', 'to', 'give', 'her', 'fortune', 'away', 'to', 'her', 'beautiful', 'cat', 'Duchess', '(', 'voiced', 'by', 'Eva', 'Gabor', ')', 'and', 'her', 'kittens', ',', 'but', 'the', 'jealous', 'butler', 'Edgar', 'comes', 'up', 'with', 'a', 'plan', 'as', 'he', 'kidnaps', 'the', 'cats', 'and', 'leaves', 'them', 'in', 'the', 'countryside', '.'], ['Luckily', 'for', 'them', 'with', 'the', 'help', 'of', 'a', 'streetwise', 'and', 'independent', 'tomcat', 'named', 'Thomas', 'O', \"'\", 'Malley', '(', 'voiced', 'by', 'Phil', 'Harris', ')', 'helps', 'them', 'get', 'home', 'especially', 'meeting', 'some', 'of', 'his', 'good', 'friends', 'like', 'the', 'swinging', \"'\", 'Scat', 'Cat', '(', 'voiced', 'by', 'Scatman', 'Crothers', ')', 'and', 'try', 'to', 'foil', 'Edgar', \"'\", 's', 'plans', '.', 'Very', 'entertaining', 'and', 'edgy', 'post', '-', 'Walt', 'Disney', \"'\", 's', 'death', 'animated', 'movie', 'with', 'a', 'couple', 'of', 'nice', 'jazzy', 'tunes', 'like', 'the', 'memorable', '\"', 'Everybody', 'wants', 'to', 'be', 'a', 'cat', '\",', 'good', 'voice', 'acting', 'and', 'some', 'terrific', 'animation', 'for', 'it', 'is', 'time', 'even', 'in', 'these', 'times', 'of', 'computer', 'animation', '.'], ['Not', 'one', 'of', 'the', 'greatest', 'Disney', 'animated', 'movies', 'but', 'a', 'cult', 'Disney', 'animated', 'fave', 'and', 'one', 'of', 'the', 'few', 'gems', 'of', 'it', 'is', 'day', 'that', 'works', 'well', ',', 'highly', 'recommended', '.']]\n"
          ]
        }
      ]
    },
    {
      "cell_type": "markdown",
      "source": [
        "#### *1.2.3. Homogenization*\n",
        "\n",
        "Homogenization is the process that aims to collapse all semantically equivalent words into a unique representative one. The homogenization process comes from multiple words sharing the same lexeme. For example, ``develop``, ``development``, ``developing``, ``developed``, ``developer``, ``developmental``, and ``developmentally``, are set of words that share the same lexeme or root and, therefore, have a certain relationship of meaning.\n",
        "\n",
        "To homogenize the set of tokens obtained in the previous stage, the following steps need to be performed:\n",
        "\n",
        "\n",
        "1.   **Lower-cased of the tokens**\n",
        "2.   **Elimination of non-alphanumeric characters**, like periods, question marks, and exclamation points.\n",
        "4.   **Word normalization (Stemming/Lemmatization)**, i.e., removing word terminations to preserve the root of the words and ignore grammatical information.\n",
        "\n",
        "Let's see how to apply each of these steps to the previously selected review."
      ],
      "metadata": {
        "id": "lEPiUz14Q3Nq"
      }
    },
    {
      "cell_type": "markdown",
      "source": [
        "##### **Exercise 3**\n",
        "\n",
        "Perform the following two transformations to ``review_tokens``:\n",
        "\n",
        "1.   Convert the tokens to lowercase. Use the ``.lower()`` method.\n",
        "2.   Remove non-alphanumeric tokens. You can detect them using the ``.isalnum()`` method.\n",
        "\n",
        "Save the result in a variable named ``review_tokens_filtered``."
      ],
      "metadata": {
        "id": "LTNUuBAYVB_j"
      }
    },
    {
      "cell_type": "code",
      "source": [
        "# Lowering caps and filtering only alphanumeric words\n",
        "review_tokens_lowered  = [palabra.lower() for palabra in review_tokens]\n",
        "review_tokens_filtered = [palabra for palabra in review_tokens_lowered if palabra.isalnum()]\n",
        "print(review_tokens)\n",
        "\n",
        "print(review_tokens_filtered[0:30])"
      ],
      "metadata": {
        "id": "UZkNRe82SeXS",
        "colab": {
          "base_uri": "https://localhost:8080/",
          "height": 243
        },
        "outputId": "c16abcdc-56cd-4ccd-b82c-011503f78349"
      },
      "execution_count": null,
      "outputs": [
        {
          "output_type": "display_data",
          "data": {
            "text/plain": [
              "<IPython.core.display.HTML object>"
            ],
            "text/html": [
              "\n",
              "  <style>\n",
              "    pre {\n",
              "        white-space: pre-wrap;\n",
              "    }\n",
              "  </style>\n",
              "  "
            ]
          },
          "metadata": {}
        },
        {
          "output_type": "stream",
          "name": "stdout",
          "text": [
            "['Set', 'in', 'Paris', 'in', 'the', 'year', '1910', ',', 'a', 'retired', 'old', 'rich', 'opera', 'singer', 'decides', 'to', 'give', 'her', 'fortune', 'away', 'to', 'her', 'beautiful', 'cat', 'Duchess', '(', 'voiced', 'by', 'Eva', 'Gabor', ')', 'and', 'her', 'kittens', ',', 'but', 'the', 'jealous', 'butler', 'Edgar', 'comes', 'up', 'with', 'a', 'plan', 'as', 'he', 'kidnaps', 'the', 'cats', 'and', 'leaves', 'them', 'in', 'the', 'countryside', '.', 'Luckily', 'for', 'them', 'with', 'the', 'help', 'of', 'a', 'streetwise', 'and', 'independent', 'tomcat', 'named', 'Thomas', 'O', \"'\", 'Malley', '(', 'voiced', 'by', 'Phil', 'Harris', ')', 'helps', 'them', 'get', 'home', 'especially', 'meeting', 'some', 'of', 'his', 'good', 'friends', 'like', 'the', 'swinging', \"'\", 'Scat', 'Cat', '(', 'voiced', 'by', 'Scatman', 'Crothers', ')', 'and', 'try', 'to', 'foil', 'Edgar', \"'\", 's', 'plans', '.', 'Very', 'entertaining', 'and', 'edgy', 'post', '-', 'Walt', 'Disney', \"'\", 's', 'death', 'animated', 'movie', 'with', 'a', 'couple', 'of', 'nice', 'jazzy', 'tunes', 'like', 'the', 'memorable', '\"', 'Everybody', 'wants', 'to', 'be', 'a', 'cat', '\",', 'good', 'voice', 'acting', 'and', 'some', 'terrific', 'animation', 'for', 'it', 'is', 'time', 'even', 'in', 'these', 'times', 'of', 'computer', 'animation', '.', 'Not', 'one', 'of', 'the', 'greatest', 'Disney', 'animated', 'movies', 'but', 'a', 'cult', 'Disney', 'animated', 'fave', 'and', 'one', 'of', 'the', 'few', 'gems', 'of', 'it', 'is', 'day', 'that', 'works', 'well', ',', 'highly', 'recommended', '.']\n",
            "['set', 'in', 'paris', 'in', 'the', 'year', '1910', 'a', 'retired', 'old', 'rich', 'opera', 'singer', 'decides', 'to', 'give', 'her', 'fortune', 'away', 'to', 'her', 'beautiful', 'cat', 'duchess', 'voiced', 'by', 'eva', 'gabor', 'and', 'her']\n"
          ]
        }
      ]
    },
    {
      "cell_type": "markdown",
      "source": [
        "At this point, we can choose between applying simple stemming or using lemmatization. We will try both to test their differences."
      ],
      "metadata": {
        "id": "z8eTKMNJezce"
      }
    },
    {
      "cell_type": "code",
      "source": [
        "from nltk.stem import SnowballStemmer\n",
        "from nltk.stem import WordNetLemmatizer\n",
        "\n",
        "stemmer = SnowballStemmer('english')\n",
        "wnl = WordNetLemmatizer()\n",
        "\n",
        "stemmed_review = [stemmer.stem(el) for el in review_tokens_filtered]\n",
        "print(colored('\\n============= Stemmed review  =============', 'blue'))\n",
        "print(stemmed_review)\n",
        "\n",
        "lemmatized_review = [wnl.lemmatize(el) for el in review_tokens_filtered]\n",
        "print(colored('\\n============= Lemmatized review  =============', 'blue'))\n",
        "print(lemmatized_review)"
      ],
      "metadata": {
        "id": "XL-2IqBugfyp",
        "colab": {
          "base_uri": "https://localhost:8080/",
          "height": 451
        },
        "outputId": "13f062b6-1847-407e-b399-3d4f4c69809a"
      },
      "execution_count": null,
      "outputs": [
        {
          "output_type": "display_data",
          "data": {
            "text/plain": [
              "<IPython.core.display.HTML object>"
            ],
            "text/html": [
              "\n",
              "  <style>\n",
              "    pre {\n",
              "        white-space: pre-wrap;\n",
              "    }\n",
              "  </style>\n",
              "  "
            ]
          },
          "metadata": {}
        },
        {
          "output_type": "stream",
          "name": "stdout",
          "text": [
            "\n",
            "============= Stemmed review  =============\n",
            "['set', 'in', 'pari', 'in', 'the', 'year', '1910', 'a', 'retir', 'old', 'rich', 'opera', 'singer', 'decid', 'to', 'give', 'her', 'fortun', 'away', 'to', 'her', 'beauti', 'cat', 'duchess', 'voic', 'by', 'eva', 'gabor', 'and', 'her', 'kitten', 'but', 'the', 'jealous', 'butler', 'edgar', 'come', 'up', 'with', 'a', 'plan', 'as', 'he', 'kidnap', 'the', 'cat', 'and', 'leav', 'them', 'in', 'the', 'countrysid', 'luckili', 'for', 'them', 'with', 'the', 'help', 'of', 'a', 'streetwis', 'and', 'independ', 'tomcat', 'name', 'thoma', 'o', 'malley', 'voic', 'by', 'phil', 'harri', 'help', 'them', 'get', 'home', 'especi', 'meet', 'some', 'of', 'his', 'good', 'friend', 'like', 'the', 'swing', 'scat', 'cat', 'voic', 'by', 'scatman', 'crother', 'and', 'tri', 'to', 'foil', 'edgar', 's', 'plan', 'veri', 'entertain', 'and', 'edgi', 'post', 'walt', 'disney', 's', 'death', 'anim', 'movi', 'with', 'a', 'coupl', 'of', 'nice', 'jazzi', 'tune', 'like', 'the', 'memor', 'everybodi', 'want', 'to', 'be', 'a', 'cat', 'good', 'voic', 'act', 'and', 'some', 'terrif', 'anim', 'for', 'it', 'is', 'time', 'even', 'in', 'these', 'time', 'of', 'comput', 'anim', 'not', 'one', 'of', 'the', 'greatest', 'disney', 'anim', 'movi', 'but', 'a', 'cult', 'disney', 'anim', 'fave', 'and', 'one', 'of', 'the', 'few', 'gem', 'of', 'it', 'is', 'day', 'that', 'work', 'well', 'high', 'recommend']\n",
            "\n",
            "============= Lemmatized review  =============\n",
            "['set', 'in', 'paris', 'in', 'the', 'year', '1910', 'a', 'retired', 'old', 'rich', 'opera', 'singer', 'decides', 'to', 'give', 'her', 'fortune', 'away', 'to', 'her', 'beautiful', 'cat', 'duchess', 'voiced', 'by', 'eva', 'gabor', 'and', 'her', 'kitten', 'but', 'the', 'jealous', 'butler', 'edgar', 'come', 'up', 'with', 'a', 'plan', 'a', 'he', 'kidnaps', 'the', 'cat', 'and', 'leaf', 'them', 'in', 'the', 'countryside', 'luckily', 'for', 'them', 'with', 'the', 'help', 'of', 'a', 'streetwise', 'and', 'independent', 'tomcat', 'named', 'thomas', 'o', 'malley', 'voiced', 'by', 'phil', 'harris', 'help', 'them', 'get', 'home', 'especially', 'meeting', 'some', 'of', 'his', 'good', 'friend', 'like', 'the', 'swinging', 'scat', 'cat', 'voiced', 'by', 'scatman', 'crothers', 'and', 'try', 'to', 'foil', 'edgar', 's', 'plan', 'very', 'entertaining', 'and', 'edgy', 'post', 'walt', 'disney', 's', 'death', 'animated', 'movie', 'with', 'a', 'couple', 'of', 'nice', 'jazzy', 'tune', 'like', 'the', 'memorable', 'everybody', 'want', 'to', 'be', 'a', 'cat', 'good', 'voice', 'acting', 'and', 'some', 'terrific', 'animation', 'for', 'it', 'is', 'time', 'even', 'in', 'these', 'time', 'of', 'computer', 'animation', 'not', 'one', 'of', 'the', 'greatest', 'disney', 'animated', 'movie', 'but', 'a', 'cult', 'disney', 'animated', 'fave', 'and', 'one', 'of', 'the', 'few', 'gem', 'of', 'it', 'is', 'day', 'that', 'work', 'well', 'highly', 'recommended']\n"
          ]
        }
      ]
    },
    {
      "cell_type": "markdown",
      "source": [
        "One of the advantages of the lemmatizer method is that the result of lemmatization is still a true word, which is more advisable for the presentation of text processing results and lemmatization. Yet, it does not remove grammatical differences (e.g., is\" or \"our\" are preserved and not replaced by the infinitive \"be\")\n",
        "\n",
        "In the following, we will use lemmatization."
      ],
      "metadata": {
        "id": "zLxnHkJXg9NK"
      }
    },
    {
      "cell_type": "markdown",
      "source": [
        "#### *1.2.4. Cleaning*\n",
        "\n",
        "The third step consists of removing those words that are very common in language and do not carry out useful semantic content (articles, pronouns, etc.). For it, we will use the list of stopwords provided by NLTK."
      ],
      "metadata": {
        "id": "xNenHd3WhQ6H"
      }
    },
    {
      "cell_type": "markdown",
      "source": [
        "##### **Exercise 4**\n",
        "\n",
        "Clean ``lemmatized_review`` by removing all tokens in the stopwords list ``stopwords_en``. Save the result in a variable named ``clean_review``.\n"
      ],
      "metadata": {
        "id": "gM-Vb069mPKW"
      }
    },
    {
      "cell_type": "code",
      "source": [
        "from nltk.corpus import stopwords\n",
        "stopwords_en = stopwords.words('english')\n",
        "\n",
        "#<SOL>\n",
        "clean_review = [word for word in lemmatized_review if word not in stopwords_en]\n",
        "#</SOL>\n",
        "\n",
        "print(colored('\\n============= Lemmatized review  =============', 'blue'))\n",
        "print(lemmatized_review)\n",
        "print(colored('\\n============= Clean lemmatized review  =============', 'blue'))\n",
        "print(clean_review)"
      ],
      "metadata": {
        "id": "05ccOVT5hXOD",
        "colab": {
          "base_uri": "https://localhost:8080/",
          "height": 399
        },
        "outputId": "7ecadc8a-0c9e-4cfc-f00c-e054400cde0b"
      },
      "execution_count": null,
      "outputs": [
        {
          "output_type": "display_data",
          "data": {
            "text/plain": [
              "<IPython.core.display.HTML object>"
            ],
            "text/html": [
              "\n",
              "  <style>\n",
              "    pre {\n",
              "        white-space: pre-wrap;\n",
              "    }\n",
              "  </style>\n",
              "  "
            ]
          },
          "metadata": {}
        },
        {
          "output_type": "stream",
          "name": "stdout",
          "text": [
            "\n",
            "============= Lemmatized review  =============\n",
            "['set', 'in', 'paris', 'in', 'the', 'year', '1910', 'a', 'retired', 'old', 'rich', 'opera', 'singer', 'decides', 'to', 'give', 'her', 'fortune', 'away', 'to', 'her', 'beautiful', 'cat', 'duchess', 'voiced', 'by', 'eva', 'gabor', 'and', 'her', 'kitten', 'but', 'the', 'jealous', 'butler', 'edgar', 'come', 'up', 'with', 'a', 'plan', 'a', 'he', 'kidnaps', 'the', 'cat', 'and', 'leaf', 'them', 'in', 'the', 'countryside', 'luckily', 'for', 'them', 'with', 'the', 'help', 'of', 'a', 'streetwise', 'and', 'independent', 'tomcat', 'named', 'thomas', 'o', 'malley', 'voiced', 'by', 'phil', 'harris', 'help', 'them', 'get', 'home', 'especially', 'meeting', 'some', 'of', 'his', 'good', 'friend', 'like', 'the', 'swinging', 'scat', 'cat', 'voiced', 'by', 'scatman', 'crothers', 'and', 'try', 'to', 'foil', 'edgar', 's', 'plan', 'very', 'entertaining', 'and', 'edgy', 'post', 'walt', 'disney', 's', 'death', 'animated', 'movie', 'with', 'a', 'couple', 'of', 'nice', 'jazzy', 'tune', 'like', 'the', 'memorable', 'everybody', 'want', 'to', 'be', 'a', 'cat', 'good', 'voice', 'acting', 'and', 'some', 'terrific', 'animation', 'for', 'it', 'is', 'time', 'even', 'in', 'these', 'time', 'of', 'computer', 'animation', 'not', 'one', 'of', 'the', 'greatest', 'disney', 'animated', 'movie', 'but', 'a', 'cult', 'disney', 'animated', 'fave', 'and', 'one', 'of', 'the', 'few', 'gem', 'of', 'it', 'is', 'day', 'that', 'work', 'well', 'highly', 'recommended']\n",
            "\n",
            "============= Clean lemmatized review  =============\n",
            "['set', 'paris', 'year', '1910', 'retired', 'old', 'rich', 'opera', 'singer', 'decides', 'give', 'fortune', 'away', 'beautiful', 'cat', 'duchess', 'voiced', 'eva', 'gabor', 'kitten', 'jealous', 'butler', 'edgar', 'come', 'plan', 'kidnaps', 'cat', 'leaf', 'countryside', 'luckily', 'help', 'streetwise', 'independent', 'tomcat', 'named', 'thomas', 'malley', 'voiced', 'phil', 'harris', 'help', 'get', 'home', 'especially', 'meeting', 'good', 'friend', 'like', 'swinging', 'scat', 'cat', 'voiced', 'scatman', 'crothers', 'try', 'foil', 'edgar', 'plan', 'entertaining', 'edgy', 'post', 'walt', 'disney', 'death', 'animated', 'movie', 'couple', 'nice', 'jazzy', 'tune', 'like', 'memorable', 'everybody', 'want', 'cat', 'good', 'voice', 'acting', 'terrific', 'animation', 'time', 'even', 'time', 'computer', 'animation', 'one', 'greatest', 'disney', 'animated', 'movie', 'cult', 'disney', 'animated', 'fave', 'one', 'gem', 'day', 'work', 'well', 'highly', 'recommended']\n"
          ]
        }
      ]
    },
    {
      "cell_type": "markdown",
      "source": [
        "##### **Exercise 5**\n",
        "\n",
        "Complete the function ``prepare_data`` that performs all steps seen above (i.e., from text wrangling to cleaning).\n",
        "\n",
        "Use the ``apply`` function to perform the transformation into all the ``review`` columns of the ``corpus_df`` dataframe and save the result in a new column named ``clean_review``."
      ],
      "metadata": {
        "id": "ZXYrwEkumQ2J"
      }
    },
    {
      "cell_type": "code",
      "source": [
        "def prepare_data(text):\n",
        "  wrangled_review = wrangle_text(text)\n",
        "  review_tokens = wordpunct_tokenize(wrangled_review)\n",
        "  review_tokens_lowered  = [palabra.lower() for palabra in review_tokens]\n",
        "  review_tokens_filtered = [palabra for palabra in review_tokens_lowered if palabra.isalnum()]\n",
        "  clean_review = [word for word in review_tokens_filtered if word not in stopwords_en]\n",
        "  lemmatized_review = [wnl.lemmatize(el) for el in clean_review]\n",
        "  return clean_review\n",
        "\n",
        "corpus_df['clean_review'] = corpus_df['review'].apply(prepare_data)"
      ],
      "metadata": {
        "id": "48tQOLVAoam4",
        "colab": {
          "base_uri": "https://localhost:8080/",
          "height": 69
        },
        "outputId": "80e8f65f-6455-43d3-ede6-70ff315941ff"
      },
      "execution_count": null,
      "outputs": [
        {
          "output_type": "display_data",
          "data": {
            "text/plain": [
              "<IPython.core.display.HTML object>"
            ],
            "text/html": [
              "\n",
              "  <style>\n",
              "    pre {\n",
              "        white-space: pre-wrap;\n",
              "    }\n",
              "  </style>\n",
              "  "
            ]
          },
          "metadata": {}
        },
        {
          "output_type": "stream",
          "name": "stderr",
          "text": [
            "<ipython-input-10-d29c62fa2240>:4: MarkupResemblesLocatorWarning: The input looks more like a filename than markup. You may want to open this file and pass the filehandle into Beautiful Soup.\n",
            "  text = BeautifulSoup(text, \"lxml\").get_text()\n"
          ]
        }
      ]
    },
    {
      "cell_type": "markdown",
      "source": [
        "## **2. Basic Vectorization techniques**\n",
        "---\n",
        "\n"
      ],
      "metadata": {
        "id": "UABnUm07adtq"
      }
    },
    {
      "cell_type": "markdown",
      "source": [
        "In the following, we are going to be working with Gensim.\n",
        "\n",
        "Gensim is a Python library intended for NLP practitioners. It provides a variety of methods for working with documents in textual format and carrying out semantic analysis tasks such as topic modeling or semantic comparison between documents. For this reason, Gensim is also widely used in Information Retrieval (IR) tasks.\n",
        "\n",
        "Gensim is Open Source and is entirely programmed in Python, so it is easy to modify the code if necessary. The source code is hosted on the [Github development repository](https://github.com/RaRe-Technologies/gensim\n",
        ").\n",
        "\n",
        "Despite being fully developed in Python, Gensim makes extensive use of the Numpy and Scipy libraries that provide highly efficient implementations of certain matrix transformations and mathematical calculations, so Gensim is quite fast. For this reason, Gensim has been adopted by a large number of companies as a core component of complex NLP systems. Gensim is available for use in the main Cloud Computing platforms (AWS, Azure, Google, etc)."
      ],
      "metadata": {
        "id": "HEJxig0v6o_v"
      }
    },
    {
      "cell_type": "markdown",
      "source": [
        "### *2.1. Gensim corpus*\n",
        "\n",
        "When working with Gensim we need to manage collections of documents. In Gensim, a **document** is simply a list of tokens corresponding to a Python string, while a **corpus** is a collection of documents. The simplest way we can work with a corpus is to create a list of documents (i.e., a list of lists of tokens).\n",
        "\n",
        "```\n",
        "# This is a Gensim document\n",
        "doc = ['Any', 'string', 'you', 'want', 'to', 'work', 'with']\n",
        "\n",
        "# This is a Gensim corpus\n",
        "corpus = [doc, 'A second document just to have more than one'.split()]\n",
        "```"
      ],
      "metadata": {
        "id": "EkHtR_dE7Y8-"
      }
    },
    {
      "cell_type": "markdown",
      "source": [
        "##### **Exercise 6**\n",
        "\n",
        "Generate a corpus to be used in this tutorial. Save it in a variable named ``corpus``."
      ],
      "metadata": {
        "id": "cM66pQlr71t1"
      }
    },
    {
      "cell_type": "code",
      "source": [
        "# The corpus will be the whole clean_review data\n",
        "\n",
        "corpus = corpus_df['clean_review'].tolist()\n",
        "\n",
        "print(colored('Number of documents in corpus: '+str(len(corpus)), 'green'))\n",
        "print(colored('\\n============= First review =============', 'blue'))\n",
        "print(corpus[0])"
      ],
      "metadata": {
        "id": "Wf1RyXdK70x7",
        "colab": {
          "base_uri": "https://localhost:8080/",
          "height": 208
        },
        "outputId": "e1f82228-04dc-4ad5-8df7-846f1cccd08a"
      },
      "execution_count": null,
      "outputs": [
        {
          "output_type": "display_data",
          "data": {
            "text/plain": [
              "<IPython.core.display.HTML object>"
            ],
            "text/html": [
              "\n",
              "  <style>\n",
              "    pre {\n",
              "        white-space: pre-wrap;\n",
              "    }\n",
              "  </style>\n",
              "  "
            ]
          },
          "metadata": {}
        },
        {
          "output_type": "stream",
          "name": "stdout",
          "text": [
            "Number of documents in corpus: 15000\n",
            "\n",
            "============= First review =============\n",
            "['set', 'paris', 'year', '1910', 'retired', 'old', 'rich', 'opera', 'singer', 'decides', 'give', 'fortune', 'away', 'beautiful', 'cat', 'duchess', 'voiced', 'eva', 'gabor', 'kittens', 'jealous', 'butler', 'edgar', 'comes', 'plan', 'kidnaps', 'cats', 'leaves', 'countryside', 'luckily', 'help', 'streetwise', 'independent', 'tomcat', 'named', 'thomas', 'malley', 'voiced', 'phil', 'harris', 'helps', 'get', 'home', 'especially', 'meeting', 'good', 'friends', 'like', 'swinging', 'scat', 'cat', 'voiced', 'scatman', 'crothers', 'try', 'foil', 'edgar', 'plans', 'entertaining', 'edgy', 'post', 'walt', 'disney', 'death', 'animated', 'movie', 'couple', 'nice', 'jazzy', 'tunes', 'like', 'memorable', 'everybody', 'wants', 'cat', 'good', 'voice', 'acting', 'terrific', 'animation', 'time', 'even', 'times', 'computer', 'animation', 'one', 'greatest', 'disney', 'animated', 'movies', 'cult', 'disney', 'animated', 'fave', 'one', 'gems', 'day', 'works', 'well', 'highly', 'recommended']\n"
          ]
        }
      ]
    },
    {
      "cell_type": "markdown",
      "source": [
        "##### **Exercise 7**\n",
        "\n",
        "Calculate the average number of tokens per review and plot the histogram of the number of tokens per review."
      ],
      "metadata": {
        "id": "iynIQANV9oEx"
      }
    },
    {
      "cell_type": "code",
      "source": [
        "doc_lengths = np.array([len(doc) for doc in corpus])\n",
        "average_tokens = np.mean(doc_lengths)\n",
        "print(doc_lengths)\n",
        "print(average_tokens)"
      ],
      "metadata": {
        "id": "71-74RBU95DK",
        "colab": {
          "base_uri": "https://localhost:8080/",
          "height": 52
        },
        "outputId": "ab9d2a8f-0001-4386-b03d-0c6ae3da45a9"
      },
      "execution_count": null,
      "outputs": [
        {
          "output_type": "display_data",
          "data": {
            "text/plain": [
              "<IPython.core.display.HTML object>"
            ],
            "text/html": [
              "\n",
              "  <style>\n",
              "    pre {\n",
              "        white-space: pre-wrap;\n",
              "    }\n",
              "  </style>\n",
              "  "
            ]
          },
          "metadata": {}
        },
        {
          "output_type": "stream",
          "name": "stdout",
          "text": [
            "[101 159 108 ...  77  38  93]\n",
            "119.7908\n"
          ]
        }
      ]
    },
    {
      "cell_type": "markdown",
      "source": [
        "### *2.2. N-grams detection*\n",
        "\n",
        "Gensim N-gram detection is purely based on the detection of tokens that appear next to each other with high frequency. Gensim `Phraser` can be parameterized to allow some intermediate tokens which are normally considered as links tokens in the English language. However, since we have already carried out lemmatization and stopword removal we can make use of a very simple use of method.\n",
        "\n",
        "Two parameters are necessary:\n",
        "   - `min_count`: Minimum length for N-grams\n",
        "   - `threshold`: Minimum scoring for accepting N-grams. Higher values imply that fewer N-grams are accepted. The threshold is applied on a scoring function that depends on the frequency of the detected N-grams, as well as on the number of isolated occurrences of the component tokens."
      ],
      "metadata": {
        "id": "ylvFDqQtSM0h"
      }
    },
    {
      "cell_type": "code",
      "source": [
        "from gensim.models.phrases import Phrases\n",
        "\n",
        "# min_count y threshold se calculan sobre el corpus completo, no sobre el doc en el que está un token determinado\n",
        "phrase_model = Phrases(corpus, min_count=2, threshold=20)\n",
        "\n",
        "print(colored('\\n============= First review in corpus =============', 'blue'))\n",
        "print(corpus[0])\n",
        "corpus = [el for el in phrase_model[corpus]] # We populate corpus again\n",
        "print(colored('\\n============= First review after N-gram replacement =============', 'blue'))\n",
        "print(corpus[0])"
      ],
      "metadata": {
        "id": "ctWMZLaTSXlE",
        "colab": {
          "base_uri": "https://localhost:8080/",
          "height": 347
        },
        "outputId": "317df135-6ef2-4ca0-df30-aceac6a9fa4d"
      },
      "execution_count": null,
      "outputs": [
        {
          "output_type": "display_data",
          "data": {
            "text/plain": [
              "<IPython.core.display.HTML object>"
            ],
            "text/html": [
              "\n",
              "  <style>\n",
              "    pre {\n",
              "        white-space: pre-wrap;\n",
              "    }\n",
              "  </style>\n",
              "  "
            ]
          },
          "metadata": {}
        },
        {
          "output_type": "stream",
          "name": "stdout",
          "text": [
            "\n",
            "============= First review in corpus =============\n",
            "['set', 'paris', 'year', '1910', 'retired', 'old', 'rich', 'opera', 'singer', 'decides', 'give', 'fortune', 'away', 'beautiful', 'cat', 'duchess', 'voiced', 'eva', 'gabor', 'kittens', 'jealous', 'butler', 'edgar', 'comes', 'plan', 'kidnaps', 'cats', 'leaves', 'countryside', 'luckily', 'help', 'streetwise', 'independent', 'tomcat', 'named', 'thomas', 'malley', 'voiced', 'phil', 'harris', 'helps', 'get', 'home', 'especially', 'meeting', 'good', 'friends', 'like', 'swinging', 'scat', 'cat', 'voiced', 'scatman', 'crothers', 'try', 'foil', 'edgar', 'plans', 'entertaining', 'edgy', 'post', 'walt', 'disney', 'death', 'animated', 'movie', 'couple', 'nice', 'jazzy', 'tunes', 'like', 'memorable', 'everybody', 'wants', 'cat', 'good', 'voice', 'acting', 'terrific', 'animation', 'time', 'even', 'times', 'computer', 'animation', 'one', 'greatest', 'disney', 'animated', 'movies', 'cult', 'disney', 'animated', 'fave', 'one', 'gems', 'day', 'works', 'well', 'highly', 'recommended']\n",
            "\n",
            "============= First review after N-gram replacement =============\n",
            "['set', 'paris', 'year_1910', 'retired', 'old', 'rich', 'opera_singer', 'decides', 'give', 'fortune', 'away', 'beautiful', 'cat', 'duchess', 'voiced', 'eva_gabor', 'kittens', 'jealous', 'butler_edgar', 'comes', 'plan', 'kidnaps', 'cats', 'leaves', 'countryside', 'luckily', 'help', 'streetwise', 'independent', 'tomcat', 'named', 'thomas_malley', 'voiced_phil', 'harris', 'helps', 'get', 'home', 'especially', 'meeting', 'good', 'friends', 'like', 'swinging', 'scat_cat', 'voiced', 'scatman_crothers', 'try', 'foil', 'edgar', 'plans', 'entertaining', 'edgy', 'post', 'walt_disney', 'death', 'animated', 'movie', 'couple', 'nice', 'jazzy', 'tunes', 'like', 'memorable', 'everybody_wants', 'cat', 'good', 'voice', 'acting', 'terrific', 'animation', 'time', 'even', 'times', 'computer_animation', 'one', 'greatest', 'disney_animated', 'movies', 'cult', 'disney_animated', 'fave', 'one', 'gems', 'day', 'works', 'well', 'highly_recommended']\n"
          ]
        }
      ]
    },
    {
      "cell_type": "markdown",
      "source": [
        "Let's save our clean reviews in a text file for later use."
      ],
      "metadata": {
        "id": "K-lNvsmz9TGP"
      }
    },
    {
      "cell_type": "code",
      "source": [
        "corpus_df['clean_review'] = corpus\n",
        "\n",
        "with open(\"imdb_lemmas_clean.txt\", 'w', encoding='utf-8') as fout:\n",
        "  for el in corpus_df['clean_review'].values.tolist():\n",
        "    fout.write(' '.join(el) + '\\n')"
      ],
      "metadata": {
        "id": "NU1Yv1Kq9ShB",
        "colab": {
          "base_uri": "https://localhost:8080/",
          "height": 17
        },
        "outputId": "95f6e614-36f7-4436-fc0f-5959d85e8252"
      },
      "execution_count": null,
      "outputs": [
        {
          "output_type": "display_data",
          "data": {
            "text/plain": [
              "<IPython.core.display.HTML object>"
            ],
            "text/html": [
              "\n",
              "  <style>\n",
              "    pre {\n",
              "        white-space: pre-wrap;\n",
              "    }\n",
              "  </style>\n",
              "  "
            ]
          },
          "metadata": {}
        }
      ]
    },
    {
      "cell_type": "markdown",
      "source": [
        "To be able to work with the corpus, we need to vectorize all its documents. To do so, there are two steps we need to carry out:\n",
        "\n",
        "1. Calculate the dictionary\n",
        "2. Transform the documents using the dictionary"
      ],
      "metadata": {
        "id": "r7AKCo62_WzY"
      }
    },
    {
      "cell_type": "markdown",
      "source": [
        "### *2.3. Gensim dictionary*\n",
        "\n",
        "As a first step for vectorizing documents, we need to create a dictionary containing all tokens in our text corpus and assign an integer identifier to each one of them.\n",
        "\n",
        "The following code fragment generates such a dictionary and shows the first tokens in the dictionary."
      ],
      "metadata": {
        "id": "yqNJKR0a_1vG"
      }
    },
    {
      "cell_type": "code",
      "source": [
        "from gensim.corpora import Dictionary\n",
        "\n",
        "# Create dictionary of tokens\n",
        "# El diccionario que se crea genera un identificador numérico para cada token (no es lo mismo que un vocabulario porque esto trabaja con tokens preprocesados, no con palabras)\n",
        "D = Dictionary(corpus)\n",
        "n_tokens = len(D)\n",
        "\n",
        "print('The positive dictionary contains', n_tokens, 'terms')\n",
        "print('First terms in the dictionary:')\n",
        "for n in range(10):\n",
        "    print(str(n), ':', D[n])"
      ],
      "metadata": {
        "id": "cubEHlmKAQgD",
        "colab": {
          "base_uri": "https://localhost:8080/",
          "height": 225
        },
        "outputId": "840f38b2-f5d2-479e-b1f6-f660774deeed"
      },
      "execution_count": null,
      "outputs": [
        {
          "output_type": "display_data",
          "data": {
            "text/plain": [
              "<IPython.core.display.HTML object>"
            ],
            "text/html": [
              "\n",
              "  <style>\n",
              "    pre {\n",
              "        white-space: pre-wrap;\n",
              "    }\n",
              "  </style>\n",
              "  "
            ]
          },
          "metadata": {}
        },
        {
          "output_type": "stream",
          "name": "stdout",
          "text": [
            "The positive dictionary contains 80944 terms\n",
            "First terms in the dictionary:\n",
            "0 : acting\n",
            "1 : animated\n",
            "2 : animation\n",
            "3 : away\n",
            "4 : beautiful\n",
            "5 : butler_edgar\n",
            "6 : cat\n",
            "7 : cats\n",
            "8 : comes\n",
            "9 : computer_animation\n"
          ]
        }
      ]
    },
    {
      "cell_type": "markdown",
      "source": [
        "\n",
        "Saved\n",
        "207 words\n",
        "The dictionary object contains several attributes and methods that can be useful for carrying out some cleaning tasks. You can check the available methods using\n",
        "\n",
        "```\n",
        "dir(D)\n",
        "```\n",
        "\n",
        "Some of the most useful methods that we will use are:\n",
        "\n",
        "   - ```add_documents```: updates the dictionary processing new documents\n",
        "\n",
        "   - ```merge_with```: merges two dictionaries\n",
        "\n",
        "   - ```save```, ```save_as_text```, ```load```, ```load_from_text```: can be used to give persistence to the dictionary and reading a previously calculated dictionary\n",
        "\n",
        "   - ```id2token```: This is a Python dictionary for the mapping tokenid (a number) -> token (text representation). You can check that ```D[n]``` is equivalent to ```D.id2token[n]```\n",
        "\n",
        "   - ```token2id```: A Python dictionary for the reverse mapping token -> tokenid\n",
        "\n",
        "   - ```items```, ```keys```, ```values```, ```iteritems```, ```iterkeys```, ```itervalues```: Can be used to obtain al items (tokenid, token), all tokenids, or all token texts, or to iterate over them.\n",
        "\n",
        "   - ```dfs```: A Python dictionary for the mapping tokenid -> Number of documents where the token appears\n",
        "\n",
        "   - ```filter_tokens```, ```filter_extremes```, ```filter_n_most_frequent```: are used to remove elements from the dictionary, and ```compactify```is used to reassign tokenids to tokens for a more efficient representation.\n",
        "\n",
        "   - ```doc2bow```: converts a document into its Bag of Words Representation\n",
        "\n",
        "   - ```doc2idx```: transforms a document into a sequence of the tokenids of the words of the document"
      ],
      "metadata": {
        "id": "GjXFSoBaBz36"
      }
    },
    {
      "cell_type": "markdown",
      "source": [
        "##### **Exercise 8**\n",
        "\n",
        "1. Obtain a dataframe with 2 columns: `token` and `ndocs`, corresponding to the text of each token and the number of documents where the token appears\n",
        "\n",
        "2. Sort the dataframe according to column `ndocs`.\n",
        "\n",
        "3. How many tokens appear in exactly one document? Remove them from the dataframe.\n",
        "\n",
        "4. What are the most and less common tokens in the dictionary in terms of document occurrence?\n",
        "\n",
        "3. Plot a histogram of the number of token appearances"
      ],
      "metadata": {
        "id": "F1E2Vq7ZCt21"
      }
    },
    {
      "cell_type": "code",
      "source": [
        "# Create a DataFrame with 'token' and 'ndocs' columns\n",
        "df = pd.DataFrame({\n",
        "    'token': D.values(),\n",
        "    'ndocs': [D.dfs[token_id] for token_id in D.keys()]\n",
        "})\n",
        "# Sort DataFrame by 'ndocs'\n",
        "df = df.sort_values(by='ndocs', ascending=False)\n",
        "\n",
        "# Print how many tokens only appear once\n",
        "tokens_appearing_once = df[df['ndocs'] == 1]\n",
        "print(len(tokens_appearing_once))\n",
        "\n",
        "# Remove tokens appearing in exactly one document from the DataFrame\n",
        "df = df[df['ndocs'] > 1]\n",
        "print(df.shape)\n",
        "\n",
        "# Most common token in terms of document occurrence\n",
        "most_common_token = df.iloc[0]\n",
        "print(most_common_token)\n",
        "# Least common token in terms of document occurrence\n",
        "least_common_token = df.iloc[-1]\n",
        "print(least_common_token)\n",
        "\n",
        "# Plot a histogram of token appearances\n",
        "plt.hist(df['ndocs'], bins=50, color='skyblue', edgecolor='black')\n",
        "plt.xlabel('Number of Document Appearances')\n",
        "plt.ylabel('Frequency')\n",
        "plt.title('Histogram of Token Appearances')\n",
        "plt.show()"
      ],
      "metadata": {
        "id": "IlmfLWJsDDik",
        "colab": {
          "base_uri": "https://localhost:8080/",
          "height": 697
        },
        "outputId": "25b5be37-51d9-433b-88a8-f35aeab96e83"
      },
      "execution_count": null,
      "outputs": [
        {
          "output_type": "display_data",
          "data": {
            "text/plain": [
              "<IPython.core.display.HTML object>"
            ],
            "text/html": [
              "\n",
              "  <style>\n",
              "    pre {\n",
              "        white-space: pre-wrap;\n",
              "    }\n",
              "  </style>\n",
              "  "
            ]
          },
          "metadata": {}
        },
        {
          "output_type": "stream",
          "name": "stdout",
          "text": [
            "23414\n",
            "(57530, 2)\n",
            "token    movie\n",
            "ndocs     9126\n",
            "Name: 49, dtype: object\n",
            "token    musn\n",
            "ndocs       2\n",
            "Name: 39465, dtype: object\n"
          ]
        },
        {
          "output_type": "display_data",
          "data": {
            "text/plain": [
              "<Figure size 800x600 with 1 Axes>"
            ],
            "image/png": "[encoded data removed]"
          },
          "metadata": {
            "image/png": {
              "width": 708,
              "height": 541
            }
          }
        }
      ]
    },
    {
      "cell_type": "markdown",
      "source": [
        "Next, we will filter out terms that appear in too few or too many of the documents in the dataset. This makes sense because:\n",
        "\n",
        "   - terms that appear in most documents are probably not very informative in the general context of a particular corpus\n",
        "   - terms that appear in a very reduced number of documents are not useful to find repetitive patterns across documents. In fact, in many cases, we find that many of the words that are eliminated for this reason can be typos."
      ],
      "metadata": {
        "id": "AUU9rKrkDTdL"
      }
    },
    {
      "cell_type": "code",
      "source": [
        "no_below = 4 #Minimum number of documents to keep a term in the dictionary\n",
        "no_above = .80 #Maximum proportion of documents in which a term can appear to be kept in the dictionary\n",
        "\n",
        "D.filter_extremes(no_below=no_below,no_above=no_above)\n",
        "n_tokens = len(D)\n",
        "\n",
        "print('The dictionary contains', n_tokens, 'terms')"
      ],
      "metadata": {
        "id": "C_UcE8geDSuT",
        "colab": {
          "base_uri": "https://localhost:8080/",
          "height": 34
        },
        "outputId": "916f37aa-8195-4f5a-ca1f-edc09e629731"
      },
      "execution_count": null,
      "outputs": [
        {
          "output_type": "display_data",
          "data": {
            "text/plain": [
              "<IPython.core.display.HTML object>"
            ],
            "text/html": [
              "\n",
              "  <style>\n",
              "    pre {\n",
              "        white-space: pre-wrap;\n",
              "    }\n",
              "  </style>\n",
              "  "
            ]
          },
          "metadata": {}
        },
        {
          "output_type": "stream",
          "name": "stdout",
          "text": [
            "The dictionary contains 33047 terms\n"
          ]
        }
      ]
    },
    {
      "cell_type": "markdown",
      "source": [
        "You can check dictionary size has been considerably reduced with respect to the original vocabulary."
      ],
      "metadata": {
        "id": "7_hNAvi8DaNv"
      }
    },
    {
      "cell_type": "code",
      "source": [
        "corpus_def = []\n",
        "# Para cada frase del corpus original (sin reducir tokens)\n",
        "for sent in corpus:\n",
        "  # Se cogen los token del corpus original que aparecen en el diccionario tras eliminar los tokens según su frecuencia de aparicion\n",
        "  aux = [token for token in sent if token in D.token2id.keys()]\n",
        "  corpus_def.append(aux)\n",
        "# Ahora tienes un corpus reducido (el diccionario ha sido util para eliminar esos token según su frecuencia)\n",
        "corpus_df['clean_review'] = corpus_def\n",
        "print(corpus_df.shape)"
      ],
      "metadata": {
        "id": "xpdMDkV6Qrox",
        "colab": {
          "base_uri": "https://localhost:8080/",
          "height": 34
        },
        "outputId": "8a94e8e6-3ba5-41f4-96c4-a5adfbc1f95a"
      },
      "execution_count": null,
      "outputs": [
        {
          "output_type": "display_data",
          "data": {
            "text/plain": [
              "<IPython.core.display.HTML object>"
            ],
            "text/html": [
              "\n",
              "  <style>\n",
              "    pre {\n",
              "        white-space: pre-wrap;\n",
              "    }\n",
              "  </style>\n",
              "  "
            ]
          },
          "metadata": {}
        },
        {
          "output_type": "stream",
          "name": "stdout",
          "text": [
            "(15000, 3)\n"
          ]
        }
      ]
    },
    {
      "cell_type": "markdown",
      "source": [
        "### *2.3. Bag-Of-Words (BoW)*\n",
        "\n",
        "Next, let us create a numerical version of our corpus using the `doc2bow` method. In general, `D.doc2bow(token_list)` transforms any list of tokens into a list of tuples `(token_id, n)`, one per each token in `token_list`, where `token_id` is the token identifier (according to dictionary `D`) and `n` is the number of occurrences of such a token in `token_list`."
      ],
      "metadata": {
        "id": "9rISd3VD_-Yi"
      }
    },
    {
      "cell_type": "code",
      "source": [
        "# Recordemos que el diccionario D es del tipo indice:token, el indice no representa el número de ocurrencias\n",
        "# doc2bow no es lo mismo que D.dfs, D.dfs mide las ocurrencias de cada token en TODOS los documentos de forma conjunta\n",
        "# mientras que doc2bow lo que hace es generarse un BoW para CADA documento del corpus\n",
        "# recordemos también que cada doc en el corpus es una review (en este notebook en concreto)\n",
        "reviews_bow = [D.doc2bow(doc) for doc in corpus]\n",
        "\n",
        "n_review = 1000\n",
        "print(colored('============= Review (lemmas) =============', 'blue'))\n",
        "print(' '.join(corpus[n_review]))\n",
        "\n",
        "print(colored('\\n============= Sparse vector representation =============', 'blue'))\n",
        "print(reviews_bow[n_review])\n",
        "\n",
        "print(colored('\\n============= Word counts for the review =============', 'blue'))\n",
        "print(list(map(lambda x: (D[x[0]], x[1]), reviews_bow[n_review])))"
      ],
      "metadata": {
        "id": "FJdsQvFbDpht",
        "colab": {
          "base_uri": "https://localhost:8080/",
          "height": 277
        },
        "outputId": "a1cb3fa7-1bfe-48de-f184-1f094466024f"
      },
      "execution_count": null,
      "outputs": [
        {
          "output_type": "display_data",
          "data": {
            "text/plain": [
              "<IPython.core.display.HTML object>"
            ],
            "text/html": [
              "\n",
              "  <style>\n",
              "    pre {\n",
              "        white-space: pre-wrap;\n",
              "    }\n",
              "  </style>\n",
              "  "
            ]
          },
          "metadata": {}
        },
        {
          "output_type": "stream",
          "name": "stdout",
          "text": [
            "============= Review (lemmas) =============\n",
            "film really used locations well amazing shots dark_disturbing film moves_slowly constantly keeps watching modern love worked well gold_coast film fantastic program year offering_audiences glimpse_australian cinema usually_neglected importantly_refreshing see australian_cinema taking cliché_aussie characters story lines seen done death years film would compliment_festival open_debate screenings_performances characters well_developed cinematography fantastic interesting exploration family_relationships environments\n",
            "\n",
            "============= Sparse vector representation =============\n",
            "[(14, 1), (77, 2), (92, 2), (109, 4), (155, 1), (159, 1), (173, 1), (211, 1), (213, 1), (233, 1), (290, 1), (498, 1), (531, 1), (682, 1), (1047, 1), (1101, 1), (1277, 1), (1298, 1), (1303, 1), (1451, 2), (1524, 1), (1638, 1), (2186, 1), (2253, 1), (2406, 1), (2702, 1), (4467, 1), (5326, 1), (6095, 1), (6158, 1), (8735, 1), (12229, 1), (14752, 1), (17219, 1), (17220, 1), (17221, 1), (17222, 1), (17223, 1)]\n",
            "\n",
            "============= Word counts for the review =============\n",
            "[('death', 1), ('well', 2), ('characters', 2), ('film', 4), ('see', 1), ('story', 1), ('would', 1), ('lines', 1), ('love', 1), ('seen', 1), ('done', 1), ('modern', 1), ('really', 1), ('keeps', 1), ('interesting', 1), ('years', 1), ('cinema', 1), ('year', 1), ('amazing', 1), ('fantastic', 2), ('cinematography', 1), ('taking', 1), ('used', 1), ('watching', 1), ('shots', 1), ('constantly', 1), ('locations', 1), ('worked', 1), ('moves_slowly', 1), ('program', 1), ('well_developed', 1), ('australian_cinema', 1), ('exploration', 1), ('dark_disturbing', 1), ('environments', 1), ('family_relationships', 1), ('gold_coast', 1), ('open_debate', 1)]\n"
          ]
        }
      ]
    },
    {
      "cell_type": "markdown",
      "source": [
        "Note that we can interpret each element of corpus_bow as a `sparse_vector`. For example, a list of tuples\n",
        "\n",
        "    [(0, 1), (3, 3), (5,2)]\n",
        "\n",
        "for a dictionary of 10 elements can be represented as a vector, where any tuple `(id, n)` states that position `id` must take value `n`. The rest of the positions must be zero.\n",
        "\n",
        "    [1, 0, 0, 3, 0, 2, 0, 0, 0, 0]\n",
        "\n",
        "As a summary, we have obtained the following variables that will be relevant for the next sections:\n",
        "\n",
        "   * `D`: A Gensim dictionary. Term strings can be accessed using numeric identifiers. For instance, `D[0]` contains the string corresponding to the first position in the BoW representation.\n",
        "   * `mycorpus_bow`: BoW corpus. A list containing an entry per project in the dataset, and consisting of the (sparse) BoW representation for the abstract of that project."
      ],
      "metadata": {
        "id": "UQZkdCPiEL1A"
      }
    },
    {
      "cell_type": "markdown",
      "source": [
        "### *2.4. TF-IDF vectorization*\n",
        "\n",
        "Gensim TFIDF representation of a document is computed as\n",
        "\n",
        "$$x_{ij} = \\text{freq}_{ij} \\log_2 \\frac{\\# docs}{\\# docs_j}$$\n",
        "\n",
        "where:\n",
        "\n",
        "   - $x_{ij}$ is the component of the TFIDF representation of document $i$ corresponding to term $j$\n",
        "   - $\\text{freq}_{ij}$ is the frequency of term $j$ in a document $i$ (i.e., number of occurrences divided by the number of tokens)\n",
        "   - $\\# docs$ is the total number of documents in the corpus\n",
        "   - ${\\# docs_j}$ is the number of documents in the corpus containing term $j$\n",
        "\n",
        "In this way, terms that appear in fewer documents get emphasized over common terms appearing in many documents.\n",
        "\n",
        "Gensim offers the possibility to change the *term frequency* and *inverse document frequency* calculation terms, but we will keep the defaults.\n",
        "\n",
        "Note that, contrary to the Bag of Words (BoW) representation, the TFIDF representation does not depend just on the tokens of each document, but gets affected by the whole corpus through the IDF factor.\n",
        "\n",
        "Gensim considers TFIDF as a model on its own and deals with it similarly to what is done with other models. Creating a TFIDF model is very simple"
      ],
      "metadata": {
        "id": "6_RZWSiM_-kD"
      }
    },
    {
      "cell_type": "code",
      "source": [
        "from gensim.models import TfidfModel\n",
        "\n",
        "tfidf = TfidfModel(reviews_bow)"
      ],
      "metadata": {
        "colab": {
          "base_uri": "https://localhost:8080/",
          "height": 17
        },
        "id": "5FXpTZ1REXqB",
        "outputId": "d3d84035-41b1-4ce2-a0d7-638d7b9e22c4"
      },
      "execution_count": null,
      "outputs": [
        {
          "output_type": "display_data",
          "data": {
            "text/plain": [
              "<IPython.core.display.HTML object>"
            ],
            "text/html": [
              "\n",
              "  <style>\n",
              "    pre {\n",
              "        white-space: pre-wrap;\n",
              "    }\n",
              "  </style>\n",
              "  "
            ]
          },
          "metadata": {}
        }
      ]
    },
    {
      "cell_type": "markdown",
      "source": [
        "A **TFIDF model cannot be updated** adding more documents. Otherwise, we would lose consistency, i.e., the TFIDF representation for a particular document would change before and after the TFIDF model gets updated."
      ],
      "metadata": {
        "id": "iN_o_jSWEeEc"
      }
    },
    {
      "cell_type": "markdown",
      "source": [
        "From now on, `tfidf` can be used to convert any vector from the old representation (bow integer counts) to the new one (TFIDF real-valued weights), or to apply a transformation to a whole corpus"
      ],
      "metadata": {
        "id": "ffXsDP8xEhZd"
      }
    },
    {
      "cell_type": "code",
      "source": [
        "reviews_tfidf = tfidf[reviews_bow]\n",
        "n_project = 1000\n",
        "print(colored('============= TFIDF representation for the project =============', 'blue'))\n",
        "print(reviews_tfidf[n_review])\n",
        "\n",
        "print(colored('\\n============= TFIDF applying the transformation only to the document =============', 'blue'))\n",
        "print(tfidf[reviews_bow[n_review]])"
      ],
      "metadata": {
        "id": "G_Hwm8PfEkU8",
        "colab": {
          "base_uri": "https://localhost:8080/",
          "height": 277
        },
        "outputId": "b16e1c05-bfe2-4a6e-940f-aa379167d85c"
      },
      "execution_count": null,
      "outputs": [
        {
          "output_type": "display_data",
          "data": {
            "text/plain": [
              "<IPython.core.display.HTML object>"
            ],
            "text/html": [
              "\n",
              "  <style>\n",
              "    pre {\n",
              "        white-space: pre-wrap;\n",
              "    }\n",
              "  </style>\n",
              "  "
            ]
          },
          "metadata": {}
        },
        {
          "output_type": "stream",
          "name": "stdout",
          "text": [
            "============= TFIDF representation for the project =============\n",
            "[(14, 0.10406994103290339), (77, 0.09176790405658601), (92, 0.11489539134088768), (109, 0.08547971999209841), (155, 0.043098613136611494), (159, 0.04434811063583127), (173, 0.03552617628844363), (211, 0.10888361772302774), (213, 0.06565644308357191), (233, 0.06261145383029433), (290, 0.08653815759188022), (498, 0.1320394773215498), (531, 0.04308267230085391), (682, 0.14029028579946692), (1047, 0.08050700391110595), (1101, 0.0971676984024217), (1277, 0.1149975497918864), (1298, 0.1176417557430181), (1303, 0.11328054429608134), (1451, 0.2631042898427758), (1524, 0.12329972762904488), (1638, 0.12502829029568266), (2186, 0.09544961599229387), (2253, 0.07217313422229028), (2406, 0.13003625564768018), (2702, 0.14958545994652414), (4467, 0.16662560315915295), (5326, 0.1342671456962113), (6095, 0.25909647875172703), (6158, 0.17971148012361055), (8735, 0.20426864977445208), (12229, 0.26282924450490985), (14752, 0.20910731705516045), (17219, 0.27719426787449974), (17220, 0.2557197813914114), (17221, 0.25909647875172703), (17222, 0.29155929124408975), (17223, 0.29155929124408975)]\n",
            "\n",
            "============= TFIDF applying the transformation only to the document =============\n",
            "[(14, 0.10406994103290339), (77, 0.09176790405658601), (92, 0.11489539134088768), (109, 0.08547971999209841), (155, 0.043098613136611494), (159, 0.04434811063583127), (173, 0.03552617628844363), (211, 0.10888361772302774), (213, 0.06565644308357191), (233, 0.06261145383029433), (290, 0.08653815759188022), (498, 0.1320394773215498), (531, 0.04308267230085391), (682, 0.14029028579946692), (1047, 0.08050700391110595), (1101, 0.0971676984024217), (1277, 0.1149975497918864), (1298, 0.1176417557430181), (1303, 0.11328054429608134), (1451, 0.2631042898427758), (1524, 0.12329972762904488), (1638, 0.12502829029568266), (2186, 0.09544961599229387), (2253, 0.07217313422229028), (2406, 0.13003625564768018), (2702, 0.14958545994652414), (4467, 0.16662560315915295), (5326, 0.1342671456962113), (6095, 0.25909647875172703), (6158, 0.17971148012361055), (8735, 0.20426864977445208), (12229, 0.26282924450490985), (14752, 0.20910731705516045), (17219, 0.27719426787449974), (17220, 0.2557197813914114), (17221, 0.25909647875172703), (17222, 0.29155929124408975), (17223, 0.29155929124408975)]\n"
          ]
        }
      ]
    },
    {
      "cell_type": "markdown",
      "source": [
        "As for BOW, TFIDF provides a sparse document representation."
      ],
      "metadata": {
        "id": "-WX-jNJpEwLS"
      }
    },
    {
      "cell_type": "markdown",
      "source": [
        "### *2.5. Memory efficient computation*"
      ],
      "metadata": {
        "id": "H87nLNNLE8b6"
      }
    },
    {
      "cell_type": "markdown",
      "source": [
        "In the previous examples, the construction of the dictionary and the transformation of the corpus to BoW or TFIDF format required that said corpus of documents be available in a list in the execution environment, and therefore required it to be stored in RAM. For a small corpus, this is not a problem, but it can be an important limitation when dealing with a large corpus with millions or tens of millions of documents. These corpora are becoming more and more common in certain applications (consider Wikipedia entries, user opinions on large e-commerce platforms, processing of medical records, etc.).\n",
        "\n",
        "One of the advantages of Gensim is that its implementation makes it easy to work with a corpus of these sizes. As explained in the Gensim documentation:\n",
        "\n",
        "> Note that the corpus above resides fully in memory, as a plain Python list. In this simple example, it doesn’t matter much, but just to make things clear, let’s assume there are millions of documents in the corpus. Storing all of them in RAM won’t do. Instead, let’s assume the documents are stored in a file on disk, one document per line. Gensim only requires that a corpus must be able to return one document vector at a time.\n",
        "\n",
        ">The full power of Gensim comes from the fact that a corpus doesn’t have to be a list, a NumPy array, a Pandas dataframe, or whatever. Gensim accepts any object that, when iterated over, successively yields documents."
      ],
      "metadata": {
        "id": "bDw_YwGsGXxV"
      }
    },
    {
      "cell_type": "markdown",
      "source": [
        "The next fragment of code illustrates how the dictionary can be created from a corpus stored in a text file. You just need to create an iterator that returns a document at each iteration and keeps adding documents to the dictionary. Note that during the execution of the code, only one document is kept in memory at every iteration."
      ],
      "metadata": {
        "id": "nhqeH_cTGaUO"
      }
    },
    {
      "cell_type": "code",
      "source": [
        "class IterableCorpus_fromfile:\n",
        "    def __init__(self, filename):\n",
        "        self.__filename = filename\n",
        "    def __iter__(self):\n",
        "        for line in open(self.__filename):\n",
        "            # assume there's one document per line, tokens separated by whitespace\n",
        "            yield line.lower()\n",
        "\n",
        "MyIterCorpus = IterableCorpus_fromfile('imdb_lemmas_clean.txt')\n",
        "newD = Dictionary()\n",
        "# Aquí antes de añadirtelo a un diccionario podrias limpiar las palabras, lematizar, homogeneizar, etc...\n",
        "for doc in MyIterCorpus:\n",
        "  newD.add_documents([doc.split()])\n",
        "no_below = 4 # Minimum number of documents to keep a term in the dictionary\n",
        "no_above = .80 # Maximum proportion of documents in which a term can appear to be kept in the dictionary\n",
        "newD.filter_extremes(no_below=no_below,no_above=no_above)"
      ],
      "metadata": {
        "id": "vpbGsYThFPs1",
        "colab": {
          "base_uri": "https://localhost:8080/",
          "height": 17
        },
        "outputId": "5b8661bc-22b2-4df7-c437-713fcc040dfe"
      },
      "execution_count": null,
      "outputs": [
        {
          "output_type": "display_data",
          "data": {
            "text/plain": [
              "<IPython.core.display.HTML object>"
            ],
            "text/html": [
              "\n",
              "  <style>\n",
              "    pre {\n",
              "        white-space: pre-wrap;\n",
              "    }\n",
              "  </style>\n",
              "  "
            ]
          },
          "metadata": {}
        }
      ]
    },
    {
      "cell_type": "markdown",
      "source": [
        "The code above can be further simplified if the iterator already carries out the tokenization of each document. In that case, the dictionary can be created with a simple command:"
      ],
      "metadata": {
        "id": "yKIzbxUXFU4P"
      }
    },
    {
      "cell_type": "code",
      "source": [
        "class IterableCorpus_fromfile:\n",
        "    def __init__(self, filename):\n",
        "        self.__filename = filename\n",
        "    def __iter__(self):\n",
        "        for line in open(self.__filename):\n",
        "            # assume there's one document per line, tokens separated by whitespace\n",
        "            yield line.lower().split()\n",
        "\n",
        "MyIterCorpus = IterableCorpus_fromfile('imdb_lemmas_clean.txt')\n",
        "newD = Dictionary(MyIterCorpus)\n",
        "no_below = 4 # Minimum number of documents to keep a term in the dictionary\n",
        "no_above = .80 # Maximum proportion of documents in which a term can appear to be kept in the dictionary\n",
        "newD.filter_extremes(no_below=no_below,no_above=no_above)\n",
        "\n",
        "# Numero de documentos (reviews) que ha procesado el diccionario\n",
        "print('Number of documents processed:', newD.num_docs)\n",
        "# Número de palabras del diccionario\n",
        "print('Number of elements in dictionary:', len(newD))"
      ],
      "metadata": {
        "id": "rPFQok6ME8Am",
        "colab": {
          "base_uri": "https://localhost:8080/",
          "height": 52
        },
        "outputId": "3694d725-516b-416f-d5b8-b4d303bce57a"
      },
      "execution_count": null,
      "outputs": [
        {
          "output_type": "display_data",
          "data": {
            "text/plain": [
              "<IPython.core.display.HTML object>"
            ],
            "text/html": [
              "\n",
              "  <style>\n",
              "    pre {\n",
              "        white-space: pre-wrap;\n",
              "    }\n",
              "  </style>\n",
              "  "
            ]
          },
          "metadata": {}
        },
        {
          "output_type": "stream",
          "name": "stdout",
          "text": [
            "Number of documents processed: 15000\n",
            "Number of elements in dictionary: 33047\n"
          ]
        }
      ]
    },
    {
      "cell_type": "markdown",
      "source": [
        "### *2.7. Compatibility with Numpy and Scipy*\n"
      ],
      "metadata": {
        "id": "jI5R6rRtGIEA"
      }
    },
    {
      "cell_type": "markdown",
      "source": [
        "Gensim contains efficient functions to convert Gensim Corpus (BoW, TFIDF) to Numpy dense matrices or Scipy Sparse Matrices. This can be useful, e.g., if we wish to use the vectorial representation of a Gensim corpus to train a classification or regression model using sklearn.\n",
        "\n",
        "Similarly, we also have functions to convert Numpy or Scipy matrices into Gensim representation.\n",
        "\n",
        "More information on the available utilities can be found in the [Gensim API matutils documentation](https://radimrehurek.com/gensim/matutils.html).\n"
      ],
      "metadata": {
        "id": "aL6Ztp3ZGT99"
      }
    },
    {
      "cell_type": "markdown",
      "source": [
        "Sklearn also includes functions for tokenization and vectorization of documents. Specifically, it has the functions:\n",
        "* [`CountVectorizer`](https://scikit-learn.org/stable/modules/generated/sklearn.feature_extraction.text.CountVectorizer.html#sklearn.feature_extraction.text.CountVectorizer) which implements both tokenization and word count (BoW) in a single class.\n",
        "* [`TfidfTransformer`](https://scikit-learn.org/stable/modules/generated/sklearn.feature_extraction.text.TfidfTransformer.html#sklearn.feature_extraction.text.TfidfTransformer) which is responsible for obtaining the TF-IDF representation from a BoW representation.\n",
        "\n",
        "* [`TfidfVectorizer`](https://scikit-learn.org/stable/modules/generated/sklearn.feature_extraction.text.TfidfVectorizer.html#sklearn.feature_extraction.text.TfidfVectorizer) which is equivalent to using `CountVectorizer()` followed by `TfidfTransformer()`."
      ],
      "metadata": {
        "id": "HgLdeQAhG4Y9"
      }
    },
    {
      "cell_type": "markdown",
      "source": [
        "## **3. Sentiment Analysis with BoW and TF-IDF representations**\n",
        "---"
      ],
      "metadata": {
        "id": "VoWITECrGhus"
      }
    },
    {
      "cell_type": "markdown",
      "source": [
        "Let's start by loading the problems labels."
      ],
      "metadata": {
        "id": "VnFHjJ6qbZuc"
      }
    },
    {
      "cell_type": "code",
      "source": [
        "def get_binary_label(sentiment):\n",
        "  return 1 if sentiment == \"positive\" else 0\n",
        "\n",
        "corpus_df['binary_sentiment'] = corpus_df['sentiment'].apply(get_binary_label)\n",
        "\n",
        "Y = corpus_df['binary_sentiment'].values\n",
        "print(Y)"
      ],
      "metadata": {
        "colab": {
          "base_uri": "https://localhost:8080/",
          "height": 34
        },
        "id": "wcbywHiDbdu-",
        "outputId": "8ccd7b2e-759f-4b76-e7bb-7df7f45b0e76"
      },
      "execution_count": null,
      "outputs": [
        {
          "output_type": "display_data",
          "data": {
            "text/plain": [
              "<IPython.core.display.HTML object>"
            ],
            "text/html": [
              "\n",
              "  <style>\n",
              "    pre {\n",
              "        white-space: pre-wrap;\n",
              "    }\n",
              "  </style>\n",
              "  "
            ]
          },
          "metadata": {}
        },
        {
          "output_type": "stream",
          "name": "stdout",
          "text": [
            "[1 0 0 ... 0 1 1]\n"
          ]
        }
      ]
    },
    {
      "cell_type": "markdown",
      "source": [
        "And save all the changes we have made in ``corpus_df`` for later use."
      ],
      "metadata": {
        "id": "sNCsJPzsj9mc"
      }
    },
    {
      "cell_type": "code",
      "source": [
        "import pickle\n",
        "\n",
        "def pickler(file: str, ob):\n",
        "    \"\"\"Pickle object to file\"\"\"\n",
        "    with open(file, 'wb') as f:\n",
        "        pickle.dump(ob, f)\n",
        "    return 0\n",
        "\n",
        "pickler(\"corpus_df_imbdb.pickle\",corpus_df)"
      ],
      "metadata": {
        "id": "8rWYfb-r_JXH",
        "colab": {
          "base_uri": "https://localhost:8080/",
          "height": 34
        },
        "outputId": "514fcb0f-5f2d-411c-c17d-faab72e07151"
      },
      "execution_count": null,
      "outputs": [
        {
          "output_type": "display_data",
          "data": {
            "text/plain": [
              "<IPython.core.display.HTML object>"
            ],
            "text/html": [
              "\n",
              "  <style>\n",
              "    pre {\n",
              "        white-space: pre-wrap;\n",
              "    }\n",
              "  </style>\n",
              "  "
            ]
          },
          "metadata": {}
        },
        {
          "output_type": "execute_result",
          "data": {
            "text/plain": [
              "0"
            ]
          },
          "metadata": {},
          "execution_count": 31
        }
      ]
    },
    {
      "cell_type": "markdown",
      "source": [
        "Since we have carried out the vectorization with Gensim,  we have to convert our vector representation into NumPy arrays so we can use Sklearn's classifiers. To do this, Gensim includes two functions: [corpus2dense](https://tedboy.github.io/nlps/generated/generated/gensim.matutils.corpus2dense.html), [corpus2csc](https://tedboy.github.io/nlps/generated/generated/gensim.matutils.corpus2csc.html). In general, when dealing with huge corpora, we will be interested in managing the sparse form of the data to save on computational costs.\n"
      ],
      "metadata": {
        "id": "AXBeXFgYcTeE"
      }
    },
    {
      "cell_type": "code",
      "source": [
        "from gensim.matutils import corpus2dense, corpus2csc\n",
        "\n",
        "n_tokens = len(D)\n",
        "num_docs = len(reviews_bow)\n",
        "\n",
        "# Convert BoW representacion\n",
        "corpus_bow_dense = corpus2dense(reviews_bow, num_terms=n_tokens, num_docs=num_docs).T\n",
        "corpus_bow_sparse = corpus2csc(reviews_bow, num_terms=n_tokens, num_docs=num_docs).T\n",
        "\n",
        "# Convert TFIDF representacion\n",
        "corpus_tfidf_dense = corpus2dense(reviews_tfidf, num_terms=n_tokens, num_docs=num_docs).T\n",
        "corpus_tfidf_sparse = corpus2csc(reviews_tfidf, num_terms=n_tokens, num_docs=num_docs).T\n",
        "\n",
        "# La representación sparse del vector simplemente indica el índice de los datos diferentes de cero y su valor\n",
        "# Por ejemplo [(41,1), (48,2.75)] Indica que, del vector original, sólo hay valroes distintos de 0 en el índice 41 (1) y en el 48 con valor de 2.75"
      ],
      "metadata": {
        "id": "vGrhOlDIc7oc",
        "colab": {
          "base_uri": "https://localhost:8080/",
          "height": 17
        },
        "outputId": "c302db38-6123-4686-b9ef-d8744b3283e9"
      },
      "execution_count": null,
      "outputs": [
        {
          "output_type": "display_data",
          "data": {
            "text/plain": [
              "<IPython.core.display.HTML object>"
            ],
            "text/html": [
              "\n",
              "  <style>\n",
              "    pre {\n",
              "        white-space: pre-wrap;\n",
              "    }\n",
              "  </style>\n",
              "  "
            ]
          },
          "metadata": {}
        }
      ]
    },
    {
      "cell_type": "markdown",
      "source": [
        "##### **Exercise 9**\n",
        "\n",
        "Train an SVM classifier with the BoW representation of the IMDB dataset. Use the Sklearn function ``train_test_split`` to split the BOW representation of the reviews with a $70/30$ ratio each and a random state of $42$. Find the best hyperparameters for the SVM (``C`` and ``kernel``) via cross-validation with [`GridSearchCV`](https://scikit-learn.org/stable/modules/generated/sklearn.model_selection.GridSearchCV.html#sklearn.model_selection.GridSearchCV). Evaluate the performance of the classifier based on the [R2 score](https://scikit-learn.org/stable/modules/generated/sklearn.metrics.r2_score.html)."
      ],
      "metadata": {
        "id": "RDkvoVRsmdak"
      }
    },
    {
      "cell_type": "code",
      "source": [
        "from sklearn import svm\n",
        "from sklearn.model_selection import GridSearchCV, train_test_split\n",
        "\n",
        "svm_model = svm.SVC()\n",
        "\n",
        "param_grid = {'C': [1, 10], 'kernel': ['linear', 'poly', 'sigmoid']}\n",
        "\n",
        "grid_search = GridSearchCV(estimator=svm_model, param_grid=param_grid, cv=5)\n",
        "X_train, X_test, y_train, y_test = train_test_split(corpus_bow_sparse, corpus_df['binary_sentiment'], test_size=0.3, random_state=42)\n",
        "grid_search.fit(X_train, y_train)"
      ],
      "metadata": {
        "id": "FxRQWMoq-bSq",
        "colab": {
          "base_uri": "https://localhost:8080/",
          "height": 204
        },
        "outputId": "bb12db53-5a92-41a3-ac1b-5419dd3c9786"
      },
      "execution_count": null,
      "outputs": [
        {
          "output_type": "display_data",
          "data": {
            "text/plain": [
              "<IPython.core.display.HTML object>"
            ],
            "text/html": [
              "\n",
              "  <style>\n",
              "    pre {\n",
              "        white-space: pre-wrap;\n",
              "    }\n",
              "  </style>\n",
              "  "
            ]
          },
          "metadata": {}
        },
        {
          "output_type": "execute_result",
          "data": {
            "text/plain": [
              "GridSearchCV(cv=5, estimator=SVC(),\n",
              "             param_grid={'C': [1, 10], 'kernel': ['linear', 'poly', 'sigmoid']})"
            ],
            "text/html": [
              "<style>#sk-container-id-1 {color: black;background-color: white;}#sk-container-id-1 pre{padding: 0;}#sk-container-id-1 div.sk-toggleable {background-color: white;}#sk-container-id-1 label.sk-toggleable__label {cursor: pointer;display: block;width: 100%;margin-bottom: 0;padding: 0.3em;box-sizing: border-box;text-align: center;}#sk-container-id-1 label.sk-toggleable__label-arrow:before {content: \"▸\";float: left;margin-right: 0.25em;color: #696969;}#sk-container-id-1 label.sk-toggleable__label-arrow:hover:before {color: black;}#sk-container-id-1 div.sk-estimator:hover label.sk-toggleable__label-arrow:before {color: black;}#sk-container-id-1 div.sk-toggleable__content {max-height: 0;max-width: 0;overflow: hidden;text-align: left;background-color: #f0f8ff;}#sk-container-id-1 div.sk-toggleable__content pre {margin: 0.2em;color: black;border-radius: 0.25em;background-color: #f0f8ff;}#sk-container-id-1 input.sk-toggleable__control:checked~div.sk-toggleable__content {max-height: 200px;max-width: 100%;overflow: auto;}#sk-container-id-1 input.sk-toggleable__control:checked~label.sk-toggleable__label-arrow:before {content: \"▾\";}#sk-container-id-1 div.sk-estimator input.sk-toggleable__control:checked~label.sk-toggleable__label {background-color: #d4ebff;}#sk-container-id-1 div.sk-label input.sk-toggleable__control:checked~label.sk-toggleable__label {background-color: #d4ebff;}#sk-container-id-1 input.sk-hidden--visually {border: 0;clip: rect(1px 1px 1px 1px);clip: rect(1px, 1px, 1px, 1px);height: 1px;margin: -1px;overflow: hidden;padding: 0;position: absolute;width: 1px;}#sk-container-id-1 div.sk-estimator {font-family: monospace;background-color: #f0f8ff;border: 1px dotted black;border-radius: 0.25em;box-sizing: border-box;margin-bottom: 0.5em;}#sk-container-id-1 div.sk-estimator:hover {background-color: #d4ebff;}#sk-container-id-1 div.sk-parallel-item::after {content: \"\";width: 100%;border-bottom: 1px solid gray;flex-grow: 1;}#sk-container-id-1 div.sk-label:hover label.sk-toggleable__label {background-color: #d4ebff;}#sk-container-id-1 div.sk-serial::before {content: \"\";position: absolute;border-left: 1px solid gray;box-sizing: border-box;top: 0;bottom: 0;left: 50%;z-index: 0;}#sk-container-id-1 div.sk-serial {display: flex;flex-direction: column;align-items: center;background-color: white;padding-right: 0.2em;padding-left: 0.2em;position: relative;}#sk-container-id-1 div.sk-item {position: relative;z-index: 1;}#sk-container-id-1 div.sk-parallel {display: flex;align-items: stretch;justify-content: center;background-color: white;position: relative;}#sk-container-id-1 div.sk-item::before, #sk-container-id-1 div.sk-parallel-item::before {content: \"\";position: absolute;border-left: 1px solid gray;box-sizing: border-box;top: 0;bottom: 0;left: 50%;z-index: -1;}#sk-container-id-1 div.sk-parallel-item {display: flex;flex-direction: column;z-index: 1;position: relative;background-color: white;}#sk-container-id-1 div.sk-parallel-item:first-child::after {align-self: flex-end;width: 50%;}#sk-container-id-1 div.sk-parallel-item:last-child::after {align-self: flex-start;width: 50%;}#sk-container-id-1 div.sk-parallel-item:only-child::after {width: 0;}#sk-container-id-1 div.sk-dashed-wrapped {border: 1px dashed gray;margin: 0 0.4em 0.5em 0.4em;box-sizing: border-box;padding-bottom: 0.4em;background-color: white;}#sk-container-id-1 div.sk-label label {font-family: monospace;font-weight: bold;display: inline-block;line-height: 1.2em;}#sk-container-id-1 div.sk-label-container {text-align: center;}#sk-container-id-1 div.sk-container {/* jupyter's `normalize.less` sets `[hidden] { display: none; }` but bootstrap.min.css set `[hidden] { display: none !important; }` so we also need the `!important` here to be able to override the default hidden behavior on the sphinx rendered scikit-learn.org. See: https://github.com/scikit-learn/scikit-learn/issues/21755 */display: inline-block !important;position: relative;}#sk-container-id-1 div.sk-text-repr-fallback {display: none;}</style><div id=\"sk-container-id-1\" class=\"sk-top-container\"><div class=\"sk-text-repr-fallback\"><pre>GridSearchCV(cv=5, estimator=SVC(),\n",
              "             param_grid={&#x27;C&#x27;: [1, 10], &#x27;kernel&#x27;: [&#x27;linear&#x27;, &#x27;poly&#x27;, &#x27;sigmoid&#x27;]})</pre><b>In a Jupyter environment, please rerun this cell to show the HTML representation or trust the notebook. <br />On GitHub, the HTML representation is unable to render, please try loading this page with nbviewer.org.</b></div><div class=\"sk-container\" hidden><div class=\"sk-item sk-dashed-wrapped\"><div class=\"sk-label-container\"><div class=\"sk-label sk-toggleable\"><input class=\"sk-toggleable__control sk-hidden--visually\" id=\"sk-estimator-id-1\" type=\"checkbox\" ><label for=\"sk-estimator-id-1\" class=\"sk-toggleable__label sk-toggleable__label-arrow\">GridSearchCV</label><div class=\"sk-toggleable__content\"><pre>GridSearchCV(cv=5, estimator=SVC(),\n",
              "             param_grid={&#x27;C&#x27;: [1, 10], &#x27;kernel&#x27;: [&#x27;linear&#x27;, &#x27;poly&#x27;, &#x27;sigmoid&#x27;]})</pre></div></div></div><div class=\"sk-parallel\"><div class=\"sk-parallel-item\"><div class=\"sk-item\"><div class=\"sk-label-container\"><div class=\"sk-label sk-toggleable\"><input class=\"sk-toggleable__control sk-hidden--visually\" id=\"sk-estimator-id-2\" type=\"checkbox\" ><label for=\"sk-estimator-id-2\" class=\"sk-toggleable__label sk-toggleable__label-arrow\">estimator: SVC</label><div class=\"sk-toggleable__content\"><pre>SVC()</pre></div></div></div><div class=\"sk-serial\"><div class=\"sk-item\"><div class=\"sk-estimator sk-toggleable\"><input class=\"sk-toggleable__control sk-hidden--visually\" id=\"sk-estimator-id-3\" type=\"checkbox\" ><label for=\"sk-estimator-id-3\" class=\"sk-toggleable__label sk-toggleable__label-arrow\">SVC</label><div class=\"sk-toggleable__content\"><pre>SVC()</pre></div></div></div></div></div></div></div></div></div></div>"
            ]
          },
          "metadata": {},
          "execution_count": 33
        }
      ]
    },
    {
      "cell_type": "code",
      "source": [
        "from sklearn.metrics import r2_score\n",
        "r2 = r2_score(y_test, grid_search.predict(X_test))\n",
        "print(r2)"
      ],
      "metadata": {
        "colab": {
          "base_uri": "https://localhost:8080/",
          "height": 34
        },
        "id": "3pw9dLTDaW25",
        "outputId": "a1f0790b-efb3-47e9-bfac-73ad1bc79b39"
      },
      "execution_count": null,
      "outputs": [
        {
          "output_type": "display_data",
          "data": {
            "text/plain": [
              "<IPython.core.display.HTML object>"
            ],
            "text/html": [
              "\n",
              "  <style>\n",
              "    pre {\n",
              "        white-space: pre-wrap;\n",
              "    }\n",
              "  </style>\n",
              "  "
            ]
          },
          "metadata": {}
        },
        {
          "output_type": "stream",
          "name": "stdout",
          "text": [
            "0.5093143359229315\n"
          ]
        }
      ]
    },
    {
      "cell_type": "code",
      "source": [
        "# Impossible to do it with dense_bow, too much RAM space needed (not optimal at all)\n",
        "'''from sklearn import svm\n",
        "from sklearn.model_selection import GridSearchCV, train_test_split\n",
        "svm_model = svm.SVC()\n",
        "\n",
        "param_grid = {'C': [0.1, 1], 'kernel': ['linear']}\n",
        "\n",
        "grid_search = GridSearchCV(estimator=svm_model, param_grid=param_grid, cv=5)\n",
        "X_train, X_test, y_train, y_test = train_test_split(corpus_bow_dense, corpus_df['binary_sentiment'], test_size=0.3, random_state=42)\n",
        "grid_search.fit(X_train, y_train)'''"
      ],
      "metadata": {
        "colab": {
          "base_uri": "https://localhost:8080/",
          "height": 17
        },
        "id": "NS2iVDd2Cdv9",
        "outputId": "b993c8ae-4dc8-4514-b332-a43495d00f4b"
      },
      "execution_count": null,
      "outputs": [
        {
          "output_type": "display_data",
          "data": {
            "text/plain": [
              "<IPython.core.display.HTML object>"
            ],
            "text/html": [
              "\n",
              "  <style>\n",
              "    pre {\n",
              "        white-space: pre-wrap;\n",
              "    }\n",
              "  </style>\n",
              "  "
            ]
          },
          "metadata": {}
        }
      ]
    },
    {
      "cell_type": "markdown",
      "source": [
        "##### **Exercise 10**\n",
        "\n",
        "Mimic the steps from Exercise 9 to train an SVM classifier with the TF-IDF representation."
      ],
      "metadata": {
        "id": "4RN0zvaZMqZL"
      }
    },
    {
      "cell_type": "code",
      "source": [
        "from sklearn import svm\n",
        "from sklearn.model_selection import GridSearchCV, train_test_split\n",
        "\n",
        "svm_model = svm.SVC()\n",
        "\n",
        "param_grid = {'C': [1, 10], 'kernel': ['linear', 'poly', 'sigmoid']}\n",
        "\n",
        "grid_search = GridSearchCV(estimator=svm_model, param_grid=param_grid, cv=5)\n",
        "\n",
        "X_train, X_test, y_train, y_test = train_test_split(corpus_tfidf_sparse, corpus_df['binary_sentiment'], test_size=0.3, random_state=42)\n",
        "grid_search.fit(X_train, y_train)"
      ],
      "metadata": {
        "id": "qwZn_P8rdLOk",
        "colab": {
          "base_uri": "https://localhost:8080/",
          "height": 204
        },
        "outputId": "9a1448b0-c32c-4863-d90a-4795418a7fce"
      },
      "execution_count": null,
      "outputs": [
        {
          "output_type": "display_data",
          "data": {
            "text/plain": [
              "<IPython.core.display.HTML object>"
            ],
            "text/html": [
              "\n",
              "  <style>\n",
              "    pre {\n",
              "        white-space: pre-wrap;\n",
              "    }\n",
              "  </style>\n",
              "  "
            ]
          },
          "metadata": {}
        },
        {
          "output_type": "execute_result",
          "data": {
            "text/plain": [
              "GridSearchCV(cv=5, estimator=SVC(),\n",
              "             param_grid={'C': [1, 10], 'kernel': ['linear', 'poly', 'sigmoid']})"
            ],
            "text/html": [
              "<style>#sk-container-id-2 {color: black;background-color: white;}#sk-container-id-2 pre{padding: 0;}#sk-container-id-2 div.sk-toggleable {background-color: white;}#sk-container-id-2 label.sk-toggleable__label {cursor: pointer;display: block;width: 100%;margin-bottom: 0;padding: 0.3em;box-sizing: border-box;text-align: center;}#sk-container-id-2 label.sk-toggleable__label-arrow:before {content: \"▸\";float: left;margin-right: 0.25em;color: #696969;}#sk-container-id-2 label.sk-toggleable__label-arrow:hover:before {color: black;}#sk-container-id-2 div.sk-estimator:hover label.sk-toggleable__label-arrow:before {color: black;}#sk-container-id-2 div.sk-toggleable__content {max-height: 0;max-width: 0;overflow: hidden;text-align: left;background-color: #f0f8ff;}#sk-container-id-2 div.sk-toggleable__content pre {margin: 0.2em;color: black;border-radius: 0.25em;background-color: #f0f8ff;}#sk-container-id-2 input.sk-toggleable__control:checked~div.sk-toggleable__content {max-height: 200px;max-width: 100%;overflow: auto;}#sk-container-id-2 input.sk-toggleable__control:checked~label.sk-toggleable__label-arrow:before {content: \"▾\";}#sk-container-id-2 div.sk-estimator input.sk-toggleable__control:checked~label.sk-toggleable__label {background-color: #d4ebff;}#sk-container-id-2 div.sk-label input.sk-toggleable__control:checked~label.sk-toggleable__label {background-color: #d4ebff;}#sk-container-id-2 input.sk-hidden--visually {border: 0;clip: rect(1px 1px 1px 1px);clip: rect(1px, 1px, 1px, 1px);height: 1px;margin: -1px;overflow: hidden;padding: 0;position: absolute;width: 1px;}#sk-container-id-2 div.sk-estimator {font-family: monospace;background-color: #f0f8ff;border: 1px dotted black;border-radius: 0.25em;box-sizing: border-box;margin-bottom: 0.5em;}#sk-container-id-2 div.sk-estimator:hover {background-color: #d4ebff;}#sk-container-id-2 div.sk-parallel-item::after {content: \"\";width: 100%;border-bottom: 1px solid gray;flex-grow: 1;}#sk-container-id-2 div.sk-label:hover label.sk-toggleable__label {background-color: #d4ebff;}#sk-container-id-2 div.sk-serial::before {content: \"\";position: absolute;border-left: 1px solid gray;box-sizing: border-box;top: 0;bottom: 0;left: 50%;z-index: 0;}#sk-container-id-2 div.sk-serial {display: flex;flex-direction: column;align-items: center;background-color: white;padding-right: 0.2em;padding-left: 0.2em;position: relative;}#sk-container-id-2 div.sk-item {position: relative;z-index: 1;}#sk-container-id-2 div.sk-parallel {display: flex;align-items: stretch;justify-content: center;background-color: white;position: relative;}#sk-container-id-2 div.sk-item::before, #sk-container-id-2 div.sk-parallel-item::before {content: \"\";position: absolute;border-left: 1px solid gray;box-sizing: border-box;top: 0;bottom: 0;left: 50%;z-index: -1;}#sk-container-id-2 div.sk-parallel-item {display: flex;flex-direction: column;z-index: 1;position: relative;background-color: white;}#sk-container-id-2 div.sk-parallel-item:first-child::after {align-self: flex-end;width: 50%;}#sk-container-id-2 div.sk-parallel-item:last-child::after {align-self: flex-start;width: 50%;}#sk-container-id-2 div.sk-parallel-item:only-child::after {width: 0;}#sk-container-id-2 div.sk-dashed-wrapped {border: 1px dashed gray;margin: 0 0.4em 0.5em 0.4em;box-sizing: border-box;padding-bottom: 0.4em;background-color: white;}#sk-container-id-2 div.sk-label label {font-family: monospace;font-weight: bold;display: inline-block;line-height: 1.2em;}#sk-container-id-2 div.sk-label-container {text-align: center;}#sk-container-id-2 div.sk-container {/* jupyter's `normalize.less` sets `[hidden] { display: none; }` but bootstrap.min.css set `[hidden] { display: none !important; }` so we also need the `!important` here to be able to override the default hidden behavior on the sphinx rendered scikit-learn.org. See: https://github.com/scikit-learn/scikit-learn/issues/21755 */display: inline-block !important;position: relative;}#sk-container-id-2 div.sk-text-repr-fallback {display: none;}</style><div id=\"sk-container-id-2\" class=\"sk-top-container\"><div class=\"sk-text-repr-fallback\"><pre>GridSearchCV(cv=5, estimator=SVC(),\n",
              "             param_grid={&#x27;C&#x27;: [1, 10], &#x27;kernel&#x27;: [&#x27;linear&#x27;, &#x27;poly&#x27;, &#x27;sigmoid&#x27;]})</pre><b>In a Jupyter environment, please rerun this cell to show the HTML representation or trust the notebook. <br />On GitHub, the HTML representation is unable to render, please try loading this page with nbviewer.org.</b></div><div class=\"sk-container\" hidden><div class=\"sk-item sk-dashed-wrapped\"><div class=\"sk-label-container\"><div class=\"sk-label sk-toggleable\"><input class=\"sk-toggleable__control sk-hidden--visually\" id=\"sk-estimator-id-4\" type=\"checkbox\" ><label for=\"sk-estimator-id-4\" class=\"sk-toggleable__label sk-toggleable__label-arrow\">GridSearchCV</label><div class=\"sk-toggleable__content\"><pre>GridSearchCV(cv=5, estimator=SVC(),\n",
              "             param_grid={&#x27;C&#x27;: [1, 10], &#x27;kernel&#x27;: [&#x27;linear&#x27;, &#x27;poly&#x27;, &#x27;sigmoid&#x27;]})</pre></div></div></div><div class=\"sk-parallel\"><div class=\"sk-parallel-item\"><div class=\"sk-item\"><div class=\"sk-label-container\"><div class=\"sk-label sk-toggleable\"><input class=\"sk-toggleable__control sk-hidden--visually\" id=\"sk-estimator-id-5\" type=\"checkbox\" ><label for=\"sk-estimator-id-5\" class=\"sk-toggleable__label sk-toggleable__label-arrow\">estimator: SVC</label><div class=\"sk-toggleable__content\"><pre>SVC()</pre></div></div></div><div class=\"sk-serial\"><div class=\"sk-item\"><div class=\"sk-estimator sk-toggleable\"><input class=\"sk-toggleable__control sk-hidden--visually\" id=\"sk-estimator-id-6\" type=\"checkbox\" ><label for=\"sk-estimator-id-6\" class=\"sk-toggleable__label sk-toggleable__label-arrow\">SVC</label><div class=\"sk-toggleable__content\"><pre>SVC()</pre></div></div></div></div></div></div></div></div></div></div>"
            ]
          },
          "metadata": {},
          "execution_count": 37
        }
      ]
    },
    {
      "cell_type": "code",
      "source": [
        "from sklearn.metrics import r2_score\n",
        "r2 = r2_score(y_test, grid_search.predict(X_test))\n",
        "print(r2)"
      ],
      "metadata": {
        "colab": {
          "base_uri": "https://localhost:8080/",
          "height": 34
        },
        "id": "QEr654JdbDEq",
        "outputId": "fc842bb6-2fc9-4300-ec71-a26268fcb564"
      },
      "execution_count": null,
      "outputs": [
        {
          "output_type": "display_data",
          "data": {
            "text/plain": [
              "<IPython.core.display.HTML object>"
            ],
            "text/html": [
              "\n",
              "  <style>\n",
              "    pre {\n",
              "        white-space: pre-wrap;\n",
              "    }\n",
              "  </style>\n",
              "  "
            ]
          },
          "metadata": {}
        },
        {
          "output_type": "stream",
          "name": "stdout",
          "text": [
            "0.5830949701953894\n"
          ]
        }
      ]
    },
    {
      "cell_type": "markdown",
      "source": [
        "---\n",
        "In this first laboratory, we have covered the necessary preprocessing steps that need to be applied to a text corpus previous to its vectorization using several state-of-the-art Python libraries. We have then seen how to obtain BoW and TFIDF representations based on the Gensim library and how to use them for a Sentiment Analysis problem.\n",
        "\n",
        "While we will see that Bag-of-Words and TF-IDF as they neither capture the context of words nor allow for similarity comparison, it is still important to know how they work and how to use them, since they still provide quite good results in some tasks, as we have seen in this notebook.\n",
        "\n",
        "To finish, it is also important that you get confident with the Genism library as you will be using it a lot in this course!\n"
      ],
      "metadata": {
        "id": "LriaFb8wbEyP"
      }
    }
  ]
}