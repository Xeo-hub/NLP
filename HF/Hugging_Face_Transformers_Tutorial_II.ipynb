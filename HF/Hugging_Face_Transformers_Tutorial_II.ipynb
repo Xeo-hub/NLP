{
  "cells": [
    {
      "cell_type": "markdown",
      "metadata": {
        "id": "eU_gqVHcSuHE"
      },
      "source": [
        "# <font color='#2B4865'>**Hugging Face 🤗 Transformers Tutorial II**</font>\n",
        "\n",
        "---\n",
        "### Natural Language Processing\n",
        "Date: Dec 21, 2022\n",
        "\n",
        "Last Update: Nov 26, 2023\n",
        "\n",
        "---\n",
        "This notebook is based on the [Hugging Face course](https://huggingface.co/course/chapter1/1) and documentation available at the Hugging Face website.\n",
        "\n",
        "It constitutes the second tutorial notebook on the usage of Hugging Face libraries as well as its application for solving a series of NLP tasks.\n",
        "\n",
        "Its main **goal** is to revise the specific inference and fine-tuning examples of the Question Answering and Summarization tasks at the same time that more advanced functionalities of the Hugging Face 🤗 Python library are learned.\n",
        "\n",
        "---\n",
        "\n",
        "<font color='#E0144C'>**For this notebook's execution, we highly encourage you to use Google Colaboratory. While for the inference part it is not necessary, you will highly speed up the execution if you make use of a GPU. For doing so, follow the following steps:**</font>\n",
        "\n",
        "<font color='#E0144C'>**1. Connect to hosted runtime**</font>\n",
        "\n",
        "<font color='#E0144C'>**2. Enable GPU setting by clicking Edit -> Notebook Settings -> Select GPU in Hardware Acceleration Tab -> Save**</font>"
      ]
    },
    {
      "cell_type": "markdown",
      "metadata": {
        "id": "H_ak68EcROir"
      },
      "source": [
        "## <font color='#2B4865'>Installing necessary packages, imports and auxiliary functions</font>"
      ]
    },
    {
      "cell_type": "code",
      "execution_count": null,
      "metadata": {
        "colab": {
          "base_uri": "https://localhost:8080/",
          "height": 86
        },
        "id": "jNmR0A9v3gG7",
        "outputId": "24ea3c6b-cb61-4d72-bb63-1e01d0ec2ec2"
      },
      "outputs": [
        {
          "data": {
            "text/html": [
              "\n",
              "  <Style>\n",
              "    pre {\n",
              "        white-space: pre-wrap;\n",
              "    }\n",
              "  </Style>\n",
              "  "
            ],
            "text/plain": [
              "<IPython.core.display.HTML object>"
            ]
          },
          "metadata": {},
          "output_type": "display_data"
        },
        {
          "data": {
            "text/html": [
              "\n",
              "  <Style>\n",
              "    pre {\n",
              "        white-space: pre-wrap;\n",
              "    }\n",
              "  </Style>\n",
              "  "
            ],
            "text/plain": [
              "<IPython.core.display.HTML object>"
            ]
          },
          "metadata": {},
          "output_type": "display_data"
        },
        {
          "metadata": {
            "tags": null
          },
          "name": "stdout",
          "output_type": "stream",
          "text": [
            "Installing package transformers[sentencepiece,torch]\n",
            "Package datasets already installed!\n",
            "Package wikipedia already installed!\n",
            "Package nltk already installed!\n"
          ]
        }
      ],
      "source": [
        "# Install necessary packages\n",
        "import importlib, os\n",
        "\n",
        "necessary_packages = ['transformers[sentencepiece,torch]', 'datasets', 'colored', 'wikipedia', 'evaluate', 'nltk', 'rouge_score']\n",
        "def import_missing(packages):\n",
        "  for p in packages:\n",
        "    try:\n",
        "      mod = importlib.import_module(p)\n",
        "      print(f\"Package {p} already installed!\")\n",
        "      packages.remove(p)\n",
        "    except ModuleNotFoundError:\n",
        "      print(f\"Installing package {p}\")\n",
        "      with open(\"requirements.txt\", 'w') as f:\n",
        "        f.write(\"\\n\".join(str(i) for i in packages))\n",
        "  if os.path.isfile(\"requirements.txt\"):\n",
        "    %pip install --quiet -r \"requirements.txt\"\n",
        "\n",
        "import_missing(necessary_packages)"
      ]
    },
    {
      "cell_type": "code",
      "execution_count": null,
      "metadata": {
        "colab": {
          "base_uri": "https://localhost:8080/",
          "height": 52
        },
        "id": "VszD2tguTJcS",
        "outputId": "eb1aaa92-4ea1-46b0-aeb5-ae22734ced07"
      },
      "outputs": [
        {
          "data": {
            "text/html": [
              "\n",
              "  <Style>\n",
              "    pre {\n",
              "        white-space: pre-wrap;\n",
              "    }\n",
              "  </Style>\n",
              "  "
            ],
            "text/plain": [
              "<IPython.core.display.HTML object>"
            ]
          },
          "metadata": {},
          "output_type": "display_data"
        },
        {
          "data": {
            "text/html": [
              "\n",
              "  <Style>\n",
              "    pre {\n",
              "        white-space: pre-wrap;\n",
              "    }\n",
              "  </Style>\n",
              "  "
            ],
            "text/plain": [
              "<IPython.core.display.HTML object>"
            ]
          },
          "metadata": {},
          "output_type": "display_data"
        },
        {
          "metadata": {
            "tags": null
          },
          "name": "stderr",
          "output_type": "stream",
          "text": [
            "[nltk_data] Downloading package punkt to /root/nltk_data...\n",
            "[nltk_data]   Package punkt is already up-to-date!\n"
          ]
        }
      ],
      "source": [
        "# Common imports\n",
        "import os\n",
        "import numpy as np\n",
        "import pandas as pd\n",
        "from termcolor import colored\n",
        "import seaborn as sns\n",
        "import matplotlib.pyplot as plt\n",
        "import tqdm\n",
        "import scipy\n",
        "from colored import Fore, Back, Style\n",
        "import torch\n",
        "import json\n",
        "import nltk\n",
        "nltk.download(\"punkt\")\n",
        "\n",
        "# Figures plotted inside the notebook\n",
        "%matplotlib inline\n",
        "# High quality figures\n",
        "%config InlineBackend.figure_format = 'retina'\n",
        "# Figues size\n",
        "plt.rcParams['figure.figsize'] = [8, 6]\n",
        "\n",
        "import warnings\n",
        "warnings.simplefilter(action='ignore', category=FutureWarning)\n",
        "warnings.filterwarnings(action='ignore',module='gradio')"
      ]
    },
    {
      "cell_type": "code",
      "execution_count": null,
      "metadata": {
        "id": "lhwq7n9ETRuL",
        "colab": {
          "base_uri": "https://localhost:8080/",
          "height": 52
        },
        "outputId": "bb8f63b8-26d9-4b7c-c7ad-c958d7d3e36e"
      },
      "outputs": [
        {
          "data": {
            "text/html": [
              "\n",
              "  <Style>\n",
              "    pre {\n",
              "        white-space: pre-wrap;\n",
              "    }\n",
              "  </Style>\n",
              "  "
            ],
            "text/plain": [
              "<IPython.core.display.HTML object>"
            ]
          },
          "metadata": {},
          "output_type": "display_data"
        },
        {
          "data": {
            "text/html": [
              "\n",
              "  <Style>\n",
              "    pre {\n",
              "        white-space: pre-wrap;\n",
              "    }\n",
              "  </Style>\n",
              "  "
            ],
            "text/plain": [
              "<IPython.core.display.HTML object>"
            ]
          },
          "metadata": {},
          "output_type": "display_data"
        },
        {
          "metadata": {
            "tags": null
          },
          "name": "stdout",
          "output_type": "stream",
          "text": [
            "The google.colab.data_table extension is already loaded. To reload it, use:\n",
            "  %reload_ext google.colab.data_table\n"
          ]
        }
      ],
      "source": [
        "# To wrap long text lines\n",
        "from IPython.display import HTML, display\n",
        "\n",
        "def set_css():\n",
        "  display(HTML('''\n",
        "  <Style>\n",
        "    pre {\n",
        "        white-space: pre-wrap;\n",
        "    }\n",
        "  </Style>\n",
        "  '''))\n",
        "get_ipython().events.register('pre_run_cell', set_css)\n",
        "\n",
        "# For fancy table Display\n",
        "%load_ext google.colab.data_table"
      ]
    },
    {
      "cell_type": "code",
      "execution_count": null,
      "metadata": {
        "colab": {
          "base_uri": "https://localhost:8080/",
          "height": 17
        },
        "id": "cyl8upfClMag",
        "outputId": "ed1b82c7-929a-486e-8f46-a24bd9e7cc06"
      },
      "outputs": [
        {
          "data": {
            "text/html": [
              "\n",
              "  <Style>\n",
              "    pre {\n",
              "        white-space: pre-wrap;\n",
              "    }\n",
              "  </Style>\n",
              "  "
            ],
            "text/plain": [
              "<IPython.core.display.HTML object>"
            ]
          },
          "metadata": {},
          "output_type": "display_data"
        },
        {
          "data": {
            "text/html": [
              "\n",
              "  <Style>\n",
              "    pre {\n",
              "        white-space: pre-wrap;\n",
              "    }\n",
              "  </Style>\n",
              "  "
            ],
            "text/plain": [
              "<IPython.core.display.HTML object>"
            ]
          },
          "metadata": {},
          "output_type": "display_data"
        },
        {
          "data": {
            "text/html": [
              "\n",
              "  <Style>\n",
              "    pre {\n",
              "        white-space: pre-wrap;\n",
              "    }\n",
              "  </Style>\n",
              "  "
            ],
            "text/plain": [
              "<IPython.core.display.HTML object>"
            ]
          },
          "metadata": {},
          "output_type": "display_data"
        }
      ],
      "source": [
        "# Auxiliary funcion to print Trasnformer encodings\n",
        "def print_encoding(model_inputs, indent=4):\n",
        "    indent_str = \" \" * indent\n",
        "    print(\"{\")\n",
        "    for k, v in model_inputs.items():\n",
        "        print(indent_str + k + \":\")\n",
        "        print(indent_str + indent_str + str(v))\n",
        "    print(\"}\")"
      ]
    },
    {
      "cell_type": "markdown",
      "metadata": {
        "id": "NMwVQsO_eHs1"
      },
      "source": [
        "We are going to save all the files in this notebook generated into Drive. Fill the variable ``path_to_folder`` in the next with your Drive's folder in which you want to save the files."
      ]
    },
    {
      "cell_type": "code",
      "execution_count": null,
      "metadata": {
        "colab": {
          "base_uri": "https://localhost:8080/",
          "height": 34
        },
        "id": "h7wQkXVnvnvu",
        "outputId": "c6c24475-0a9c-4361-8648-a458cc3f7df3"
      },
      "outputs": [
        {
          "output_type": "display_data",
          "data": {
            "text/plain": [
              "<IPython.core.display.HTML object>"
            ],
            "text/html": [
              "\n",
              "  <Style>\n",
              "    pre {\n",
              "        white-space: pre-wrap;\n",
              "    }\n",
              "  </Style>\n",
              "  "
            ]
          },
          "metadata": {}
        },
        {
          "output_type": "display_data",
          "data": {
            "text/plain": [
              "<IPython.core.display.HTML object>"
            ],
            "text/html": [
              "\n",
              "  <Style>\n",
              "    pre {\n",
              "        white-space: pre-wrap;\n",
              "    }\n",
              "  </Style>\n",
              "  "
            ]
          },
          "metadata": {}
        },
        {
          "output_type": "stream",
          "name": "stdout",
          "text": [
            "Drive already mounted at /content/drive; to attempt to forcibly remount, call drive.mount(\"/content/drive\", force_remount=True).\n"
          ]
        }
      ],
      "source": [
        "path_to_folder = '/content/drive/My Drive/NLP_IA'  # UPDATE THIS ACCORDING TO WHERE YOU WANT TO SAVE THE FILES!!!!\n",
        "\n",
        "# Load the Drive helper and mount\n",
        "from google.colab import drive\n",
        "\n",
        "# This will prompt for authorization.\n",
        "drive.mount('/content/drive')\n",
        "\n",
        "# Change to assignment directory\n",
        "os.chdir(path_to_folder)"
      ]
    },
    {
      "cell_type": "markdown",
      "metadata": {
        "id": "VZqNyqb80hXm"
      },
      "source": [
        "## <font color='#2B4865'>**2. Question Answering**\n",
        "---\n",
        "</font>"
      ]
    },
    {
      "cell_type": "markdown",
      "metadata": {
        "id": "v5Z5JWlx1OJ6"
      },
      "source": [
        "**Question Answering (QA)** is the task of retrieving the answer to a question from a given text, which is useful for searching for an answer in a document. Some question answering models can even generate answers without context."
      ]
    },
    {
      "cell_type": "markdown",
      "metadata": {
        "id": "Z6pqM0ki3SQG"
      },
      "source": [
        "##### <font color='#2B4865'>**Architecture for approaching the task**</font>"
      ]
    },
    {
      "cell_type": "markdown",
      "metadata": {
        "id": "DAHk3V312jrE"
      },
      "source": [
        "There are different QA variants based on the inputs and outputs:\n",
        "\n",
        "<table>\n",
        "    <thead>\n",
        "        <tr>\n",
        "            <th> </th>\n",
        "            <th><font color='#256D85'>Definition</font></th>\n",
        "            <th><font color='#256D85'>Solved By</font></th>\n",
        "            <th><font color='#256D85'>Good At</font></th>\n",
        "        </tr>\n",
        "    </thead>\n",
        "    <tbody>\n",
        "        <tr>\n",
        "            <td><b>EXTRACTIVE</b></td>\n",
        "            <td>The model extracts an answer from <br>a\n",
        "            given context (e.g., a text, a <br>\n",
        "            table, an HTML, etc.)\n",
        "            </td>\n",
        "            <td>Encoder-only models<br>(e.g., BERT)\n",
        "            </td>\n",
        "            <td>\n",
        "            Answering factoid questions:<br> e.g.: \"Who\n",
        "            invented the transformers<br>\n",
        "            architecture?\"\n",
        "            </td>\n",
        "        </tr>\n",
        "        <tr>\n",
        "            <td><b>OPEN GENERATIVE</b></td>\n",
        "            <td>The model generates free text<br>\n",
        "            directly based on the context.\n",
        "            </td>\n",
        "            <td rowspan=2>Encoder-decoder models<br>\n",
        "            (e.g., T5)</td>\n",
        "            <td rowspan=2>Answering open-ended\n",
        "            questions:<br>\n",
        "            e.g.: \"Why the sky is blue?\"\n",
        "            </td>\n",
        "        </tr>\n",
        "        <tr>\n",
        "            <td><b>CLOSED GENERATIVE</b></td>\n",
        "            <td>No context is provided so the<br>\n",
        "            answer is generated completely by<br>\n",
        "            the model.\n",
        "            </td>\n",
        "        </tr>\n",
        "    </tbody>\n",
        "</table>"
      ]
    },
    {
      "cell_type": "markdown",
      "metadata": {
        "id": "CIu20pZG3XIE"
      },
      "source": [
        "##### <font color='#2B4865'>**Evaluation metrics**</font>"
      ]
    },
    {
      "cell_type": "markdown",
      "metadata": {
        "id": "a6KW6t8t4Bhm"
      },
      "source": [
        "**Typical metrics** for Question Answering are:\n",
        "\n",
        "\n",
        "*   **Exact-match**, which is based on the strict character match of the predicted answer and the right answer. For answers predicted correctly, the Exact Match will be $1$. Even if only one character is different, the Exact Match will be $0$.\n",
        "*   **F1-Score** metric is useful if we value both false positives and false negatives equally. The F1-Score is calculated on each word in the predicted sequence against the correct answer. It ranges from $0$ to $1$, where $0$ is the worst possible score and $1$ is a perfect score indicating that the model predicts each observation correctly."
      ]
    },
    {
      "cell_type": "markdown",
      "metadata": {
        "id": "yDDj3KeJ0i_G"
      },
      "source": [
        "In the what is left of this section, we will be working with **Extractive Question Answering**."
      ]
    },
    {
      "cell_type": "markdown",
      "metadata": {
        "id": "IaBtAvwr1nBQ"
      },
      "source": [
        "### <font color='#2B4865'>*2.1. Inference*</font>"
      ]
    },
    {
      "cell_type": "markdown",
      "metadata": {
        "id": "AMCTABzVdkYZ"
      },
      "source": [
        "As you know from Section 1.1, the first step to perform inference with any Hugging Face pipeline is to find a model on [the hub](https://huggingface.co/models). Here, we will be using ``DistilBERT``, a Transformer model trained by distilling BERT base, that was proposed in [this paper](https://arxiv.org/pdf/1910.01108.pdf). In particular, we will be using [this fine-tune checkpoint](https://huggingface.co/distilbert-base-cased-distilled-squad) of ``DistilBERT-base-cased``."
      ]
    },
    {
      "cell_type": "markdown",
      "metadata": {
        "id": "TCM0moPlOjll"
      },
      "source": [
        "###### **Exercise 2.1**\n",
        "\n",
        "Create a QA pipeline named ``question_answerer`` by invoking ``pipeline()`` with the task identifier ``\"question-answering\"`` and the checkpoint mentioned above. What type of object does it return?"
      ]
    },
    {
      "cell_type": "code",
      "execution_count": null,
      "metadata": {
        "id": "GLoZisp7fQrl",
        "colab": {
          "base_uri": "https://localhost:8080/",
          "height": 177,
          "referenced_widgets": [
            "de5c04de286241a9ae1708cb68493184",
            "f6495f423a32452ba860c8b7e78a4152",
            "f8dfd0a55c0647b69520a9ddeb78a0d2",
            "0e00be216b1f472fb45b4f3a29a2a853",
            "50cdf3dda24447b3a1339f6f4d7a9850",
            "5cc8d19c2d624aca9038f458628a4791",
            "ecfe15ca04f44ca5985d270779af297a",
            "85688e783aa648ee8a896a1fd847a3a3",
            "95ab0a419ab14384aeeeca4de95bc4d5",
            "044b1a44a70946eaa6d3da1faf146007",
            "be0f93f671d64585beba0b9974ed9a8f",
            "329bf8f5c6294c9286600226050dd017",
            "33c138dadb1142f2a1a3f52c82c55a72",
            "89ba960d5a2e43778b140dd979ed6b45",
            "47aedc8740e348ac972ad555cc292fda",
            "88f587edb66c4d628c7e9ae9597bde37",
            "0700d338ce09431d8ffd7c511e7f37aa",
            "2f248065ac364f568be27dcfdfaa7350",
            "1a86370d2d75442794b7647f8b6fb459",
            "5eff8f70cafa4d9abc57d2cf0d4568ac",
            "43b8fb202a1746c0b4cf52b17be94225",
            "7654c4b290b8435fad874868b4ae123b",
            "6017a92cd5954a17b39235634dd3aaa8",
            "5053ea172e494e0c82deb327149f5471",
            "eb027d6d88394766b3e501cfd3a27f81",
            "9f131daf02244e73a58de5f01f5c9811",
            "2fe17776f54646a5a6d98b596ff860e3",
            "37a82b8d9a114c7ab8dd6dd19add43f5",
            "3ed24fcb82294226a7a1de7c7a4f568c",
            "349bd94876db4d819f26360915c96be7",
            "e5a3bdf62cfb47e3bbb2f2d105c4ad7f",
            "cf503caa9c3c45bbae5375ceee31f3c0",
            "ecdd08245dd04df6a67a8d8612406fe2",
            "e1c8fcd34c0b46369ec99404aac5566a",
            "1575ce7f0390465b888db1e47b2e8e74",
            "2da66db000c541a8b00f9933e380743c",
            "31e235c7aee847b69b04c0eaf01f656a",
            "69880ae92dff4d94b3d70c4bb5e61efc",
            "550cb6c227bb4bb398e3e024f83e116f",
            "03d6731ee2f84072967664ef3e24fa0a",
            "44e1a8cbd2a64c3a9beee88b4cd121ae",
            "21d285cb68d14d72b2a0e7f246087220",
            "15cbda38b73443fcba036b1864ab126f",
            "f7a375a4ecee4ef182f44497124100b9",
            "7784527947354d1bacb3f5d39c4c0035",
            "69aaf9a1729445a19785c676cdfbc927",
            "763c51b265194e25af18a8cd2d493344",
            "5684f53da0dd4d1c849ff405da3928ed",
            "b8b908440fc04fbb91d020d4f3d101bb",
            "5ab6c0d554df4ee5accf216b15ab1da4",
            "58da6b4d3a4f442fb9aebcf8e9e39121",
            "62dca40ba0ef41538fa238a4f866590d",
            "c31a426a2cbc4bd1977eebfde4630245",
            "63802b2e805e43eda63963065a7a7999",
            "2897b5cea7c34df999cf6853086fb3f6"
          ]
        },
        "outputId": "8302ed99-d301-47df-d4fe-56892fd5447e"
      },
      "outputs": [
        {
          "output_type": "display_data",
          "data": {
            "text/plain": [
              "<IPython.core.display.HTML object>"
            ],
            "text/html": [
              "\n",
              "  <Style>\n",
              "    pre {\n",
              "        white-space: pre-wrap;\n",
              "    }\n",
              "  </Style>\n",
              "  "
            ]
          },
          "metadata": {}
        },
        {
          "output_type": "display_data",
          "data": {
            "text/plain": [
              "<IPython.core.display.HTML object>"
            ],
            "text/html": [
              "\n",
              "  <Style>\n",
              "    pre {\n",
              "        white-space: pre-wrap;\n",
              "    }\n",
              "  </Style>\n",
              "  "
            ]
          },
          "metadata": {}
        },
        {
          "output_type": "display_data",
          "data": {
            "text/plain": [
              "<IPython.core.display.HTML object>"
            ],
            "text/html": [
              "\n",
              "  <Style>\n",
              "    pre {\n",
              "        white-space: pre-wrap;\n",
              "    }\n",
              "  </Style>\n",
              "  "
            ]
          },
          "metadata": {}
        },
        {
          "output_type": "display_data",
          "data": {
            "text/plain": [
              "config.json:   0%|          | 0.00/473 [00:00<?, ?B/s]"
            ],
            "application/vnd.jupyter.widget-view+json": {
              "version_major": 2,
              "version_minor": 0,
              "model_id": "de5c04de286241a9ae1708cb68493184"
            }
          },
          "metadata": {}
        },
        {
          "output_type": "display_data",
          "data": {
            "text/plain": [
              "model.safetensors:   0%|          | 0.00/261M [00:00<?, ?B/s]"
            ],
            "application/vnd.jupyter.widget-view+json": {
              "version_major": 2,
              "version_minor": 0,
              "model_id": "329bf8f5c6294c9286600226050dd017"
            }
          },
          "metadata": {}
        },
        {
          "output_type": "display_data",
          "data": {
            "text/plain": [
              "tokenizer_config.json:   0%|          | 0.00/29.0 [00:00<?, ?B/s]"
            ],
            "application/vnd.jupyter.widget-view+json": {
              "version_major": 2,
              "version_minor": 0,
              "model_id": "6017a92cd5954a17b39235634dd3aaa8"
            }
          },
          "metadata": {}
        },
        {
          "output_type": "display_data",
          "data": {
            "text/plain": [
              "vocab.txt:   0%|          | 0.00/213k [00:00<?, ?B/s]"
            ],
            "application/vnd.jupyter.widget-view+json": {
              "version_major": 2,
              "version_minor": 0,
              "model_id": "e1c8fcd34c0b46369ec99404aac5566a"
            }
          },
          "metadata": {}
        },
        {
          "output_type": "display_data",
          "data": {
            "text/plain": [
              "tokenizer.json:   0%|          | 0.00/436k [00:00<?, ?B/s]"
            ],
            "application/vnd.jupyter.widget-view+json": {
              "version_major": 2,
              "version_minor": 0,
              "model_id": "7784527947354d1bacb3f5d39c4c0035"
            }
          },
          "metadata": {}
        }
      ],
      "source": [
        "checkpoint_name = \"distilbert-base-cased-distilled-squad\"\n",
        "\n",
        "# <SOL>\n",
        "# TODO: Add necessary imports\n",
        "from transformers import pipeline\n",
        "\n",
        "# TODO: Create pipeline\n",
        "question_answerer = pipeline(\"question-answering\", model=checkpoint_name)\n",
        "# </SOL>"
      ]
    },
    {
      "cell_type": "markdown",
      "metadata": {
        "id": "bi7j-5Pkum-2"
      },
      "source": [
        "After running the last cell, we have a pipeline for performing question answering given a context string. For example, the variable ``context1`` in the next cell defines the first few paragraphs from the [Wikipedia entry for David (son of Heraclius)](https://en.wikipedia.org/wiki/David_(son_of_Heraclius)) that we will be using as context."
      ]
    },
    {
      "cell_type": "code",
      "execution_count": null,
      "metadata": {
        "id": "h732y0g3MJJt",
        "colab": {
          "base_uri": "https://localhost:8080/",
          "height": 243
        },
        "outputId": "304b9058-6d99-424e-dbfb-bc3fd9334d32"
      },
      "outputs": [
        {
          "output_type": "display_data",
          "data": {
            "text/plain": [
              "<IPython.core.display.HTML object>"
            ],
            "text/html": [
              "\n",
              "  <Style>\n",
              "    pre {\n",
              "        white-space: pre-wrap;\n",
              "    }\n",
              "  </Style>\n",
              "  "
            ]
          },
          "metadata": {}
        },
        {
          "output_type": "display_data",
          "data": {
            "text/plain": [
              "<IPython.core.display.HTML object>"
            ],
            "text/html": [
              "\n",
              "  <Style>\n",
              "    pre {\n",
              "        white-space: pre-wrap;\n",
              "    }\n",
              "  </Style>\n",
              "  "
            ]
          },
          "metadata": {}
        },
        {
          "output_type": "display_data",
          "data": {
            "text/plain": [
              "<IPython.core.display.HTML object>"
            ],
            "text/html": [
              "\n",
              "  <Style>\n",
              "    pre {\n",
              "        white-space: pre-wrap;\n",
              "    }\n",
              "  </Style>\n",
              "  "
            ]
          },
          "metadata": {}
        },
        {
          "output_type": "stream",
          "name": "stdout",
          "text": [
            "David (Greek: Δαυίδ; fl. 630–641) was one of three co-emperors of Byzantium for a few months in late 641, and had the regnal name Tiberius. David was the son of Emperor Heraclius and his wife and niece Empress Martina. He was born after the emperor and empress had visited Jerusalem and his given name reflects a deliberate attempt to link the imperial family with the Biblical David. The David Plates, which depict the life of King David, may likewise have been created for the young prince or to commemorate his birth. David was given the senior court title caesar in 638, in a ceremony during which he received the kamelaukion cap previously worn by his older brother Heraclonas.\n",
            "After the death of Emperor Heraclius in February 641, when David was 10 years old, a power struggle ensued between different branches of the imperial family. As part of a compromise, David was raised to be co-emperor, ruling with his brother Heraclonas and their nephew Constans II. The Byzantine state faced serious challenges while Tiberius was co-emperor, with the ongoing Muslim conquest of Egypt and continuing religious strife over monothelitism and other Christological doctrines. All three emperors were children and the Empress Dowager Martina acted as regent. Martina was deeply unpopular due to her incestuous relationship with Heraclius, her unconventional habits, and her ambition. Her regime was deposed in a rebellion, probably by January 642. She and her sons were exiled to Rhodes and, in an early example of Byzantine political mutilation, Martina's tongue was cut out and the noses of her sons were cut off. There is no further historical record of Tiberius, and some historians speculate that he and his family lived out the rest of their lives peacefully.\n"
          ]
        }
      ],
      "source": [
        "import wikipedia\n",
        "\n",
        "context1 = wikipedia.summary(\"David (son of Heraclius)\",auto_suggest=False).strip()\n",
        "print(context1)"
      ]
    },
    {
      "cell_type": "code",
      "execution_count": null,
      "metadata": {
        "id": "ceB6AmCnwMPZ",
        "colab": {
          "base_uri": "https://localhost:8080/",
          "height": 52
        },
        "outputId": "5f3ca314-1776-4807-ec62-10f79ca1ad75"
      },
      "outputs": [
        {
          "output_type": "display_data",
          "data": {
            "text/plain": [
              "<IPython.core.display.HTML object>"
            ],
            "text/html": [
              "\n",
              "  <Style>\n",
              "    pre {\n",
              "        white-space: pre-wrap;\n",
              "    }\n",
              "  </Style>\n",
              "  "
            ]
          },
          "metadata": {}
        },
        {
          "output_type": "display_data",
          "data": {
            "text/plain": [
              "<IPython.core.display.HTML object>"
            ],
            "text/html": [
              "\n",
              "  <Style>\n",
              "    pre {\n",
              "        white-space: pre-wrap;\n",
              "    }\n",
              "  </Style>\n",
              "  "
            ]
          },
          "metadata": {}
        },
        {
          "output_type": "display_data",
          "data": {
            "text/plain": [
              "<IPython.core.display.HTML object>"
            ],
            "text/html": [
              "\n",
              "  <Style>\n",
              "    pre {\n",
              "        white-space: pre-wrap;\n",
              "    }\n",
              "  </Style>\n",
              "  "
            ]
          },
          "metadata": {}
        },
        {
          "output_type": "stream",
          "name": "stdout",
          "text": [
            "\u001b[38;5;12m\u001b[1mQ: What was the regnal name of David?\u001b[0m\n",
            "\u001b[38;5;1mA: Tiberius\u001b[0m\n"
          ]
        }
      ],
      "source": [
        "question1 = \"What was the regnal name of David?\"\n",
        "r = question_answerer(question=question1, context=context1)\n",
        "print(Fore.LIGHT_BLUE + Style.BOLD + f'Q: {question1}' + Style.RESET)\n",
        "print(Fore.RED + \"A: \" + r['answer'] + Style.RESET)"
      ]
    },
    {
      "cell_type": "markdown",
      "metadata": {
        "id": "Kn6jBWOLFbW0"
      },
      "source": [
        "We can also ask multiple questions at once by providing the pipeline with them  within a list:"
      ]
    },
    {
      "cell_type": "code",
      "execution_count": null,
      "metadata": {
        "colab": {
          "base_uri": "https://localhost:8080/",
          "height": 121
        },
        "id": "Q4eS-dSrFanL",
        "outputId": "31063207-420c-45b7-aa38-62433ad1a145"
      },
      "outputs": [
        {
          "output_type": "display_data",
          "data": {
            "text/plain": [
              "<IPython.core.display.HTML object>"
            ],
            "text/html": [
              "\n",
              "  <Style>\n",
              "    pre {\n",
              "        white-space: pre-wrap;\n",
              "    }\n",
              "  </Style>\n",
              "  "
            ]
          },
          "metadata": {}
        },
        {
          "output_type": "display_data",
          "data": {
            "text/plain": [
              "<IPython.core.display.HTML object>"
            ],
            "text/html": [
              "\n",
              "  <Style>\n",
              "    pre {\n",
              "        white-space: pre-wrap;\n",
              "    }\n",
              "  </Style>\n",
              "  "
            ]
          },
          "metadata": {}
        },
        {
          "output_type": "display_data",
          "data": {
            "text/plain": [
              "<IPython.core.display.HTML object>"
            ],
            "text/html": [
              "\n",
              "  <Style>\n",
              "    pre {\n",
              "        white-space: pre-wrap;\n",
              "    }\n",
              "  </Style>\n",
              "  "
            ]
          },
          "metadata": {}
        },
        {
          "output_type": "stream",
          "name": "stdout",
          "text": [
            "\u001b[38;5;12m\u001b[1mQ: Who was the father of David?\u001b[0m\n",
            "\u001b[38;5;1mA: Emperor Heraclius\u001b[0m\n",
            "\u001b[38;5;12m\u001b[1mQ: What does David's name reflect?\u001b[0m\n",
            "\u001b[38;5;1mA: a deliberate attempt to link the imperial family with the Biblical David\u001b[0m\n",
            "\u001b[38;5;12m\u001b[1mQ: When did Emperor Heraclius die?\u001b[0m\n",
            "\u001b[38;5;1mA: February 641\u001b[0m\n"
          ]
        }
      ],
      "source": [
        "questions = [\"Who was the father of David?\",\n",
        "             \"What does David's name reflect?\",\n",
        "             \"When did Emperor Heraclius die?\"]\n",
        "\n",
        "results = question_answerer(question=questions, context=context1)\n",
        "\n",
        "for q, r in zip(questions, results):\n",
        "  print(Fore.LIGHT_BLUE + Style.BOLD + f'Q: {q}' + Style.RESET)\n",
        "  print(Fore.RED + \"A: \" + r['answer'] + Style.RESET)"
      ]
    },
    {
      "cell_type": "markdown",
      "metadata": {
        "id": "o6hYzlr_Kq2s"
      },
      "source": [
        "Although the models used in the Hugging Face pipelines generally give outstanding results, sometimes you will have particular examples where they don't perform so well. Let's use the following example with a context string about the [Golden Age of Comic Books](https://en.wikipedia.org/wiki/Golden_Age_of_Comic_Books):"
      ]
    },
    {
      "cell_type": "code",
      "execution_count": null,
      "metadata": {
        "id": "mL2Kh-r5Ebal",
        "colab": {
          "base_uri": "https://localhost:8080/",
          "height": 1000
        },
        "outputId": "13254c25-c034-4f7f-efce-cf0802877b1a"
      },
      "outputs": [
        {
          "output_type": "display_data",
          "data": {
            "text/plain": [
              "<IPython.core.display.HTML object>"
            ],
            "text/html": [
              "\n",
              "  <Style>\n",
              "    pre {\n",
              "        white-space: pre-wrap;\n",
              "    }\n",
              "  </Style>\n",
              "  "
            ]
          },
          "metadata": {}
        },
        {
          "output_type": "display_data",
          "data": {
            "text/plain": [
              "<IPython.core.display.HTML object>"
            ],
            "text/html": [
              "\n",
              "  <Style>\n",
              "    pre {\n",
              "        white-space: pre-wrap;\n",
              "    }\n",
              "  </Style>\n",
              "  "
            ]
          },
          "metadata": {}
        },
        {
          "output_type": "display_data",
          "data": {
            "text/plain": [
              "<IPython.core.display.HTML object>"
            ],
            "text/html": [
              "\n",
              "  <Style>\n",
              "    pre {\n",
              "        white-space: pre-wrap;\n",
              "    }\n",
              "  </Style>\n",
              "  "
            ]
          },
          "metadata": {}
        },
        {
          "output_type": "stream",
          "name": "stdout",
          "text": [
            "The Golden Age of Comic Books describes an era in the history of American comic books from 1938 to 1956. During this time, modern comic books were first published and rapidly increased in popularity. The superhero archetype was created and many well-known characters were introduced, including Superman, Batman, Robin, Captain Marvel, Captain America, and Wonder Woman. Between 1939 and 1941 Detective Comics and its sister company, All-American Publications, introduced popular superheroes such as Batman and Robin, Wonder Woman, the Flash, Green Lantern, Doctor Fate, the Atom, Hawkman, Green Arrow and Aquaman. Timely Comics, the 1940s predecessor of Marvel Comics, had million-selling titles featuring the Human Torch, the Sub-Mariner, and Captain America. Although DC and Timely characters are well remembered today, circulation figures suggest that the best-selling superhero title of the era was Fawcett Comics' Captain Marvel Adventures with sales of about 1.4 million copies per issue. The comic was published biweekly at one point to capitalize on its popularity. Another notable series was The Spirit by Will Eisner, which deviated from the usual publishing model of the period as a weekly multi-page supplement in the Register and Tribune Syndicate newspapers that Eisner held the copyright, a rare consideration for creators of that period. \n",
            "Patriotic heroes donning red, white, and blue were particularly popular during the time of the Second World War following the Shield's debut in 1940. Many heroes of this time period battled the Axis powers, with covers such as Captain America Comics #1 (cover-dated March 1941) showing the title character punching Nazi leader Adolf Hitler.As comic books grew in popularity, publishers began launching titles that expanded into a variety of genres. Dell Comics' non-superhero characters (particularly the licensed Walt Disney animated-character comics) outsold the superhero comics of the day. The publisher featured licensed movie and literary characters such as Mickey Mouse, Donald Duck, Roy Rogers and Tarzan. It was during this era that noted Donald Duck writer-artist Carl Barks rose to prominence. Additionally, MLJ's introduction of Archie Andrews in Pep Comics #22 (December 1941) gave rise to teen humor comics, with the Archie Andrews character remaining in print well into the 21st century.At the same time in Canada, American comic books were prohibited importation under the War Exchange Conservation Act which restricted the importation of non-essential goods. Canadian publishers responded to this lack of competition by producing titles of their own, informally called the Canadian Whites. While these titles flourished during the war, they did not survive the lifting of trade restrictions afterwards.\n",
            "\n",
            "\n",
            "=== Post-war and shift from superheroes ===\n",
            "A brief time period after the war until the mid-1950s is sometimes referred to as the Atomic Age of Comic Books. Some authors consider this an interregnum period or an era in its own right, but most regard it as still part of the Golden Age. During this time, the popularity of superhero comics waned. To retain reader interest, comic publishers diversified into other genres, such as war, Westerns, science fiction, romance, crime and horror. Many superhero titles were canceled or converted to other genres.In 1946, DC Comics' Superboy, Aquaman and Green Arrow were switched from More Fun Comics into Adventure Comics so More Fun could focus on humor. In 1948 All-American Comics, featuring Green Lantern, Johnny Thunder and Dr. Mid-Nite, was replaced with All-American Western. The following year, Flash Comics and Green Lantern were canceled. In 1951 All Star Comics, featuring the Justice Society of America, became All-Star Western. The next year Star Spangled Comics, featuring Robin, was retitled Star Spangled War Stories. Sensation Comics, featuring Wonder Woman, was canceled in 1953. The only superhero comics published continuously through the entire 1950s were Action Comics, Adventure Comics, Batman, Detective Comics, Superboy, Superman, Wonder Woman and World's Finest Comics.Plastic Man appeared in Quality Comics' Police Comics until 1950, when its focus switched to detective stories; his solo title continued bimonthly until issue 52, cover-dated February 1955. Timely Comics' The Human Torch was canceled with issue #35 (March 1949) and Marvel Mystery Comics, featuring the Human Torch, with issue #93 (Aug. 1949) became the horror comic Marvel Tales. Sub-Mariner Comics was canceled with issue #42 (June 1949) and Captain America Comics, by then Captain America's Weird Tales, with #75 (Feb. 1950). Harvey Comics' Black Cat was canceled in 1951 and rebooted as a horror comic later that year—the title would change to Black Cat Mystery, Black Cat Mystic, and eventually Black Cat Western for the final two issues, which included Black Cat stories. Lev Gleason Publications' Daredevil was edged out of his title by the Little Wise Guys in 1950. Fawcett Comics' Whiz Comics, Master Comics and Captain Marvel Adventures were canceled in 1953, and The Marvel Family was canceled the following year.Also during this period, the mass media with the advent of television were forcing media companies to put out comics that reflected the popular culture of the time period. Comic books focused on space, mystery, and suspense that television and other forms of media were turning to in the march toward scientific progress.\n",
            "According to historian Michael A. Amundson, appealing comic-book characters helped ease young readers' fear of nuclear war and neutralize anxiety about the questions posed by atomic power. It was during this period that long-running humor comics debuted, including EC Comics' series Mad and Dell's series Uncle Scrooge (both in 1952).\n",
            "\n",
            "\n",
            "=== End of the era ===\n",
            "In 1953, the comic book industry hit a setback when the United States Senate Subcommittee on Juvenile Delinquency was created in order to investigate the problem of juvenile delinquency. After the publication of Fredric Wertham's Seduction of the Innocent the following year that claimed comics sparked illegal behavior among minors, comic book publishers such as EC's William Gaines were subpoenaed to testify in public hearings. As a result, the Comics Code Authority was created by the Association of Comics Magazine Publishers to enact self-censorship by comic book publishers. At this time, EC canceled its crime and horror titles and focused primarily on Mad. The Silver Age of Comic Books is recognized by some as beginning with the debut of the first successful new superhero since the Golden Age, DC Comics' new Flash, in Showcase #4 (Oct. 1956). However, others point to either the end of World War II in 1945, or in 1948 with the first outcry of Fredric Wertham as the end of the Golden Age. \n",
            "\n",
            "\n",
            "== See also ==\n",
            "Silver Age of Comic Books\n",
            "Bronze Age of Comic Books\n",
            "Modern Age of Comic Books\n",
            "List of Golden Age comics publishers\n",
            "List of Marvel Comics Golden Age characters\n",
            "\n",
            "\n",
            "== References ==\n",
            "\n",
            "\n",
            "== External links ==\n",
            "Comic Book Plus (scans of presumed public domain Golden Age comics)\n",
            "Digital Comic Museum (scans of presumed public domain Golden Age comics)\n",
            "Don Markstein's Toonopedia\n",
            "International Catalogue of Superheroes\n",
            "Jess Nevins' Encyclopedia of Golden Age Superheroes\n",
            "Villain Paper Archived 2021-12-26 at the Wayback Machine a Golden Age Comics Subscription Service\n"
          ]
        }
      ],
      "source": [
        "context2 = wikipedia.summary(\"Golden Age of Comic Books\",auto_suggest=False).strip() + \" \" + \\\n",
        "           wikipedia.page(\"Golden Age of Comic Books\").content\\\n",
        "            .split(\"=== World War II ===\")[1]\\\n",
        "            .split(\"=== After the wars ===\")[0].strip()\n",
        "print(context2)"
      ]
    },
    {
      "cell_type": "code",
      "execution_count": null,
      "metadata": {
        "id": "vQ4XtmFkEc_J",
        "colab": {
          "base_uri": "https://localhost:8080/",
          "height": 191
        },
        "outputId": "f4b59aed-ec54-4a42-edce-9e874008b1be"
      },
      "outputs": [
        {
          "output_type": "display_data",
          "data": {
            "text/plain": [
              "<IPython.core.display.HTML object>"
            ],
            "text/html": [
              "\n",
              "  <Style>\n",
              "    pre {\n",
              "        white-space: pre-wrap;\n",
              "    }\n",
              "  </Style>\n",
              "  "
            ]
          },
          "metadata": {}
        },
        {
          "output_type": "display_data",
          "data": {
            "text/plain": [
              "<IPython.core.display.HTML object>"
            ],
            "text/html": [
              "\n",
              "  <Style>\n",
              "    pre {\n",
              "        white-space: pre-wrap;\n",
              "    }\n",
              "  </Style>\n",
              "  "
            ]
          },
          "metadata": {}
        },
        {
          "output_type": "display_data",
          "data": {
            "text/plain": [
              "<IPython.core.display.HTML object>"
            ],
            "text/html": [
              "\n",
              "  <Style>\n",
              "    pre {\n",
              "        white-space: pre-wrap;\n",
              "    }\n",
              "  </Style>\n",
              "  "
            ]
          },
          "metadata": {}
        },
        {
          "output_type": "stream",
          "name": "stdout",
          "text": [
            "\u001b[38;5;12m\u001b[1mQ: What popular superheroes were introduced between 1939 and 1941?\u001b[0m\n",
            "\u001b[38;5;1mA: DC Comics' new Flash\u001b[0m\n",
            "\u001b[38;5;12m\u001b[1mQ: What superheroes were introduced between 1939 and 1941 by Detective Comics and its sister company?\u001b[0m\n",
            "\u001b[38;5;1mA: DC Comics' new Flash\u001b[0m\n",
            "\u001b[38;5;12m\u001b[1mQ: What comic book characters were created between 1939 and 1941?\u001b[0m\n",
            "\u001b[38;5;1mA: Superman, Batman, Robin, Captain Marvel, Captain America, and Wonder Woman\u001b[0m\n",
            "\u001b[38;5;12m\u001b[1mQ: What well-known characters were created between 1939 and 1941?\u001b[0m\n",
            "\u001b[38;5;1mA: Superman, Batman, Robin, Captain Marvel, Captain America, and Wonder Woman\u001b[0m\n",
            "\u001b[38;5;12m\u001b[1mQ: What well-known superheroes were introduced between 1939 and 1941 by Detective Comics?\u001b[0m\n",
            "\u001b[38;5;1mA: Plastic Man\u001b[0m\n"
          ]
        }
      ],
      "source": [
        "questions = [\"What popular superheroes were introduced between 1939 and 1941?\",\n",
        "             \"What superheroes were introduced between 1939 and 1941 by Detective Comics and its sister company?\",\n",
        "             \"What comic book characters were created between 1939 and 1941?\",\n",
        "             \"What well-known characters were created between 1939 and 1941?\",\n",
        "             \"What well-known superheroes were introduced between 1939 and 1941 by Detective Comics?\"]\n",
        "\n",
        "results = question_answerer(question=questions, context=context2)\n",
        "\n",
        "for q, r in zip(questions, results):\n",
        "  print(Fore.LIGHT_BLUE + Style.BOLD + f'Q: {q}' + Style.RESET)\n",
        "  print(Fore.RED + \"A: \" + r['answer'] + Style.RESET)"
      ]
    },
    {
      "cell_type": "markdown",
      "metadata": {
        "id": "QqI-0fP8Q_GP"
      },
      "source": [
        "As you can see, our pipeline is not giving us really good results for this example. This example belongs to the[ TyDi QA dataset](https://github.com/google-research-datasets/tydiqa), a dataset from Google for question/answering in diverse languages. To achieve better results, we need to consider fine-tuning our model.\n",
        "\n",
        "But beFore entering into the fine-tuning part, let's see what is behind the ``QuestionAnswering`` pipeline."
      ]
    },
    {
      "cell_type": "markdown",
      "metadata": {
        "id": "m8xlOaBhp-gE"
      },
      "source": [
        "#### <font color='#2B4865'>*2.1.1. Behind the QA pipeline*</font>"
      ]
    },
    {
      "cell_type": "markdown",
      "metadata": {
        "id": "sQcJJot8qiFM"
      },
      "source": [
        "###### **Exercise 2.2**\n",
        "Complete the following code to mimic the steps happening behind the QA pipeline above instantiated.\n",
        "\n",
        "**Note:** Make sure you use the Fast version of the checkpoint's tokenizer. You can achieve this by checking the tokenizer's attribute ``is_fast`` once you have instantiated it."
      ]
    },
    {
      "cell_type": "code",
      "execution_count": null,
      "metadata": {
        "id": "xYT0MaKvqD4Y",
        "colab": {
          "base_uri": "https://localhost:8080/",
          "height": 17
        },
        "outputId": "c5b0b42e-4d00-4d2c-9cd9-ea7be75f9694"
      },
      "outputs": [
        {
          "output_type": "display_data",
          "data": {
            "text/plain": [
              "<IPython.core.display.HTML object>"
            ],
            "text/html": [
              "\n",
              "  <Style>\n",
              "    pre {\n",
              "        white-space: pre-wrap;\n",
              "    }\n",
              "  </Style>\n",
              "  "
            ]
          },
          "metadata": {}
        },
        {
          "output_type": "display_data",
          "data": {
            "text/plain": [
              "<IPython.core.display.HTML object>"
            ],
            "text/html": [
              "\n",
              "  <Style>\n",
              "    pre {\n",
              "        white-space: pre-wrap;\n",
              "    }\n",
              "  </Style>\n",
              "  "
            ]
          },
          "metadata": {}
        },
        {
          "output_type": "display_data",
          "data": {
            "text/plain": [
              "<IPython.core.display.HTML object>"
            ],
            "text/html": [
              "\n",
              "  <Style>\n",
              "    pre {\n",
              "        white-space: pre-wrap;\n",
              "    }\n",
              "  </Style>\n",
              "  "
            ]
          },
          "metadata": {}
        }
      ],
      "source": [
        "# <SOL>\n",
        "from transformers import AutoTokenizer, AutoModelForQuestionAnswering\n",
        "## TODO: Add necessary imports\n",
        "\n",
        "tokenizer = AutoTokenizer.from_pretrained(checkpoint_name)# TODO: Create tokenizer from checkpoint_name\n",
        "model = AutoModelForQuestionAnswering.from_pretrained(checkpoint_name) # TODO: Create model from checkpoint_name\n",
        "\n",
        "inputs = tokenizer(questions[0], padding=True, truncation=True, return_tensors=\"pt\") #TODO: Obtain tokenizer's output\n",
        "outputs = model(**inputs)# TODO: Obtain model's outputs\n",
        "# </SOL>"
      ]
    },
    {
      "cell_type": "code",
      "execution_count": null,
      "metadata": {
        "id": "3enWOcjfD-Nn",
        "colab": {
          "base_uri": "https://localhost:8080/",
          "height": 34
        },
        "outputId": "8a686329-3828-440a-baaa-8194107b4d37"
      },
      "outputs": [
        {
          "output_type": "display_data",
          "data": {
            "text/plain": [
              "<IPython.core.display.HTML object>"
            ],
            "text/html": [
              "\n",
              "  <Style>\n",
              "    pre {\n",
              "        white-space: pre-wrap;\n",
              "    }\n",
              "  </Style>\n",
              "  "
            ]
          },
          "metadata": {}
        },
        {
          "output_type": "display_data",
          "data": {
            "text/plain": [
              "<IPython.core.display.HTML object>"
            ],
            "text/html": [
              "\n",
              "  <Style>\n",
              "    pre {\n",
              "        white-space: pre-wrap;\n",
              "    }\n",
              "  </Style>\n",
              "  "
            ]
          },
          "metadata": {}
        },
        {
          "output_type": "display_data",
          "data": {
            "text/plain": [
              "<IPython.core.display.HTML object>"
            ],
            "text/html": [
              "\n",
              "  <Style>\n",
              "    pre {\n",
              "        white-space: pre-wrap;\n",
              "    }\n",
              "  </Style>\n",
              "  "
            ]
          },
          "metadata": {}
        },
        {
          "output_type": "stream",
          "name": "stdout",
          "text": [
            "True\n"
          ]
        }
      ],
      "source": [
        "# <SOL>\n",
        "## TODO: Check if you are using the Fast version of the tokenizer\n",
        "print(tokenizer.is_fast)\n",
        "# </SOL>"
      ]
    },
    {
      "cell_type": "markdown",
      "metadata": {
        "id": "p3g2x02arOFb"
      },
      "source": [
        "QA models work a little differently from what we have seen in Section 1 since they are trained on **predicting the index of the token starting the answer and the index of the token where the answer ends**. Because of this, these models **do not return one tensor of logits but two**: one for the logits corresponding to the start token of the answer, and one for the logits corresponding to the end token of the answer:"
      ]
    },
    {
      "cell_type": "code",
      "execution_count": null,
      "metadata": {
        "id": "GMm1GkUMrQsC",
        "colab": {
          "base_uri": "https://localhost:8080/",
          "height": 34
        },
        "outputId": "94eb4fd4-dd93-462a-832d-436e3bfa472f"
      },
      "outputs": [
        {
          "output_type": "display_data",
          "data": {
            "text/plain": [
              "<IPython.core.display.HTML object>"
            ],
            "text/html": [
              "\n",
              "  <Style>\n",
              "    pre {\n",
              "        white-space: pre-wrap;\n",
              "    }\n",
              "  </Style>\n",
              "  "
            ]
          },
          "metadata": {}
        },
        {
          "output_type": "display_data",
          "data": {
            "text/plain": [
              "<IPython.core.display.HTML object>"
            ],
            "text/html": [
              "\n",
              "  <Style>\n",
              "    pre {\n",
              "        white-space: pre-wrap;\n",
              "    }\n",
              "  </Style>\n",
              "  "
            ]
          },
          "metadata": {}
        },
        {
          "output_type": "display_data",
          "data": {
            "text/plain": [
              "<IPython.core.display.HTML object>"
            ],
            "text/html": [
              "\n",
              "  <Style>\n",
              "    pre {\n",
              "        white-space: pre-wrap;\n",
              "    }\n",
              "  </Style>\n",
              "  "
            ]
          },
          "metadata": {}
        },
        {
          "output_type": "stream",
          "name": "stdout",
          "text": [
            "torch.Size([1, 13]) torch.Size([1, 13])\n"
          ]
        }
      ],
      "source": [
        "start_logits = outputs.start_logits\n",
        "end_logits = outputs.end_logits\n",
        "print(start_logits.shape, end_logits.shape)"
      ]
    },
    {
      "cell_type": "markdown",
      "metadata": {
        "id": "O9qJtEDnsYXg"
      },
      "source": [
        "**To convert those logits into probabilities**, we will apply a **softmax function**. Yet, before doing so, we need to make sure we **mask the indices that are not part of the context**.\n",
        "\n",
        "One important thing to check before starting with the tokenization is **whether the model expects padding on the left or the right**:"
      ]
    },
    {
      "cell_type": "code",
      "execution_count": null,
      "metadata": {
        "id": "UIOAyWy6voHC",
        "colab": {
          "base_uri": "https://localhost:8080/",
          "height": 36
        },
        "outputId": "214adf74-76fc-451b-9269-daabb823c67a"
      },
      "outputs": [
        {
          "output_type": "display_data",
          "data": {
            "text/plain": [
              "<IPython.core.display.HTML object>"
            ],
            "text/html": [
              "\n",
              "  <Style>\n",
              "    pre {\n",
              "        white-space: pre-wrap;\n",
              "    }\n",
              "  </Style>\n",
              "  "
            ]
          },
          "metadata": {}
        },
        {
          "output_type": "display_data",
          "data": {
            "text/plain": [
              "<IPython.core.display.HTML object>"
            ],
            "text/html": [
              "\n",
              "  <Style>\n",
              "    pre {\n",
              "        white-space: pre-wrap;\n",
              "    }\n",
              "  </Style>\n",
              "  "
            ]
          },
          "metadata": {}
        },
        {
          "output_type": "display_data",
          "data": {
            "text/plain": [
              "<IPython.core.display.HTML object>"
            ],
            "text/html": [
              "\n",
              "  <Style>\n",
              "    pre {\n",
              "        white-space: pre-wrap;\n",
              "    }\n",
              "  </Style>\n",
              "  "
            ]
          },
          "metadata": {}
        },
        {
          "output_type": "execute_result",
          "data": {
            "text/plain": [
              "'right'"
            ],
            "application/vnd.google.colaboratory.intrinsic+json": {
              "type": "string"
            }
          },
          "metadata": {},
          "execution_count": 38
        }
      ],
      "source": [
        "tokenizer.padding_side"
      ]
    },
    {
      "cell_type": "markdown",
      "metadata": {
        "id": "FbD3YjDlvoHC"
      },
      "source": [
        "Since our tokenizer expects padding on the right, we can pass to it **first the question and then the context together** (note that if ``padding_side`` were ``left``, we would switch the order of the question and the context), and it will properly insert the special tokens to form a sentence like:\n",
        "\n",
        "```\n",
        "[CLS] question [SEP] context [SEP]\n",
        "```"
      ]
    },
    {
      "cell_type": "markdown",
      "metadata": {
        "id": "b3dvnde9vzZg"
      },
      "source": [
        "Knowing how our input is, we need to **mask the tokens of the question as well as the ``[SEP]`` token**. Since some models use the ``[CLS]`` token to indicate that the answer is not in the context (as it is the case for our checkpoint), we will keep the ``[CLS]`` unmasked.\n",
        "\n",
        "<br><center><img src=\"https://drive.google.com/uc?id=1aIGmJuZQ8-HCmEkbDVWDql7V8G0L1Hu7\" width=\"60%\"></center><br>\n",
        "\n",
        "Since we will apply a softmax afterward, we just need to replace the logits we want to mask with a large negative number. We can identify the logits we want to mask by means of the ``sequence_ids()`` method, which  returns:\n",
        "\n",
        "* ``None`` for the special tokens\n",
        "*  $0$ or $1$ depending on whether the corresponding token comes from the first sentence past (the question) or the second (the context):"
      ]
    },
    {
      "cell_type": "code",
      "execution_count": null,
      "metadata": {
        "id": "Fn1ETYx7nz6e",
        "colab": {
          "base_uri": "https://localhost:8080/",
          "height": 34
        },
        "outputId": "f8347bf0-5714-44c5-c5e8-c455ec51dad5"
      },
      "outputs": [
        {
          "output_type": "display_data",
          "data": {
            "text/plain": [
              "<IPython.core.display.HTML object>"
            ],
            "text/html": [
              "\n",
              "  <Style>\n",
              "    pre {\n",
              "        white-space: pre-wrap;\n",
              "    }\n",
              "  </Style>\n",
              "  "
            ]
          },
          "metadata": {}
        },
        {
          "output_type": "display_data",
          "data": {
            "text/plain": [
              "<IPython.core.display.HTML object>"
            ],
            "text/html": [
              "\n",
              "  <Style>\n",
              "    pre {\n",
              "        white-space: pre-wrap;\n",
              "    }\n",
              "  </Style>\n",
              "  "
            ]
          },
          "metadata": {}
        },
        {
          "output_type": "display_data",
          "data": {
            "text/plain": [
              "<IPython.core.display.HTML object>"
            ],
            "text/html": [
              "\n",
              "  <Style>\n",
              "    pre {\n",
              "        white-space: pre-wrap;\n",
              "    }\n",
              "  </Style>\n",
              "  "
            ]
          },
          "metadata": {}
        },
        {
          "output_type": "stream",
          "name": "stdout",
          "text": [
            "[None, 0, 0, 0, 0, 0, 0, 0, 0, 0, 0, 0, None]\n"
          ]
        }
      ],
      "source": [
        "sequence_ids = inputs.sequence_ids()\n",
        "print(sequence_ids)"
      ]
    },
    {
      "cell_type": "code",
      "execution_count": null,
      "metadata": {
        "id": "8tjTNQh-sarp",
        "colab": {
          "base_uri": "https://localhost:8080/",
          "height": 17
        },
        "outputId": "a38aab53-0885-4ba8-ea33-2f74e6a26939"
      },
      "outputs": [
        {
          "output_type": "display_data",
          "data": {
            "text/plain": [
              "<IPython.core.display.HTML object>"
            ],
            "text/html": [
              "\n",
              "  <Style>\n",
              "    pre {\n",
              "        white-space: pre-wrap;\n",
              "    }\n",
              "  </Style>\n",
              "  "
            ]
          },
          "metadata": {}
        },
        {
          "output_type": "display_data",
          "data": {
            "text/plain": [
              "<IPython.core.display.HTML object>"
            ],
            "text/html": [
              "\n",
              "  <Style>\n",
              "    pre {\n",
              "        white-space: pre-wrap;\n",
              "    }\n",
              "  </Style>\n",
              "  "
            ]
          },
          "metadata": {}
        },
        {
          "output_type": "display_data",
          "data": {
            "text/plain": [
              "<IPython.core.display.HTML object>"
            ],
            "text/html": [
              "\n",
              "  <Style>\n",
              "    pre {\n",
              "        white-space: pre-wrap;\n",
              "    }\n",
              "  </Style>\n",
              "  "
            ]
          },
          "metadata": {}
        }
      ],
      "source": [
        "import torch\n",
        "\n",
        "# Mask everything apart from the tokens of the context\n",
        "mask = [i != 1 for i in sequence_ids]\n",
        "# Unmask the [CLS] token\n",
        "mask[0] = False\n",
        "mask = torch.tensor(mask)[None]\n",
        "\n",
        "start_logits[mask] = -10000\n",
        "end_logits[mask] = -10000"
      ]
    },
    {
      "cell_type": "code",
      "source": [
        "print(mask)"
      ],
      "metadata": {
        "colab": {
          "base_uri": "https://localhost:8080/",
          "height": 52
        },
        "id": "UUxjamGuoAyn",
        "outputId": "9d211c09-690c-41cb-d8a8-d6ab0a779867"
      },
      "execution_count": null,
      "outputs": [
        {
          "output_type": "display_data",
          "data": {
            "text/plain": [
              "<IPython.core.display.HTML object>"
            ],
            "text/html": [
              "\n",
              "  <Style>\n",
              "    pre {\n",
              "        white-space: pre-wrap;\n",
              "    }\n",
              "  </Style>\n",
              "  "
            ]
          },
          "metadata": {}
        },
        {
          "output_type": "display_data",
          "data": {
            "text/plain": [
              "<IPython.core.display.HTML object>"
            ],
            "text/html": [
              "\n",
              "  <Style>\n",
              "    pre {\n",
              "        white-space: pre-wrap;\n",
              "    }\n",
              "  </Style>\n",
              "  "
            ]
          },
          "metadata": {}
        },
        {
          "output_type": "display_data",
          "data": {
            "text/plain": [
              "<IPython.core.display.HTML object>"
            ],
            "text/html": [
              "\n",
              "  <Style>\n",
              "    pre {\n",
              "        white-space: pre-wrap;\n",
              "    }\n",
              "  </Style>\n",
              "  "
            ]
          },
          "metadata": {}
        },
        {
          "output_type": "stream",
          "name": "stdout",
          "text": [
            "tensor([[False,  True,  True,  True,  True,  True,  True,  True,  True,  True,\n",
            "          True,  True,  True]])\n"
          ]
        }
      ]
    },
    {
      "cell_type": "markdown",
      "metadata": {
        "id": "xDZ6h1eDsebe"
      },
      "source": [
        "Now that we have properly masked the logits corresponding to positions we don’t want to predict, we can apply the softmax:"
      ]
    },
    {
      "cell_type": "code",
      "execution_count": null,
      "metadata": {
        "id": "ebDcuLGRsdb8",
        "colab": {
          "base_uri": "https://localhost:8080/",
          "height": 17
        },
        "outputId": "5fd4269a-b465-4d50-9627-03861581d4e4"
      },
      "outputs": [
        {
          "output_type": "display_data",
          "data": {
            "text/plain": [
              "<IPython.core.display.HTML object>"
            ],
            "text/html": [
              "\n",
              "  <Style>\n",
              "    pre {\n",
              "        white-space: pre-wrap;\n",
              "    }\n",
              "  </Style>\n",
              "  "
            ]
          },
          "metadata": {}
        },
        {
          "output_type": "display_data",
          "data": {
            "text/plain": [
              "<IPython.core.display.HTML object>"
            ],
            "text/html": [
              "\n",
              "  <Style>\n",
              "    pre {\n",
              "        white-space: pre-wrap;\n",
              "    }\n",
              "  </Style>\n",
              "  "
            ]
          },
          "metadata": {}
        },
        {
          "output_type": "display_data",
          "data": {
            "text/plain": [
              "<IPython.core.display.HTML object>"
            ],
            "text/html": [
              "\n",
              "  <Style>\n",
              "    pre {\n",
              "        white-space: pre-wrap;\n",
              "    }\n",
              "  </Style>\n",
              "  "
            ]
          },
          "metadata": {}
        }
      ],
      "source": [
        "start_probabilities = torch.nn.functional.softmax(start_logits, dim=-1)[0]\n",
        "end_probabilities = torch.nn.functional.softmax(end_logits, dim=-1)[0]"
      ]
    },
    {
      "cell_type": "markdown",
      "metadata": {
        "id": "GpJwBYnWsisp"
      },
      "source": [
        "At this stage, we could take the argmax of the start and end probabilities. However, by doing so we might end up with a ``start_index`` that is greater than the ``end_index``. To avoid this, we will compute the probabilities of each possible ``start_index`` and ``end_index`` under the condition that ``start_index <= end_index``, and then take the tuple ``(start_index,end_index)`` with the highest probability.\n",
        "\n",
        "Assuming the events:\n",
        "*   *E1 = \"The answer starts at ``start_index``*\n",
        "*   *E2 = \"The answer ends at ``end_index``*\n",
        "\n",
        "to be independent, the probability ``P`` that the answer starts at ``start_index``and ends at ``end_index`` is:\n",
        "\n",
        "``P = start_probabilities[start_index] x end_probabilities[end_index]``\n",
        "\n",
        "So, to compute all the scores, we just need to compute all the ``P`` for ``start_index <= end_index``."
      ]
    },
    {
      "cell_type": "code",
      "execution_count": null,
      "metadata": {
        "id": "lyH7R7iuslu8",
        "colab": {
          "base_uri": "https://localhost:8080/",
          "height": 17
        },
        "outputId": "ce67c4b5-fe62-4dcb-9f36-2f290dca4707"
      },
      "outputs": [
        {
          "output_type": "display_data",
          "data": {
            "text/plain": [
              "<IPython.core.display.HTML object>"
            ],
            "text/html": [
              "\n",
              "  <Style>\n",
              "    pre {\n",
              "        white-space: pre-wrap;\n",
              "    }\n",
              "  </Style>\n",
              "  "
            ]
          },
          "metadata": {}
        },
        {
          "output_type": "display_data",
          "data": {
            "text/plain": [
              "<IPython.core.display.HTML object>"
            ],
            "text/html": [
              "\n",
              "  <Style>\n",
              "    pre {\n",
              "        white-space: pre-wrap;\n",
              "    }\n",
              "  </Style>\n",
              "  "
            ]
          },
          "metadata": {}
        },
        {
          "output_type": "display_data",
          "data": {
            "text/plain": [
              "<IPython.core.display.HTML object>"
            ],
            "text/html": [
              "\n",
              "  <Style>\n",
              "    pre {\n",
              "        white-space: pre-wrap;\n",
              "    }\n",
              "  </Style>\n",
              "  "
            ]
          },
          "metadata": {}
        }
      ],
      "source": [
        "scores = start_probabilities[:, None] * end_probabilities[None, :]"
      ]
    },
    {
      "cell_type": "markdown",
      "metadata": {
        "id": "LmCnitmosoOS"
      },
      "source": [
        "Then we’ll mask the values where ``start_index > end_index`` by setting them to $0$ (the other probabilities are all positive numbers). The ``torch.triu()`` function returns the upper triangular part of the 2D tensor passed as an argument, so it will do that masking for us:"
      ]
    },
    {
      "cell_type": "code",
      "execution_count": null,
      "metadata": {
        "id": "XsmRY8ADsqZn",
        "colab": {
          "base_uri": "https://localhost:8080/",
          "height": 17
        },
        "outputId": "7db691f3-8bf4-4a2a-9e6b-640050bc7ffc"
      },
      "outputs": [
        {
          "output_type": "display_data",
          "data": {
            "text/plain": [
              "<IPython.core.display.HTML object>"
            ],
            "text/html": [
              "\n",
              "  <Style>\n",
              "    pre {\n",
              "        white-space: pre-wrap;\n",
              "    }\n",
              "  </Style>\n",
              "  "
            ]
          },
          "metadata": {}
        },
        {
          "output_type": "display_data",
          "data": {
            "text/plain": [
              "<IPython.core.display.HTML object>"
            ],
            "text/html": [
              "\n",
              "  <Style>\n",
              "    pre {\n",
              "        white-space: pre-wrap;\n",
              "    }\n",
              "  </Style>\n",
              "  "
            ]
          },
          "metadata": {}
        },
        {
          "output_type": "display_data",
          "data": {
            "text/plain": [
              "<IPython.core.display.HTML object>"
            ],
            "text/html": [
              "\n",
              "  <Style>\n",
              "    pre {\n",
              "        white-space: pre-wrap;\n",
              "    }\n",
              "  </Style>\n",
              "  "
            ]
          },
          "metadata": {}
        }
      ],
      "source": [
        "scores = torch.triu(scores)"
      ]
    },
    {
      "cell_type": "markdown",
      "metadata": {
        "id": "chWG_oqcstEM"
      },
      "source": [
        "Now we just have to get the index of the maximum. Since PyTorch will return the index in the flattened tensor, we need to use the floor division ``//`` and modulus ``%`` operations to get the ``start_index`` and ``end_index``:"
      ]
    },
    {
      "cell_type": "code",
      "execution_count": null,
      "metadata": {
        "id": "6Jf76P-Usuyn",
        "colab": {
          "base_uri": "https://localhost:8080/",
          "height": 34
        },
        "outputId": "860c1e0a-05f2-4544-bab1-106f2f60f6f6"
      },
      "outputs": [
        {
          "output_type": "display_data",
          "data": {
            "text/plain": [
              "<IPython.core.display.HTML object>"
            ],
            "text/html": [
              "\n",
              "  <Style>\n",
              "    pre {\n",
              "        white-space: pre-wrap;\n",
              "    }\n",
              "  </Style>\n",
              "  "
            ]
          },
          "metadata": {}
        },
        {
          "output_type": "display_data",
          "data": {
            "text/plain": [
              "<IPython.core.display.HTML object>"
            ],
            "text/html": [
              "\n",
              "  <Style>\n",
              "    pre {\n",
              "        white-space: pre-wrap;\n",
              "    }\n",
              "  </Style>\n",
              "  "
            ]
          },
          "metadata": {}
        },
        {
          "output_type": "display_data",
          "data": {
            "text/plain": [
              "<IPython.core.display.HTML object>"
            ],
            "text/html": [
              "\n",
              "  <Style>\n",
              "    pre {\n",
              "        white-space: pre-wrap;\n",
              "    }\n",
              "  </Style>\n",
              "  "
            ]
          },
          "metadata": {}
        },
        {
          "output_type": "stream",
          "name": "stdout",
          "text": [
            "tensor(1., grad_fn=<SelectBackward0>)\n"
          ]
        }
      ],
      "source": [
        "max_index = scores.argmax().item()\n",
        "start_index = max_index // scores.shape[1]\n",
        "end_index = max_index % scores.shape[1]\n",
        "print(scores[start_index, end_index])"
      ]
    },
    {
      "cell_type": "markdown",
      "metadata": {
        "id": "dWvDPHEas9PI"
      },
      "source": [
        "###### **Exercise 2.3**\n",
        "\n",
        "Compute the start and end indices for the **five** most likely answers."
      ]
    },
    {
      "cell_type": "code",
      "execution_count": null,
      "metadata": {
        "id": "AAFL_86J14J7",
        "colab": {
          "base_uri": "https://localhost:8080/",
          "height": 208
        },
        "outputId": "fe266b83-88b9-4e8c-bb68-acf3e0c8ad52"
      },
      "outputs": [
        {
          "output_type": "display_data",
          "data": {
            "text/plain": [
              "<IPython.core.display.HTML object>"
            ],
            "text/html": [
              "\n",
              "  <Style>\n",
              "    pre {\n",
              "        white-space: pre-wrap;\n",
              "    }\n",
              "  </Style>\n",
              "  "
            ]
          },
          "metadata": {}
        },
        {
          "output_type": "display_data",
          "data": {
            "text/plain": [
              "<IPython.core.display.HTML object>"
            ],
            "text/html": [
              "\n",
              "  <Style>\n",
              "    pre {\n",
              "        white-space: pre-wrap;\n",
              "    }\n",
              "  </Style>\n",
              "  "
            ]
          },
          "metadata": {}
        },
        {
          "output_type": "display_data",
          "data": {
            "text/plain": [
              "<IPython.core.display.HTML object>"
            ],
            "text/html": [
              "\n",
              "  <Style>\n",
              "    pre {\n",
              "        white-space: pre-wrap;\n",
              "    }\n",
              "  </Style>\n",
              "  "
            ]
          },
          "metadata": {}
        },
        {
          "output_type": "stream",
          "name": "stdout",
          "text": [
            "Top 5 start and end indices:\n",
            "Answer 1: Start Index = 0, End Index = 0\n",
            "tensor(1., grad_fn=<SelectBackward0>)\n",
            "Answer 2: Start Index = 8, End Index = 8\n",
            "tensor(0., grad_fn=<SelectBackward0>)\n",
            "Answer 3: Start Index = 8, End Index = 12\n",
            "tensor(0., grad_fn=<SelectBackward0>)\n",
            "Answer 4: Start Index = 8, End Index = 9\n",
            "tensor(0., grad_fn=<SelectBackward0>)\n",
            "Answer 5: Start Index = 8, End Index = 10\n",
            "tensor(0., grad_fn=<SelectBackward0>)\n"
          ]
        }
      ],
      "source": [
        "# <SOL>\n",
        "top_scores, top_indices = torch.topk(scores.flatten(), 5)\n",
        "top_start_indices = top_indices // scores.shape[1]\n",
        "top_end_indices = top_indices % scores.shape[1]\n",
        "print(\"Top 5 start and end indices:\")\n",
        "for i in range(5):\n",
        "    start_index = top_start_indices[i].item()\n",
        "    end_index = top_end_indices[i].item()\n",
        "    print(f\"Answer {i + 1}: Start Index = {start_index}, End Index = {end_index}\")\n",
        "    print(scores[start_index, end_index])\n",
        "# </SOL>"
      ]
    },
    {
      "cell_type": "markdown",
      "metadata": {
        "id": "k3P4pxtEs8XH"
      },
      "source": [
        "We have the ``start_index`` and ``end_index`` of the answer in **terms of tokens**, so now we just need to convert them to the character indices in the context. However, due to the tokenization process, less frequent words may get split into subword units (as is the case for our tokenizer). We can easily deal with this through the tokenizer option ``return_offsets_mapping``. This will add a new key in the tokenizer's output, namely the ``offset_mapping`` which, **for each sub-token returned by the tokenizer**, gives us a **tuple indicating the sub-token's start position and end position** relative to the original token it was split from. Then, if we have the character offsets in the original text, we can map them with the output of the tokenizer:\n",
        "\n",
        "*   the very first token ``([CLS])`` has ``(0, 0)`` because it doesn't correspond to any part of the question/answer\n",
        "*   the second token returned by the tokenizer is the same as the characters $0$ to $4$ of the question\n",
        "*   ...\n"
      ]
    },
    {
      "cell_type": "code",
      "execution_count": null,
      "metadata": {
        "id": "XtOy6fnjsxBT",
        "colab": {
          "base_uri": "https://localhost:8080/",
          "height": 34
        },
        "outputId": "ae59b1de-8d37-4df7-aa37-acddb4e7437e"
      },
      "outputs": [
        {
          "output_type": "display_data",
          "data": {
            "text/plain": [
              "<IPython.core.display.HTML object>"
            ],
            "text/html": [
              "\n",
              "  <Style>\n",
              "    pre {\n",
              "        white-space: pre-wrap;\n",
              "    }\n",
              "  </Style>\n",
              "  "
            ]
          },
          "metadata": {}
        },
        {
          "output_type": "display_data",
          "data": {
            "text/plain": [
              "<IPython.core.display.HTML object>"
            ],
            "text/html": [
              "\n",
              "  <Style>\n",
              "    pre {\n",
              "        white-space: pre-wrap;\n",
              "    }\n",
              "  </Style>\n",
              "  "
            ]
          },
          "metadata": {}
        },
        {
          "output_type": "display_data",
          "data": {
            "text/plain": [
              "<IPython.core.display.HTML object>"
            ],
            "text/html": [
              "\n",
              "  <Style>\n",
              "    pre {\n",
              "        white-space: pre-wrap;\n",
              "    }\n",
              "  </Style>\n",
              "  "
            ]
          },
          "metadata": {}
        },
        {
          "output_type": "stream",
          "name": "stdout",
          "text": [
            "[(0, 0), (0, 4), (5, 8), (9, 12), (13, 15), (15, 18), (18, 19), (20, 24), (25, 27), (28, 33)]\n"
          ]
        }
      ],
      "source": [
        "inputs_with_offsets = tokenizer(question1, context1, return_offsets_mapping=True)\n",
        "offsets = inputs_with_offsets[\"offset_mapping\"]\n",
        "\n",
        "print(offsets[0:10])"
      ]
    },
    {
      "cell_type": "markdown",
      "metadata": {
        "id": "i0XQbKCXn7DS"
      },
      "source": [
        "Finally, with the offsets we can find the start and end indices in the original context and get the answer based on them:"
      ]
    },
    {
      "cell_type": "code",
      "execution_count": null,
      "metadata": {
        "id": "ydvW-7Io__Gu",
        "colab": {
          "base_uri": "https://localhost:8080/",
          "height": 34
        },
        "outputId": "0fcc5274-2345-4b82-d03c-695c793d5870"
      },
      "outputs": [
        {
          "output_type": "display_data",
          "data": {
            "text/plain": [
              "<IPython.core.display.HTML object>"
            ],
            "text/html": [
              "\n",
              "  <Style>\n",
              "    pre {\n",
              "        white-space: pre-wrap;\n",
              "    }\n",
              "  </Style>\n",
              "  "
            ]
          },
          "metadata": {}
        },
        {
          "output_type": "display_data",
          "data": {
            "text/plain": [
              "<IPython.core.display.HTML object>"
            ],
            "text/html": [
              "\n",
              "  <Style>\n",
              "    pre {\n",
              "        white-space: pre-wrap;\n",
              "    }\n",
              "  </Style>\n",
              "  "
            ]
          },
          "metadata": {}
        },
        {
          "output_type": "display_data",
          "data": {
            "text/plain": [
              "<IPython.core.display.HTML object>"
            ],
            "text/html": [
              "\n",
              "  <Style>\n",
              "    pre {\n",
              "        white-space: pre-wrap;\n",
              "    }\n",
              "  </Style>\n",
              "  "
            ]
          },
          "metadata": {}
        },
        {
          "output_type": "stream",
          "name": "stdout",
          "text": [
            "{'answer': '', 'start': 0, 'end': 0, 'score': tensor(1., grad_fn=<SelectBackward0>)}\n"
          ]
        }
      ],
      "source": [
        "start_char, _ = offsets[start_index] # start_char is the start index in the original context1\n",
        "_, end_char = offsets[end_index] # end_char is the end index in the original context1\n",
        "answer = context1[start_char:end_char]\n",
        "\n",
        "result = {\n",
        "    \"answer\": answer,\n",
        "    \"start\": start_char,\n",
        "    \"end\": end_char,\n",
        "    \"score\": scores[start_index, end_index],\n",
        "}\n",
        "print(result)"
      ]
    },
    {
      "cell_type": "markdown",
      "metadata": {
        "id": "S_rsBt7t1ovJ"
      },
      "source": [
        "### <font color='#2B4865'>*2.2. Fine-tuning*</font>"
      ]
    },
    {
      "cell_type": "markdown",
      "metadata": {
        "id": "zExYk8-Kx9EJ"
      },
      "source": [
        "Here we will be fine-tuning a pre-trained DistilBERT model on the TyDi QA dataset. In particular, we will be using the same checkpoint that we used for the inference task (``distilbert-base-cased-distilled-squad``)."
      ]
    },
    {
      "cell_type": "markdown",
      "metadata": {
        "id": "sD3k4awb1XXb"
      },
      "source": [
        "#### <font color='#2B4865'>*2.2.1. Loading in the dataset*</font>"
      ]
    },
    {
      "cell_type": "markdown",
      "metadata": {
        "id": "XkGnCF-MSiRf"
      },
      "source": [
        "Let's start by loading the [TyDi QA dataset from the Hub](https://huggingface.co/datasets/tydiqa). If you check the documentation, you will see that the dataset provides two types of tasks (primary and secondary). Yet, here we will only be making use of the primary task, since as the authors stated \"*these are a fuller and more robust representative of information-seeking question answering*\". Once we have the dataset, we will keep only English samples."
      ]
    },
    {
      "cell_type": "markdown",
      "metadata": {
        "id": "rf_obd90TgfO"
      },
      "source": [
        "###### **Exercise 2.4**\n",
        "\n",
        "Download the TyDi QA dataset for the primary tasks from the Hub. Save the ``DatasetDict`` object in a variable named ``tydiqa_dataset``.\n",
        "\n",
        "**Hint:** Make use of the parameter ``task`` to specify for which tasks we are going to prepare the dataset:\n",
        "\n",
        "From the docs: [``datasets.load_dataset``](https://huggingface.co/docs/datasets/v2.15.0/en/package_reference/loading_methods#datasets.load_dataset)\n",
        "\n",
        "* **Parameters**\n",
        "  * ``path (str)`` — Path or name of the dataset. Depending on path, the dataset builder that is used comes from a generic dataset script (JSON, CSV, Parquet, text etc.) or from the dataset script (a python file) inside the dataset directory. -> The one we have been using until now.\n",
        "  * ``task (str)`` — The task to prepare the dataset for during training and evaluation. Casts the dataset’s Features to standardized column names and types as detailed in datasets.tasks.\n"
      ]
    },
    {
      "cell_type": "code",
      "execution_count": null,
      "metadata": {
        "id": "vQVDwKZjqjV6",
        "colab": {
          "base_uri": "https://localhost:8080/",
          "height": 337,
          "referenced_widgets": [
            "e3fa5641e13e4f4d92511fb61b386cc5",
            "7a5539f0d6354f9cb2b6201a9ac7a237",
            "5f7492557c9843eeb9381893aa54a4bd",
            "fcbd4d311bb941efb82e9b7d418149b4",
            "e3a9ab19dd114b5fbd286c14c74acecc",
            "94b45c0e527e4cfdb0cdb1072fc3629b",
            "ce4565e90cf445718a9b93f5a2913ffd",
            "71276adcf9d84c6896611e301f361479",
            "6a2498cc1663407a87d3789c118ee533",
            "b5db58f2d6214e3a90f89b5e0c73ee78",
            "dacfcb74e6854d7ab01748ae8cb5658c",
            "9ccd50bd6af4422b99baee6f3c464d41",
            "c3172598b5e84675bd92c4d5ad6b64a0",
            "cca7c7a33d514ee1805f02f427ef0d61",
            "256ac5e5991c44c890bb23327c1a8929",
            "d8cf939e0ec54f8ca48a007d94819a2b",
            "b3aa3137fe874d2f96aad71436d842e6",
            "fc8a1f6cc48b49548d88e3d63c66f588",
            "0d7c9745b77f4061a9882c889956b77a",
            "f54dc202b8164b0bb681ed6f327bda84",
            "5f41b641dc54440a9114b74932cbca6a",
            "6df01bc8ad3248189a531223e9294fa4",
            "56eb067e7eb94c64ad1a0c1db3472471",
            "68a78cc773134a79a6844ab6ef408d1e",
            "971fb1a9f9124da78082af5f19a4f90e",
            "35ecf19dc6194490845897d5d792bd3b",
            "b396e9b88e444b759147b41ea534dcb7",
            "f11fd1c2c0504df59e5749630f18b969",
            "20d45a05bed9419fb260a7a44f8739a4",
            "05c0191c29c1439ba490b55a5d97414e",
            "cd70205d017f4610a6a6fbb2647a1534",
            "018fcd7791ac4dc8afa888f8f526f3c3",
            "e5395da4565d46308ba4bb863f499c61",
            "021be539679e4ebb97566a6f0068479f",
            "6f8fde9527a045d4943bc8d25b773a06",
            "5784bce719d54edb90259f1fbaec28a4",
            "c748044499894b248c6ea6db9df32592",
            "defd1daf8a21489dbd043b8e786326ed",
            "ea058dd3b1f14d92a1958b0b89009ab4",
            "04f7bfd0ffa444f0a79f55df741bcc51",
            "a7a0d1d8c196405ba4f4fb3353e593fa",
            "66d966ba0714489688d489f6d6fe786f",
            "cdd8f7d5b93b44b6a871806f30a5352a",
            "3e7ffa81acc94b2d8e182a08205251f4",
            "bbedf50a7311466b8b174cd5b7622a22",
            "04d018f1f5694eb0aca168753426e7fa",
            "9c45b0a6d8454ddfae7fb16d20874266",
            "2583070c0bdf4e7186351f60adb6636c",
            "8f187e8653124a33bb4e55e112d72001",
            "80d850b958c2438c9247bb7c1dc855ee",
            "e0e39e5bb1924698bf1dbb219396b12e",
            "be4daddbffee481c9dc8f4655ef9e4f3",
            "10fda9c0be6c451cb01611b5cf36ce04",
            "84a977679f6e4640af37aaebc1d751c0",
            "5303f748d72c4605ab1e2d3bf6773961",
            "136532a476524865b2ab2140c3e10127",
            "036dde96d1f248d8904076cbe6b4277c",
            "2370cec8d91f4b13bff9359fb990d5c5",
            "4a110aa1e5714f65a35db8266450db49",
            "7f50e563b2ad4e55afd1a9aa358a2d5d",
            "81e9bbce2c204e1f85a0ebc8109f17ae",
            "71adcc0e4a6f4977ac23182d5634acaa",
            "8d233bf8d9da4a97adbd8d00cb55213a",
            "289032aa757344518681369d09419a41",
            "d98c69cb0590440dbbf85e867a308c2e",
            "c3efe861be834067bdca53d7713f4efd",
            "dc784a96f33742eead85cddb02707918",
            "22d7c544a87748f699a923012372aa93",
            "e33c2aa970604d3d861b483872068b10",
            "b5c7e693e4a1444db78ce04094559982",
            "2590871521964565942dcd3b6e2f2e30",
            "dc88c4bb3f0546029ad9a54af1ebd6e1",
            "da00d43b392d48449e166cb98ebea0f5",
            "18a5e9bf25e547fca23f6c2044376d78",
            "fee3f5f433e64f1fa5f00f436859c229",
            "b24bda9ebf374b9f915b690063bd2e4b",
            "6a7b7a34b9664bcfa83a53a84f7cad1d",
            "8ec61629674c4a50abb1c57f2007fa1d",
            "8fbf5b39284a4797bfb69df0c484548c",
            "d2aa65a2bc6241f69f9de0b84eab0f47",
            "18417d4dff6f4befb289144bc707e916",
            "80aade16d8a443d48ab572805d8e0181",
            "b4db810f738246f2920e32189b210c75",
            "0b6a6524cce74387a9c83fcdd76219d3",
            "1c23ff9ca66c4aa2997aecf391cf83c9",
            "21831f1484f143cb83284b6b31a869b2",
            "b5f24483cc8e4570822b867e608cc9c2",
            "cf8ca718beaa4bfabeebf13877094dab",
            "132b604580ce4d00948d747d2dceac04",
            "24334a9d9c034195b4624d035bec70df",
            "0b93341e59824a2d88c117d742465566",
            "c611670a52124071844ea03ba17291a7",
            "d2c4102ba8c24f9393b41da5c33aa7c0",
            "8454cd1373c643d49240ab94e7889c4e",
            "156d7cb7723c407c8a0889567a870c95",
            "7efe7b2033bb4316a8fad8d99b4650c1",
            "b9ccf74d2bf54bc2af433f1a160fa53f",
            "4436b9fded6c46cb9c45e6547d401d72",
            "5a02b3b0302b44af95bd4f14de30bc05",
            "ba2bae0936c648d884c7623a1fb40821",
            "e0b3d546c1dc49a5b1606e65f1053365",
            "5d5bd0dd5dc748eda562b5790f9d4326",
            "ca06a57a64b04a64862010045adbd2b6",
            "dbfaab1ff866428bbe7c78b35e8164a6",
            "9bbdf8e21019455aa4d7e9bd4f6c6107",
            "8f5f7a0d2dab4721879e650cbb81f9cc",
            "e591bcabd5294c029b9a2779df951501",
            "af38bd50ab714d4899aba9293210a0d7",
            "0f7dc743f19e46a4aaba5176485c1bf7",
            "a9b590b45bb94a979fbd9dce555d26d9"
          ]
        },
        "outputId": "79494337-94dd-446e-df40-986691df4d50"
      },
      "outputs": [
        {
          "output_type": "display_data",
          "data": {
            "text/plain": [
              "<IPython.core.display.HTML object>"
            ],
            "text/html": [
              "\n",
              "  <Style>\n",
              "    pre {\n",
              "        white-space: pre-wrap;\n",
              "    }\n",
              "  </Style>\n",
              "  "
            ]
          },
          "metadata": {}
        },
        {
          "output_type": "display_data",
          "data": {
            "text/plain": [
              "<IPython.core.display.HTML object>"
            ],
            "text/html": [
              "\n",
              "  <Style>\n",
              "    pre {\n",
              "        white-space: pre-wrap;\n",
              "    }\n",
              "  </Style>\n",
              "  "
            ]
          },
          "metadata": {}
        },
        {
          "output_type": "display_data",
          "data": {
            "text/plain": [
              "<IPython.core.display.HTML object>"
            ],
            "text/html": [
              "\n",
              "  <Style>\n",
              "    pre {\n",
              "        white-space: pre-wrap;\n",
              "    }\n",
              "  </Style>\n",
              "  "
            ]
          },
          "metadata": {}
        },
        {
          "output_type": "display_data",
          "data": {
            "text/plain": [
              "Downloading data files:   0%|          | 0/2 [00:00<?, ?it/s]"
            ],
            "application/vnd.jupyter.widget-view+json": {
              "version_major": 2,
              "version_minor": 0,
              "model_id": "e3fa5641e13e4f4d92511fb61b386cc5"
            }
          },
          "metadata": {}
        },
        {
          "output_type": "display_data",
          "data": {
            "text/plain": [
              "Downloading data:   0%|          | 0.00/1.73G [00:00<?, ?B/s]"
            ],
            "application/vnd.jupyter.widget-view+json": {
              "version_major": 2,
              "version_minor": 0,
              "model_id": "9ccd50bd6af4422b99baee6f3c464d41"
            }
          },
          "metadata": {}
        },
        {
          "output_type": "display_data",
          "data": {
            "text/plain": [
              "Downloading data:   0%|          | 0.00/161M [00:00<?, ?B/s]"
            ],
            "application/vnd.jupyter.widget-view+json": {
              "version_major": 2,
              "version_minor": 0,
              "model_id": "56eb067e7eb94c64ad1a0c1db3472471"
            }
          },
          "metadata": {}
        },
        {
          "output_type": "display_data",
          "data": {
            "text/plain": [
              "Extracting data files:   0%|          | 0/2 [00:00<?, ?it/s]"
            ],
            "application/vnd.jupyter.widget-view+json": {
              "version_major": 2,
              "version_minor": 0,
              "model_id": "021be539679e4ebb97566a6f0068479f"
            }
          },
          "metadata": {}
        },
        {
          "output_type": "display_data",
          "data": {
            "text/plain": [
              "Downloading data files:   0%|          | 0/2 [00:00<?, ?it/s]"
            ],
            "application/vnd.jupyter.widget-view+json": {
              "version_major": 2,
              "version_minor": 0,
              "model_id": "bbedf50a7311466b8b174cd5b7622a22"
            }
          },
          "metadata": {}
        },
        {
          "output_type": "display_data",
          "data": {
            "text/plain": [
              "Downloading data:   0%|          | 0.00/58.0M [00:00<?, ?B/s]"
            ],
            "application/vnd.jupyter.widget-view+json": {
              "version_major": 2,
              "version_minor": 0,
              "model_id": "136532a476524865b2ab2140c3e10127"
            }
          },
          "metadata": {}
        },
        {
          "output_type": "display_data",
          "data": {
            "text/plain": [
              "Downloading data:   0%|          | 0.00/5.62M [00:00<?, ?B/s]"
            ],
            "application/vnd.jupyter.widget-view+json": {
              "version_major": 2,
              "version_minor": 0,
              "model_id": "dc784a96f33742eead85cddb02707918"
            }
          },
          "metadata": {}
        },
        {
          "output_type": "display_data",
          "data": {
            "text/plain": [
              "Extracting data files:   0%|          | 0/2 [00:00<?, ?it/s]"
            ],
            "application/vnd.jupyter.widget-view+json": {
              "version_major": 2,
              "version_minor": 0,
              "model_id": "8ec61629674c4a50abb1c57f2007fa1d"
            }
          },
          "metadata": {}
        },
        {
          "output_type": "display_data",
          "data": {
            "text/plain": [
              "Generating train split:   0%|          | 0/166916 [00:00<?, ? examples/s]"
            ],
            "application/vnd.jupyter.widget-view+json": {
              "version_major": 2,
              "version_minor": 0,
              "model_id": "132b604580ce4d00948d747d2dceac04"
            }
          },
          "metadata": {}
        },
        {
          "output_type": "display_data",
          "data": {
            "text/plain": [
              "Generating validation split:   0%|          | 0/18670 [00:00<?, ? examples/s]"
            ],
            "application/vnd.jupyter.widget-view+json": {
              "version_major": 2,
              "version_minor": 0,
              "model_id": "ba2bae0936c648d884c7623a1fb40821"
            }
          },
          "metadata": {}
        }
      ],
      "source": [
        "# <SOL>\n",
        "from datasets import load_dataset, DatasetDict\n",
        "# <SOL>\n",
        "tydiqa_dataset = load_dataset(\"tydiqa\",\"primary_task\")"
      ]
    },
    {
      "cell_type": "markdown",
      "metadata": {
        "id": "gS4ZEHEhqicU"
      },
      "source": [
        "For the purpose of this example, we exclusively focus on English samples by filtering out any non-English ones:"
      ]
    },
    {
      "cell_type": "code",
      "execution_count": null,
      "metadata": {
        "id": "N6M6XnkiARct",
        "colab": {
          "base_uri": "https://localhost:8080/",
          "height": 307,
          "referenced_widgets": [
            "14a748844060494c8ce687ed51446ce7",
            "7be2c88181584068a853b7d5d5f29e02",
            "2c48215a6f274a1e8c711b79b91a154c",
            "71a483d4d447457b92510e45c5cbecc1",
            "d97b18641bcf47f1aad80ccf543255b2",
            "c231a09cdc2f433990132d6d93b3cf18",
            "2fe6955d2ac04dc693bc2d53a701a74d",
            "16a117c35b184e879e6ecc139833d8f6",
            "9f377f1a29d44e5188aa1127bc9b04b8",
            "c034c3ad9d81496db7c5bb2da6a525fa",
            "482dc81b3c39463e9fe6facd49236bf4",
            "84e442959c854b069171590dd5399471",
            "5284480d6a6e4d0eb6a6028bcea0b83a",
            "e67c7779211741b088ad3fae3d8f8f4a",
            "519489655042434a9fada906da6de144",
            "cbe6bc2f280641b8917cbc350da46189",
            "1b2ac5d503cc409b8c933762f9bb774a",
            "de66c0554a1d401ba74a091832717f7a",
            "afb33287bb7142e6bb0e4fb64be8a78f",
            "805d2e5e3fae43feb5ab65ed5192b4f9",
            "d2d419ccf33748a89397b5801ec36c90",
            "022e3326e4ca45708c2ae83d46cc07ff"
          ]
        },
        "outputId": "c363943b-2246-4e5e-8ead-b72f30e9c79f"
      },
      "outputs": [
        {
          "output_type": "display_data",
          "data": {
            "text/plain": [
              "<IPython.core.display.HTML object>"
            ],
            "text/html": [
              "\n",
              "  <Style>\n",
              "    pre {\n",
              "        white-space: pre-wrap;\n",
              "    }\n",
              "  </Style>\n",
              "  "
            ]
          },
          "metadata": {}
        },
        {
          "output_type": "display_data",
          "data": {
            "text/plain": [
              "<IPython.core.display.HTML object>"
            ],
            "text/html": [
              "\n",
              "  <Style>\n",
              "    pre {\n",
              "        white-space: pre-wrap;\n",
              "    }\n",
              "  </Style>\n",
              "  "
            ]
          },
          "metadata": {}
        },
        {
          "output_type": "display_data",
          "data": {
            "text/plain": [
              "<IPython.core.display.HTML object>"
            ],
            "text/html": [
              "\n",
              "  <Style>\n",
              "    pre {\n",
              "        white-space: pre-wrap;\n",
              "    }\n",
              "  </Style>\n",
              "  "
            ]
          },
          "metadata": {}
        },
        {
          "output_type": "display_data",
          "data": {
            "text/plain": [
              "Filter:   0%|          | 0/166916 [00:00<?, ? examples/s]"
            ],
            "application/vnd.jupyter.widget-view+json": {
              "version_major": 2,
              "version_minor": 0,
              "model_id": "14a748844060494c8ce687ed51446ce7"
            }
          },
          "metadata": {}
        },
        {
          "output_type": "display_data",
          "data": {
            "text/plain": [
              "Filter:   0%|          | 0/18670 [00:00<?, ? examples/s]"
            ],
            "application/vnd.jupyter.widget-view+json": {
              "version_major": 2,
              "version_minor": 0,
              "model_id": "84e442959c854b069171590dd5399471"
            }
          },
          "metadata": {}
        },
        {
          "output_type": "stream",
          "name": "stdout",
          "text": [
            "\n"
          ]
        },
        {
          "output_type": "execute_result",
          "data": {
            "text/plain": [
              "DatasetDict({\n",
              "    train: Dataset({\n",
              "        features: ['passage_answer_candidates', 'question_text', 'document_title', 'language', 'annotations', 'document_plaintext', 'document_url'],\n",
              "        num_rows: 9211\n",
              "    })\n",
              "    validation: Dataset({\n",
              "        features: ['passage_answer_candidates', 'question_text', 'document_title', 'language', 'annotations', 'document_plaintext', 'document_url'],\n",
              "        num_rows: 1031\n",
              "    })\n",
              "})"
            ]
          },
          "metadata": {},
          "execution_count": 61
        }
      ],
      "source": [
        "# We filter out non-English samples\n",
        "tydiqa_dataset = tydiqa_dataset.filter(lambda example: example['language'] == 'english')\n",
        "print()\n",
        "\n",
        "tydiqa_dataset"
      ]
    },
    {
      "cell_type": "markdown",
      "metadata": {
        "id": "2xRO1yIkvpUt"
      },
      "source": [
        "As you can see, this dataset consists of:\n",
        "\n",
        "*   ``passage_answer_candidates`` for the Passage selection task, that we are not going to use\n",
        "*   questions (``question_text``)\n",
        "*   contexts (``document_plaintext``)\n",
        "*   information related to the oringal document the context comes (``document_title``, ``language``, and ``document_url``)\n",
        "*   and a dictionary accessible through the ``annotations`` key containing:\n",
        "  * the index of the passage index candidate (``passage_answer_candidate_index``)    \n",
        "  * the point to the start and end position of the answer inside the context (``minimal_answers_start_byte`` and ``minimal_answers_end_byte``). If the question is a \"yes/no\" answer or unanswerable, the former indexes will be equal to ``-1``.\n",
        "  * whether the question has a \"yes/no\" answer (``yes_no_answer``)"
      ]
    },
    {
      "cell_type": "markdown",
      "metadata": {
        "id": "2puCxO90q1xG"
      },
      "source": [
        "Prior to moving forward, we eliminate the ``passage_answer_candidates`` as it won't be utilized in subsequent steps:"
      ]
    },
    {
      "cell_type": "code",
      "execution_count": null,
      "metadata": {
        "id": "_wz_yaM0Z-4C",
        "colab": {
          "base_uri": "https://localhost:8080/",
          "height": 17
        },
        "outputId": "96066e8f-1e93-43b0-9e93-fd9b42b9d924"
      },
      "outputs": [
        {
          "output_type": "display_data",
          "data": {
            "text/plain": [
              "<IPython.core.display.HTML object>"
            ],
            "text/html": [
              "\n",
              "  <Style>\n",
              "    pre {\n",
              "        white-space: pre-wrap;\n",
              "    }\n",
              "  </Style>\n",
              "  "
            ]
          },
          "metadata": {}
        },
        {
          "output_type": "display_data",
          "data": {
            "text/plain": [
              "<IPython.core.display.HTML object>"
            ],
            "text/html": [
              "\n",
              "  <Style>\n",
              "    pre {\n",
              "        white-space: pre-wrap;\n",
              "    }\n",
              "  </Style>\n",
              "  "
            ]
          },
          "metadata": {}
        },
        {
          "output_type": "display_data",
          "data": {
            "text/plain": [
              "<IPython.core.display.HTML object>"
            ],
            "text/html": [
              "\n",
              "  <Style>\n",
              "    pre {\n",
              "        white-space: pre-wrap;\n",
              "    }\n",
              "  </Style>\n",
              "  "
            ]
          },
          "metadata": {}
        }
      ],
      "source": [
        "tydiqa_dataset =  tydiqa_dataset.remove_columns([\"passage_answer_candidates\"])"
      ]
    },
    {
      "cell_type": "markdown",
      "metadata": {
        "id": "uwOf2UhqBBxD"
      },
      "source": [
        "###### **Exercise 2.5**\n",
        "\n",
        "\n",
        "To have easier access to each of the features in the dataset, let's transform its current nested structure of several types into separate columns using the ``Dataset.flatten()`` method.\n",
        "\n",
        "Once you have the flattened dataset, complete the code in the cell below to display an example's Question, Context, and True answer. Truncate the context to 512 words.\n",
        "\n"
      ]
    },
    {
      "cell_type": "code",
      "execution_count": null,
      "metadata": {
        "id": "LpyAgWz1BWwi",
        "colab": {
          "base_uri": "https://localhost:8080/",
          "height": 260
        },
        "outputId": "25c0d8c2-e734-4229-93b4-5dab3cd7ce7c"
      },
      "outputs": [
        {
          "output_type": "display_data",
          "data": {
            "text/plain": [
              "<IPython.core.display.HTML object>"
            ],
            "text/html": [
              "\n",
              "  <Style>\n",
              "    pre {\n",
              "        white-space: pre-wrap;\n",
              "    }\n",
              "  </Style>\n",
              "  "
            ]
          },
          "metadata": {}
        },
        {
          "output_type": "display_data",
          "data": {
            "text/plain": [
              "<IPython.core.display.HTML object>"
            ],
            "text/html": [
              "\n",
              "  <Style>\n",
              "    pre {\n",
              "        white-space: pre-wrap;\n",
              "    }\n",
              "  </Style>\n",
              "  "
            ]
          },
          "metadata": {}
        },
        {
          "output_type": "display_data",
          "data": {
            "text/plain": [
              "<IPython.core.display.HTML object>"
            ],
            "text/html": [
              "\n",
              "  <Style>\n",
              "    pre {\n",
              "        white-space: pre-wrap;\n",
              "    }\n",
              "  </Style>\n",
              "  "
            ]
          },
          "metadata": {}
        },
        {
          "output_type": "execute_result",
          "data": {
            "text/plain": [
              "DatasetDict({\n",
              "    train: Dataset({\n",
              "        features: ['question_text', 'document_title', 'language', 'annotations.passage_answer_candidate_index', 'annotations.minimal_answers_start_byte', 'annotations.minimal_answers_end_byte', 'annotations.yes_no_answer', 'document_plaintext', 'document_url'],\n",
              "        num_rows: 9211\n",
              "    })\n",
              "    validation: Dataset({\n",
              "        features: ['question_text', 'document_title', 'language', 'annotations.passage_answer_candidate_index', 'annotations.minimal_answers_start_byte', 'annotations.minimal_answers_end_byte', 'annotations.yes_no_answer', 'document_plaintext', 'document_url'],\n",
              "        num_rows: 1031\n",
              "    })\n",
              "})"
            ]
          },
          "metadata": {},
          "execution_count": 63
        }
      ],
      "source": [
        "# TODO: flatten the dataset\n",
        "tydiqa_dataset = tydiqa_dataset.flatten()\n",
        "tydiqa_dataset"
      ]
    },
    {
      "cell_type": "code",
      "execution_count": null,
      "metadata": {
        "id": "KNVpW6lADk92",
        "colab": {
          "base_uri": "https://localhost:8080/",
          "height": 1000
        },
        "outputId": "1069dd26-611a-497d-a4dc-bd5712aefb15"
      },
      "outputs": [
        {
          "output_type": "display_data",
          "data": {
            "text/plain": [
              "<IPython.core.display.HTML object>"
            ],
            "text/html": [
              "\n",
              "  <Style>\n",
              "    pre {\n",
              "        white-space: pre-wrap;\n",
              "    }\n",
              "  </Style>\n",
              "  "
            ]
          },
          "metadata": {}
        },
        {
          "output_type": "display_data",
          "data": {
            "text/plain": [
              "<IPython.core.display.HTML object>"
            ],
            "text/html": [
              "\n",
              "  <Style>\n",
              "    pre {\n",
              "        white-space: pre-wrap;\n",
              "    }\n",
              "  </Style>\n",
              "  "
            ]
          },
          "metadata": {}
        },
        {
          "output_type": "display_data",
          "data": {
            "text/plain": [
              "<IPython.core.display.HTML object>"
            ],
            "text/html": [
              "\n",
              "  <Style>\n",
              "    pre {\n",
              "        white-space: pre-wrap;\n",
              "    }\n",
              "  </Style>\n",
              "  "
            ]
          },
          "metadata": {}
        },
        {
          "output_type": "stream",
          "name": "stdout",
          "text": [
            "\u001b[38;5;12m\u001b[1mQuestion: \u001b[0mWhat is the most used language in Europe?\n",
            "\u001b[38;5;10m\u001b[1m\n",
            "Context (truncated): \u001b[0m\n",
            "\n",
            "\n",
            "The languages of the European Union are languages used by people within the member states of the European Union (EU).\n",
            "The EU has 24 official languages, of which three (English, French and German) have the higher status of \"procedural\" languages[4] of the European Commission (whereas the European Parliament accepts all official languages as working languages[5]). One language (Irish) previously had the lower status of \"treaty language\" before being upgraded to an official and working language in 2007, although it has been temporarily derogated as a working language until 2021 due to difficulty finding qualified translators.[6][7] The three procedural languages are those used in the day-to-day workings of the institutions of the EU. The designation of Irish as a \"treaty language\" meant that only primary legislation (the treaties) was to be translated into Irish, whereas secondary legislation (Directives and Regulations) did not have to be.\n",
            "The EU asserts that it is in favour of linguistic diversity. This principle is enshrined in the EU Charter (art. 22) and in the Treaty on European Union (art. 3(3) TEU).\n",
            "In the European Union, language policy is the responsibility of member states and EU does not have a common language policy; European Union institutions play a supporting role in this field, based on the principle of \"subsidiarity\", they promote a European dimension in the member states' language policies. The EU encourages all its citizens to be multilingual; specifically, it encourages them to be able to speak two languages in addition to their native language.[8] Though the EU has very limited influence in this area as the content of educational systems is the responsibility of individual member states, a number of EU funding programmes actively promote language learning and linguistic diversity.[9]\n",
            "The most widely spoken language in the EU is English, which is understood by 51% of all adults, while German is the most widely used mother tongue, spoken by 18%. All 24 official languages of the EU are accepted as working languages, but in practice only two – English and French – are in wide general use and of these English[10][11][12][13] is the more commonly used. French is an official language in all three of the cities that are political centres of the Union: Brussels (Belgium), Strasbourg (France) and Luxembourg City (Luxembourg).\n",
            "Official EU languages\n",
            "\n",
            "As of 1July2013, the official languages of the European Union, as stipulated in the latest amendment of Regulation No 1 determining the languages to be used by the European Economic Community of 1958, are:[14][15]\n",
            "\n",
            "\n",
            "The number of member states exceeds the number of official languages, as several national languages are shared by two or more countries in the EU. Dutch, English, French, German, Greek, and Swedish are all official languages at the national level in multiple countries (see table above). In addition, Croatian, Czech, Danish, Hungarian, Irish, Italian, Slovak, and Slovene / Slovenian are official languages in multiple EU countries at the regional level.\n",
            "Furthermore, not all national languages have been accorded the status of official EU languages. These include Luxembourgish, an official language of Luxembourg since 1984, and Turkish, an official language of Cyprus.\n",
            "All languages of the EU are also working languages.[15] Documents which a member state or a person subject to the jurisdiction of a member state sends to institutions of the Community may be drafted in any one of the official languages selected by the sender. The reply is drafted in the same language. Regulations and other documents of general application are drafted in the twenty-four official languages. The Official Journal of the European Union is published in the twenty-four official languages.\n",
            "Legislation and documents of major public importance or interest are produced in all official languages, but that accounts for a minority of the institutions′ work. Other documents—e.g.,communications with the national authorities, decisions addressed to particular individuals or entities and correspondence—are translated only into the languages needed. For internal purposes the EU institutions are allowed by law to choose their own language arrangements. The European Commission, for example, conducts its internal business in three languages, English, French, and German (sometimes called \"procedural languages\"), and goes fully multilingual only for public information and communication purposes. The European Parliament, on the other hand, has members who need working documents in their own languages, so its document flow is fully multilingual from the outset.[18] Non-institutional EU bodies are not legally obliged to make language arrangement for all the 24 languages (Kik v. Office for Harmonization in the Internal Market, , 2003 ECJ I-8283).\n",
            "The linguistic translations are expensive.[19] According to the EU's English-language website,[20] the cost of maintaining the institutions’ policy of multilingualism—i.e.,the cost of translation and interpretation—was €1,123 million in 2005, which is 1% of the annual general budget of the EU, or €2.28 per person per year. The EU Parliament has made clear that its member states have autonomy for language education, which by treaty the European Community must respect.[21]\n",
            "Language families\n",
            "\n",
            "The vast majority of EU languages belong to the Indo-European family, the three dominant subfamilies being the Germanic, Romance, and Slavic. Germanic languages are spoken in central and northern Europe and include Danish, Dutch, English, German, and Swedish. Romance languages are spoken in western, southern European regions; they include French, Italian, Portuguese, Romanian, and Spanish. The Slavic languages are to be found in the central Europe and the Balkans in southern Europe. They include Bulgarian, Croatian, Czech, Polish, Slovak, and Slovene. The Baltic languages, Latvian and Lithuanian; the Celtic languages, including Irish; and Greek are also Indo-European.\n",
            "Outside the Indo-European family, Estonian, Finnish, and Hungarian are Uralic languages while Maltese is the only Afroasiatic language with official status in the EU. The Basque language, a language isolate whose roots are unknown, is an official language in some parts of northern Spain, but not an official language of the EU.\n",
            "Writing systems\n",
            "\n",
            "Most official EU languages are written in the Latin script. The two exceptions are Greek, which is written in the Greek script, and Bulgarian, which is written in Cyrillic script. With the accession of Bulgaria to the European Union on 1 January 2007, Cyrillic became the third official script of the European Union, following the Latin and Greek scripts.[22] The current design of euro banknotes has the word euro written in both the Latin and Greek (Ευρώ) alphabets; the Cyrillic spelling (Eвро) was added to the new Europa series of banknotes started in 2013 (see Linguistic issues concerning the euro).\n",
            "Language-specific regulations\n",
            "Maltese\n",
            "Although Maltese is an official language, the Council set a transitional period of three years from 1 May 2004, during which the institutions were not obliged to draft all acts in Maltese.[23] It was agreed that the Council could extend this transitional period by an additional year, but decided not to.[24] All new acts of the institutions were required to be adopted and published in Maltese from 30 April 2007.\n",
            "Irish\n",
            "When Ireland joined the EEC (now the EU) in 1973, Irish was accorded \"Treaty Language\" status. This meant that the founding EU Treaty was restated in Irish. Irish was also listed in that Treaty and all subsequent EU Treaties as one of the authentic languages of the Treaties.[25] As a Treaty Language, Irish was an official procedural language of the European Court of Justice.[26] It was also possible to correspond in written Irish with the EU Institutions.\n",
            "However, despite being the first official language of the Republic of Ireland and having been accorded minority-language status in the UK region of Northern Ireland, Irish was not made an official working language of the EU until 1 January 2007. On that date an EU Council Regulation making Irish an official working language of the EU came into effect.[27] This followed a unanimous decision on 13 June 2005 by EU foreign ministers that Irish would be made the 21st official language of the EU.[28] However, a derogation stipulates that not all documents have to be translated into Irish as is the case with the other official languages.[29][30]\n",
            "The regulation means that legislation approved by both the European Parliament and the Council of Ministers is translated into Irish, and interpretation from Irish is available at European Parliament plenary sessions and some Council meetings. The cost of translation, interpretation, publication, and legal services involved in making Irish an official EU language is estimated at just under €3.5 million a year.[31] On December 3, 2015, a new regulation passed by the Council has set a definitive schedule on the gradual reduction of the derogation of the Irish language. This new regulation outlines an actual schedule of gradual reduction spread across five years starting from 2016. If EU institutions have sufficient available translation capacity, and if no other Council regulations state otherwise, the derogation completely ends by January 2022.[32]\n",
            "Irish is the only official language of the Union that is not the most widely spoken language in any member state. According to the 2006 Irish census figures, there are 1.66million people in Ireland with some ability to speak Irish, out of a population of 4.6million, though only 538,500 use Irish on a daily basis (counting those who use it mainly in the education system) and just over 72,000 use Irish as a daily language outside the education system.[33]\n",
            "Croatian, Serbian, Bosnian, and Montenegrin\n",
            "Due to the close similarity between Croatian, Serbian, Bosnian, and Montenegrin–which are mutually intelligible–it was proposed that only one hybrid language be accepted as an official EU language as opposed to four separate ones (as in the International Criminal Tribunal for the former Yugoslavia) in order to reduce translation costs. In negotiations with Croatia, however, it was accepted that Croatian would become a separate official EU language.[34]\n",
            "Future of English in the EU\n",
            "\n",
            "When the United Kingdom and Ireland joined the EU's predecessor in 1973, French was the dominant language of the institutions. With the addition of Sweden and Finland in the 1990s, and the Eastern European states in the 2000s, English slowly supplanted French as the dominant working language of the institutions. In 2015, it was estimated that 80% of legislative proposals were drafted first in English. The role of English as a lingua franca is believed to be likely to continue, given how heavily staff rely on it.[11][12]\n",
            "The interpretation of the legal rules covering the use of Official Languages has been open to speculation following the result of the Brexit referendum. Danuta Hübner, the head of the European Parliament's Constitutional Affairs Committee, has claimed that, after Brexit, English will no longer be an official EU language.[12] However, this statement has been contradicted by the European Commission Representation in Ireland, whose spokesperson described Ms Hübner's claim as \"incorrect\",[35] as well as by President Jean-Claude Juncker in an answer to a Parliamentary Question on 9 August 2017.[36]\n",
            "Regional, minority and other languages\n",
            "\n",
            "According to the Euromosaic study,[37] some regional or minority languages spoken within the EU do not have official recognition at EU level. Some of them may have some official status within the member state and count many more speakers than some of the lesser-used official languages. The official languages of EU are in bold.\n",
            "In the list those idioms deemed by member states as mere dialects of an official language are not included. However many of these dialects are often viewed  as separate languages: Scots—the Germanic language descended from Old English, not the Celtic language known as Scottish Gaelic—and several Romance languages spoken in Portugal, France and Italy, such as Mirandese, Lombard, Ligurian, Piedmontese, Venetian, Corsican, Neapolitan, and Sicilian.\n",
            "Languages of France\n",
            "The French constitution stipulates French as the sole language of the Republic. Since the 2008 modifications, article 75-1 of the Constitution adds that \"regional languages form part of the French heritage\".\n",
            "Nevertheless, there exist a number of languages spoken by sizeable minorities, such as Breton (a Celtic language), Basque, and several Romance languages such as Occitan, Catalan, Corsican and the various langues d'oïl (other than French), as well as Germanic languages spoken in Alsace-Lorraine (Central Franconian, High Franconian, Luxembourgish, and Alemannic) and French Flanders (Dutch).\n",
            "These languages enjoy no official status under the French state and regions are not permitted to bestow any such status themselves. Since December 2004, Breton and Gallo are officially recognized in Brittany.\n",
            "Languages of Italy\n",
            "\n",
            "Languages of Spain's autonomous communities\n",
            "The Spanish governments have sought to give some official status in the EU for the languages of the autonomous communities of Spain, Catalan/Valencian, Galician and Basque. The 667th Council Meeting of the Council of the European Union in Luxembourg on 13 June 2005, decided to authorise limited use at EU level of languages recognised by member states other than the official working languages. The Council granted recognition to \"languages other than the languages referred to in Council Regulation No 1/1958 whose status is recognised by the Constitution of a Member State on all or part of its territory or the use of which as a national language is authorised by law.\" The official use of such languages will be authorised on the basis of an administrative arrangement concluded between the Council and the requesting member state.[38]\n",
            "Although Basque, Catalan/Valencian and Galician are not nationwide official languages in Spain, as co-official languages in the respective regions – pursuant to Spanish constitution, among other documents – they are eligible to benefit from official use in EU institutions under the terms of the 13 June 2005 resolution of the Council of the European Union. The Spanish government has assented to the provisions in respect of these languages.\n",
            "The status of Catalan, spoken by over 9 million EU citizens (just over 1.8% of the total), has been the subject of particular debate. On 11 December 1990, the use of Catalan was the subject of a European Parliament Resolution (resolution A3-169/90 on languages in the [European] Community and the situation of Catalan).[39]\n",
            "On 16 November 2005, the President Peter Straub of the Committee of the Regions signed an agreement with the Spanish Ambassador to the EU, Carlos Bastarreche, approving the use of Spanish regional languages in an EU institution for the first time in a meeting on that day, with interpretation provided by  European Commission interpreters.[40][41][42]\n",
            "On 3 July 2006, the European Parliament's Bureau approved a proposal by the Spanish State to allow citizens to address the European Parliament in Basque, Catalan/Valencian and Galician, two months after its initial rejection.[43][44]\n",
            "On 30 November 2006, the European Ombudsman, Nikiforos Diamandouros, and the Spanish ambassador in the EU, Carlos Bastarreche, signed an agreement in Brussels to allow Spanish citizens to address complaints to the European Ombudsman in Basque, Catalan/Valencian and Galician, all four co-official languages in Spain.[45] According to the agreement, a translation body, which will be set up and financed by the Spanish government, will be responsible for translating complaints submitted in these languages. In turn, it will translate the Ombudsman's decisions from Spanish into the language of the complainant. Until such a body is established the agreement will not become effective; so far the body has not been created nor there is any budget allocated to this end. This leaving Catalan speakers without access to EU institutions in their mother tongue.\n",
            "Galician in particular, not being itself a European Parliament official language, can be used and is in fact used by some European Parliament constituents as a spoken dialect of Portuguese due to its similarity with this language.[46]\n",
            "Luxembourgish and Turkish\n",
            "Luxembourgish (Luxembourg) and Turkish (Cyprus) are the only two national languages that are not official languages of the EU. Neither Luxembourg nor Cyprus have yet used the provision of the 13 June 2005 resolution to benefit from use in official EU institutions. On 26 February 2016 it was made public that Cyprus has asked to make Turkish an official EU language, in a “gesture” that could help reunification and improve EU–Turkey relations.[47] Already in 2004, it was planned that Turkish would become an official language when Cyprus reunites.[48]\n",
            "Welsh and Scottish Gaelic\n",
            "On 15 July 2008 the EU Council approved the naming of Welsh as a co-official language of the European Union.[49] Scottish Gaelic received the same status in October 2009.[50]\n",
            "Romani\n",
            "The Romani people, numbering over two million in the EU,[51] speak the Romani language, which is not official in any EU member state or polity. Moreover, Romani mass media and educational institution presences are near-negligible.\n",
            "Russian\n",
            "Though not an official language of the European Union, Russian is widely spoken in all member states that were part of the Soviet Union (and before that the Russian Empire). Russian is the native language of about 1.6 million Baltic Russians residing in Latvia, Estonia, and Lithuania, as well as a sizeable community of about 3.5 million in Germany and as a major immigrant language elsewhere in the EU. Russian is also understood by a majority of ethnic Latvians, Estonians, and Lithuanians born before c. 1980, since, as official language of the Soviet Union, it was a compulsory school subject in those countries during the Soviet era. To a lesser extent, this legacy also holds true among the older generation in parts of the EU that were formerly part of the Eastern bloc, such as the GDR.\n",
            "On March 2010 fact-sheets in Russian produced by the EU executive's offices in Latvia were withdrawn, provoking criticism from Plaid Cymru MEP and European Free Alliance group President Jill Evans who called European Commission to continue to provide information in non-official EU languages and commented that \"it's disappointing to hear that the EU is bowing to pressure to exclude Russian speakers in the Baltic in this way\".[52]\n",
            "Sami languages\n",
            "In Finland, the Sami languages Northern Sami (ca. 2000 speakers), Skolt Sami (400) and Inari Sami (300) have limited local recognition in certain municipalities of Finnish Lapland. Furthermore, legislation specifically concerning the Sami must be translated to these languages. Bilingualism with Finnish is universal, though.\n",
            "Three different Sami languages are spoken in Sweden, but \"Sami language\" (undifferentiated) is recognised as an official minority language in Sweden, and is co-official with Swedish in four municipalities in Norrbotten County (Swedish Lapland). Most of Sami speakers speak Northern Sami (5,000–6,000 speakers), although there are ca. 1,000–2,000 Lule Sami speakers and 600 Southern Sami speakers.\n",
            "Latin\n",
            "For millennia, Latin has served as a lingua franca for administrative, scholarly, religious, political, etc. purposes in the area of the present-day European Union.  After the unique case of Athens and other Greek city-states of the 6th to 4th centuries B.C., the first documented political entity historically verifiable in Europe was the Roman Republic (traditionally founded in 509 B.C.) - the successor-state to the Etruscan city-state confederacies.[53]\n",
            "Latin as a lingua franca of Europe was rivalled only by Greek.  It still served as the official language in universities in the 20th century, and has operated as the official language of the Roman Catholic Church until today.  Latin, along with Greek, has been at the core of education in Europe from the schools of rhetoric of the Roman Republic in all of its provinces and territories, through the medieval trivium and quadrivium, through the humanists and the Renaissance, all the way to Newton's Principia Mathematica Philosophiae Naturalis (just to name one example of thousands of scientific works written in this language), to the public schools of all European countries, where Latin (along with Greek) is at the core of their curricula.  Latin served as the undisputed European lingua franca until the 19th century, when the cultures of unwritten languages and the \"national languages\" started to gain ground and claim status.  Today, several institutions of the European Union use Latin in their logos and domain names instead of listing their names in all the official languages. For example, the Court of Justice has its website at \"curia.europa.eu\".[54] The Court of Auditors uses Curia Rationum in its logo. The Council of the European Union has its website at  and its logo showing Consilium. The European Union itself has a Latin motto: \"In varietate concordia\". Under the European Company Regulation, companies can be incorporated as Societas Europaea (Latin for \"European Company\", often shortened to \"SE\" after the company's own proper name).  Latin is one of the languages of IATE (the inter-institutional terminology database of the European Union).\n",
            "Esperanto\n",
            "Esperanto is part of the educational system in several member states. In Hungary it is officially recognised by the Ministry of Education as a foreign language;[55] and examinations in Esperanto may be used to meet the requirements of knowledge of foreign languages needed to complete university or high school. Every year, since 2001, between 1000 and 3000 people have passed examinations in Esperanto, making up for a sum of more than 35,000 up to 2016; it is recognised by the Hungarian state.[56] The Hungarian census 2001 found 4575 Esperanto speakers in Hungary (4407 of them learned the language, for 168 of them it is a family or native language); In 2011 it found 8397 Esperanto speakers.[57] 25 years ago, in 1990 there were only 2083 Esperanto speakers in Hungary following the census.[58]\n",
            "Esperanto is not mentioned by the EU Commission as an EU language; the Commission mentions only official, indigenous regional and minority languages as well as languages of immigrants.[59] Following estimates there are approximately 100,000 Europeans sometimes using Esperanto (and several millions having learned Esperanto); the language has several thousand native speakers, some of them of the second or third generation.[60]\n",
            "The European party Europe – Democracy – Esperanto seeks to establish the planned language as an official second language in the EU in order to make international communication more efficient and fair in economical and philosophical terms. They are based on the conclusions of the Grin Report,[61] which concluded that it would hypothetically allow savings to the EU of €25 billion a year (€54 for every citizen) and have other benefits. However, the EU Parliament has stated clearly that language education is the responsibility of member states.[21]\n",
            "The European Esperanto Union also promotes Esperanto as the international auxiliary language of Europe.[62]\n",
            "Migrant languages\n",
            "A wide variety of languages from other parts of the world are spoken by immigrant communities in EU countries. Turkish is spoken as a first language by an estimated 1% of the population in Belgium and the western part of Germany, and by 1% in the Netherlands. Other widely used migrant languages include Berber languages which is spoken by about 1% of the population of both the Netherlands and Belgium and by many Berbers migrants in France, Spain, Italy and Germany. Arabic is spoken in many EU countries mainly in its two varieties Maghrebi Arabic and Levantine Arabic.  The Maghrebi Arabic is spoken by migrants in France, Italy, Spain, the Netherlands, Belgium and Germany. The Levantine Arabic is spoken by migrants in Germany, France, United Kingdom, Sweden, Denmark, Austria and Greece. Hindi, Urdu, Bengali, Tamil, and Punjabi are spoken by immigrants from the Indian sub-continent in the United Kingdom. Languages from former Yugoslavia (Serbian, Bosnian, Macedonian, Albanian, etc.) are spoken in many parts of the EU by migrants and refugees who have left the region as a result of the Yugoslav wars and unrest there.\n",
            "There are large Chinese communities in France, the UK, Spain, Italy, and other countries. Some countries have Chinatowns. Old and recent Chinese migrants speak a number of Chinese varieties, in particular Cantonese and other southern Chinese varieties. However, Mandarin is becoming increasingly more prevalent due to the opening of the People's Republic of China.\n",
            "There are many Russian-speaking immigrants in Germany,[63] France and United Kingdom.\n",
            "Many immigrant communities in the EU have been in place for several generations now and their members are bilingual, at ease both in the local language and in that of their community.[64]\n",
            "Sign languages\n",
            "A wide variety of sign languages are used in the EU, with around 500,000 people using a sign language as their first language.[65]  None of these languages are recognised as an official language of an EU member state, with the exception of Ireland passing the Irish Sign Language Act 2017 that granted it official status alongside Irish and English, and only two states (Finland and Portugal) refer to sign languages in their constitution.[66]\n",
            "Several NGOs exist which support signers, such as the European Union of the Deaf and the European Sign Language Centre.  The European Commission has also supported some initiatives to produce digital technologies that can better support signers, such as Dicta-Sign and SignSpeak.[65]\n",
            "The sign languages in use in the EU are more difficult to classify into language families than the spoken languages, because of language contact and creolization.  Important families include the British, French, and German sign language families.\n",
            "Macedonian, Yiddish and Serbian\n",
            "Macedonian, Yiddish and Serbian are not official languages of the EU.\n",
            "Vietnamese\n",
            "Vietnamese is not one of the designated official language of the EU, though in the Czech Republic, it is one of the 14 recognized minority languages.[67]\n",
            "Knowledge\n",
            "\n",
            "The five most spoken languages in the EU are English (51%), German (32%), French (26%), Italian (16%) and Spanish (15%). At 18% of the total number of speakers, German is the most widely spoken native language, followed by Italian, English, French and Spanish. The knowledge of foreign languages varies considerably in the specific countries, as the table below shows. The most spoken second or foreign languages in the EU are English, French, German, Spanish, Russian and Italian. In the table, boxes coloured light blue mean that the language is an official language of the country, while the main language spoken in the country is coloured dark blue.\n",
            "\n",
            "\n",
            "\n",
            "\n",
            "\n",
            "\n",
            "\n",
            "\n",
            "1 Please note that this does not refer to the total population of the countries.\n",
            "2 40% of those who speak French are native speakers, for a total of 85%.\n",
            "3 Includes about 30% native speakers\n",
            "4 Includes more than 30% native speakers\n",
            "56% of citizens in the EU member states are able to hold a conversation in one language apart from their native language. This is nine points higher than reported in 2001 among the 15 member states at the time.[71]  28% of the respondents state that they speak two foreign languages well enough to have a conversation. Almost half of the respondents—44%—do not know any other language than their native language. Approximately 1 in 5 Europeans can be described as an active language learner (i.e., someone who has recently improved his/her language skills or intends to do so over the following 12 months).\n",
            "English remains by far the most widely spoken foreign language throughout Europe. 95% of students in the EU study English at secondary level[72] and 38% of EU citizens state that they have sufficient skills in English to have a conversation (excluding citizens of the United Kingdom and Ireland, the two English-speaking countries). 28% of Europeans indicate that they know either French (14%) or German (14%), along with their native language. French is most commonly studied and used in southern Europe, especially in Mediterranean countries, in Germany, Portugal, Romania, the UK, and Ireland. German, on the other hand, is commonly studied and used in the Benelux countries, in Scandinavia, and in the newer EU member states. Spanish is most commonly studied in France, Italy, Luxembourg, and Portugal. In 19 out of 29 countries polled, English is the most widely known language apart from the native language, this being particularly the case in Sweden (89%), Malta (88%); the Netherlands (87%); and Denmark (86%). 77% of EU citizens believe that children should learn English. English was considered the number one language to learn in all countries where the research was conducted except for the United Kingdom, Ireland and Luxembourg. English, either as a native language or as a second/foreign language, is spoken by 51% of EU citizens, followed by German with 32% and French with 26%.\n",
            "\n",
            "With the enlargement of the European Union, the balance between French and German is slowly changing. More citizens in the new member states speak German (23% compared with 12% in the EU15) while fewer speak French or Spanish (3% and 1% respectively compared with 16% and 7% among the EU15 group). A notable exception is Romania, where 24% of the population speaks French as a foreign language compared to 6% who speak German as a foreign language. At the same time, the balance is being changed in the opposite direction by growth of the French-speaking population and decrease of the German-speaking population.\n",
            "Language skills are unevenly distributed both over the geographical area of Europe and over sociodemographic groups. Reasonably good language competences are perceived in relatively small member states with several state languages, lesser used native languages or \"language exchange\" with neighbouring countries. This is the case in Luxembourg, where 92% speak at least two languages. Those who live in southern European countries or countries where one of the major European languages is a state language have a lower likelihood of speaking multiple foreign languages. Only 5% of Turkish, 13% of Irish, 16% of Italians, 17% of Spanish and 18% from the UK speak at least two languages apart from their native language.\n",
            "Working languages\n",
            "European Commission\n",
            "While documents for and communication with citizens are in every official EU language as a right, day-to-day work in the European Commission is based around its three working languages: English, French, and German.[73] Of these English and French are used the most often. The use of English vs. French depends a lot on the unit or directorate. Only a few of the Commissioners use a language other than English or French as their working language. German is rarely used as a true working language in the Commission, and German media have called the dominance of English and French a discrimination against German (which is by far the most spoken mother tongue of the EU) and a violation of the regulations pertaining to the EU's working languages.[74] The German Bundestag has repeatedly called for German to finally receive an equal position in the EU Commission alongside English and French.[75] The language situation also disappoints many in France,[76] and Kristalina Georgieva, who is from Bulgaria, gained a round of applause when she told Parliament she would learn French while in the Commission.[77] Parliament itself translates its proceedings into all official languages, although the actual spoken language of MEPs is sometimes English or French, so that fellow MEPs can understand them better than if they had the delayed translation. Committee meetings also often default to the language most understood by those attending instead of listening to the translation.\n",
            "Court of Justice\n",
            "The working language of the Court of Justice of the European Union is French. The judges deliberate in French, pleadings and written legal submissions are translated into French, and the judgment is drafted in French.[78] The Advocates-General, by contrast, may work and draft their opinions in any official language, as they do not take part in any deliberations. These opinions are then translated into French for the benefit of the judges and their deliberations.[79]\n",
            "European Central Bank\n",
            "The working language of the ECB is English.\n",
            "Policy\n",
            "The European Union's legal powers on legislative acts and other initiatives on language policy are based on the provisions of the Treaties of the European Union. In the EU, language policy is the responsibility of member states, and the European Union does not have a common \"language policy\". Based on the principle of subsidiarity, European Union institutions play a supporting role in this field, promoting cooperation between the member states and promoting the European dimension in the member states' language policies, particularly through the teaching and dissemination of the languages of the member states (Article 149.2).[80][81] The rules governing the languages of the institutions of the Community shall, without prejudice to the provisions contained in the Statute of the Court of Justice, be determined by the Council, acting unanimously (Article 290). All languages, in which was originally drawn up or was translated due to enlargement, are legally equally authentic. Every citizen of the Union may write to any of the EU institutions or bodies in one of these languages and receive an answer in the same language (Article 314).\n",
            "In the Charter of Fundamental Rights, legally binding since its inclusion in the Lisbon Treaty, the EU declares that it respects linguistic diversity (Article 22) and prohibits discrimination on grounds of language (Article 21). Respect for linguistic diversity is a fundamental value of the European Union, in the same way as respect for the person, openness towards other cultures, and tolerance and acceptance of other people.\n",
            "Initiatives\n",
            "\n",
            "Beginning with the Lingua programme in 1990, the European Union invests more than €30 million a year (out of a €120 billion EU budget) promoting language learning through the Socrates and Leonardo da Vinci programmes in bursaries to enable language teachers to be trained abroad, placing foreign language assistants in schools, funding class exchanges to motivate pupils to learn languages, creating new language courses on CDs and the Internet, and projects that raise awareness of the benefits of language learning.\n",
            "Through strategic studies, the Commission promotes debate, innovation, and the exchange of good practice. In addition, the mainstream actions of Community programmes which encourage mobility and transnational partnerships motivate participants to learn languages.\n",
            "Youth exchanges, town twinning projects, and the European Voluntary Service also promote multilingualism. Since 1997, the Culture 2000 programme has financed the translation of around 2,000 literary works from and into European languages.\n",
            "The new programmes proposed for implementation for the financial perspective 2007–2013 (Culture 2007, Youth in Action, and Lifelong Learning) will continue and develop this kind of support.\n",
            "The EU used to provide the main financial support to the European Bureau for Lesser-Used Languages until 2010, a non-governmental organisation which represents the interests of the over 40 million citizens who belong to a regional and minority language community, and for the Mercator networks of universities active in research on lesser-used languages in Europe. Following a request from the European Parliament, the Commission in 2004 launched a feasibility study on the possible creation of a new EU agency, the \"European Agency for Language Learning and Linguistic Diversity.\" The study concludes that there are unmet needs in this field, and proposes two options: creating an agency or setting up a European network of \"Language Diversity Centres.\" The Commission believes that a network would be the most appropriate next step and, where possible, should build on existing structures; it will examine the possibility of financing it on a multi-annual basis through the proposed Lifelong Learning programme. Another interesting step would be to translate important public websites, such as the one of the European Central Bank, or Frontex web site also, in at least one other language than English or French.\n",
            "Although not an EU treaty, most EU member states have ratified the European Charter for Regional or Minority Languages.[82]\n",
            "To encourage language learning, the EU supported the Council of Europe initiatives for European Year of Languages 2001 and the annual celebration of European Day of Languages on 26 September.\n",
            "To encourage the member states to cooperate and to disseminate best practice the Commission issued a Communication on 24 July 2003, on Promoting Language Learning and Linguistic Diversity: an Action Plan 2004 – 2006 and a Communication on 22 November 2005, on A New Framework Strategy for Multilingualism.\n",
            "From 22 November 2004, the European Commissioner for Education and Culture portfolio included an explicit reference to languages and became European Commissioner for Education, Training, Culture and Multilingualism with Ján Figeľ at the post. From 2007 until 2010, the European Commission had a special portfolio on languages, European Commissioner for Multilingualism. The post was held by Leonard Orban. Since 2010, the portfolio was merged with education and culture, again.\n",
            "EU devotes a specialised subsite of its \"Europa\" portal to languages, the EUROPA Languages portal.\n",
            "See also\n",
            "\n",
            "Languages of Europe\n",
            "English language in Europe\n",
            "German language in Europe\n",
            "French Language in Europe\n",
            "European Commissioner for Multilingualism\n",
            "European Day of Languages– 26 September\n",
            "Languages of the African Union\n",
            "Linguistic issues concerning the euro\n",
            "Translation Centre for the Bodies of the European Union (CDT) – Inter-Active Terminology for Europe (IATE)\n",
            "\n",
            "\n",
            "Further reading\n",
            "\n",
            "\n",
            "Hogan-Brun, Gabrielle and Stefan Wolff. 2003. Minority Languages in Europe: Frameworks, Status, Prospects. Palgrave. ISBN1-4039-0396-4\n",
            "Nic Craith, Máiréad. 2005. Europe and the Politics of Language: Citizens, Migrants and Outsiders. Palgrave. ISBN1-4039-1833-3\n",
            "Richard L. Creech, \"Law and Language in the European Union: The Paradox of a Babel ‘United in Diversity’\" (Europa Law Publishing: Groningen, 2005) ISBN90-76871-43-4\n",
            "Shetter, William Z., , Language Miniature No 63.\n",
            "Shetter, William Z., , Language Miniature No 96.\n",
            "Van der Jeught, Stefaan (2015). EU Language Law, Groningen: Europa Law Publishing, ISBN9789089521729.\n",
            "\n",
            "\n",
            " – The European Union portal on languages\n",
            "\n",
            "\n",
            "\n",
            "\n",
            "\n",
            "\n",
            "\n",
            "\n",
            "\n",
            "\n",
            "\n",
            "\n",
            "\n",
            "\n",
            "\n",
            "\n",
            "...\n",
            "\u001b[38;5;9m\u001b[1m\n",
            "Answer: \u001b[0mEnglish\n"
          ]
        }
      ],
      "source": [
        "idx = 500\n",
        "\n",
        "start_index = tydiqa_dataset['train'][idx]['annotations.minimal_answers_start_byte']# TODO: Get start index of the answer in the context\n",
        "end_index = tydiqa_dataset['train'][idx]['annotations.minimal_answers_end_byte']# TODO: Get end index of the answer in the context\n",
        "\n",
        "question = tydiqa_dataset['train'][idx]['question_text']# TODO: Get question\n",
        "\n",
        "context = tydiqa_dataset['train'][idx]['document_plaintext']# TODO: Get truncated context\n",
        "\n",
        "answer = tydiqa_dataset['train'][idx]['document_plaintext'][start_index[0]:end_index[0]]# TODO: Get true answer\n",
        "print(Fore.LIGHT_BLUE + Style.BOLD + 'Question: ' + Style.RESET + question)\n",
        "print(Fore.LIGHT_GREEN + Style.BOLD + '\\nContext (truncated): ' + Style.RESET + context + '...')\n",
        "print(Fore.LIGHT_RED + Style.BOLD + '\\nAnswer: ' + Style.RESET  + answer)"
      ]
    },
    {
      "cell_type": "markdown",
      "metadata": {
        "id": "hHA0Ie6mfiLy"
      },
      "source": [
        "BeFore starting with the preprocessing, we will create a test subset from the validation one so we have one set for testing that has not been seen during the training of the model. Also, to make the training faster, we will extract a subset from each of the latter."
      ]
    },
    {
      "cell_type": "markdown",
      "metadata": {
        "id": "LtJQeSAuJocE"
      },
      "source": [
        "###### **Exercise 2.6**\n",
        "To generate the final dataset that we are going to use, perform the following steps:\n",
        "\n",
        "1.   Split the validation subset with an $80/20$ ratio\n",
        "2.   Select the first $3000$ entries from the original train set as the final train set.\n",
        "3.   Assign as test and validation subsets the result of splitting the original validation subset: The first $800$ samples of the resulting training subset after the train_test_split will be the final validation set, and the first $200$ of the test subset, the final test set."
      ]
    },
    {
      "cell_type": "code",
      "execution_count": null,
      "metadata": {
        "id": "5tNXT_aGe4fv",
        "colab": {
          "base_uri": "https://localhost:8080/",
          "height": 17
        },
        "outputId": "7343d8ed-4e75-4446-c28c-a6f01c61aa57"
      },
      "outputs": [
        {
          "output_type": "display_data",
          "data": {
            "text/plain": [
              "<IPython.core.display.HTML object>"
            ],
            "text/html": [
              "\n",
              "  <Style>\n",
              "    pre {\n",
              "        white-space: pre-wrap;\n",
              "    }\n",
              "  </Style>\n",
              "  "
            ]
          },
          "metadata": {}
        },
        {
          "output_type": "display_data",
          "data": {
            "text/plain": [
              "<IPython.core.display.HTML object>"
            ],
            "text/html": [
              "\n",
              "  <Style>\n",
              "    pre {\n",
              "        white-space: pre-wrap;\n",
              "    }\n",
              "  </Style>\n",
              "  "
            ]
          },
          "metadata": {}
        },
        {
          "output_type": "display_data",
          "data": {
            "text/plain": [
              "<IPython.core.display.HTML object>"
            ],
            "text/html": [
              "\n",
              "  <Style>\n",
              "    pre {\n",
              "        white-space: pre-wrap;\n",
              "    }\n",
              "  </Style>\n",
              "  "
            ]
          },
          "metadata": {}
        }
      ],
      "source": [
        "# <SOL>\n",
        "from sklearn.model_selection import train_test_split\n",
        "\n",
        "test_valid = tydiqa_dataset[\"validation\"].train_test_split(test_size=0.8, seed=42)\n",
        "# <SOL>\n",
        "tydiqa_dataset\n",
        "imdb_dataset = DatasetDict({\n",
        "    \"train\": tydiqa_dataset[\"train\"].shuffle(seed=42).select(range(3000)),\n",
        "    \"test\": test_valid[\"test\"].shuffle(seed=42).select(range(800)),\n",
        "    \"val\": test_valid[\"train\"].shuffle(seed=42).select(range(200)),\n",
        "    })\n"
      ]
    },
    {
      "cell_type": "markdown",
      "metadata": {
        "id": "DKMtFdJFi5Vs"
      },
      "source": [
        "#### <font color='#2B4865'>*2.2.2. Dataset preprocessing*</font>"
      ]
    },
    {
      "cell_type": "markdown",
      "metadata": {
        "id": "Z-lZgDTEYm74"
      },
      "source": [
        "Let's first convert the text in the input into IDs the model can make sense of, using a tokenizer."
      ]
    },
    {
      "cell_type": "code",
      "execution_count": null,
      "metadata": {
        "id": "LInV3b_HyAIF",
        "colab": {
          "base_uri": "https://localhost:8080/",
          "height": 17
        },
        "outputId": "db06e3ec-7725-493c-b999-c777cad8c075"
      },
      "outputs": [
        {
          "output_type": "display_data",
          "data": {
            "text/plain": [
              "<IPython.core.display.HTML object>"
            ],
            "text/html": [
              "\n",
              "  <Style>\n",
              "    pre {\n",
              "        white-space: pre-wrap;\n",
              "    }\n",
              "  </Style>\n",
              "  "
            ]
          },
          "metadata": {}
        },
        {
          "output_type": "display_data",
          "data": {
            "text/plain": [
              "<IPython.core.display.HTML object>"
            ],
            "text/html": [
              "\n",
              "  <Style>\n",
              "    pre {\n",
              "        white-space: pre-wrap;\n",
              "    }\n",
              "  </Style>\n",
              "  "
            ]
          },
          "metadata": {}
        },
        {
          "output_type": "display_data",
          "data": {
            "text/plain": [
              "<IPython.core.display.HTML object>"
            ],
            "text/html": [
              "\n",
              "  <Style>\n",
              "    pre {\n",
              "        white-space: pre-wrap;\n",
              "    }\n",
              "  </Style>\n",
              "  "
            ]
          },
          "metadata": {}
        }
      ],
      "source": [
        "from transformers import AutoTokenizer\n",
        "\n",
        "tokenizer = AutoTokenizer.from_pretrained(checkpoint_name)"
      ]
    },
    {
      "cell_type": "markdown",
      "metadata": {
        "id": "_J0s3sjkkdy2"
      },
      "source": [
        "We know from the previous subsection that our tokenizer expects **padding on the right**, so to tokenize our data we will input first the question and then the context, getting something as follows:\n",
        "\n",
        "```\n",
        "[CLS] question [SEP] context [SEP]\n",
        "```\n",
        "\n",
        "The **labels** will then be the **index of the tokens starting and ending the answer**, and the model will be tasked to predict **one start and end logit** per token in the input, with the theoretical labels being as follow:\n",
        "\n",
        "<br><center><img src=\"https://drive.google.com/uc?id=1KHPILmRPTp_i4WaksmepLsFAvg8beBL_\" width=\"60%\"></center><br>"
      ]
    },
    {
      "cell_type": "markdown",
      "metadata": {
        "id": "zotc4WZwf_un"
      },
      "source": [
        "Below is the ``preprocess_dataset`` function for the extractive question-answering task. When calling the tokenizer, note the following:\n",
        "\n",
        "* Tokenization truncates only the context; specify this with ``truncation=\"only_first\"`` or ``truncation=\"only_second\"`` based on where padding is expected.\n",
        "* Padding is set to the model's maximum supported length.\n",
        "* Set ``return_offsets_mapping``to True so we can map each sub-token's start position and end position relative to the original token it was split from.\n",
        "\n",
        "After tokenization, we remove the text features that are in the dataset."
      ]
    },
    {
      "cell_type": "code",
      "execution_count": null,
      "metadata": {
        "id": "SQ0gGQ2auBs7",
        "colab": {
          "base_uri": "https://localhost:8080/",
          "height": 17
        },
        "outputId": "d2c972d9-a80b-4b9b-cf87-c140b782cf4a"
      },
      "outputs": [
        {
          "output_type": "display_data",
          "data": {
            "text/plain": [
              "<IPython.core.display.HTML object>"
            ],
            "text/html": [
              "\n",
              "  <Style>\n",
              "    pre {\n",
              "        white-space: pre-wrap;\n",
              "    }\n",
              "  </Style>\n",
              "  "
            ]
          },
          "metadata": {}
        },
        {
          "output_type": "display_data",
          "data": {
            "text/plain": [
              "<IPython.core.display.HTML object>"
            ],
            "text/html": [
              "\n",
              "  <Style>\n",
              "    pre {\n",
              "        white-space: pre-wrap;\n",
              "    }\n",
              "  </Style>\n",
              "  "
            ]
          },
          "metadata": {}
        },
        {
          "output_type": "display_data",
          "data": {
            "text/plain": [
              "<IPython.core.display.HTML object>"
            ],
            "text/html": [
              "\n",
              "  <Style>\n",
              "    pre {\n",
              "        white-space: pre-wrap;\n",
              "    }\n",
              "  </Style>\n",
              "  "
            ]
          },
          "metadata": {}
        }
      ],
      "source": [
        "def preprocess_dataset(examples):\n",
        "\n",
        "    # Carry out tokenization\n",
        "    questions = [q.strip() for q in examples[\"question_text\"]]\n",
        "    inputs = tokenizer(\n",
        "        questions,\n",
        "        examples[\"document_plaintext\"],\n",
        "        max_length=384,\n",
        "        truncation=\"only_second\",\n",
        "        return_offsets_mapping=True,\n",
        "        padding=\"max_length\",\n",
        "    )\n",
        "\n",
        "    # Extract offset mappings from the inputs\n",
        "    offset_mapping = inputs.pop(\"offset_mapping\")\n",
        "\n",
        "    # Lists to store start and end positions for each example\n",
        "    start_positions = []\n",
        "    end_positions = []\n",
        "\n",
        "    # Iterate over examples in the batch and their corresponding offset mappings\n",
        "    for i, offset in enumerate(offset_mapping):\n",
        "\n",
        "        # Extract the start and end character positions of the minimal answer\n",
        "        start_char = examples[\"annotations.minimal_answers_start_byte\"][i][0]\n",
        "        end_char = examples['annotations.minimal_answers_end_byte'][i][0]\n",
        "        answer = examples[\"document_plaintext\"][i][start_char:end_char]\n",
        "\n",
        "        # Get sequence_ids for the current example\n",
        "        sequence_ids = inputs.sequence_ids(i)\n",
        "\n",
        "        # Find the start and end of the context\n",
        "        idx = 0\n",
        "        while sequence_ids[idx] != 1:\n",
        "            idx += 1\n",
        "        context_start = idx\n",
        "        while sequence_ids[idx] == 1:\n",
        "            idx += 1\n",
        "        context_end = idx - 1\n",
        "\n",
        "        # If the answer is not fully inside the context, label it (0, 0)\n",
        "        if offset[context_start][0] > end_char or offset[context_end][1] < start_char:\n",
        "            start_positions.append(0)\n",
        "            end_positions.append(0)\n",
        "        else:\n",
        "            # Otherwise it's the start and end token positions\n",
        "            idx = context_start\n",
        "            while idx <= context_end and offset[idx][0] <= start_char:\n",
        "                idx += 1\n",
        "            start_positions.append(idx - 1)\n",
        "\n",
        "            idx = context_end\n",
        "            while idx >= context_start and offset[idx][1] >= end_char:\n",
        "                idx -= 1\n",
        "            end_positions.append(idx + 1)\n",
        "\n",
        "    inputs[\"start_positions\"] = start_positions\n",
        "    inputs[\"end_positions\"] = end_positions\n",
        "    return inputs"
      ]
    },
    {
      "cell_type": "code",
      "execution_count": null,
      "metadata": {
        "id": "jNqbEYLCNUGX",
        "colab": {
          "base_uri": "https://localhost:8080/",
          "height": 81,
          "referenced_widgets": [
            "722a96ab11bc4280bf7eb3654cf2ca97",
            "4e0d896a041d421784f9e5526ff0ddd1",
            "1d544a59ed6140558f87225f6cb627d3",
            "22bbc8139a844e7899363fd8a064356b",
            "501c9919b3e340c69b0d310bba5b4633",
            "157b09864984467092c6ddb90cec54f1",
            "a351adf00bb04e669ae5d064056716e9",
            "fd4c5031b6de4e308f252088394e2083",
            "93817b6282a54593bd3d0cd63d393a85",
            "4d7adf24c07041dca3e0f2eb2f515c82",
            "02b6680df83e493185f5922e55145e1b",
            "a6358e0bf34d4a4f87393d73b108bfe3",
            "4d197099ee0d44f5a9b9001652577541",
            "e2ff6ccfe7314dd0a2f692bf7bdbe663",
            "de0992d0c4bf4d19a14adda7fe8f6f8c",
            "75adbe9dacc04709a2e8fae670f6163e",
            "9f014ce7343446068f47c48bc682937c",
            "6778a4f9cb8c485e9ac3ff9e6bf15f6f",
            "3518ba63ea1c4e32b433bebbbacd2ada",
            "34ee5790b5994e6cbe9869f3a0e37faa",
            "08f1b6182eff40c5b294059533b2da94",
            "0d55ccb773f44da79ef31680995e227b"
          ]
        },
        "outputId": "3ccc5d70-5c0e-4ba8-b9ae-896b8d435174"
      },
      "outputs": [
        {
          "output_type": "display_data",
          "data": {
            "text/plain": [
              "<IPython.core.display.HTML object>"
            ],
            "text/html": [
              "\n",
              "  <Style>\n",
              "    pre {\n",
              "        white-space: pre-wrap;\n",
              "    }\n",
              "  </Style>\n",
              "  "
            ]
          },
          "metadata": {}
        },
        {
          "output_type": "display_data",
          "data": {
            "text/plain": [
              "<IPython.core.display.HTML object>"
            ],
            "text/html": [
              "\n",
              "  <Style>\n",
              "    pre {\n",
              "        white-space: pre-wrap;\n",
              "    }\n",
              "  </Style>\n",
              "  "
            ]
          },
          "metadata": {}
        },
        {
          "output_type": "display_data",
          "data": {
            "text/plain": [
              "<IPython.core.display.HTML object>"
            ],
            "text/html": [
              "\n",
              "  <Style>\n",
              "    pre {\n",
              "        white-space: pre-wrap;\n",
              "    }\n",
              "  </Style>\n",
              "  "
            ]
          },
          "metadata": {}
        },
        {
          "output_type": "display_data",
          "data": {
            "text/plain": [
              "Map:   0%|          | 0/9211 [00:00<?, ? examples/s]"
            ],
            "application/vnd.jupyter.widget-view+json": {
              "version_major": 2,
              "version_minor": 0,
              "model_id": "722a96ab11bc4280bf7eb3654cf2ca97"
            }
          },
          "metadata": {}
        },
        {
          "output_type": "display_data",
          "data": {
            "text/plain": [
              "Map:   0%|          | 0/1031 [00:00<?, ? examples/s]"
            ],
            "application/vnd.jupyter.widget-view+json": {
              "version_major": 2,
              "version_minor": 0,
              "model_id": "a6358e0bf34d4a4f87393d73b108bfe3"
            }
          },
          "metadata": {}
        }
      ],
      "source": [
        "# <SOL>\n",
        "tokenized_tydiqa_dataset = tydiqa_dataset.map(preprocess_dataset, remove_columns=tydiqa_dataset[\"train\"].column_names, batched=True)\n",
        "# </SOL>"
      ]
    },
    {
      "cell_type": "code",
      "execution_count": null,
      "metadata": {
        "id": "xKm4mLIxeO5q",
        "colab": {
          "base_uri": "https://localhost:8080/",
          "height": 191
        },
        "outputId": "c150cf2c-8474-46d6-e5bc-3357a7294087"
      },
      "outputs": [
        {
          "output_type": "display_data",
          "data": {
            "text/plain": [
              "<IPython.core.display.HTML object>"
            ],
            "text/html": [
              "\n",
              "  <Style>\n",
              "    pre {\n",
              "        white-space: pre-wrap;\n",
              "    }\n",
              "  </Style>\n",
              "  "
            ]
          },
          "metadata": {}
        },
        {
          "output_type": "display_data",
          "data": {
            "text/plain": [
              "<IPython.core.display.HTML object>"
            ],
            "text/html": [
              "\n",
              "  <Style>\n",
              "    pre {\n",
              "        white-space: pre-wrap;\n",
              "    }\n",
              "  </Style>\n",
              "  "
            ]
          },
          "metadata": {}
        },
        {
          "output_type": "display_data",
          "data": {
            "text/plain": [
              "<IPython.core.display.HTML object>"
            ],
            "text/html": [
              "\n",
              "  <Style>\n",
              "    pre {\n",
              "        white-space: pre-wrap;\n",
              "    }\n",
              "  </Style>\n",
              "  "
            ]
          },
          "metadata": {}
        },
        {
          "output_type": "execute_result",
          "data": {
            "text/plain": [
              "DatasetDict({\n",
              "    train: Dataset({\n",
              "        features: ['input_ids', 'attention_mask', 'start_positions', 'end_positions'],\n",
              "        num_rows: 9211\n",
              "    })\n",
              "    validation: Dataset({\n",
              "        features: ['input_ids', 'attention_mask', 'start_positions', 'end_positions'],\n",
              "        num_rows: 1031\n",
              "    })\n",
              "})"
            ]
          },
          "metadata": {},
          "execution_count": 84
        }
      ],
      "source": [
        "tokenized_tydiqa_dataset"
      ]
    },
    {
      "cell_type": "markdown",
      "metadata": {
        "id": "iqVCSOg6loSv"
      },
      "source": [
        "#### <font color='#2B4865'>*2.2.3. Fine-tuning*</font>"
      ]
    },
    {
      "cell_type": "markdown",
      "metadata": {
        "id": "JVUI0Z2XM42f"
      },
      "source": [
        "We will be using there the F1 score as a metric to evaluate our model's performance, as defined in the ``compute_f1_metrics`` function below."
      ]
    },
    {
      "cell_type": "code",
      "execution_count": null,
      "metadata": {
        "id": "Kisl-WXyM42f",
        "colab": {
          "base_uri": "https://localhost:8080/",
          "height": 17
        },
        "outputId": "c60d9491-566c-4e5b-830b-e0b949f47ed8"
      },
      "outputs": [
        {
          "output_type": "display_data",
          "data": {
            "text/plain": [
              "<IPython.core.display.HTML object>"
            ],
            "text/html": [
              "\n",
              "  <Style>\n",
              "    pre {\n",
              "        white-space: pre-wrap;\n",
              "    }\n",
              "  </Style>\n",
              "  "
            ]
          },
          "metadata": {}
        },
        {
          "output_type": "display_data",
          "data": {
            "text/plain": [
              "<IPython.core.display.HTML object>"
            ],
            "text/html": [
              "\n",
              "  <Style>\n",
              "    pre {\n",
              "        white-space: pre-wrap;\n",
              "    }\n",
              "  </Style>\n",
              "  "
            ]
          },
          "metadata": {}
        },
        {
          "output_type": "display_data",
          "data": {
            "text/plain": [
              "<IPython.core.display.HTML object>"
            ],
            "text/html": [
              "\n",
              "  <Style>\n",
              "    pre {\n",
              "        white-space: pre-wrap;\n",
              "    }\n",
              "  </Style>\n",
              "  "
            ]
          },
          "metadata": {}
        }
      ],
      "source": [
        "from sklearn.metrics import f1_score\n",
        "\n",
        "def compute_f1_metrics(pred):\n",
        "    start_labels = pred.label_ids[0]\n",
        "    start_preds = pred.predictions[0].argmax(-1)\n",
        "    end_labels = pred.label_ids[1]\n",
        "    end_preds = pred.predictions[1].argmax(-1)\n",
        "\n",
        "    f1_start = f1_score(start_labels, start_preds, average='macro')\n",
        "    f1_end = f1_score(end_labels, end_preds, average='macro')\n",
        "\n",
        "    return {\n",
        "        'f1_start': f1_start,\n",
        "        'f1_end': f1_end,\n",
        "    }"
      ]
    },
    {
      "cell_type": "markdown",
      "metadata": {
        "id": "LQqY07uamHyX"
      },
      "source": [
        "###### **Exercise 2.7**\n",
        "Carry out the fine-tuning of the model. Do not make use of dynamic padding as we have already included padding during the tokenization.\n",
        "\n",
        "Once complete, evaluate the performance of the model with the test set."
      ]
    },
    {
      "cell_type": "code",
      "execution_count": null,
      "metadata": {
        "id": "Mtd3SW2JNYqw"
      },
      "outputs": [],
      "source": [
        "# <SOL>\n",
        "from transformers import Trainer\n",
        "\n",
        "trainer = Trainer(\n",
        "    model=model,\n",
        "    args=training_args,\n",
        "    train_dataset=,\n",
        "    eval_dataset=tokenized_imdb_dataset[\"val\"],\n",
        "    data_collator=data_collator,\n",
        "    tokenizer=tokenizer,\n",
        ")\n",
        "# </SOL>"
      ]
    },
    {
      "cell_type": "code",
      "execution_count": null,
      "metadata": {
        "id": "orKxQf5JnGY8"
      },
      "outputs": [],
      "source": [
        "trainer.evaluate(tokenized_tydiqa_dataset['test'])"
      ]
    },
    {
      "cell_type": "markdown",
      "metadata": {
        "id": "ISrMr36mmc57"
      },
      "source": [
        "#### <font color='#2B4865'>*2.2.4. Make predictions with the fine-tuned model*</font>"
      ]
    },
    {
      "cell_type": "markdown",
      "metadata": {
        "id": "c0Ykq2ipyA2v"
      },
      "source": [
        "We can now test our fine-tuned model. Let's first check how it answers the questions about the Golden Age of Comic Books:"
      ]
    },
    {
      "cell_type": "code",
      "execution_count": null,
      "metadata": {
        "id": "QVP2ksJ1O9iW",
        "colab": {
          "base_uri": "https://localhost:8080/",
          "height": 17
        },
        "outputId": "2809ed73-8bfb-4d95-9b7b-93a8e967f3b2"
      },
      "outputs": [
        {
          "output_type": "display_data",
          "data": {
            "text/plain": [
              "<IPython.core.display.HTML object>"
            ],
            "text/html": [
              "\n",
              "  <Style>\n",
              "    pre {\n",
              "        white-space: pre-wrap;\n",
              "    }\n",
              "  </Style>\n",
              "  "
            ]
          },
          "metadata": {}
        },
        {
          "output_type": "display_data",
          "data": {
            "text/plain": [
              "<IPython.core.display.HTML object>"
            ],
            "text/html": [
              "\n",
              "  <Style>\n",
              "    pre {\n",
              "        white-space: pre-wrap;\n",
              "    }\n",
              "  </Style>\n",
              "  "
            ]
          },
          "metadata": {}
        },
        {
          "output_type": "display_data",
          "data": {
            "text/plain": [
              "<IPython.core.display.HTML object>"
            ],
            "text/html": [
              "\n",
              "  <Style>\n",
              "    pre {\n",
              "        white-space: pre-wrap;\n",
              "    }\n",
              "  </Style>\n",
              "  "
            ]
          },
          "metadata": {}
        }
      ],
      "source": [
        "checkpoint = 376\n",
        "checkpoint_new = f\"{path_to_folder}/{checkpoint_name}-finetuned-tydiqa/checkpoint-{checkpoint}\" ## TODO: Update this path to the last saved checkpoint in the former cell"
      ]
    },
    {
      "cell_type": "code",
      "execution_count": null,
      "metadata": {
        "id": "ZYYyfuM0m_SU",
        "colab": {
          "base_uri": "https://localhost:8080/",
          "height": 407
        },
        "outputId": "1c4c2dff-05d0-4df7-8bc8-4304e1b97cca"
      },
      "outputs": [
        {
          "output_type": "display_data",
          "data": {
            "text/plain": [
              "<IPython.core.display.HTML object>"
            ],
            "text/html": [
              "\n",
              "  <Style>\n",
              "    pre {\n",
              "        white-space: pre-wrap;\n",
              "    }\n",
              "  </Style>\n",
              "  "
            ]
          },
          "metadata": {}
        },
        {
          "output_type": "display_data",
          "data": {
            "text/plain": [
              "<IPython.core.display.HTML object>"
            ],
            "text/html": [
              "\n",
              "  <Style>\n",
              "    pre {\n",
              "        white-space: pre-wrap;\n",
              "    }\n",
              "  </Style>\n",
              "  "
            ]
          },
          "metadata": {}
        },
        {
          "output_type": "display_data",
          "data": {
            "text/plain": [
              "<IPython.core.display.HTML object>"
            ],
            "text/html": [
              "\n",
              "  <Style>\n",
              "    pre {\n",
              "        white-space: pre-wrap;\n",
              "    }\n",
              "  </Style>\n",
              "  "
            ]
          },
          "metadata": {}
        },
        {
          "output_type": "error",
          "ename": "HFValidationError",
          "evalue": "ignored",
          "traceback": [
            "\u001b[0;31m---------------------------------------------------------------------------\u001b[0m",
            "\u001b[0;31mHFValidationError\u001b[0m                         Traceback (most recent call last)",
            "\u001b[0;32m<ipython-input-87-b3b0d9bd7ef2>\u001b[0m in \u001b[0;36m<cell line: 7>\u001b[0;34m()\u001b[0m\n\u001b[1;32m      5\u001b[0m              \"What well-known superheroes were introduced between 1939 and 1941 by Detective Comics?\"]\n\u001b[1;32m      6\u001b[0m \u001b[0;34m\u001b[0m\u001b[0m\n\u001b[0;32m----> 7\u001b[0;31m \u001b[0mquestion_answerer\u001b[0m \u001b[0;34m=\u001b[0m \u001b[0mpipeline\u001b[0m\u001b[0;34m(\u001b[0m\u001b[0mtask\u001b[0m\u001b[0;34m=\u001b[0m\u001b[0;34m'question-answering'\u001b[0m\u001b[0;34m,\u001b[0m \u001b[0mmodel\u001b[0m\u001b[0;34m=\u001b[0m\u001b[0mcheckpoint_new\u001b[0m\u001b[0;34m)\u001b[0m\u001b[0;34m\u001b[0m\u001b[0;34m\u001b[0m\u001b[0m\n\u001b[0m\u001b[1;32m      8\u001b[0m \u001b[0;34m\u001b[0m\u001b[0m\n\u001b[1;32m      9\u001b[0m \u001b[0mresults\u001b[0m \u001b[0;34m=\u001b[0m \u001b[0mquestion_answerer\u001b[0m\u001b[0;34m(\u001b[0m\u001b[0mquestion\u001b[0m\u001b[0;34m=\u001b[0m\u001b[0mquestions\u001b[0m\u001b[0;34m,\u001b[0m \u001b[0mcontext\u001b[0m\u001b[0;34m=\u001b[0m\u001b[0mcontext2\u001b[0m\u001b[0;34m)\u001b[0m\u001b[0;34m\u001b[0m\u001b[0;34m\u001b[0m\u001b[0m\n",
            "\u001b[0;32m/usr/local/lib/python3.10/dist-packages/transformers/pipelines/__init__.py\u001b[0m in \u001b[0;36mpipeline\u001b[0;34m(task, model, config, tokenizer, feature_extractor, image_processor, framework, revision, use_fast, token, device, device_map, torch_dtype, trust_remote_code, model_kwargs, pipeline_class, **kwargs)\u001b[0m\n\u001b[1;32m    745\u001b[0m         \u001b[0;32mif\u001b[0m \u001b[0;32mnot\u001b[0m \u001b[0misinstance\u001b[0m\u001b[0;34m(\u001b[0m\u001b[0mconfig\u001b[0m\u001b[0;34m,\u001b[0m \u001b[0mPretrainedConfig\u001b[0m\u001b[0;34m)\u001b[0m \u001b[0;32mand\u001b[0m \u001b[0mpretrained_model_name_or_path\u001b[0m \u001b[0;32mis\u001b[0m \u001b[0;32mnot\u001b[0m \u001b[0;32mNone\u001b[0m\u001b[0;34m:\u001b[0m\u001b[0;34m\u001b[0m\u001b[0;34m\u001b[0m\u001b[0m\n\u001b[1;32m    746\u001b[0m             \u001b[0;31m# We make a call to the config file first (which may be absent) to get the commit hash as soon as possible\u001b[0m\u001b[0;34m\u001b[0m\u001b[0;34m\u001b[0m\u001b[0m\n\u001b[0;32m--> 747\u001b[0;31m             resolved_config_file = cached_file(\n\u001b[0m\u001b[1;32m    748\u001b[0m                 \u001b[0mpretrained_model_name_or_path\u001b[0m\u001b[0;34m,\u001b[0m\u001b[0;34m\u001b[0m\u001b[0;34m\u001b[0m\u001b[0m\n\u001b[1;32m    749\u001b[0m                 \u001b[0mCONFIG_NAME\u001b[0m\u001b[0;34m,\u001b[0m\u001b[0;34m\u001b[0m\u001b[0;34m\u001b[0m\u001b[0m\n",
            "\u001b[0;32m/usr/local/lib/python3.10/dist-packages/transformers/utils/hub.py\u001b[0m in \u001b[0;36mcached_file\u001b[0;34m(path_or_repo_id, filename, cache_dir, force_download, resume_download, proxies, token, revision, local_files_only, subfolder, repo_type, user_agent, _raise_exceptions_for_missing_entries, _raise_exceptions_for_connection_errors, _commit_hash, **deprecated_kwargs)\u001b[0m\n\u001b[1;32m    428\u001b[0m     \u001b[0;32mtry\u001b[0m\u001b[0;34m:\u001b[0m\u001b[0;34m\u001b[0m\u001b[0;34m\u001b[0m\u001b[0m\n\u001b[1;32m    429\u001b[0m         \u001b[0;31m# Load from URL or cache if already cached\u001b[0m\u001b[0;34m\u001b[0m\u001b[0;34m\u001b[0m\u001b[0m\n\u001b[0;32m--> 430\u001b[0;31m         resolved_file = hf_hub_download(\n\u001b[0m\u001b[1;32m    431\u001b[0m             \u001b[0mpath_or_repo_id\u001b[0m\u001b[0;34m,\u001b[0m\u001b[0;34m\u001b[0m\u001b[0;34m\u001b[0m\u001b[0m\n\u001b[1;32m    432\u001b[0m             \u001b[0mfilename\u001b[0m\u001b[0;34m,\u001b[0m\u001b[0;34m\u001b[0m\u001b[0;34m\u001b[0m\u001b[0m\n",
            "\u001b[0;32m/usr/local/lib/python3.10/dist-packages/huggingface_hub/utils/_validators.py\u001b[0m in \u001b[0;36m_inner_fn\u001b[0;34m(*args, **kwargs)\u001b[0m\n\u001b[1;32m    108\u001b[0m         ):\n\u001b[1;32m    109\u001b[0m             \u001b[0;32mif\u001b[0m \u001b[0marg_name\u001b[0m \u001b[0;32min\u001b[0m \u001b[0;34m[\u001b[0m\u001b[0;34m\"repo_id\"\u001b[0m\u001b[0;34m,\u001b[0m \u001b[0;34m\"from_id\"\u001b[0m\u001b[0;34m,\u001b[0m \u001b[0;34m\"to_id\"\u001b[0m\u001b[0;34m]\u001b[0m\u001b[0;34m:\u001b[0m\u001b[0;34m\u001b[0m\u001b[0;34m\u001b[0m\u001b[0m\n\u001b[0;32m--> 110\u001b[0;31m                 \u001b[0mvalidate_repo_id\u001b[0m\u001b[0;34m(\u001b[0m\u001b[0marg_value\u001b[0m\u001b[0;34m)\u001b[0m\u001b[0;34m\u001b[0m\u001b[0;34m\u001b[0m\u001b[0m\n\u001b[0m\u001b[1;32m    111\u001b[0m \u001b[0;34m\u001b[0m\u001b[0m\n\u001b[1;32m    112\u001b[0m             \u001b[0;32melif\u001b[0m \u001b[0marg_name\u001b[0m \u001b[0;34m==\u001b[0m \u001b[0;34m\"token\"\u001b[0m \u001b[0;32mand\u001b[0m \u001b[0marg_value\u001b[0m \u001b[0;32mis\u001b[0m \u001b[0;32mnot\u001b[0m \u001b[0;32mNone\u001b[0m\u001b[0;34m:\u001b[0m\u001b[0;34m\u001b[0m\u001b[0;34m\u001b[0m\u001b[0m\n",
            "\u001b[0;32m/usr/local/lib/python3.10/dist-packages/huggingface_hub/utils/_validators.py\u001b[0m in \u001b[0;36mvalidate_repo_id\u001b[0;34m(repo_id)\u001b[0m\n\u001b[1;32m    156\u001b[0m \u001b[0;34m\u001b[0m\u001b[0m\n\u001b[1;32m    157\u001b[0m     \u001b[0;32mif\u001b[0m \u001b[0mrepo_id\u001b[0m\u001b[0;34m.\u001b[0m\u001b[0mcount\u001b[0m\u001b[0;34m(\u001b[0m\u001b[0;34m\"/\"\u001b[0m\u001b[0;34m)\u001b[0m \u001b[0;34m>\u001b[0m \u001b[0;36m1\u001b[0m\u001b[0;34m:\u001b[0m\u001b[0;34m\u001b[0m\u001b[0;34m\u001b[0m\u001b[0m\n\u001b[0;32m--> 158\u001b[0;31m         raise HFValidationError(\n\u001b[0m\u001b[1;32m    159\u001b[0m             \u001b[0;34m\"Repo id must be in the form 'repo_name' or 'namespace/repo_name':\"\u001b[0m\u001b[0;34m\u001b[0m\u001b[0;34m\u001b[0m\u001b[0m\n\u001b[1;32m    160\u001b[0m             \u001b[0;34mf\" '{repo_id}'. Use `repo_type` argument if needed.\"\u001b[0m\u001b[0;34m\u001b[0m\u001b[0;34m\u001b[0m\u001b[0m\n",
            "\u001b[0;31mHFValidationError\u001b[0m: Repo id must be in the form 'repo_name' or 'namespace/repo_name': '/content/drive/My Drive/NLP_IA/distilbert-base-cased-distilled-squad-finetuned-tydiqa/checkpoint-376'. Use `repo_type` argument if needed."
          ]
        }
      ],
      "source": [
        "questions = [\"What popular superheroes were introduced between 1939 and 1941?\",\n",
        "             \"What superheroes were introduced between 1939 and 1941 by Detective Comics and its sister company?\",\n",
        "             \"What comic book characters were created between 1939 and 1941?\",\n",
        "             \"What well-known characters were created between 1939 and 1941?\",\n",
        "             \"What well-known superheroes were introduced between 1939 and 1941 by Detective Comics?\"]\n",
        "\n",
        "question_answerer = pipeline(task='question-answering', model=checkpoint_new)\n",
        "\n",
        "results = question_answerer(question=questions, context=context2)\n",
        "\n",
        "for q, r in zip(questions, results):\n",
        "  print(Fore.LIGHT_BLUE + Style.BOLD + f'Q: {q}' + Style.RESET)\n",
        "  print(Fore.RED + \"A: \" + r['answer'] + Style.RESET)"
      ]
    },
    {
      "cell_type": "markdown",
      "metadata": {
        "id": "j5PJillsyMZB"
      },
      "source": [
        "You should see an improvement in the answer in comparison to what we were obtaining before the fine-tuning."
      ]
    },
    {
      "cell_type": "markdown",
      "metadata": {
        "id": "Y2q8SA_V72c9"
      },
      "source": [
        "#### <font color='#2B4865'>*2.2.5. Some final notes about fine-tuning a Q&A system*</font>"
      ]
    },
    {
      "cell_type": "markdown",
      "metadata": {
        "id": "0_UlBv--7zFU"
      },
      "source": [
        "Though, you should note that even when we improved the performance of our Question Answering system, it still does not perform perfectly. You can test this by checking how it answers some of the questions in the test set. The main reason behind this is that we are truncating the contexts, which leads to losing the answer we are looking for on many occasions. Hugging Face does provide a better way of handling long contexts: let the long examples in our dataset give several input features, each of length shorter than the maximum length of the model. This can be achieved via the parameter ``return_overflowing_tokens=True`` and some additional configuration. If you want to know more about the topic, you can check [Hugging Face documentation about it](https://huggingface.co/course/chapter6/3b?fw=pt).\n",
        "\n",
        "You should also take into account that here we have used the F1 score as a metric to evaluate our model's performance. Yet, using this metric is just a simplification of how to deal with the evaluation, since it is based on the start and end values predicted by the model. If you want to dig deeper into other metrics that can be used for a Q&A, you can also check [this colab notebook](https://github.com/huggingface/notebooks/blob/main/examples/question_answering.ipynb) resource from the Hugging Face team."
      ]
    },
    {
      "cell_type": "markdown",
      "metadata": {
        "id": "MOJKwLtujCyb"
      },
      "source": [
        "## <font color='#2B4865'>**3. Summarization**\n",
        "---\n",
        "</font>"
      ]
    },
    {
      "cell_type": "markdown",
      "metadata": {
        "id": "MmnIWqWDsrEz"
      },
      "source": [
        "**Summarization** is the task of producing a shorter version of a document while preserving its important information. Along with translation, it is another example of a task that can be formulated as a **sequence-to-sequence** task, i.e., we can formulate it as going from one sequence to another."
      ]
    },
    {
      "cell_type": "markdown",
      "metadata": {
        "id": "Q5cvtkkRoMTE"
      },
      "source": [
        "##### <font color='#2B4865'>**Architecture for approaching the task**</font>"
      ]
    },
    {
      "cell_type": "markdown",
      "metadata": {
        "id": "aJ2etKXsEY-L"
      },
      "source": [
        "As we saw in the introductory session, there exist two types of summarization:\n",
        "* **Extractive**, when the summary consists of text extracted from the original input.\n",
        "* **Abstractive**, when the models can generate entirely new text.\n",
        "\n",
        "Accordingly, to its **sequence-to-sequence nature**, most Transformer models for summarization adopt the **encoder-decoder** architecture, although there are **some exceptions like the GPT family** of models which can also be used for summarization in few-shot settings."
      ]
    },
    {
      "cell_type": "markdown",
      "metadata": {
        "id": "uwi4s87QoSsN"
      },
      "source": [
        "##### <font color='#2B4865'>**Evaluation metrics**</font>"
      ]
    },
    {
      "cell_type": "markdown",
      "metadata": {
        "id": "YpfShPKJmHSB"
      },
      "source": [
        "In comparison to the other tasks that we have covered in this tutorial, measuring the performance of text generation tasks such as summarization or translation is not straightforward.\n",
        "\n",
        "For instance, let's imagine that we want to generate a summary for the sentence \"*I loved watching Spiderman*\". We can find multiple valid summaries, such as \"*I loved Spiderman*\" or \"*Spiderman is a great movie\"*. Due to this, attempting to measure the performance by matching the generated summary and the label is not a good solution.\n",
        "\n",
        "For summarization, one of the most commonly used metrics is the **ROUGE score** (Recall-Oriented Understudy for Gisting Evaluation). Its basic idea is to compare a generated summary against a set of reference summaries that are typically created by humans.\n",
        "\n",
        "More precisely, suppose we want to compare the following two summaries:\n",
        "```\n",
        "generated_summary = \"I absolutely loved watching Spiderman\"\n",
        "reference_summary = \"I loved watching Spiderman\"\n",
        "```\n",
        "\n",
        "One way of comparing them would be to count the number of overlapping words ($6$ here). Since this is not really refined, ROUGE alternatively computes a metric based on the precision and recall scores for the overlap\n",
        "\n",
        "The **recall** measures how much of the reference summary is captured by the generated one. If we are just comparing words, recall can be calculated as follows:\n",
        "\n",
        "$$Recall = \\frac{\\text{Number of overlapping words}}{\\text{Total number of words in reference summary}}$$\n",
        "\n",
        "\n",
        "For the above example, the recall takes a value of $4/4=1$, i.e., a perfect recall (all the words in the reference summary have been produced by the model). Still, we could have that the generated summary was \"*I really really loved watching Spiderman all night*\" which will have also a perfect recall, even though it is a much worse summary (it is verbose).  \n",
        "\n",
        "To deal with the former scenarios, we utilize the **precision** to measure how much of the generated summary was relevant as:\n",
        "\n",
        "$$Precision = \\frac{\\text{Number of overlapping words}}{\\text{Total number of words in generated summary}}$$\n",
        "\n",
        "\n",
        "Applying this to our verbose summary gives a precision of $4/8 = 0.5$, which is considerably worse than the precision of $4/5 = 0.8$ obtained by our shorter one. In practice, both precision and recall are usually computed, and then the F1-score (the harmonic mean of precision and recall) is reported."
      ]
    },
    {
      "cell_type": "markdown",
      "metadata": {
        "id": "wDoZhmGj2MPc"
      },
      "source": [
        "### <font color='#2B4865'>*3.1. Inference*</font>"
      ]
    },
    {
      "cell_type": "markdown",
      "metadata": {
        "id": "THKmG-Wu9hjh"
      },
      "source": [
        "As we have seen in the previous sections, we can perform inference on any task by means of a pipeline. For the specific case of summarization, we just need to add the task identifier ``summarization``, in addition to the checkpoint model we want to use; when the latter is not specified, the default model will be used ([``sshleifer/distilbart-cnn-12-6``](https://huggingface.co/sshleifer/distilbart-cnn-12-6))."
      ]
    },
    {
      "cell_type": "markdown",
      "metadata": {
        "id": "ib_nayXs-v07"
      },
      "source": [
        "###### **Exercise 3.1**\n",
        "\n",
        "Choose a model for English summarization [from the Hub](https://huggingface.co/models?pipeline_tag=summarization) (but different from the pipeline's default) and use it to create a summarization pipeline. Extract any text from the Wikipedia of your choice through the Wikipedia API and use the pipeline to summarize it. The task identifier for the summarization task is ``summarization``."
      ]
    },
    {
      "cell_type": "code",
      "execution_count": null,
      "metadata": {
        "id": "JYMqpPDdHZlX"
      },
      "outputs": [],
      "source": [
        "# <SOL>\n",
        "\n",
        "# </SOL>"
      ]
    },
    {
      "cell_type": "code",
      "execution_count": null,
      "metadata": {
        "id": "wK8ZOsigH5hJ"
      },
      "outputs": [],
      "source": [
        "# <SOL>\n",
        "import wikipedia\n",
        "\n",
        "text_to_summarize = # TODO\n",
        "summary = # TODO\n",
        "# <SOL>\n",
        "\n",
        "print(Fore.LIGHT_BLUE + Style.BOLD + 'Text to summarize:' + Style.RESET)\n",
        "print(text_to_summarize)\n",
        "print()\n",
        "print(Fore.LIGHT_BLUE + Style.BOLD + 'Summary:' + Style.RESET)\n",
        "print(summary[0]['summary_text'])"
      ]
    },
    {
      "cell_type": "markdown",
      "metadata": {
        "id": "jVRmwqiqKju7"
      },
      "source": [
        "This works pretty well. However, if our objective is to generate summaries in a specific context, a fine-tuned model in such a context will be a better match. Let's see how to fine-tune a model for making summaries out of English news."
      ]
    },
    {
      "cell_type": "markdown",
      "metadata": {
        "id": "-8YV7co1KhNM"
      },
      "source": [
        "### <font color='#2B4865'>*3.2. Fine-tuning*</font>"
      ]
    },
    {
      "cell_type": "markdown",
      "metadata": {
        "id": "K7hm1WMvOCxH"
      },
      "source": [
        "#### <font color='#2B4865'>*3.2.1. Loading in the dataset*</font>"
      ]
    },
    {
      "cell_type": "markdown",
      "metadata": {
        "id": "MPiV-PRJOEgU"
      },
      "source": [
        "We will use the [CNN Dailymail Datasets](https://huggingface.co/datasets/cnn_dailymail) dataset to create our ad-hoc summarizer. It consists of English  news articles written by journalists at CNN and the Daily Mail."
      ]
    },
    {
      "cell_type": "markdown",
      "metadata": {
        "id": "LQFnW4CkO8MD"
      },
      "source": [
        "###### **Exercise 3.2**\n",
        "\n",
        "Download the version \"3.0.0\" from the CNN Dailymail Dataset. Save the ``DatasetDict`` object in variable named ``cnn_dataset``. To download the subset specific to the asked version, you just need to add the identifier, in this case ``3.0.0``, to the dataset loading function."
      ]
    },
    {
      "cell_type": "code",
      "execution_count": null,
      "metadata": {
        "id": "t_GuOPv7O7JZ"
      },
      "outputs": [],
      "source": [
        "# <SOL>\n",
        "\n",
        "# </SOL>\n",
        "cnn_dataset"
      ]
    },
    {
      "cell_type": "markdown",
      "metadata": {
        "id": "7rs8wRHiSV1B"
      },
      "source": [
        "As shown, we have $287,113$, $13,368$, and $501,149,000$ article-highlight pairs for the train, validation, and test sets, respectively. Given the large volume of data, we'll choose a subset of $3,000$, $800$, and $200$ samples for the train, validation, and test sets in this notebook."
      ]
    },
    {
      "cell_type": "code",
      "execution_count": null,
      "metadata": {
        "id": "0t6W518y-5cI"
      },
      "outputs": [],
      "source": [
        "cnn_dataset = DatasetDict({\n",
        "    \"train\": cnn_dataset[\"train\"].select(range(3000)),\n",
        "    \"val\": cnn_dataset[\"validation\"].select(range(800)),\n",
        "    \"test\": cnn_dataset[\"test\"].select(range(200)),\n",
        "})"
      ]
    },
    {
      "cell_type": "markdown",
      "metadata": {
        "id": "DhrynkmWumgS"
      },
      "source": [
        "Now, let's display a few samples to gain insight into their characteristics:"
      ]
    },
    {
      "cell_type": "code",
      "execution_count": null,
      "metadata": {
        "id": "3Pvk5-m6j7q8"
      },
      "outputs": [],
      "source": [
        "def show_samples(dataset, num_samples=2, seed=42):\n",
        "    sample = dataset[\"train\"].shuffle(seed=seed).select(range(num_samples))\n",
        "    for example in sample:\n",
        "        print(Fore.LIGHT_BLUE + Style.BOLD + '\\n>> Highlights:' + Style.RESET, example['highlights'])\n",
        "        print(Fore.GREEN + Style.BOLD + '>> Article:' + Style.RESET, example['article'])\n",
        "        print({\"-\" * 10})\n",
        "\n",
        "show_samples(cnn_dataset, num_samples=5)"
      ]
    },
    {
      "cell_type": "markdown",
      "metadata": {
        "id": "qZPEuStZ3kLM"
      },
      "source": [
        "Now that we have a training corpus, one final thing to check is the distribution of words in the articles-hightlights pairs. This is especially important for summarization tasks, where short reference summaries in the data can bias the model to only output one or two words in the generated summaries."
      ]
    },
    {
      "cell_type": "markdown",
      "metadata": {
        "id": "slCLv4qO35VF"
      },
      "source": [
        "###### **Exercise 3.3**\n",
        "\n",
        "Plot two histograms: one for the word distribution in the reviews and another one for those in the titles (summaries) in the **train** subset. Also, calculate the average number of tokens per review and summary. For easiness, convert the training dataset into a Pandas DataFrame.\n",
        "\n",
        "You can convert a ``DatasetDict`` object into a ``pandas.DataFrame`` by applying ``DatasetDict.set_format(\"pandas\")``.\n",
        "\n",
        "Once you are finished with the exercise, do not forget to restore the dataset to its original format with the ``reset_format()`` method."
      ]
    },
    {
      "cell_type": "code",
      "execution_count": null,
      "metadata": {
        "id": "QvQEAEvo5NO6"
      },
      "outputs": [],
      "source": [
        "# <SOL>\n",
        "# TODO: Transform cnn_dataset into pandas DataFrame and take train subset\n",
        "\n",
        "# TODO: Tokenize train subset's documents and summaries\n",
        "\n",
        "# TODO: Save tokenized subsets in dataframe\n",
        "\n",
        "# </SOL>"
      ]
    },
    {
      "cell_type": "code",
      "execution_count": null,
      "metadata": {
        "id": "-I1OJQFZAAD4"
      },
      "outputs": [],
      "source": [
        "# <SOL>\n",
        "# TODO: Plot histograms\n",
        "\n",
        "# </SOL>"
      ]
    },
    {
      "cell_type": "code",
      "execution_count": null,
      "metadata": {
        "id": "5WFGfg109ibc"
      },
      "outputs": [],
      "source": [
        "# <SOL>\n",
        "# TODO: Reset format of cnn_dataset\n",
        "\n",
        "# </SOL>"
      ]
    },
    {
      "cell_type": "markdown",
      "metadata": {
        "id": "Gg7ZSFro8Q_k"
      },
      "source": [
        "The distribution of both articles and highlights is generally well-balanced, requiring no additional processing at this stage. It's worth noting, however, that if, for instance, the highlights were heavily skewed towards 0 words, filtering out examples with very short titles may be necessary to ensure our model generates more meaningful summaries."
      ]
    },
    {
      "cell_type": "markdown",
      "metadata": {
        "id": "hYW2CgKBIqN8"
      },
      "source": [
        "Now that we have our dataset ready, it is time to look for the model. In this case, we are going to use the small version of the **T5** model.\n",
        "\n",
        "As we saw in class, in T5, every NLP task is defined in terms of a prompt prefix, such as summarise, which causes the model to adjust the output text to the prompt, thus making T5 quite versatile in the sense that solves many tasks within a single model:\n",
        "\n",
        "<br><center><img src=\"https://drive.google.com/uc?id=1OFzqv_1NCqoc_sRzwsK154XOCOIcZHG6\" width=\"60%\"></center><br>\n",
        "\n"
      ]
    },
    {
      "cell_type": "markdown",
      "metadata": {
        "id": "DYWH57OcE3E3"
      },
      "source": [
        "#### <font color='#2B4865'>*3.2.2. Dataset preprocessing*</font>"
      ]
    },
    {
      "cell_type": "markdown",
      "metadata": {
        "id": "HF_Yx3B6E8Q-"
      },
      "source": [
        "Our next task is to **tokenize and encode** our document-summary pairs. We will be using ``t5-small`` as our model checkpoint."
      ]
    },
    {
      "cell_type": "markdown",
      "metadata": {
        "id": "WqNExvHzQvPB"
      },
      "source": [
        "###### **Exercise 3.4**\n",
        "\n",
        "Load the tokenizer associated with the pretrained model checkpoint."
      ]
    },
    {
      "cell_type": "code",
      "execution_count": null,
      "metadata": {
        "id": "BK1KuP6GE-dW"
      },
      "outputs": [],
      "source": [
        "# <SOL>\n",
        "model_checkpoint = \"t5-small\"\n",
        "tokenizer = # TODO\n",
        "# </SOL>"
      ]
    },
    {
      "cell_type": "markdown",
      "metadata": {
        "id": "juynYNmPGFwW"
      },
      "source": [
        "Let’s start by testing out the T5 tokenizer on a small example:"
      ]
    },
    {
      "cell_type": "code",
      "execution_count": null,
      "metadata": {
        "id": "knlVef_1GIK0"
      },
      "outputs": [],
      "source": [
        "inputs = tokenizer(\"I loved watching Spiderman!\")\n",
        "print_encoding(inputs)"
      ]
    },
    {
      "cell_type": "markdown",
      "metadata": {
        "id": "kP1cIIv3GKsA"
      },
      "source": [
        "As usual, we see the ``input_ids`` and ``attention_mask`` we have been dealing with until now. Let’s decode these input IDs to see the kind of tokenizer we’re utilzing:"
      ]
    },
    {
      "cell_type": "code",
      "execution_count": null,
      "metadata": {
        "id": "iOxzljCDGRPD"
      },
      "outputs": [],
      "source": [
        "tokenizer.convert_ids_to_tokens(inputs.input_ids)"
      ]
    },
    {
      "cell_type": "markdown",
      "metadata": {
        "id": "2ajv2N62GVav"
      },
      "source": [
        "The special Unicode character ▁ and end-of-sequence token </s> indicate that we’re dealing with the **SentencePiece tokenizer**.\n",
        "\n",
        "> **Unigram:** Subword tokenization algorithm introduced [here](https://arxiv.org/pdf/1804.10959.pdf). Instead of starting with a group of base symbols and learning merges with some rule, like BPE, it starts from a large vocabulary (for instance, all pretokenized words and the most common substrings) that it will trim down progressively.\n",
        "\n",
        "> **SentencePiece:** Tokenization algorithm that is agnostic about accents, punctuation, and the fact that many languages, like Japanese, do not have whitespace characters. It achieves this by treating the input as a raw stream, including the space in the set of characters to use and then using the unigram tokenization to construct the appropriate vocabulary. The ‘▁’ characters represent here spaces."
      ]
    },
    {
      "cell_type": "markdown",
      "metadata": {
        "id": "-gppLbBEG2Jz"
      },
      "source": [
        "To tokenize our corpus, we must contend with a summarization-related complication: because our labels are also text, they may exceed the model's maximum context size. To avoid passing extremely long inputs to our model, we must apply truncation to both the articles and their highlights. Transformers' tokenizers allow us to do this via the ``text_target`` argument, thanks to which we can tokenize the labels in parallel to the inputs."
      ]
    },
    {
      "cell_type": "markdown",
      "metadata": {
        "id": "lwvPbp6DmB2H"
      },
      "source": [
        "###### **Exercise 3.5**\n",
        "\n",
        "Implement the function ``preprocess_dataset`` that carries out the preprocessing of the inputs and targets for T5. Note that the variables ```max_input_length``` and ```max_target_length``` define the upper limits for how long the documents and summaries are going to be.\n",
        "\n",
        "Take into account the following for the implementation of the ``preprocess_dataset`` function:\n",
        "\n",
        "*  You need to call the tokenizer twice: once for carrying out the preprocessing of the articles (``article``) and once for that of the summaries (``highlights``).\n",
        "*  For the tokenization of the reviews:\n",
        "  * Prefix the inputs with ``\"summarize:\"``\n",
        "  * Use the options ``max_length=max_input_length`` and ``truncation=True``.\n",
        "*  For the tokenization of the summaries:\n",
        "  * Use the options ``max_length=max_target_length`` and ``truncation=True``.\n",
        "\n",
        "\n",
        "Once the preprocessing function is defined, use the ``map()`` function to apply it to the whole dataset. For doing so, use the following parameters:\n",
        "*   ```batched=True``` to operate with batches of example (of default batch size $1,000$)\n",
        "*   ```remove_columns``` to get rid of the string columns that we do not need anymore"
      ]
    },
    {
      "cell_type": "code",
      "execution_count": null,
      "metadata": {
        "id": "YEluOj5xG0l0"
      },
      "outputs": [],
      "source": [
        "max_input_length = 1024\n",
        "max_target_length = 128\n",
        "\n",
        "def preprocess_dataset(examples):\n",
        "    # <SOL>\n",
        "    # TODO: Implement body\n",
        "\n",
        "    # </SOL>\n",
        "    return model_inputs\n",
        "\n",
        "# <SOL>\n",
        "# TODO: Tokenize dataset\n",
        "tokenized_cnn_dataset = cnn_dataset.map(preprocess_dataset, batched=True, remove_columns=cnn_dataset[\"train\"].column_names)\n",
        "# <SOL>"
      ]
    },
    {
      "cell_type": "code",
      "execution_count": null,
      "metadata": {
        "id": "TCzau7gU4dyC"
      },
      "outputs": [],
      "source": [
        "cnn_dataset"
      ]
    },
    {
      "cell_type": "markdown",
      "metadata": {
        "id": "woSGGbh7kNW_"
      },
      "source": [
        "#### <font color='#2B4865'>*3.2.3. Fine-tuning*</font>"
      ]
    },
    {
      "cell_type": "markdown",
      "metadata": {
        "id": "LSv0RD43oAAZ"
      },
      "source": [
        "As evaluation metrics, we are going to use the ROUGE score explained in the Summarization introduction, which is available within the ```rouge_score``` package:"
      ]
    },
    {
      "cell_type": "code",
      "execution_count": null,
      "metadata": {
        "id": "Aph58zFLoOEQ"
      },
      "outputs": [],
      "source": [
        "import evaluate\n",
        "\n",
        "rouge_score = evaluate.load(\"rouge\")"
      ]
    },
    {
      "cell_type": "code",
      "execution_count": null,
      "metadata": {
        "id": "1iJBwJfIoRGY"
      },
      "outputs": [],
      "source": [
        "generated_summary = \"I absolutely loved watching Spiderman\"\n",
        "reference_summary = \"I loved watching Spiderman\""
      ]
    },
    {
      "cell_type": "code",
      "execution_count": null,
      "metadata": {
        "id": "puBJz8xooT1I"
      },
      "outputs": [],
      "source": [
        "scores = rouge_score.compute(\n",
        "    predictions=[generated_summary], references=[reference_summary]\n",
        ")\n",
        "scores"
      ]
    },
    {
      "cell_type": "markdown",
      "metadata": {
        "id": "JiP6D4jdo8jP"
      },
      "source": [
        "We can see that the output is a dictionary with a variety of ROUGE scores which are based on different types of text granularity when comparing the generated and reference summaries. From these, the ```rouge1``` variant is the metric we have discussed in the introduction. ```rouge2``` measures the overlap between bigrams (pairs of words), while ```rougeL``` and ```rougeLsum``` measure the longest matching sequences of words by looking for the longest common substrings in the generated and reference summaries. The difference between the latter two comes from the fact that ```rougeLsum``` is computed over a whole summary, while ```rougeL```is the average over individual sentences."
      ]
    },
    {
      "cell_type": "markdown",
      "metadata": {
        "id": "nTFnxBKsoYs5"
      },
      "source": [
        "We are going to use these ROUGE scores to track the performance of our model, but first, we must define a strong baseline. For text summarization, it is pretty common to attain this baseline by taking the first three sentences of a baseline (the lead-3 baseline). To track the sentence boundaries, we could use full stops, but this will fail on acronyms such as U.S.A. Hence, we will use nltk's sentence tokenizer instead."
      ]
    },
    {
      "cell_type": "markdown",
      "metadata": {
        "id": "HgNAMKPepmVn"
      },
      "source": [
        "###### **Exercise 3.6**\n",
        "\n",
        "Implement the body of the function ```three_sentence_summary``` which given an example in our dataset, it returns the first three sentences in its document. Return the three found sentences joined with a  newline (```\"\\n\"```). Test it on a training example."
      ]
    },
    {
      "cell_type": "code",
      "execution_count": null,
      "metadata": {
        "id": "k2XlTg8WpsMX"
      },
      "outputs": [],
      "source": [
        "# <SOL>\n",
        "from nltk.tokenize import sent_tokenize\n",
        "\n",
        "def three_sentence_summary(text):\n",
        "    # TODO: Implement body\n",
        "    return summary\n",
        "\n",
        "print(three_sentence_summary(cnn_dataset[\"train\"][1][\"article\"]))\n",
        "# </SOL>"
      ]
    },
    {
      "cell_type": "markdown",
      "metadata": {
        "id": "Vujk07gdqu2P"
      },
      "source": [
        "###### **Exercise 3.7**\n",
        "\n",
        "Implement the body of the function ```evaluate_lead3_baseline```, which given a dataset and an instance of the metric class, computes the given metric for the three sentence summaries extracted from the dataset. Then use this function to compute the ROUGE scores over the validation set."
      ]
    },
    {
      "cell_type": "code",
      "execution_count": null,
      "metadata": {
        "id": "mtZbGtFjp4ES"
      },
      "outputs": [],
      "source": [
        "# <SOL>\n",
        "def evaluate_lead3_baseline(dataset, metric):\n",
        "    # TODO: Implement body\n",
        "    return score\n",
        "# </SOL>\n",
        "\n",
        "score_dict = evaluate_lead3_baseline(cnn_dataset[\"val\"], rouge_score)\n",
        "score_dict"
      ]
    },
    {
      "cell_type": "markdown",
      "metadata": {
        "id": "tjpsjo576vmd"
      },
      "source": [
        "Now that we have baseline scores to compare with, we can start with the fine-tuning of our model. Let's start by loading the pretrained model from the t5-small checkpoint."
      ]
    },
    {
      "cell_type": "markdown",
      "metadata": {
        "id": "L2U8R4gucLsZ"
      },
      "source": [
        "###### **Exercise 3.8**\n",
        "\n",
        "Load the pretrained model in a variable named ``model``. For doing so, take into account that Summarization is a **sequence-to-sequence** task when you create your AutoModel instance."
      ]
    },
    {
      "cell_type": "code",
      "execution_count": null,
      "metadata": {
        "id": "iuLXX1xoqUxh"
      },
      "outputs": [],
      "source": [
        "# <SOL>\n",
        "\n",
        "# </SOL>"
      ]
    },
    {
      "cell_type": "markdown",
      "metadata": {
        "id": "E7WE4ttucsf0"
      },
      "source": [
        "If you’re wondering why you don’t see any warnings about fine-tuning the model on a downstream task, that’s because **for sequence-to-sequence tasks we keep all the weights of the network**; this is different from what we have encountered until now, where the head of the pretrained model was replaced with a randomly initialized network."
      ]
    },
    {
      "cell_type": "markdown",
      "metadata": {
        "id": "m_73I6Ubb-E0"
      },
      "source": [
        "Fine-tuning a model for summarization is very similar to what have been doing until now for other tasks, but with a few exceptions:\n",
        "\n",
        "1. To compute the ROUGE scores, we need to generate summaries. 🤗 Transformers makes this automatically for us through two dedicated classes ``Seq2SeqTrainingArguments`` and ``Seq2SeqTrainer``. Hence, instead of instantiating objects from the classes ``TrainingArguments`` and ``Trainer``, we will use the Seq2Seq-specific ones.\n",
        "  * When using the ``Seq2SeqTrainingArguments`` class, we need to care of the following arguments:\n",
        "      * ``predict_with_generate=True`` to generate summaries during evaluation so that we can compute ROUGE scores for each epoch. The Transformer's decoder performs inference by predicting tokens one by one, and this is implemented by the model’s ``generate()`` method. Setting ``predict_with_generate=True`` tells the Seq2SeqTrainer to use that method for evaluation.\n",
        "      *   ``save_total_limit`` to limit the number of checkpoints saved during training. This is necessary since even the \"small\" version of T5 uses around a GB of hard drive space, and we can save a bit of room by limiting the number of copies we save.\n",
        "  * The usage of the ``Seq2SeqTrainer`` class is equivalent to that of the ``Trainer`` class.\n",
        "2. Since T5 is an **encoder-decoder Transformer model**, during decoding, we need to shift the labels to the right by one when preparing our batches. This is necessary to ensure that the decoder only sees the previous ground truth labels and not the current or future ones, which would be easy for the model to memorize. 🤗 Transformers provides a ``DataCollatorForSeq2Seq`` collator that will dynamically pad the inputs and the labels for us. The way we instantiate this collator is by providing the tokenizer and model. From this dynamic padding, there are two main things that we need to take into account:\n",
        "  * ``input_ids`` and ``attention_mask`` of shorter sentences get padded on the right with a [PAD] token (whose ID is 0)\n",
        "  * its associated labels are padded with $-100$s, to make sure the padding tokens are ignored by the loss function."
      ]
    },
    {
      "cell_type": "markdown",
      "metadata": {
        "id": "bRFZ3E47D_wW"
      },
      "source": [
        "Having this in mind, proceed with the following exercises to complete the fine-tuning."
      ]
    },
    {
      "cell_type": "markdown",
      "metadata": {
        "id": "6962Z05r7LBt"
      },
      "source": [
        "###### **Exercise 3.9**\n",
        "\n",
        "Implement the body of the ``compute_metrics`` function by following the provided guidelines."
      ]
    },
    {
      "cell_type": "code",
      "execution_count": null,
      "metadata": {
        "id": "X0xdRqB1q1yh"
      },
      "outputs": [],
      "source": [
        "def compute_metrics(eval_pred):\n",
        "    # <SOL>\n",
        "\n",
        "    preds, labels = eval_pred\n",
        "\n",
        "    decoded_preds = # TODO: Decode generated summaries of a whole batch at once into text. Skip special_tokens\n",
        "\n",
        "    labels = # TODO: Replace -100 in the labels by the \"pad_token_id\"\n",
        "\n",
        "    decoded_labels = # TODO: Decode reference summaries into text of a whole batch at once into text. Skip special_tokens\n",
        "\n",
        "    # ROUGE expects a newline after each sentence\n",
        "    decoded_preds = [\"\\n\".join(sent_tokenize(pred.strip())) for pred in decoded_preds]\n",
        "    decoded_labels = [\"\\n\".join(sent_tokenize(label.strip())) for label in decoded_labels]\n",
        "\n",
        "    score = # TODO: Compute ROUGE scores\n",
        "\n",
        "    score = {key: value * 100 for key, value in score.items()}\n",
        "\n",
        "    # <SOL>\n",
        "    return score"
      ]
    },
    {
      "cell_type": "markdown",
      "metadata": {
        "id": "vq6um4g_Xzhq"
      },
      "source": [
        "###### **Exercise 3.10**\n",
        "\n",
        "Carry out the fine-tuning. For doing so:\n",
        "\n",
        "1. Define your training arguments by creating an instance of the ``Seq2SeqTrainingArguments`` class. Utilize, **at least**, the following configuration:\n",
        "  * ``save_total_limit=3``\n",
        "  * ``predict_with_generate=True``\n",
        "  \n",
        "  Try fine-tuning other parameters (e.g., learning_rate, weight_decay, eval_steps, nr epochs etc.)\n",
        "2. Create a ``DataCollatorForSeq2Seq`` object.\n",
        "3. Create a ``Seq2SeqTrainer`` object by passing all the objects until now created (model, training_args, tokenizer, etc.) Use the compute_metrics function we defined in Exercise 3.10 for evaluating the model during training.\n",
        "4. Train and evaluate the model.\n",
        "\n",
        "Save the fine-tuned model.\n",
        "\n",
        "How are the evaluation scores of our fine-tuned model? Does it outperform our lead-3 baseline?"
      ]
    },
    {
      "cell_type": "code",
      "execution_count": null,
      "metadata": {
        "id": "W77d2UP5qmlF"
      },
      "outputs": [],
      "source": [
        "# <SOL>\n",
        "\n",
        "# TODO: Add imports\n",
        "\n",
        "training_args = # TODO\n",
        "\n",
        "trainer = # TODO"
      ]
    },
    {
      "cell_type": "code",
      "execution_count": null,
      "metadata": {
        "id": "urPCHAZBrgrS"
      },
      "outputs": [],
      "source": [
        "trainer.train()"
      ]
    },
    {
      "cell_type": "code",
      "execution_count": null,
      "metadata": {
        "id": "SAxOT5IVpr8G"
      },
      "outputs": [],
      "source": [
        "trainer.evaluate()"
      ]
    },
    {
      "cell_type": "markdown",
      "metadata": {
        "id": "NudEDJuUqt0h"
      },
      "source": [
        "#### <font color='#2B4865'>*3.2.4. Make predictions with the fine-tuned model*</font>"
      ]
    },
    {
      "cell_type": "markdown",
      "metadata": {
        "id": "6oB2nmcLrsMw"
      },
      "source": [
        "We can now play with our saved model either via the inference widget or with a pipeline object, as follows:"
      ]
    },
    {
      "cell_type": "code",
      "execution_count": null,
      "metadata": {
        "id": "qSgyrCforC1w"
      },
      "outputs": [],
      "source": [
        "# Load trained model\n",
        "from transformers import pipeline\n",
        "checkpoint = 2250\n",
        "model_path = f\"{path_to_folder}/{model_checkpoint}-finetuned-cnn/checkpoint-{checkpoint}\" ## TODO: Update this path to the last saved checkpoint in the former cell\n",
        "summarizer = pipeline(\"summarization\", model=model_path)"
      ]
    },
    {
      "cell_type": "markdown",
      "metadata": {
        "id": "lt5celbJrwoH"
      },
      "source": [
        "Let's feed some examples from the test set (which the model has not seen) to our pipeline to get a feel for the quality of the summaries."
      ]
    },
    {
      "cell_type": "code",
      "execution_count": null,
      "metadata": {
        "id": "Q06DbOV4iE_B"
      },
      "outputs": [],
      "source": [
        "def print_summary(dataset, num_samples=2, seed=42):\n",
        "    sample = dataset[\"test\"].shuffle(seed=seed).select(range(num_samples))\n",
        "    for example in sample:\n",
        "      review = example[\"article\"]\n",
        "      title = example[\"highlights\"]\n",
        "      summary = summarizer(review)[0][\"summary_text\"]\n",
        "\n",
        "      print(Fore.GREEN + Style.BOLD + '\\n>> Article:' + Style.RESET, review)\n",
        "      print(Fore.LIGHT_BLUE + Style.BOLD + '>> Highlights:' + Style.RESET, title)\n",
        "      print(Fore.RED + Style.BOLD + '>> Summary:' + Style.RESET, summary)"
      ]
    },
    {
      "cell_type": "code",
      "execution_count": null,
      "metadata": {
        "id": "n80nQaUhryUK"
      },
      "outputs": [],
      "source": [
        "print_summary(cnn_dataset, 5)"
      ]
    },
    {
      "cell_type": "markdown",
      "metadata": {
        "id": "bqpDKlZWeNBt"
      },
      "source": [
        "## <font color='#2B4865'>Summary</font>"
      ]
    },
    {
      "cell_type": "markdown",
      "metadata": {
        "id": "N7mtT_KGNc5A"
      },
      "source": [
        "In this second tutorial, we have covered the tasks of Question Answering and Summarization. The most important things you should have learned are:\n",
        "\n",
        "* How to perform extractive question answering without the pipeline\n",
        "* How to preprocess different datasets according to the task we are trying to solve\n",
        "* How the training of Sequence-to-Sequence models differs from all the others"
      ]
    },
    {
      "cell_type": "markdown",
      "metadata": {
        "id": "EjxNX8zGQaLT"
      },
      "source": [
        "### <font color='#2B4865'>Extension exercise</font>\n",
        "\n",
        "**Translation** is another sequence-to-sequence task that is pretty close to summarization, and you could adapt what we have seen here to solve it. If you want to try it out:\n",
        "\n",
        "1. Select which kind of translation model you want to create, e.g. one that translates French to German.\n",
        "2. Choose a dataset from the Hub valid for machine translation on those languages\n",
        "3. Choose a model suitable for the translation task\n",
        "\n",
        "Some things you need to take into account when carrying out the fine-tuning:\n",
        "* **During preprocessing:**\n",
        "  * You need to carry out the tokenization of both the **inputs** and the **targets** (to obtain the labels). As we did with the summarization task, you should define a ``max_input_length`` and a ``max_target_length``. You do not need to save the ``labels_mask``.\n",
        "  * Remember that if you are using a T5 model (one of the t5-xxx checkpoints), the model will expect the text inputs to have a prefix indicating the task at hand, such as ``translate: French to German:``.\n",
        "* **During fine-tuning:**\n",
        "  * As evaluation metric, try out **\"sacrebleu\"**, which, after installing the SacreBLEU library (``!pip install sacrebleu``), you can load via ``evaluate.load()``. This metric takes texts as inputs and targets and is designed to accept several acceptable targets (often multiple acceptable translations of the same sentence). So, the predictions should be a list of sentences (where sentences are strings), but the references should be a list of lists of sentences. This metric will return a dictionary, from which we are interested in the value associated with the key ``score``.\n",
        "  * You can define the ``comput_metrics`` function based on the \"sacrebleu\" in a similar way as we did with summarization. Just note that SacreBLEU does not expect the text to be tokenized."
      ]
    }
  ],
  "metadata": {
    "accelerator": "GPU",
    "colab": {
      "provenance": [],
      "toc_visible": true
    },
    "gpuClass": "standard",
    "kernelspec": {
      "display_name": "Python 3 (ipykernel)",
      "language": "python",
      "name": "python3"
    },
    "language_info": {
      "codemirror_mode": {
        "name": "ipython",
        "version": 3
      },
      "file_extension": ".py",
      "mimetype": "text/x-python",
      "name": "python",
      "nbconvert_exporter": "python",
      "pygments_lexer": "ipython3",
      "version": "3.10.11"
    },
    "widgets": {
      "application/vnd.jupyter.widget-state+json": {
        "de5c04de286241a9ae1708cb68493184": {
          "model_module": "@jupyter-widgets/controls",
          "model_name": "HBoxModel",
          "model_module_version": "1.5.0",
          "state": {
            "_dom_classes": [],
            "_model_module": "@jupyter-widgets/controls",
            "_model_module_version": "1.5.0",
            "_model_name": "HBoxModel",
            "_view_count": null,
            "_view_module": "@jupyter-widgets/controls",
            "_view_module_version": "1.5.0",
            "_view_name": "HBoxView",
            "box_style": "",
            "children": [
              "IPY_MODEL_f6495f423a32452ba860c8b7e78a4152",
              "IPY_MODEL_f8dfd0a55c0647b69520a9ddeb78a0d2",
              "IPY_MODEL_0e00be216b1f472fb45b4f3a29a2a853"
            ],
            "layout": "IPY_MODEL_50cdf3dda24447b3a1339f6f4d7a9850"
          }
        },
        "f6495f423a32452ba860c8b7e78a4152": {
          "model_module": "@jupyter-widgets/controls",
          "model_name": "HTMLModel",
          "model_module_version": "1.5.0",
          "state": {
            "_dom_classes": [],
            "_model_module": "@jupyter-widgets/controls",
            "_model_module_version": "1.5.0",
            "_model_name": "HTMLModel",
            "_view_count": null,
            "_view_module": "@jupyter-widgets/controls",
            "_view_module_version": "1.5.0",
            "_view_name": "HTMLView",
            "description": "",
            "description_tooltip": null,
            "layout": "IPY_MODEL_5cc8d19c2d624aca9038f458628a4791",
            "placeholder": "​",
            "style": "IPY_MODEL_ecfe15ca04f44ca5985d270779af297a",
            "value": "config.json: 100%"
          }
        },
        "f8dfd0a55c0647b69520a9ddeb78a0d2": {
          "model_module": "@jupyter-widgets/controls",
          "model_name": "FloatProgressModel",
          "model_module_version": "1.5.0",
          "state": {
            "_dom_classes": [],
            "_model_module": "@jupyter-widgets/controls",
            "_model_module_version": "1.5.0",
            "_model_name": "FloatProgressModel",
            "_view_count": null,
            "_view_module": "@jupyter-widgets/controls",
            "_view_module_version": "1.5.0",
            "_view_name": "ProgressView",
            "bar_style": "success",
            "description": "",
            "description_tooltip": null,
            "layout": "IPY_MODEL_85688e783aa648ee8a896a1fd847a3a3",
            "max": 473,
            "min": 0,
            "orientation": "horizontal",
            "style": "IPY_MODEL_95ab0a419ab14384aeeeca4de95bc4d5",
            "value": 473
          }
        },
        "0e00be216b1f472fb45b4f3a29a2a853": {
          "model_module": "@jupyter-widgets/controls",
          "model_name": "HTMLModel",
          "model_module_version": "1.5.0",
          "state": {
            "_dom_classes": [],
            "_model_module": "@jupyter-widgets/controls",
            "_model_module_version": "1.5.0",
            "_model_name": "HTMLModel",
            "_view_count": null,
            "_view_module": "@jupyter-widgets/controls",
            "_view_module_version": "1.5.0",
            "_view_name": "HTMLView",
            "description": "",
            "description_tooltip": null,
            "layout": "IPY_MODEL_044b1a44a70946eaa6d3da1faf146007",
            "placeholder": "​",
            "style": "IPY_MODEL_be0f93f671d64585beba0b9974ed9a8f",
            "value": " 473/473 [00:00&lt;00:00, 19.4kB/s]"
          }
        },
        "50cdf3dda24447b3a1339f6f4d7a9850": {
          "model_module": "@jupyter-widgets/base",
          "model_name": "LayoutModel",
          "model_module_version": "1.2.0",
          "state": {
            "_model_module": "@jupyter-widgets/base",
            "_model_module_version": "1.2.0",
            "_model_name": "LayoutModel",
            "_view_count": null,
            "_view_module": "@jupyter-widgets/base",
            "_view_module_version": "1.2.0",
            "_view_name": "LayoutView",
            "align_content": null,
            "align_items": null,
            "align_self": null,
            "border": null,
            "bottom": null,
            "display": null,
            "flex": null,
            "flex_flow": null,
            "grid_area": null,
            "grid_auto_columns": null,
            "grid_auto_flow": null,
            "grid_auto_rows": null,
            "grid_column": null,
            "grid_gap": null,
            "grid_row": null,
            "grid_template_areas": null,
            "grid_template_columns": null,
            "grid_template_rows": null,
            "height": null,
            "justify_content": null,
            "justify_items": null,
            "left": null,
            "margin": null,
            "max_height": null,
            "max_width": null,
            "min_height": null,
            "min_width": null,
            "object_fit": null,
            "object_position": null,
            "order": null,
            "overflow": null,
            "overflow_x": null,
            "overflow_y": null,
            "padding": null,
            "right": null,
            "top": null,
            "visibility": null,
            "width": null
          }
        },
        "5cc8d19c2d624aca9038f458628a4791": {
          "model_module": "@jupyter-widgets/base",
          "model_name": "LayoutModel",
          "model_module_version": "1.2.0",
          "state": {
            "_model_module": "@jupyter-widgets/base",
            "_model_module_version": "1.2.0",
            "_model_name": "LayoutModel",
            "_view_count": null,
            "_view_module": "@jupyter-widgets/base",
            "_view_module_version": "1.2.0",
            "_view_name": "LayoutView",
            "align_content": null,
            "align_items": null,
            "align_self": null,
            "border": null,
            "bottom": null,
            "display": null,
            "flex": null,
            "flex_flow": null,
            "grid_area": null,
            "grid_auto_columns": null,
            "grid_auto_flow": null,
            "grid_auto_rows": null,
            "grid_column": null,
            "grid_gap": null,
            "grid_row": null,
            "grid_template_areas": null,
            "grid_template_columns": null,
            "grid_template_rows": null,
            "height": null,
            "justify_content": null,
            "justify_items": null,
            "left": null,
            "margin": null,
            "max_height": null,
            "max_width": null,
            "min_height": null,
            "min_width": null,
            "object_fit": null,
            "object_position": null,
            "order": null,
            "overflow": null,
            "overflow_x": null,
            "overflow_y": null,
            "padding": null,
            "right": null,
            "top": null,
            "visibility": null,
            "width": null
          }
        },
        "ecfe15ca04f44ca5985d270779af297a": {
          "model_module": "@jupyter-widgets/controls",
          "model_name": "DescriptionStyleModel",
          "model_module_version": "1.5.0",
          "state": {
            "_model_module": "@jupyter-widgets/controls",
            "_model_module_version": "1.5.0",
            "_model_name": "DescriptionStyleModel",
            "_view_count": null,
            "_view_module": "@jupyter-widgets/base",
            "_view_module_version": "1.2.0",
            "_view_name": "StyleView",
            "description_width": ""
          }
        },
        "85688e783aa648ee8a896a1fd847a3a3": {
          "model_module": "@jupyter-widgets/base",
          "model_name": "LayoutModel",
          "model_module_version": "1.2.0",
          "state": {
            "_model_module": "@jupyter-widgets/base",
            "_model_module_version": "1.2.0",
            "_model_name": "LayoutModel",
            "_view_count": null,
            "_view_module": "@jupyter-widgets/base",
            "_view_module_version": "1.2.0",
            "_view_name": "LayoutView",
            "align_content": null,
            "align_items": null,
            "align_self": null,
            "border": null,
            "bottom": null,
            "display": null,
            "flex": null,
            "flex_flow": null,
            "grid_area": null,
            "grid_auto_columns": null,
            "grid_auto_flow": null,
            "grid_auto_rows": null,
            "grid_column": null,
            "grid_gap": null,
            "grid_row": null,
            "grid_template_areas": null,
            "grid_template_columns": null,
            "grid_template_rows": null,
            "height": null,
            "justify_content": null,
            "justify_items": null,
            "left": null,
            "margin": null,
            "max_height": null,
            "max_width": null,
            "min_height": null,
            "min_width": null,
            "object_fit": null,
            "object_position": null,
            "order": null,
            "overflow": null,
            "overflow_x": null,
            "overflow_y": null,
            "padding": null,
            "right": null,
            "top": null,
            "visibility": null,
            "width": null
          }
        },
        "95ab0a419ab14384aeeeca4de95bc4d5": {
          "model_module": "@jupyter-widgets/controls",
          "model_name": "ProgressStyleModel",
          "model_module_version": "1.5.0",
          "state": {
            "_model_module": "@jupyter-widgets/controls",
            "_model_module_version": "1.5.0",
            "_model_name": "ProgressStyleModel",
            "_view_count": null,
            "_view_module": "@jupyter-widgets/base",
            "_view_module_version": "1.2.0",
            "_view_name": "StyleView",
            "bar_color": null,
            "description_width": ""
          }
        },
        "044b1a44a70946eaa6d3da1faf146007": {
          "model_module": "@jupyter-widgets/base",
          "model_name": "LayoutModel",
          "model_module_version": "1.2.0",
          "state": {
            "_model_module": "@jupyter-widgets/base",
            "_model_module_version": "1.2.0",
            "_model_name": "LayoutModel",
            "_view_count": null,
            "_view_module": "@jupyter-widgets/base",
            "_view_module_version": "1.2.0",
            "_view_name": "LayoutView",
            "align_content": null,
            "align_items": null,
            "align_self": null,
            "border": null,
            "bottom": null,
            "display": null,
            "flex": null,
            "flex_flow": null,
            "grid_area": null,
            "grid_auto_columns": null,
            "grid_auto_flow": null,
            "grid_auto_rows": null,
            "grid_column": null,
            "grid_gap": null,
            "grid_row": null,
            "grid_template_areas": null,
            "grid_template_columns": null,
            "grid_template_rows": null,
            "height": null,
            "justify_content": null,
            "justify_items": null,
            "left": null,
            "margin": null,
            "max_height": null,
            "max_width": null,
            "min_height": null,
            "min_width": null,
            "object_fit": null,
            "object_position": null,
            "order": null,
            "overflow": null,
            "overflow_x": null,
            "overflow_y": null,
            "padding": null,
            "right": null,
            "top": null,
            "visibility": null,
            "width": null
          }
        },
        "be0f93f671d64585beba0b9974ed9a8f": {
          "model_module": "@jupyter-widgets/controls",
          "model_name": "DescriptionStyleModel",
          "model_module_version": "1.5.0",
          "state": {
            "_model_module": "@jupyter-widgets/controls",
            "_model_module_version": "1.5.0",
            "_model_name": "DescriptionStyleModel",
            "_view_count": null,
            "_view_module": "@jupyter-widgets/base",
            "_view_module_version": "1.2.0",
            "_view_name": "StyleView",
            "description_width": ""
          }
        },
        "329bf8f5c6294c9286600226050dd017": {
          "model_module": "@jupyter-widgets/controls",
          "model_name": "HBoxModel",
          "model_module_version": "1.5.0",
          "state": {
            "_dom_classes": [],
            "_model_module": "@jupyter-widgets/controls",
            "_model_module_version": "1.5.0",
            "_model_name": "HBoxModel",
            "_view_count": null,
            "_view_module": "@jupyter-widgets/controls",
            "_view_module_version": "1.5.0",
            "_view_name": "HBoxView",
            "box_style": "",
            "children": [
              "IPY_MODEL_33c138dadb1142f2a1a3f52c82c55a72",
              "IPY_MODEL_89ba960d5a2e43778b140dd979ed6b45",
              "IPY_MODEL_47aedc8740e348ac972ad555cc292fda"
            ],
            "layout": "IPY_MODEL_88f587edb66c4d628c7e9ae9597bde37"
          }
        },
        "33c138dadb1142f2a1a3f52c82c55a72": {
          "model_module": "@jupyter-widgets/controls",
          "model_name": "HTMLModel",
          "model_module_version": "1.5.0",
          "state": {
            "_dom_classes": [],
            "_model_module": "@jupyter-widgets/controls",
            "_model_module_version": "1.5.0",
            "_model_name": "HTMLModel",
            "_view_count": null,
            "_view_module": "@jupyter-widgets/controls",
            "_view_module_version": "1.5.0",
            "_view_name": "HTMLView",
            "description": "",
            "description_tooltip": null,
            "layout": "IPY_MODEL_0700d338ce09431d8ffd7c511e7f37aa",
            "placeholder": "​",
            "style": "IPY_MODEL_2f248065ac364f568be27dcfdfaa7350",
            "value": "model.safetensors: 100%"
          }
        },
        "89ba960d5a2e43778b140dd979ed6b45": {
          "model_module": "@jupyter-widgets/controls",
          "model_name": "FloatProgressModel",
          "model_module_version": "1.5.0",
          "state": {
            "_dom_classes": [],
            "_model_module": "@jupyter-widgets/controls",
            "_model_module_version": "1.5.0",
            "_model_name": "FloatProgressModel",
            "_view_count": null,
            "_view_module": "@jupyter-widgets/controls",
            "_view_module_version": "1.5.0",
            "_view_name": "ProgressView",
            "bar_style": "success",
            "description": "",
            "description_tooltip": null,
            "layout": "IPY_MODEL_1a86370d2d75442794b7647f8b6fb459",
            "max": 260782156,
            "min": 0,
            "orientation": "horizontal",
            "style": "IPY_MODEL_5eff8f70cafa4d9abc57d2cf0d4568ac",
            "value": 260782156
          }
        },
        "47aedc8740e348ac972ad555cc292fda": {
          "model_module": "@jupyter-widgets/controls",
          "model_name": "HTMLModel",
          "model_module_version": "1.5.0",
          "state": {
            "_dom_classes": [],
            "_model_module": "@jupyter-widgets/controls",
            "_model_module_version": "1.5.0",
            "_model_name": "HTMLModel",
            "_view_count": null,
            "_view_module": "@jupyter-widgets/controls",
            "_view_module_version": "1.5.0",
            "_view_name": "HTMLView",
            "description": "",
            "description_tooltip": null,
            "layout": "IPY_MODEL_43b8fb202a1746c0b4cf52b17be94225",
            "placeholder": "​",
            "style": "IPY_MODEL_7654c4b290b8435fad874868b4ae123b",
            "value": " 261M/261M [00:01&lt;00:00, 210MB/s]"
          }
        },
        "88f587edb66c4d628c7e9ae9597bde37": {
          "model_module": "@jupyter-widgets/base",
          "model_name": "LayoutModel",
          "model_module_version": "1.2.0",
          "state": {
            "_model_module": "@jupyter-widgets/base",
            "_model_module_version": "1.2.0",
            "_model_name": "LayoutModel",
            "_view_count": null,
            "_view_module": "@jupyter-widgets/base",
            "_view_module_version": "1.2.0",
            "_view_name": "LayoutView",
            "align_content": null,
            "align_items": null,
            "align_self": null,
            "border": null,
            "bottom": null,
            "display": null,
            "flex": null,
            "flex_flow": null,
            "grid_area": null,
            "grid_auto_columns": null,
            "grid_auto_flow": null,
            "grid_auto_rows": null,
            "grid_column": null,
            "grid_gap": null,
            "grid_row": null,
            "grid_template_areas": null,
            "grid_template_columns": null,
            "grid_template_rows": null,
            "height": null,
            "justify_content": null,
            "justify_items": null,
            "left": null,
            "margin": null,
            "max_height": null,
            "max_width": null,
            "min_height": null,
            "min_width": null,
            "object_fit": null,
            "object_position": null,
            "order": null,
            "overflow": null,
            "overflow_x": null,
            "overflow_y": null,
            "padding": null,
            "right": null,
            "top": null,
            "visibility": null,
            "width": null
          }
        },
        "0700d338ce09431d8ffd7c511e7f37aa": {
          "model_module": "@jupyter-widgets/base",
          "model_name": "LayoutModel",
          "model_module_version": "1.2.0",
          "state": {
            "_model_module": "@jupyter-widgets/base",
            "_model_module_version": "1.2.0",
            "_model_name": "LayoutModel",
            "_view_count": null,
            "_view_module": "@jupyter-widgets/base",
            "_view_module_version": "1.2.0",
            "_view_name": "LayoutView",
            "align_content": null,
            "align_items": null,
            "align_self": null,
            "border": null,
            "bottom": null,
            "display": null,
            "flex": null,
            "flex_flow": null,
            "grid_area": null,
            "grid_auto_columns": null,
            "grid_auto_flow": null,
            "grid_auto_rows": null,
            "grid_column": null,
            "grid_gap": null,
            "grid_row": null,
            "grid_template_areas": null,
            "grid_template_columns": null,
            "grid_template_rows": null,
            "height": null,
            "justify_content": null,
            "justify_items": null,
            "left": null,
            "margin": null,
            "max_height": null,
            "max_width": null,
            "min_height": null,
            "min_width": null,
            "object_fit": null,
            "object_position": null,
            "order": null,
            "overflow": null,
            "overflow_x": null,
            "overflow_y": null,
            "padding": null,
            "right": null,
            "top": null,
            "visibility": null,
            "width": null
          }
        },
        "2f248065ac364f568be27dcfdfaa7350": {
          "model_module": "@jupyter-widgets/controls",
          "model_name": "DescriptionStyleModel",
          "model_module_version": "1.5.0",
          "state": {
            "_model_module": "@jupyter-widgets/controls",
            "_model_module_version": "1.5.0",
            "_model_name": "DescriptionStyleModel",
            "_view_count": null,
            "_view_module": "@jupyter-widgets/base",
            "_view_module_version": "1.2.0",
            "_view_name": "StyleView",
            "description_width": ""
          }
        },
        "1a86370d2d75442794b7647f8b6fb459": {
          "model_module": "@jupyter-widgets/base",
          "model_name": "LayoutModel",
          "model_module_version": "1.2.0",
          "state": {
            "_model_module": "@jupyter-widgets/base",
            "_model_module_version": "1.2.0",
            "_model_name": "LayoutModel",
            "_view_count": null,
            "_view_module": "@jupyter-widgets/base",
            "_view_module_version": "1.2.0",
            "_view_name": "LayoutView",
            "align_content": null,
            "align_items": null,
            "align_self": null,
            "border": null,
            "bottom": null,
            "display": null,
            "flex": null,
            "flex_flow": null,
            "grid_area": null,
            "grid_auto_columns": null,
            "grid_auto_flow": null,
            "grid_auto_rows": null,
            "grid_column": null,
            "grid_gap": null,
            "grid_row": null,
            "grid_template_areas": null,
            "grid_template_columns": null,
            "grid_template_rows": null,
            "height": null,
            "justify_content": null,
            "justify_items": null,
            "left": null,
            "margin": null,
            "max_height": null,
            "max_width": null,
            "min_height": null,
            "min_width": null,
            "object_fit": null,
            "object_position": null,
            "order": null,
            "overflow": null,
            "overflow_x": null,
            "overflow_y": null,
            "padding": null,
            "right": null,
            "top": null,
            "visibility": null,
            "width": null
          }
        },
        "5eff8f70cafa4d9abc57d2cf0d4568ac": {
          "model_module": "@jupyter-widgets/controls",
          "model_name": "ProgressStyleModel",
          "model_module_version": "1.5.0",
          "state": {
            "_model_module": "@jupyter-widgets/controls",
            "_model_module_version": "1.5.0",
            "_model_name": "ProgressStyleModel",
            "_view_count": null,
            "_view_module": "@jupyter-widgets/base",
            "_view_module_version": "1.2.0",
            "_view_name": "StyleView",
            "bar_color": null,
            "description_width": ""
          }
        },
        "43b8fb202a1746c0b4cf52b17be94225": {
          "model_module": "@jupyter-widgets/base",
          "model_name": "LayoutModel",
          "model_module_version": "1.2.0",
          "state": {
            "_model_module": "@jupyter-widgets/base",
            "_model_module_version": "1.2.0",
            "_model_name": "LayoutModel",
            "_view_count": null,
            "_view_module": "@jupyter-widgets/base",
            "_view_module_version": "1.2.0",
            "_view_name": "LayoutView",
            "align_content": null,
            "align_items": null,
            "align_self": null,
            "border": null,
            "bottom": null,
            "display": null,
            "flex": null,
            "flex_flow": null,
            "grid_area": null,
            "grid_auto_columns": null,
            "grid_auto_flow": null,
            "grid_auto_rows": null,
            "grid_column": null,
            "grid_gap": null,
            "grid_row": null,
            "grid_template_areas": null,
            "grid_template_columns": null,
            "grid_template_rows": null,
            "height": null,
            "justify_content": null,
            "justify_items": null,
            "left": null,
            "margin": null,
            "max_height": null,
            "max_width": null,
            "min_height": null,
            "min_width": null,
            "object_fit": null,
            "object_position": null,
            "order": null,
            "overflow": null,
            "overflow_x": null,
            "overflow_y": null,
            "padding": null,
            "right": null,
            "top": null,
            "visibility": null,
            "width": null
          }
        },
        "7654c4b290b8435fad874868b4ae123b": {
          "model_module": "@jupyter-widgets/controls",
          "model_name": "DescriptionStyleModel",
          "model_module_version": "1.5.0",
          "state": {
            "_model_module": "@jupyter-widgets/controls",
            "_model_module_version": "1.5.0",
            "_model_name": "DescriptionStyleModel",
            "_view_count": null,
            "_view_module": "@jupyter-widgets/base",
            "_view_module_version": "1.2.0",
            "_view_name": "StyleView",
            "description_width": ""
          }
        },
        "6017a92cd5954a17b39235634dd3aaa8": {
          "model_module": "@jupyter-widgets/controls",
          "model_name": "HBoxModel",
          "model_module_version": "1.5.0",
          "state": {
            "_dom_classes": [],
            "_model_module": "@jupyter-widgets/controls",
            "_model_module_version": "1.5.0",
            "_model_name": "HBoxModel",
            "_view_count": null,
            "_view_module": "@jupyter-widgets/controls",
            "_view_module_version": "1.5.0",
            "_view_name": "HBoxView",
            "box_style": "",
            "children": [
              "IPY_MODEL_5053ea172e494e0c82deb327149f5471",
              "IPY_MODEL_eb027d6d88394766b3e501cfd3a27f81",
              "IPY_MODEL_9f131daf02244e73a58de5f01f5c9811"
            ],
            "layout": "IPY_MODEL_2fe17776f54646a5a6d98b596ff860e3"
          }
        },
        "5053ea172e494e0c82deb327149f5471": {
          "model_module": "@jupyter-widgets/controls",
          "model_name": "HTMLModel",
          "model_module_version": "1.5.0",
          "state": {
            "_dom_classes": [],
            "_model_module": "@jupyter-widgets/controls",
            "_model_module_version": "1.5.0",
            "_model_name": "HTMLModel",
            "_view_count": null,
            "_view_module": "@jupyter-widgets/controls",
            "_view_module_version": "1.5.0",
            "_view_name": "HTMLView",
            "description": "",
            "description_tooltip": null,
            "layout": "IPY_MODEL_37a82b8d9a114c7ab8dd6dd19add43f5",
            "placeholder": "​",
            "style": "IPY_MODEL_3ed24fcb82294226a7a1de7c7a4f568c",
            "value": "tokenizer_config.json: 100%"
          }
        },
        "eb027d6d88394766b3e501cfd3a27f81": {
          "model_module": "@jupyter-widgets/controls",
          "model_name": "FloatProgressModel",
          "model_module_version": "1.5.0",
          "state": {
            "_dom_classes": [],
            "_model_module": "@jupyter-widgets/controls",
            "_model_module_version": "1.5.0",
            "_model_name": "FloatProgressModel",
            "_view_count": null,
            "_view_module": "@jupyter-widgets/controls",
            "_view_module_version": "1.5.0",
            "_view_name": "ProgressView",
            "bar_style": "success",
            "description": "",
            "description_tooltip": null,
            "layout": "IPY_MODEL_349bd94876db4d819f26360915c96be7",
            "max": 29,
            "min": 0,
            "orientation": "horizontal",
            "style": "IPY_MODEL_e5a3bdf62cfb47e3bbb2f2d105c4ad7f",
            "value": 29
          }
        },
        "9f131daf02244e73a58de5f01f5c9811": {
          "model_module": "@jupyter-widgets/controls",
          "model_name": "HTMLModel",
          "model_module_version": "1.5.0",
          "state": {
            "_dom_classes": [],
            "_model_module": "@jupyter-widgets/controls",
            "_model_module_version": "1.5.0",
            "_model_name": "HTMLModel",
            "_view_count": null,
            "_view_module": "@jupyter-widgets/controls",
            "_view_module_version": "1.5.0",
            "_view_name": "HTMLView",
            "description": "",
            "description_tooltip": null,
            "layout": "IPY_MODEL_cf503caa9c3c45bbae5375ceee31f3c0",
            "placeholder": "​",
            "style": "IPY_MODEL_ecdd08245dd04df6a67a8d8612406fe2",
            "value": " 29.0/29.0 [00:00&lt;00:00, 1.60kB/s]"
          }
        },
        "2fe17776f54646a5a6d98b596ff860e3": {
          "model_module": "@jupyter-widgets/base",
          "model_name": "LayoutModel",
          "model_module_version": "1.2.0",
          "state": {
            "_model_module": "@jupyter-widgets/base",
            "_model_module_version": "1.2.0",
            "_model_name": "LayoutModel",
            "_view_count": null,
            "_view_module": "@jupyter-widgets/base",
            "_view_module_version": "1.2.0",
            "_view_name": "LayoutView",
            "align_content": null,
            "align_items": null,
            "align_self": null,
            "border": null,
            "bottom": null,
            "display": null,
            "flex": null,
            "flex_flow": null,
            "grid_area": null,
            "grid_auto_columns": null,
            "grid_auto_flow": null,
            "grid_auto_rows": null,
            "grid_column": null,
            "grid_gap": null,
            "grid_row": null,
            "grid_template_areas": null,
            "grid_template_columns": null,
            "grid_template_rows": null,
            "height": null,
            "justify_content": null,
            "justify_items": null,
            "left": null,
            "margin": null,
            "max_height": null,
            "max_width": null,
            "min_height": null,
            "min_width": null,
            "object_fit": null,
            "object_position": null,
            "order": null,
            "overflow": null,
            "overflow_x": null,
            "overflow_y": null,
            "padding": null,
            "right": null,
            "top": null,
            "visibility": null,
            "width": null
          }
        },
        "37a82b8d9a114c7ab8dd6dd19add43f5": {
          "model_module": "@jupyter-widgets/base",
          "model_name": "LayoutModel",
          "model_module_version": "1.2.0",
          "state": {
            "_model_module": "@jupyter-widgets/base",
            "_model_module_version": "1.2.0",
            "_model_name": "LayoutModel",
            "_view_count": null,
            "_view_module": "@jupyter-widgets/base",
            "_view_module_version": "1.2.0",
            "_view_name": "LayoutView",
            "align_content": null,
            "align_items": null,
            "align_self": null,
            "border": null,
            "bottom": null,
            "display": null,
            "flex": null,
            "flex_flow": null,
            "grid_area": null,
            "grid_auto_columns": null,
            "grid_auto_flow": null,
            "grid_auto_rows": null,
            "grid_column": null,
            "grid_gap": null,
            "grid_row": null,
            "grid_template_areas": null,
            "grid_template_columns": null,
            "grid_template_rows": null,
            "height": null,
            "justify_content": null,
            "justify_items": null,
            "left": null,
            "margin": null,
            "max_height": null,
            "max_width": null,
            "min_height": null,
            "min_width": null,
            "object_fit": null,
            "object_position": null,
            "order": null,
            "overflow": null,
            "overflow_x": null,
            "overflow_y": null,
            "padding": null,
            "right": null,
            "top": null,
            "visibility": null,
            "width": null
          }
        },
        "3ed24fcb82294226a7a1de7c7a4f568c": {
          "model_module": "@jupyter-widgets/controls",
          "model_name": "DescriptionStyleModel",
          "model_module_version": "1.5.0",
          "state": {
            "_model_module": "@jupyter-widgets/controls",
            "_model_module_version": "1.5.0",
            "_model_name": "DescriptionStyleModel",
            "_view_count": null,
            "_view_module": "@jupyter-widgets/base",
            "_view_module_version": "1.2.0",
            "_view_name": "StyleView",
            "description_width": ""
          }
        },
        "349bd94876db4d819f26360915c96be7": {
          "model_module": "@jupyter-widgets/base",
          "model_name": "LayoutModel",
          "model_module_version": "1.2.0",
          "state": {
            "_model_module": "@jupyter-widgets/base",
            "_model_module_version": "1.2.0",
            "_model_name": "LayoutModel",
            "_view_count": null,
            "_view_module": "@jupyter-widgets/base",
            "_view_module_version": "1.2.0",
            "_view_name": "LayoutView",
            "align_content": null,
            "align_items": null,
            "align_self": null,
            "border": null,
            "bottom": null,
            "display": null,
            "flex": null,
            "flex_flow": null,
            "grid_area": null,
            "grid_auto_columns": null,
            "grid_auto_flow": null,
            "grid_auto_rows": null,
            "grid_column": null,
            "grid_gap": null,
            "grid_row": null,
            "grid_template_areas": null,
            "grid_template_columns": null,
            "grid_template_rows": null,
            "height": null,
            "justify_content": null,
            "justify_items": null,
            "left": null,
            "margin": null,
            "max_height": null,
            "max_width": null,
            "min_height": null,
            "min_width": null,
            "object_fit": null,
            "object_position": null,
            "order": null,
            "overflow": null,
            "overflow_x": null,
            "overflow_y": null,
            "padding": null,
            "right": null,
            "top": null,
            "visibility": null,
            "width": null
          }
        },
        "e5a3bdf62cfb47e3bbb2f2d105c4ad7f": {
          "model_module": "@jupyter-widgets/controls",
          "model_name": "ProgressStyleModel",
          "model_module_version": "1.5.0",
          "state": {
            "_model_module": "@jupyter-widgets/controls",
            "_model_module_version": "1.5.0",
            "_model_name": "ProgressStyleModel",
            "_view_count": null,
            "_view_module": "@jupyter-widgets/base",
            "_view_module_version": "1.2.0",
            "_view_name": "StyleView",
            "bar_color": null,
            "description_width": ""
          }
        },
        "cf503caa9c3c45bbae5375ceee31f3c0": {
          "model_module": "@jupyter-widgets/base",
          "model_name": "LayoutModel",
          "model_module_version": "1.2.0",
          "state": {
            "_model_module": "@jupyter-widgets/base",
            "_model_module_version": "1.2.0",
            "_model_name": "LayoutModel",
            "_view_count": null,
            "_view_module": "@jupyter-widgets/base",
            "_view_module_version": "1.2.0",
            "_view_name": "LayoutView",
            "align_content": null,
            "align_items": null,
            "align_self": null,
            "border": null,
            "bottom": null,
            "display": null,
            "flex": null,
            "flex_flow": null,
            "grid_area": null,
            "grid_auto_columns": null,
            "grid_auto_flow": null,
            "grid_auto_rows": null,
            "grid_column": null,
            "grid_gap": null,
            "grid_row": null,
            "grid_template_areas": null,
            "grid_template_columns": null,
            "grid_template_rows": null,
            "height": null,
            "justify_content": null,
            "justify_items": null,
            "left": null,
            "margin": null,
            "max_height": null,
            "max_width": null,
            "min_height": null,
            "min_width": null,
            "object_fit": null,
            "object_position": null,
            "order": null,
            "overflow": null,
            "overflow_x": null,
            "overflow_y": null,
            "padding": null,
            "right": null,
            "top": null,
            "visibility": null,
            "width": null
          }
        },
        "ecdd08245dd04df6a67a8d8612406fe2": {
          "model_module": "@jupyter-widgets/controls",
          "model_name": "DescriptionStyleModel",
          "model_module_version": "1.5.0",
          "state": {
            "_model_module": "@jupyter-widgets/controls",
            "_model_module_version": "1.5.0",
            "_model_name": "DescriptionStyleModel",
            "_view_count": null,
            "_view_module": "@jupyter-widgets/base",
            "_view_module_version": "1.2.0",
            "_view_name": "StyleView",
            "description_width": ""
          }
        },
        "e1c8fcd34c0b46369ec99404aac5566a": {
          "model_module": "@jupyter-widgets/controls",
          "model_name": "HBoxModel",
          "model_module_version": "1.5.0",
          "state": {
            "_dom_classes": [],
            "_model_module": "@jupyter-widgets/controls",
            "_model_module_version": "1.5.0",
            "_model_name": "HBoxModel",
            "_view_count": null,
            "_view_module": "@jupyter-widgets/controls",
            "_view_module_version": "1.5.0",
            "_view_name": "HBoxView",
            "box_style": "",
            "children": [
              "IPY_MODEL_1575ce7f0390465b888db1e47b2e8e74",
              "IPY_MODEL_2da66db000c541a8b00f9933e380743c",
              "IPY_MODEL_31e235c7aee847b69b04c0eaf01f656a"
            ],
            "layout": "IPY_MODEL_69880ae92dff4d94b3d70c4bb5e61efc"
          }
        },
        "1575ce7f0390465b888db1e47b2e8e74": {
          "model_module": "@jupyter-widgets/controls",
          "model_name": "HTMLModel",
          "model_module_version": "1.5.0",
          "state": {
            "_dom_classes": [],
            "_model_module": "@jupyter-widgets/controls",
            "_model_module_version": "1.5.0",
            "_model_name": "HTMLModel",
            "_view_count": null,
            "_view_module": "@jupyter-widgets/controls",
            "_view_module_version": "1.5.0",
            "_view_name": "HTMLView",
            "description": "",
            "description_tooltip": null,
            "layout": "IPY_MODEL_550cb6c227bb4bb398e3e024f83e116f",
            "placeholder": "​",
            "style": "IPY_MODEL_03d6731ee2f84072967664ef3e24fa0a",
            "value": "vocab.txt: 100%"
          }
        },
        "2da66db000c541a8b00f9933e380743c": {
          "model_module": "@jupyter-widgets/controls",
          "model_name": "FloatProgressModel",
          "model_module_version": "1.5.0",
          "state": {
            "_dom_classes": [],
            "_model_module": "@jupyter-widgets/controls",
            "_model_module_version": "1.5.0",
            "_model_name": "FloatProgressModel",
            "_view_count": null,
            "_view_module": "@jupyter-widgets/controls",
            "_view_module_version": "1.5.0",
            "_view_name": "ProgressView",
            "bar_style": "success",
            "description": "",
            "description_tooltip": null,
            "layout": "IPY_MODEL_44e1a8cbd2a64c3a9beee88b4cd121ae",
            "max": 213450,
            "min": 0,
            "orientation": "horizontal",
            "style": "IPY_MODEL_21d285cb68d14d72b2a0e7f246087220",
            "value": 213450
          }
        },
        "31e235c7aee847b69b04c0eaf01f656a": {
          "model_module": "@jupyter-widgets/controls",
          "model_name": "HTMLModel",
          "model_module_version": "1.5.0",
          "state": {
            "_dom_classes": [],
            "_model_module": "@jupyter-widgets/controls",
            "_model_module_version": "1.5.0",
            "_model_name": "HTMLModel",
            "_view_count": null,
            "_view_module": "@jupyter-widgets/controls",
            "_view_module_version": "1.5.0",
            "_view_name": "HTMLView",
            "description": "",
            "description_tooltip": null,
            "layout": "IPY_MODEL_15cbda38b73443fcba036b1864ab126f",
            "placeholder": "​",
            "style": "IPY_MODEL_f7a375a4ecee4ef182f44497124100b9",
            "value": " 213k/213k [00:00&lt;00:00, 467kB/s]"
          }
        },
        "69880ae92dff4d94b3d70c4bb5e61efc": {
          "model_module": "@jupyter-widgets/base",
          "model_name": "LayoutModel",
          "model_module_version": "1.2.0",
          "state": {
            "_model_module": "@jupyter-widgets/base",
            "_model_module_version": "1.2.0",
            "_model_name": "LayoutModel",
            "_view_count": null,
            "_view_module": "@jupyter-widgets/base",
            "_view_module_version": "1.2.0",
            "_view_name": "LayoutView",
            "align_content": null,
            "align_items": null,
            "align_self": null,
            "border": null,
            "bottom": null,
            "display": null,
            "flex": null,
            "flex_flow": null,
            "grid_area": null,
            "grid_auto_columns": null,
            "grid_auto_flow": null,
            "grid_auto_rows": null,
            "grid_column": null,
            "grid_gap": null,
            "grid_row": null,
            "grid_template_areas": null,
            "grid_template_columns": null,
            "grid_template_rows": null,
            "height": null,
            "justify_content": null,
            "justify_items": null,
            "left": null,
            "margin": null,
            "max_height": null,
            "max_width": null,
            "min_height": null,
            "min_width": null,
            "object_fit": null,
            "object_position": null,
            "order": null,
            "overflow": null,
            "overflow_x": null,
            "overflow_y": null,
            "padding": null,
            "right": null,
            "top": null,
            "visibility": null,
            "width": null
          }
        },
        "550cb6c227bb4bb398e3e024f83e116f": {
          "model_module": "@jupyter-widgets/base",
          "model_name": "LayoutModel",
          "model_module_version": "1.2.0",
          "state": {
            "_model_module": "@jupyter-widgets/base",
            "_model_module_version": "1.2.0",
            "_model_name": "LayoutModel",
            "_view_count": null,
            "_view_module": "@jupyter-widgets/base",
            "_view_module_version": "1.2.0",
            "_view_name": "LayoutView",
            "align_content": null,
            "align_items": null,
            "align_self": null,
            "border": null,
            "bottom": null,
            "display": null,
            "flex": null,
            "flex_flow": null,
            "grid_area": null,
            "grid_auto_columns": null,
            "grid_auto_flow": null,
            "grid_auto_rows": null,
            "grid_column": null,
            "grid_gap": null,
            "grid_row": null,
            "grid_template_areas": null,
            "grid_template_columns": null,
            "grid_template_rows": null,
            "height": null,
            "justify_content": null,
            "justify_items": null,
            "left": null,
            "margin": null,
            "max_height": null,
            "max_width": null,
            "min_height": null,
            "min_width": null,
            "object_fit": null,
            "object_position": null,
            "order": null,
            "overflow": null,
            "overflow_x": null,
            "overflow_y": null,
            "padding": null,
            "right": null,
            "top": null,
            "visibility": null,
            "width": null
          }
        },
        "03d6731ee2f84072967664ef3e24fa0a": {
          "model_module": "@jupyter-widgets/controls",
          "model_name": "DescriptionStyleModel",
          "model_module_version": "1.5.0",
          "state": {
            "_model_module": "@jupyter-widgets/controls",
            "_model_module_version": "1.5.0",
            "_model_name": "DescriptionStyleModel",
            "_view_count": null,
            "_view_module": "@jupyter-widgets/base",
            "_view_module_version": "1.2.0",
            "_view_name": "StyleView",
            "description_width": ""
          }
        },
        "44e1a8cbd2a64c3a9beee88b4cd121ae": {
          "model_module": "@jupyter-widgets/base",
          "model_name": "LayoutModel",
          "model_module_version": "1.2.0",
          "state": {
            "_model_module": "@jupyter-widgets/base",
            "_model_module_version": "1.2.0",
            "_model_name": "LayoutModel",
            "_view_count": null,
            "_view_module": "@jupyter-widgets/base",
            "_view_module_version": "1.2.0",
            "_view_name": "LayoutView",
            "align_content": null,
            "align_items": null,
            "align_self": null,
            "border": null,
            "bottom": null,
            "display": null,
            "flex": null,
            "flex_flow": null,
            "grid_area": null,
            "grid_auto_columns": null,
            "grid_auto_flow": null,
            "grid_auto_rows": null,
            "grid_column": null,
            "grid_gap": null,
            "grid_row": null,
            "grid_template_areas": null,
            "grid_template_columns": null,
            "grid_template_rows": null,
            "height": null,
            "justify_content": null,
            "justify_items": null,
            "left": null,
            "margin": null,
            "max_height": null,
            "max_width": null,
            "min_height": null,
            "min_width": null,
            "object_fit": null,
            "object_position": null,
            "order": null,
            "overflow": null,
            "overflow_x": null,
            "overflow_y": null,
            "padding": null,
            "right": null,
            "top": null,
            "visibility": null,
            "width": null
          }
        },
        "21d285cb68d14d72b2a0e7f246087220": {
          "model_module": "@jupyter-widgets/controls",
          "model_name": "ProgressStyleModel",
          "model_module_version": "1.5.0",
          "state": {
            "_model_module": "@jupyter-widgets/controls",
            "_model_module_version": "1.5.0",
            "_model_name": "ProgressStyleModel",
            "_view_count": null,
            "_view_module": "@jupyter-widgets/base",
            "_view_module_version": "1.2.0",
            "_view_name": "StyleView",
            "bar_color": null,
            "description_width": ""
          }
        },
        "15cbda38b73443fcba036b1864ab126f": {
          "model_module": "@jupyter-widgets/base",
          "model_name": "LayoutModel",
          "model_module_version": "1.2.0",
          "state": {
            "_model_module": "@jupyter-widgets/base",
            "_model_module_version": "1.2.0",
            "_model_name": "LayoutModel",
            "_view_count": null,
            "_view_module": "@jupyter-widgets/base",
            "_view_module_version": "1.2.0",
            "_view_name": "LayoutView",
            "align_content": null,
            "align_items": null,
            "align_self": null,
            "border": null,
            "bottom": null,
            "display": null,
            "flex": null,
            "flex_flow": null,
            "grid_area": null,
            "grid_auto_columns": null,
            "grid_auto_flow": null,
            "grid_auto_rows": null,
            "grid_column": null,
            "grid_gap": null,
            "grid_row": null,
            "grid_template_areas": null,
            "grid_template_columns": null,
            "grid_template_rows": null,
            "height": null,
            "justify_content": null,
            "justify_items": null,
            "left": null,
            "margin": null,
            "max_height": null,
            "max_width": null,
            "min_height": null,
            "min_width": null,
            "object_fit": null,
            "object_position": null,
            "order": null,
            "overflow": null,
            "overflow_x": null,
            "overflow_y": null,
            "padding": null,
            "right": null,
            "top": null,
            "visibility": null,
            "width": null
          }
        },
        "f7a375a4ecee4ef182f44497124100b9": {
          "model_module": "@jupyter-widgets/controls",
          "model_name": "DescriptionStyleModel",
          "model_module_version": "1.5.0",
          "state": {
            "_model_module": "@jupyter-widgets/controls",
            "_model_module_version": "1.5.0",
            "_model_name": "DescriptionStyleModel",
            "_view_count": null,
            "_view_module": "@jupyter-widgets/base",
            "_view_module_version": "1.2.0",
            "_view_name": "StyleView",
            "description_width": ""
          }
        },
        "7784527947354d1bacb3f5d39c4c0035": {
          "model_module": "@jupyter-widgets/controls",
          "model_name": "HBoxModel",
          "model_module_version": "1.5.0",
          "state": {
            "_dom_classes": [],
            "_model_module": "@jupyter-widgets/controls",
            "_model_module_version": "1.5.0",
            "_model_name": "HBoxModel",
            "_view_count": null,
            "_view_module": "@jupyter-widgets/controls",
            "_view_module_version": "1.5.0",
            "_view_name": "HBoxView",
            "box_style": "",
            "children": [
              "IPY_MODEL_69aaf9a1729445a19785c676cdfbc927",
              "IPY_MODEL_763c51b265194e25af18a8cd2d493344",
              "IPY_MODEL_5684f53da0dd4d1c849ff405da3928ed"
            ],
            "layout": "IPY_MODEL_b8b908440fc04fbb91d020d4f3d101bb"
          }
        },
        "69aaf9a1729445a19785c676cdfbc927": {
          "model_module": "@jupyter-widgets/controls",
          "model_name": "HTMLModel",
          "model_module_version": "1.5.0",
          "state": {
            "_dom_classes": [],
            "_model_module": "@jupyter-widgets/controls",
            "_model_module_version": "1.5.0",
            "_model_name": "HTMLModel",
            "_view_count": null,
            "_view_module": "@jupyter-widgets/controls",
            "_view_module_version": "1.5.0",
            "_view_name": "HTMLView",
            "description": "",
            "description_tooltip": null,
            "layout": "IPY_MODEL_5ab6c0d554df4ee5accf216b15ab1da4",
            "placeholder": "​",
            "style": "IPY_MODEL_58da6b4d3a4f442fb9aebcf8e9e39121",
            "value": "tokenizer.json: 100%"
          }
        },
        "763c51b265194e25af18a8cd2d493344": {
          "model_module": "@jupyter-widgets/controls",
          "model_name": "FloatProgressModel",
          "model_module_version": "1.5.0",
          "state": {
            "_dom_classes": [],
            "_model_module": "@jupyter-widgets/controls",
            "_model_module_version": "1.5.0",
            "_model_name": "FloatProgressModel",
            "_view_count": null,
            "_view_module": "@jupyter-widgets/controls",
            "_view_module_version": "1.5.0",
            "_view_name": "ProgressView",
            "bar_style": "success",
            "description": "",
            "description_tooltip": null,
            "layout": "IPY_MODEL_62dca40ba0ef41538fa238a4f866590d",
            "max": 435797,
            "min": 0,
            "orientation": "horizontal",
            "style": "IPY_MODEL_c31a426a2cbc4bd1977eebfde4630245",
            "value": 435797
          }
        },
        "5684f53da0dd4d1c849ff405da3928ed": {
          "model_module": "@jupyter-widgets/controls",
          "model_name": "HTMLModel",
          "model_module_version": "1.5.0",
          "state": {
            "_dom_classes": [],
            "_model_module": "@jupyter-widgets/controls",
            "_model_module_version": "1.5.0",
            "_model_name": "HTMLModel",
            "_view_count": null,
            "_view_module": "@jupyter-widgets/controls",
            "_view_module_version": "1.5.0",
            "_view_name": "HTMLView",
            "description": "",
            "description_tooltip": null,
            "layout": "IPY_MODEL_63802b2e805e43eda63963065a7a7999",
            "placeholder": "​",
            "style": "IPY_MODEL_2897b5cea7c34df999cf6853086fb3f6",
            "value": " 436k/436k [00:00&lt;00:00, 1.91MB/s]"
          }
        },
        "b8b908440fc04fbb91d020d4f3d101bb": {
          "model_module": "@jupyter-widgets/base",
          "model_name": "LayoutModel",
          "model_module_version": "1.2.0",
          "state": {
            "_model_module": "@jupyter-widgets/base",
            "_model_module_version": "1.2.0",
            "_model_name": "LayoutModel",
            "_view_count": null,
            "_view_module": "@jupyter-widgets/base",
            "_view_module_version": "1.2.0",
            "_view_name": "LayoutView",
            "align_content": null,
            "align_items": null,
            "align_self": null,
            "border": null,
            "bottom": null,
            "display": null,
            "flex": null,
            "flex_flow": null,
            "grid_area": null,
            "grid_auto_columns": null,
            "grid_auto_flow": null,
            "grid_auto_rows": null,
            "grid_column": null,
            "grid_gap": null,
            "grid_row": null,
            "grid_template_areas": null,
            "grid_template_columns": null,
            "grid_template_rows": null,
            "height": null,
            "justify_content": null,
            "justify_items": null,
            "left": null,
            "margin": null,
            "max_height": null,
            "max_width": null,
            "min_height": null,
            "min_width": null,
            "object_fit": null,
            "object_position": null,
            "order": null,
            "overflow": null,
            "overflow_x": null,
            "overflow_y": null,
            "padding": null,
            "right": null,
            "top": null,
            "visibility": null,
            "width": null
          }
        },
        "5ab6c0d554df4ee5accf216b15ab1da4": {
          "model_module": "@jupyter-widgets/base",
          "model_name": "LayoutModel",
          "model_module_version": "1.2.0",
          "state": {
            "_model_module": "@jupyter-widgets/base",
            "_model_module_version": "1.2.0",
            "_model_name": "LayoutModel",
            "_view_count": null,
            "_view_module": "@jupyter-widgets/base",
            "_view_module_version": "1.2.0",
            "_view_name": "LayoutView",
            "align_content": null,
            "align_items": null,
            "align_self": null,
            "border": null,
            "bottom": null,
            "display": null,
            "flex": null,
            "flex_flow": null,
            "grid_area": null,
            "grid_auto_columns": null,
            "grid_auto_flow": null,
            "grid_auto_rows": null,
            "grid_column": null,
            "grid_gap": null,
            "grid_row": null,
            "grid_template_areas": null,
            "grid_template_columns": null,
            "grid_template_rows": null,
            "height": null,
            "justify_content": null,
            "justify_items": null,
            "left": null,
            "margin": null,
            "max_height": null,
            "max_width": null,
            "min_height": null,
            "min_width": null,
            "object_fit": null,
            "object_position": null,
            "order": null,
            "overflow": null,
            "overflow_x": null,
            "overflow_y": null,
            "padding": null,
            "right": null,
            "top": null,
            "visibility": null,
            "width": null
          }
        },
        "58da6b4d3a4f442fb9aebcf8e9e39121": {
          "model_module": "@jupyter-widgets/controls",
          "model_name": "DescriptionStyleModel",
          "model_module_version": "1.5.0",
          "state": {
            "_model_module": "@jupyter-widgets/controls",
            "_model_module_version": "1.5.0",
            "_model_name": "DescriptionStyleModel",
            "_view_count": null,
            "_view_module": "@jupyter-widgets/base",
            "_view_module_version": "1.2.0",
            "_view_name": "StyleView",
            "description_width": ""
          }
        },
        "62dca40ba0ef41538fa238a4f866590d": {
          "model_module": "@jupyter-widgets/base",
          "model_name": "LayoutModel",
          "model_module_version": "1.2.0",
          "state": {
            "_model_module": "@jupyter-widgets/base",
            "_model_module_version": "1.2.0",
            "_model_name": "LayoutModel",
            "_view_count": null,
            "_view_module": "@jupyter-widgets/base",
            "_view_module_version": "1.2.0",
            "_view_name": "LayoutView",
            "align_content": null,
            "align_items": null,
            "align_self": null,
            "border": null,
            "bottom": null,
            "display": null,
            "flex": null,
            "flex_flow": null,
            "grid_area": null,
            "grid_auto_columns": null,
            "grid_auto_flow": null,
            "grid_auto_rows": null,
            "grid_column": null,
            "grid_gap": null,
            "grid_row": null,
            "grid_template_areas": null,
            "grid_template_columns": null,
            "grid_template_rows": null,
            "height": null,
            "justify_content": null,
            "justify_items": null,
            "left": null,
            "margin": null,
            "max_height": null,
            "max_width": null,
            "min_height": null,
            "min_width": null,
            "object_fit": null,
            "object_position": null,
            "order": null,
            "overflow": null,
            "overflow_x": null,
            "overflow_y": null,
            "padding": null,
            "right": null,
            "top": null,
            "visibility": null,
            "width": null
          }
        },
        "c31a426a2cbc4bd1977eebfde4630245": {
          "model_module": "@jupyter-widgets/controls",
          "model_name": "ProgressStyleModel",
          "model_module_version": "1.5.0",
          "state": {
            "_model_module": "@jupyter-widgets/controls",
            "_model_module_version": "1.5.0",
            "_model_name": "ProgressStyleModel",
            "_view_count": null,
            "_view_module": "@jupyter-widgets/base",
            "_view_module_version": "1.2.0",
            "_view_name": "StyleView",
            "bar_color": null,
            "description_width": ""
          }
        },
        "63802b2e805e43eda63963065a7a7999": {
          "model_module": "@jupyter-widgets/base",
          "model_name": "LayoutModel",
          "model_module_version": "1.2.0",
          "state": {
            "_model_module": "@jupyter-widgets/base",
            "_model_module_version": "1.2.0",
            "_model_name": "LayoutModel",
            "_view_count": null,
            "_view_module": "@jupyter-widgets/base",
            "_view_module_version": "1.2.0",
            "_view_name": "LayoutView",
            "align_content": null,
            "align_items": null,
            "align_self": null,
            "border": null,
            "bottom": null,
            "display": null,
            "flex": null,
            "flex_flow": null,
            "grid_area": null,
            "grid_auto_columns": null,
            "grid_auto_flow": null,
            "grid_auto_rows": null,
            "grid_column": null,
            "grid_gap": null,
            "grid_row": null,
            "grid_template_areas": null,
            "grid_template_columns": null,
            "grid_template_rows": null,
            "height": null,
            "justify_content": null,
            "justify_items": null,
            "left": null,
            "margin": null,
            "max_height": null,
            "max_width": null,
            "min_height": null,
            "min_width": null,
            "object_fit": null,
            "object_position": null,
            "order": null,
            "overflow": null,
            "overflow_x": null,
            "overflow_y": null,
            "padding": null,
            "right": null,
            "top": null,
            "visibility": null,
            "width": null
          }
        },
        "2897b5cea7c34df999cf6853086fb3f6": {
          "model_module": "@jupyter-widgets/controls",
          "model_name": "DescriptionStyleModel",
          "model_module_version": "1.5.0",
          "state": {
            "_model_module": "@jupyter-widgets/controls",
            "_model_module_version": "1.5.0",
            "_model_name": "DescriptionStyleModel",
            "_view_count": null,
            "_view_module": "@jupyter-widgets/base",
            "_view_module_version": "1.2.0",
            "_view_name": "StyleView",
            "description_width": ""
          }
        },
        "e3fa5641e13e4f4d92511fb61b386cc5": {
          "model_module": "@jupyter-widgets/controls",
          "model_name": "HBoxModel",
          "model_module_version": "1.5.0",
          "state": {
            "_dom_classes": [],
            "_model_module": "@jupyter-widgets/controls",
            "_model_module_version": "1.5.0",
            "_model_name": "HBoxModel",
            "_view_count": null,
            "_view_module": "@jupyter-widgets/controls",
            "_view_module_version": "1.5.0",
            "_view_name": "HBoxView",
            "box_style": "",
            "children": [
              "IPY_MODEL_7a5539f0d6354f9cb2b6201a9ac7a237",
              "IPY_MODEL_5f7492557c9843eeb9381893aa54a4bd",
              "IPY_MODEL_fcbd4d311bb941efb82e9b7d418149b4"
            ],
            "layout": "IPY_MODEL_e3a9ab19dd114b5fbd286c14c74acecc"
          }
        },
        "7a5539f0d6354f9cb2b6201a9ac7a237": {
          "model_module": "@jupyter-widgets/controls",
          "model_name": "HTMLModel",
          "model_module_version": "1.5.0",
          "state": {
            "_dom_classes": [],
            "_model_module": "@jupyter-widgets/controls",
            "_model_module_version": "1.5.0",
            "_model_name": "HTMLModel",
            "_view_count": null,
            "_view_module": "@jupyter-widgets/controls",
            "_view_module_version": "1.5.0",
            "_view_name": "HTMLView",
            "description": "",
            "description_tooltip": null,
            "layout": "IPY_MODEL_94b45c0e527e4cfdb0cdb1072fc3629b",
            "placeholder": "​",
            "style": "IPY_MODEL_ce4565e90cf445718a9b93f5a2913ffd",
            "value": "Downloading data files: 100%"
          }
        },
        "5f7492557c9843eeb9381893aa54a4bd": {
          "model_module": "@jupyter-widgets/controls",
          "model_name": "FloatProgressModel",
          "model_module_version": "1.5.0",
          "state": {
            "_dom_classes": [],
            "_model_module": "@jupyter-widgets/controls",
            "_model_module_version": "1.5.0",
            "_model_name": "FloatProgressModel",
            "_view_count": null,
            "_view_module": "@jupyter-widgets/controls",
            "_view_module_version": "1.5.0",
            "_view_name": "ProgressView",
            "bar_style": "success",
            "description": "",
            "description_tooltip": null,
            "layout": "IPY_MODEL_71276adcf9d84c6896611e301f361479",
            "max": 2,
            "min": 0,
            "orientation": "horizontal",
            "style": "IPY_MODEL_6a2498cc1663407a87d3789c118ee533",
            "value": 2
          }
        },
        "fcbd4d311bb941efb82e9b7d418149b4": {
          "model_module": "@jupyter-widgets/controls",
          "model_name": "HTMLModel",
          "model_module_version": "1.5.0",
          "state": {
            "_dom_classes": [],
            "_model_module": "@jupyter-widgets/controls",
            "_model_module_version": "1.5.0",
            "_model_name": "HTMLModel",
            "_view_count": null,
            "_view_module": "@jupyter-widgets/controls",
            "_view_module_version": "1.5.0",
            "_view_name": "HTMLView",
            "description": "",
            "description_tooltip": null,
            "layout": "IPY_MODEL_b5db58f2d6214e3a90f89b5e0c73ee78",
            "placeholder": "​",
            "style": "IPY_MODEL_dacfcb74e6854d7ab01748ae8cb5658c",
            "value": " 2/2 [01:36&lt;00:00, 41.47s/it]"
          }
        },
        "e3a9ab19dd114b5fbd286c14c74acecc": {
          "model_module": "@jupyter-widgets/base",
          "model_name": "LayoutModel",
          "model_module_version": "1.2.0",
          "state": {
            "_model_module": "@jupyter-widgets/base",
            "_model_module_version": "1.2.0",
            "_model_name": "LayoutModel",
            "_view_count": null,
            "_view_module": "@jupyter-widgets/base",
            "_view_module_version": "1.2.0",
            "_view_name": "LayoutView",
            "align_content": null,
            "align_items": null,
            "align_self": null,
            "border": null,
            "bottom": null,
            "display": null,
            "flex": null,
            "flex_flow": null,
            "grid_area": null,
            "grid_auto_columns": null,
            "grid_auto_flow": null,
            "grid_auto_rows": null,
            "grid_column": null,
            "grid_gap": null,
            "grid_row": null,
            "grid_template_areas": null,
            "grid_template_columns": null,
            "grid_template_rows": null,
            "height": null,
            "justify_content": null,
            "justify_items": null,
            "left": null,
            "margin": null,
            "max_height": null,
            "max_width": null,
            "min_height": null,
            "min_width": null,
            "object_fit": null,
            "object_position": null,
            "order": null,
            "overflow": null,
            "overflow_x": null,
            "overflow_y": null,
            "padding": null,
            "right": null,
            "top": null,
            "visibility": null,
            "width": null
          }
        },
        "94b45c0e527e4cfdb0cdb1072fc3629b": {
          "model_module": "@jupyter-widgets/base",
          "model_name": "LayoutModel",
          "model_module_version": "1.2.0",
          "state": {
            "_model_module": "@jupyter-widgets/base",
            "_model_module_version": "1.2.0",
            "_model_name": "LayoutModel",
            "_view_count": null,
            "_view_module": "@jupyter-widgets/base",
            "_view_module_version": "1.2.0",
            "_view_name": "LayoutView",
            "align_content": null,
            "align_items": null,
            "align_self": null,
            "border": null,
            "bottom": null,
            "display": null,
            "flex": null,
            "flex_flow": null,
            "grid_area": null,
            "grid_auto_columns": null,
            "grid_auto_flow": null,
            "grid_auto_rows": null,
            "grid_column": null,
            "grid_gap": null,
            "grid_row": null,
            "grid_template_areas": null,
            "grid_template_columns": null,
            "grid_template_rows": null,
            "height": null,
            "justify_content": null,
            "justify_items": null,
            "left": null,
            "margin": null,
            "max_height": null,
            "max_width": null,
            "min_height": null,
            "min_width": null,
            "object_fit": null,
            "object_position": null,
            "order": null,
            "overflow": null,
            "overflow_x": null,
            "overflow_y": null,
            "padding": null,
            "right": null,
            "top": null,
            "visibility": null,
            "width": null
          }
        },
        "ce4565e90cf445718a9b93f5a2913ffd": {
          "model_module": "@jupyter-widgets/controls",
          "model_name": "DescriptionStyleModel",
          "model_module_version": "1.5.0",
          "state": {
            "_model_module": "@jupyter-widgets/controls",
            "_model_module_version": "1.5.0",
            "_model_name": "DescriptionStyleModel",
            "_view_count": null,
            "_view_module": "@jupyter-widgets/base",
            "_view_module_version": "1.2.0",
            "_view_name": "StyleView",
            "description_width": ""
          }
        },
        "71276adcf9d84c6896611e301f361479": {
          "model_module": "@jupyter-widgets/base",
          "model_name": "LayoutModel",
          "model_module_version": "1.2.0",
          "state": {
            "_model_module": "@jupyter-widgets/base",
            "_model_module_version": "1.2.0",
            "_model_name": "LayoutModel",
            "_view_count": null,
            "_view_module": "@jupyter-widgets/base",
            "_view_module_version": "1.2.0",
            "_view_name": "LayoutView",
            "align_content": null,
            "align_items": null,
            "align_self": null,
            "border": null,
            "bottom": null,
            "display": null,
            "flex": null,
            "flex_flow": null,
            "grid_area": null,
            "grid_auto_columns": null,
            "grid_auto_flow": null,
            "grid_auto_rows": null,
            "grid_column": null,
            "grid_gap": null,
            "grid_row": null,
            "grid_template_areas": null,
            "grid_template_columns": null,
            "grid_template_rows": null,
            "height": null,
            "justify_content": null,
            "justify_items": null,
            "left": null,
            "margin": null,
            "max_height": null,
            "max_width": null,
            "min_height": null,
            "min_width": null,
            "object_fit": null,
            "object_position": null,
            "order": null,
            "overflow": null,
            "overflow_x": null,
            "overflow_y": null,
            "padding": null,
            "right": null,
            "top": null,
            "visibility": null,
            "width": null
          }
        },
        "6a2498cc1663407a87d3789c118ee533": {
          "model_module": "@jupyter-widgets/controls",
          "model_name": "ProgressStyleModel",
          "model_module_version": "1.5.0",
          "state": {
            "_model_module": "@jupyter-widgets/controls",
            "_model_module_version": "1.5.0",
            "_model_name": "ProgressStyleModel",
            "_view_count": null,
            "_view_module": "@jupyter-widgets/base",
            "_view_module_version": "1.2.0",
            "_view_name": "StyleView",
            "bar_color": null,
            "description_width": ""
          }
        },
        "b5db58f2d6214e3a90f89b5e0c73ee78": {
          "model_module": "@jupyter-widgets/base",
          "model_name": "LayoutModel",
          "model_module_version": "1.2.0",
          "state": {
            "_model_module": "@jupyter-widgets/base",
            "_model_module_version": "1.2.0",
            "_model_name": "LayoutModel",
            "_view_count": null,
            "_view_module": "@jupyter-widgets/base",
            "_view_module_version": "1.2.0",
            "_view_name": "LayoutView",
            "align_content": null,
            "align_items": null,
            "align_self": null,
            "border": null,
            "bottom": null,
            "display": null,
            "flex": null,
            "flex_flow": null,
            "grid_area": null,
            "grid_auto_columns": null,
            "grid_auto_flow": null,
            "grid_auto_rows": null,
            "grid_column": null,
            "grid_gap": null,
            "grid_row": null,
            "grid_template_areas": null,
            "grid_template_columns": null,
            "grid_template_rows": null,
            "height": null,
            "justify_content": null,
            "justify_items": null,
            "left": null,
            "margin": null,
            "max_height": null,
            "max_width": null,
            "min_height": null,
            "min_width": null,
            "object_fit": null,
            "object_position": null,
            "order": null,
            "overflow": null,
            "overflow_x": null,
            "overflow_y": null,
            "padding": null,
            "right": null,
            "top": null,
            "visibility": null,
            "width": null
          }
        },
        "dacfcb74e6854d7ab01748ae8cb5658c": {
          "model_module": "@jupyter-widgets/controls",
          "model_name": "DescriptionStyleModel",
          "model_module_version": "1.5.0",
          "state": {
            "_model_module": "@jupyter-widgets/controls",
            "_model_module_version": "1.5.0",
            "_model_name": "DescriptionStyleModel",
            "_view_count": null,
            "_view_module": "@jupyter-widgets/base",
            "_view_module_version": "1.2.0",
            "_view_name": "StyleView",
            "description_width": ""
          }
        },
        "9ccd50bd6af4422b99baee6f3c464d41": {
          "model_module": "@jupyter-widgets/controls",
          "model_name": "HBoxModel",
          "model_module_version": "1.5.0",
          "state": {
            "_dom_classes": [],
            "_model_module": "@jupyter-widgets/controls",
            "_model_module_version": "1.5.0",
            "_model_name": "HBoxModel",
            "_view_count": null,
            "_view_module": "@jupyter-widgets/controls",
            "_view_module_version": "1.5.0",
            "_view_name": "HBoxView",
            "box_style": "",
            "children": [
              "IPY_MODEL_c3172598b5e84675bd92c4d5ad6b64a0",
              "IPY_MODEL_cca7c7a33d514ee1805f02f427ef0d61",
              "IPY_MODEL_256ac5e5991c44c890bb23327c1a8929"
            ],
            "layout": "IPY_MODEL_d8cf939e0ec54f8ca48a007d94819a2b"
          }
        },
        "c3172598b5e84675bd92c4d5ad6b64a0": {
          "model_module": "@jupyter-widgets/controls",
          "model_name": "HTMLModel",
          "model_module_version": "1.5.0",
          "state": {
            "_dom_classes": [],
            "_model_module": "@jupyter-widgets/controls",
            "_model_module_version": "1.5.0",
            "_model_name": "HTMLModel",
            "_view_count": null,
            "_view_module": "@jupyter-widgets/controls",
            "_view_module_version": "1.5.0",
            "_view_name": "HTMLView",
            "description": "",
            "description_tooltip": null,
            "layout": "IPY_MODEL_b3aa3137fe874d2f96aad71436d842e6",
            "placeholder": "​",
            "style": "IPY_MODEL_fc8a1f6cc48b49548d88e3d63c66f588",
            "value": "Downloading data: 100%"
          }
        },
        "cca7c7a33d514ee1805f02f427ef0d61": {
          "model_module": "@jupyter-widgets/controls",
          "model_name": "FloatProgressModel",
          "model_module_version": "1.5.0",
          "state": {
            "_dom_classes": [],
            "_model_module": "@jupyter-widgets/controls",
            "_model_module_version": "1.5.0",
            "_model_name": "FloatProgressModel",
            "_view_count": null,
            "_view_module": "@jupyter-widgets/controls",
            "_view_module_version": "1.5.0",
            "_view_name": "ProgressView",
            "bar_style": "success",
            "description": "",
            "description_tooltip": null,
            "layout": "IPY_MODEL_0d7c9745b77f4061a9882c889956b77a",
            "max": 1729651634,
            "min": 0,
            "orientation": "horizontal",
            "style": "IPY_MODEL_f54dc202b8164b0bb681ed6f327bda84",
            "value": 1729651634
          }
        },
        "256ac5e5991c44c890bb23327c1a8929": {
          "model_module": "@jupyter-widgets/controls",
          "model_name": "HTMLModel",
          "model_module_version": "1.5.0",
          "state": {
            "_dom_classes": [],
            "_model_module": "@jupyter-widgets/controls",
            "_model_module_version": "1.5.0",
            "_model_name": "HTMLModel",
            "_view_count": null,
            "_view_module": "@jupyter-widgets/controls",
            "_view_module_version": "1.5.0",
            "_view_name": "HTMLView",
            "description": "",
            "description_tooltip": null,
            "layout": "IPY_MODEL_5f41b641dc54440a9114b74932cbca6a",
            "placeholder": "​",
            "style": "IPY_MODEL_6df01bc8ad3248189a531223e9294fa4",
            "value": " 1.73G/1.73G [01:25&lt;00:00, 12.5MB/s]"
          }
        },
        "d8cf939e0ec54f8ca48a007d94819a2b": {
          "model_module": "@jupyter-widgets/base",
          "model_name": "LayoutModel",
          "model_module_version": "1.2.0",
          "state": {
            "_model_module": "@jupyter-widgets/base",
            "_model_module_version": "1.2.0",
            "_model_name": "LayoutModel",
            "_view_count": null,
            "_view_module": "@jupyter-widgets/base",
            "_view_module_version": "1.2.0",
            "_view_name": "LayoutView",
            "align_content": null,
            "align_items": null,
            "align_self": null,
            "border": null,
            "bottom": null,
            "display": null,
            "flex": null,
            "flex_flow": null,
            "grid_area": null,
            "grid_auto_columns": null,
            "grid_auto_flow": null,
            "grid_auto_rows": null,
            "grid_column": null,
            "grid_gap": null,
            "grid_row": null,
            "grid_template_areas": null,
            "grid_template_columns": null,
            "grid_template_rows": null,
            "height": null,
            "justify_content": null,
            "justify_items": null,
            "left": null,
            "margin": null,
            "max_height": null,
            "max_width": null,
            "min_height": null,
            "min_width": null,
            "object_fit": null,
            "object_position": null,
            "order": null,
            "overflow": null,
            "overflow_x": null,
            "overflow_y": null,
            "padding": null,
            "right": null,
            "top": null,
            "visibility": null,
            "width": null
          }
        },
        "b3aa3137fe874d2f96aad71436d842e6": {
          "model_module": "@jupyter-widgets/base",
          "model_name": "LayoutModel",
          "model_module_version": "1.2.0",
          "state": {
            "_model_module": "@jupyter-widgets/base",
            "_model_module_version": "1.2.0",
            "_model_name": "LayoutModel",
            "_view_count": null,
            "_view_module": "@jupyter-widgets/base",
            "_view_module_version": "1.2.0",
            "_view_name": "LayoutView",
            "align_content": null,
            "align_items": null,
            "align_self": null,
            "border": null,
            "bottom": null,
            "display": null,
            "flex": null,
            "flex_flow": null,
            "grid_area": null,
            "grid_auto_columns": null,
            "grid_auto_flow": null,
            "grid_auto_rows": null,
            "grid_column": null,
            "grid_gap": null,
            "grid_row": null,
            "grid_template_areas": null,
            "grid_template_columns": null,
            "grid_template_rows": null,
            "height": null,
            "justify_content": null,
            "justify_items": null,
            "left": null,
            "margin": null,
            "max_height": null,
            "max_width": null,
            "min_height": null,
            "min_width": null,
            "object_fit": null,
            "object_position": null,
            "order": null,
            "overflow": null,
            "overflow_x": null,
            "overflow_y": null,
            "padding": null,
            "right": null,
            "top": null,
            "visibility": null,
            "width": null
          }
        },
        "fc8a1f6cc48b49548d88e3d63c66f588": {
          "model_module": "@jupyter-widgets/controls",
          "model_name": "DescriptionStyleModel",
          "model_module_version": "1.5.0",
          "state": {
            "_model_module": "@jupyter-widgets/controls",
            "_model_module_version": "1.5.0",
            "_model_name": "DescriptionStyleModel",
            "_view_count": null,
            "_view_module": "@jupyter-widgets/base",
            "_view_module_version": "1.2.0",
            "_view_name": "StyleView",
            "description_width": ""
          }
        },
        "0d7c9745b77f4061a9882c889956b77a": {
          "model_module": "@jupyter-widgets/base",
          "model_name": "LayoutModel",
          "model_module_version": "1.2.0",
          "state": {
            "_model_module": "@jupyter-widgets/base",
            "_model_module_version": "1.2.0",
            "_model_name": "LayoutModel",
            "_view_count": null,
            "_view_module": "@jupyter-widgets/base",
            "_view_module_version": "1.2.0",
            "_view_name": "LayoutView",
            "align_content": null,
            "align_items": null,
            "align_self": null,
            "border": null,
            "bottom": null,
            "display": null,
            "flex": null,
            "flex_flow": null,
            "grid_area": null,
            "grid_auto_columns": null,
            "grid_auto_flow": null,
            "grid_auto_rows": null,
            "grid_column": null,
            "grid_gap": null,
            "grid_row": null,
            "grid_template_areas": null,
            "grid_template_columns": null,
            "grid_template_rows": null,
            "height": null,
            "justify_content": null,
            "justify_items": null,
            "left": null,
            "margin": null,
            "max_height": null,
            "max_width": null,
            "min_height": null,
            "min_width": null,
            "object_fit": null,
            "object_position": null,
            "order": null,
            "overflow": null,
            "overflow_x": null,
            "overflow_y": null,
            "padding": null,
            "right": null,
            "top": null,
            "visibility": null,
            "width": null
          }
        },
        "f54dc202b8164b0bb681ed6f327bda84": {
          "model_module": "@jupyter-widgets/controls",
          "model_name": "ProgressStyleModel",
          "model_module_version": "1.5.0",
          "state": {
            "_model_module": "@jupyter-widgets/controls",
            "_model_module_version": "1.5.0",
            "_model_name": "ProgressStyleModel",
            "_view_count": null,
            "_view_module": "@jupyter-widgets/base",
            "_view_module_version": "1.2.0",
            "_view_name": "StyleView",
            "bar_color": null,
            "description_width": ""
          }
        },
        "5f41b641dc54440a9114b74932cbca6a": {
          "model_module": "@jupyter-widgets/base",
          "model_name": "LayoutModel",
          "model_module_version": "1.2.0",
          "state": {
            "_model_module": "@jupyter-widgets/base",
            "_model_module_version": "1.2.0",
            "_model_name": "LayoutModel",
            "_view_count": null,
            "_view_module": "@jupyter-widgets/base",
            "_view_module_version": "1.2.0",
            "_view_name": "LayoutView",
            "align_content": null,
            "align_items": null,
            "align_self": null,
            "border": null,
            "bottom": null,
            "display": null,
            "flex": null,
            "flex_flow": null,
            "grid_area": null,
            "grid_auto_columns": null,
            "grid_auto_flow": null,
            "grid_auto_rows": null,
            "grid_column": null,
            "grid_gap": null,
            "grid_row": null,
            "grid_template_areas": null,
            "grid_template_columns": null,
            "grid_template_rows": null,
            "height": null,
            "justify_content": null,
            "justify_items": null,
            "left": null,
            "margin": null,
            "max_height": null,
            "max_width": null,
            "min_height": null,
            "min_width": null,
            "object_fit": null,
            "object_position": null,
            "order": null,
            "overflow": null,
            "overflow_x": null,
            "overflow_y": null,
            "padding": null,
            "right": null,
            "top": null,
            "visibility": null,
            "width": null
          }
        },
        "6df01bc8ad3248189a531223e9294fa4": {
          "model_module": "@jupyter-widgets/controls",
          "model_name": "DescriptionStyleModel",
          "model_module_version": "1.5.0",
          "state": {
            "_model_module": "@jupyter-widgets/controls",
            "_model_module_version": "1.5.0",
            "_model_name": "DescriptionStyleModel",
            "_view_count": null,
            "_view_module": "@jupyter-widgets/base",
            "_view_module_version": "1.2.0",
            "_view_name": "StyleView",
            "description_width": ""
          }
        },
        "56eb067e7eb94c64ad1a0c1db3472471": {
          "model_module": "@jupyter-widgets/controls",
          "model_name": "HBoxModel",
          "model_module_version": "1.5.0",
          "state": {
            "_dom_classes": [],
            "_model_module": "@jupyter-widgets/controls",
            "_model_module_version": "1.5.0",
            "_model_name": "HBoxModel",
            "_view_count": null,
            "_view_module": "@jupyter-widgets/controls",
            "_view_module_version": "1.5.0",
            "_view_name": "HBoxView",
            "box_style": "",
            "children": [
              "IPY_MODEL_68a78cc773134a79a6844ab6ef408d1e",
              "IPY_MODEL_971fb1a9f9124da78082af5f19a4f90e",
              "IPY_MODEL_35ecf19dc6194490845897d5d792bd3b"
            ],
            "layout": "IPY_MODEL_b396e9b88e444b759147b41ea534dcb7"
          }
        },
        "68a78cc773134a79a6844ab6ef408d1e": {
          "model_module": "@jupyter-widgets/controls",
          "model_name": "HTMLModel",
          "model_module_version": "1.5.0",
          "state": {
            "_dom_classes": [],
            "_model_module": "@jupyter-widgets/controls",
            "_model_module_version": "1.5.0",
            "_model_name": "HTMLModel",
            "_view_count": null,
            "_view_module": "@jupyter-widgets/controls",
            "_view_module_version": "1.5.0",
            "_view_name": "HTMLView",
            "description": "",
            "description_tooltip": null,
            "layout": "IPY_MODEL_f11fd1c2c0504df59e5749630f18b969",
            "placeholder": "​",
            "style": "IPY_MODEL_20d45a05bed9419fb260a7a44f8739a4",
            "value": "Downloading data: 100%"
          }
        },
        "971fb1a9f9124da78082af5f19a4f90e": {
          "model_module": "@jupyter-widgets/controls",
          "model_name": "FloatProgressModel",
          "model_module_version": "1.5.0",
          "state": {
            "_dom_classes": [],
            "_model_module": "@jupyter-widgets/controls",
            "_model_module_version": "1.5.0",
            "_model_name": "FloatProgressModel",
            "_view_count": null,
            "_view_module": "@jupyter-widgets/controls",
            "_view_module_version": "1.5.0",
            "_view_name": "ProgressView",
            "bar_style": "success",
            "description": "",
            "description_tooltip": null,
            "layout": "IPY_MODEL_05c0191c29c1439ba490b55a5d97414e",
            "max": 160614310,
            "min": 0,
            "orientation": "horizontal",
            "style": "IPY_MODEL_cd70205d017f4610a6a6fbb2647a1534",
            "value": 160614310
          }
        },
        "35ecf19dc6194490845897d5d792bd3b": {
          "model_module": "@jupyter-widgets/controls",
          "model_name": "HTMLModel",
          "model_module_version": "1.5.0",
          "state": {
            "_dom_classes": [],
            "_model_module": "@jupyter-widgets/controls",
            "_model_module_version": "1.5.0",
            "_model_name": "HTMLModel",
            "_view_count": null,
            "_view_module": "@jupyter-widgets/controls",
            "_view_module_version": "1.5.0",
            "_view_name": "HTMLView",
            "description": "",
            "description_tooltip": null,
            "layout": "IPY_MODEL_018fcd7791ac4dc8afa888f8f526f3c3",
            "placeholder": "​",
            "style": "IPY_MODEL_e5395da4565d46308ba4bb863f499c61",
            "value": " 161M/161M [00:09&lt;00:00, 21.7MB/s]"
          }
        },
        "b396e9b88e444b759147b41ea534dcb7": {
          "model_module": "@jupyter-widgets/base",
          "model_name": "LayoutModel",
          "model_module_version": "1.2.0",
          "state": {
            "_model_module": "@jupyter-widgets/base",
            "_model_module_version": "1.2.0",
            "_model_name": "LayoutModel",
            "_view_count": null,
            "_view_module": "@jupyter-widgets/base",
            "_view_module_version": "1.2.0",
            "_view_name": "LayoutView",
            "align_content": null,
            "align_items": null,
            "align_self": null,
            "border": null,
            "bottom": null,
            "display": null,
            "flex": null,
            "flex_flow": null,
            "grid_area": null,
            "grid_auto_columns": null,
            "grid_auto_flow": null,
            "grid_auto_rows": null,
            "grid_column": null,
            "grid_gap": null,
            "grid_row": null,
            "grid_template_areas": null,
            "grid_template_columns": null,
            "grid_template_rows": null,
            "height": null,
            "justify_content": null,
            "justify_items": null,
            "left": null,
            "margin": null,
            "max_height": null,
            "max_width": null,
            "min_height": null,
            "min_width": null,
            "object_fit": null,
            "object_position": null,
            "order": null,
            "overflow": null,
            "overflow_x": null,
            "overflow_y": null,
            "padding": null,
            "right": null,
            "top": null,
            "visibility": null,
            "width": null
          }
        },
        "f11fd1c2c0504df59e5749630f18b969": {
          "model_module": "@jupyter-widgets/base",
          "model_name": "LayoutModel",
          "model_module_version": "1.2.0",
          "state": {
            "_model_module": "@jupyter-widgets/base",
            "_model_module_version": "1.2.0",
            "_model_name": "LayoutModel",
            "_view_count": null,
            "_view_module": "@jupyter-widgets/base",
            "_view_module_version": "1.2.0",
            "_view_name": "LayoutView",
            "align_content": null,
            "align_items": null,
            "align_self": null,
            "border": null,
            "bottom": null,
            "display": null,
            "flex": null,
            "flex_flow": null,
            "grid_area": null,
            "grid_auto_columns": null,
            "grid_auto_flow": null,
            "grid_auto_rows": null,
            "grid_column": null,
            "grid_gap": null,
            "grid_row": null,
            "grid_template_areas": null,
            "grid_template_columns": null,
            "grid_template_rows": null,
            "height": null,
            "justify_content": null,
            "justify_items": null,
            "left": null,
            "margin": null,
            "max_height": null,
            "max_width": null,
            "min_height": null,
            "min_width": null,
            "object_fit": null,
            "object_position": null,
            "order": null,
            "overflow": null,
            "overflow_x": null,
            "overflow_y": null,
            "padding": null,
            "right": null,
            "top": null,
            "visibility": null,
            "width": null
          }
        },
        "20d45a05bed9419fb260a7a44f8739a4": {
          "model_module": "@jupyter-widgets/controls",
          "model_name": "DescriptionStyleModel",
          "model_module_version": "1.5.0",
          "state": {
            "_model_module": "@jupyter-widgets/controls",
            "_model_module_version": "1.5.0",
            "_model_name": "DescriptionStyleModel",
            "_view_count": null,
            "_view_module": "@jupyter-widgets/base",
            "_view_module_version": "1.2.0",
            "_view_name": "StyleView",
            "description_width": ""
          }
        },
        "05c0191c29c1439ba490b55a5d97414e": {
          "model_module": "@jupyter-widgets/base",
          "model_name": "LayoutModel",
          "model_module_version": "1.2.0",
          "state": {
            "_model_module": "@jupyter-widgets/base",
            "_model_module_version": "1.2.0",
            "_model_name": "LayoutModel",
            "_view_count": null,
            "_view_module": "@jupyter-widgets/base",
            "_view_module_version": "1.2.0",
            "_view_name": "LayoutView",
            "align_content": null,
            "align_items": null,
            "align_self": null,
            "border": null,
            "bottom": null,
            "display": null,
            "flex": null,
            "flex_flow": null,
            "grid_area": null,
            "grid_auto_columns": null,
            "grid_auto_flow": null,
            "grid_auto_rows": null,
            "grid_column": null,
            "grid_gap": null,
            "grid_row": null,
            "grid_template_areas": null,
            "grid_template_columns": null,
            "grid_template_rows": null,
            "height": null,
            "justify_content": null,
            "justify_items": null,
            "left": null,
            "margin": null,
            "max_height": null,
            "max_width": null,
            "min_height": null,
            "min_width": null,
            "object_fit": null,
            "object_position": null,
            "order": null,
            "overflow": null,
            "overflow_x": null,
            "overflow_y": null,
            "padding": null,
            "right": null,
            "top": null,
            "visibility": null,
            "width": null
          }
        },
        "cd70205d017f4610a6a6fbb2647a1534": {
          "model_module": "@jupyter-widgets/controls",
          "model_name": "ProgressStyleModel",
          "model_module_version": "1.5.0",
          "state": {
            "_model_module": "@jupyter-widgets/controls",
            "_model_module_version": "1.5.0",
            "_model_name": "ProgressStyleModel",
            "_view_count": null,
            "_view_module": "@jupyter-widgets/base",
            "_view_module_version": "1.2.0",
            "_view_name": "StyleView",
            "bar_color": null,
            "description_width": ""
          }
        },
        "018fcd7791ac4dc8afa888f8f526f3c3": {
          "model_module": "@jupyter-widgets/base",
          "model_name": "LayoutModel",
          "model_module_version": "1.2.0",
          "state": {
            "_model_module": "@jupyter-widgets/base",
            "_model_module_version": "1.2.0",
            "_model_name": "LayoutModel",
            "_view_count": null,
            "_view_module": "@jupyter-widgets/base",
            "_view_module_version": "1.2.0",
            "_view_name": "LayoutView",
            "align_content": null,
            "align_items": null,
            "align_self": null,
            "border": null,
            "bottom": null,
            "display": null,
            "flex": null,
            "flex_flow": null,
            "grid_area": null,
            "grid_auto_columns": null,
            "grid_auto_flow": null,
            "grid_auto_rows": null,
            "grid_column": null,
            "grid_gap": null,
            "grid_row": null,
            "grid_template_areas": null,
            "grid_template_columns": null,
            "grid_template_rows": null,
            "height": null,
            "justify_content": null,
            "justify_items": null,
            "left": null,
            "margin": null,
            "max_height": null,
            "max_width": null,
            "min_height": null,
            "min_width": null,
            "object_fit": null,
            "object_position": null,
            "order": null,
            "overflow": null,
            "overflow_x": null,
            "overflow_y": null,
            "padding": null,
            "right": null,
            "top": null,
            "visibility": null,
            "width": null
          }
        },
        "e5395da4565d46308ba4bb863f499c61": {
          "model_module": "@jupyter-widgets/controls",
          "model_name": "DescriptionStyleModel",
          "model_module_version": "1.5.0",
          "state": {
            "_model_module": "@jupyter-widgets/controls",
            "_model_module_version": "1.5.0",
            "_model_name": "DescriptionStyleModel",
            "_view_count": null,
            "_view_module": "@jupyter-widgets/base",
            "_view_module_version": "1.2.0",
            "_view_name": "StyleView",
            "description_width": ""
          }
        },
        "021be539679e4ebb97566a6f0068479f": {
          "model_module": "@jupyter-widgets/controls",
          "model_name": "HBoxModel",
          "model_module_version": "1.5.0",
          "state": {
            "_dom_classes": [],
            "_model_module": "@jupyter-widgets/controls",
            "_model_module_version": "1.5.0",
            "_model_name": "HBoxModel",
            "_view_count": null,
            "_view_module": "@jupyter-widgets/controls",
            "_view_module_version": "1.5.0",
            "_view_name": "HBoxView",
            "box_style": "",
            "children": [
              "IPY_MODEL_6f8fde9527a045d4943bc8d25b773a06",
              "IPY_MODEL_5784bce719d54edb90259f1fbaec28a4",
              "IPY_MODEL_c748044499894b248c6ea6db9df32592"
            ],
            "layout": "IPY_MODEL_defd1daf8a21489dbd043b8e786326ed"
          }
        },
        "6f8fde9527a045d4943bc8d25b773a06": {
          "model_module": "@jupyter-widgets/controls",
          "model_name": "HTMLModel",
          "model_module_version": "1.5.0",
          "state": {
            "_dom_classes": [],
            "_model_module": "@jupyter-widgets/controls",
            "_model_module_version": "1.5.0",
            "_model_name": "HTMLModel",
            "_view_count": null,
            "_view_module": "@jupyter-widgets/controls",
            "_view_module_version": "1.5.0",
            "_view_name": "HTMLView",
            "description": "",
            "description_tooltip": null,
            "layout": "IPY_MODEL_ea058dd3b1f14d92a1958b0b89009ab4",
            "placeholder": "​",
            "style": "IPY_MODEL_04f7bfd0ffa444f0a79f55df741bcc51",
            "value": "Extracting data files: 100%"
          }
        },
        "5784bce719d54edb90259f1fbaec28a4": {
          "model_module": "@jupyter-widgets/controls",
          "model_name": "FloatProgressModel",
          "model_module_version": "1.5.0",
          "state": {
            "_dom_classes": [],
            "_model_module": "@jupyter-widgets/controls",
            "_model_module_version": "1.5.0",
            "_model_name": "FloatProgressModel",
            "_view_count": null,
            "_view_module": "@jupyter-widgets/controls",
            "_view_module_version": "1.5.0",
            "_view_name": "ProgressView",
            "bar_style": "success",
            "description": "",
            "description_tooltip": null,
            "layout": "IPY_MODEL_a7a0d1d8c196405ba4f4fb3353e593fa",
            "max": 2,
            "min": 0,
            "orientation": "horizontal",
            "style": "IPY_MODEL_66d966ba0714489688d489f6d6fe786f",
            "value": 2
          }
        },
        "c748044499894b248c6ea6db9df32592": {
          "model_module": "@jupyter-widgets/controls",
          "model_name": "HTMLModel",
          "model_module_version": "1.5.0",
          "state": {
            "_dom_classes": [],
            "_model_module": "@jupyter-widgets/controls",
            "_model_module_version": "1.5.0",
            "_model_name": "HTMLModel",
            "_view_count": null,
            "_view_module": "@jupyter-widgets/controls",
            "_view_module_version": "1.5.0",
            "_view_name": "HTMLView",
            "description": "",
            "description_tooltip": null,
            "layout": "IPY_MODEL_cdd8f7d5b93b44b6a871806f30a5352a",
            "placeholder": "​",
            "style": "IPY_MODEL_3e7ffa81acc94b2d8e182a08205251f4",
            "value": " 2/2 [01:13&lt;00:00, 31.82s/it]"
          }
        },
        "defd1daf8a21489dbd043b8e786326ed": {
          "model_module": "@jupyter-widgets/base",
          "model_name": "LayoutModel",
          "model_module_version": "1.2.0",
          "state": {
            "_model_module": "@jupyter-widgets/base",
            "_model_module_version": "1.2.0",
            "_model_name": "LayoutModel",
            "_view_count": null,
            "_view_module": "@jupyter-widgets/base",
            "_view_module_version": "1.2.0",
            "_view_name": "LayoutView",
            "align_content": null,
            "align_items": null,
            "align_self": null,
            "border": null,
            "bottom": null,
            "display": null,
            "flex": null,
            "flex_flow": null,
            "grid_area": null,
            "grid_auto_columns": null,
            "grid_auto_flow": null,
            "grid_auto_rows": null,
            "grid_column": null,
            "grid_gap": null,
            "grid_row": null,
            "grid_template_areas": null,
            "grid_template_columns": null,
            "grid_template_rows": null,
            "height": null,
            "justify_content": null,
            "justify_items": null,
            "left": null,
            "margin": null,
            "max_height": null,
            "max_width": null,
            "min_height": null,
            "min_width": null,
            "object_fit": null,
            "object_position": null,
            "order": null,
            "overflow": null,
            "overflow_x": null,
            "overflow_y": null,
            "padding": null,
            "right": null,
            "top": null,
            "visibility": null,
            "width": null
          }
        },
        "ea058dd3b1f14d92a1958b0b89009ab4": {
          "model_module": "@jupyter-widgets/base",
          "model_name": "LayoutModel",
          "model_module_version": "1.2.0",
          "state": {
            "_model_module": "@jupyter-widgets/base",
            "_model_module_version": "1.2.0",
            "_model_name": "LayoutModel",
            "_view_count": null,
            "_view_module": "@jupyter-widgets/base",
            "_view_module_version": "1.2.0",
            "_view_name": "LayoutView",
            "align_content": null,
            "align_items": null,
            "align_self": null,
            "border": null,
            "bottom": null,
            "display": null,
            "flex": null,
            "flex_flow": null,
            "grid_area": null,
            "grid_auto_columns": null,
            "grid_auto_flow": null,
            "grid_auto_rows": null,
            "grid_column": null,
            "grid_gap": null,
            "grid_row": null,
            "grid_template_areas": null,
            "grid_template_columns": null,
            "grid_template_rows": null,
            "height": null,
            "justify_content": null,
            "justify_items": null,
            "left": null,
            "margin": null,
            "max_height": null,
            "max_width": null,
            "min_height": null,
            "min_width": null,
            "object_fit": null,
            "object_position": null,
            "order": null,
            "overflow": null,
            "overflow_x": null,
            "overflow_y": null,
            "padding": null,
            "right": null,
            "top": null,
            "visibility": null,
            "width": null
          }
        },
        "04f7bfd0ffa444f0a79f55df741bcc51": {
          "model_module": "@jupyter-widgets/controls",
          "model_name": "DescriptionStyleModel",
          "model_module_version": "1.5.0",
          "state": {
            "_model_module": "@jupyter-widgets/controls",
            "_model_module_version": "1.5.0",
            "_model_name": "DescriptionStyleModel",
            "_view_count": null,
            "_view_module": "@jupyter-widgets/base",
            "_view_module_version": "1.2.0",
            "_view_name": "StyleView",
            "description_width": ""
          }
        },
        "a7a0d1d8c196405ba4f4fb3353e593fa": {
          "model_module": "@jupyter-widgets/base",
          "model_name": "LayoutModel",
          "model_module_version": "1.2.0",
          "state": {
            "_model_module": "@jupyter-widgets/base",
            "_model_module_version": "1.2.0",
            "_model_name": "LayoutModel",
            "_view_count": null,
            "_view_module": "@jupyter-widgets/base",
            "_view_module_version": "1.2.0",
            "_view_name": "LayoutView",
            "align_content": null,
            "align_items": null,
            "align_self": null,
            "border": null,
            "bottom": null,
            "display": null,
            "flex": null,
            "flex_flow": null,
            "grid_area": null,
            "grid_auto_columns": null,
            "grid_auto_flow": null,
            "grid_auto_rows": null,
            "grid_column": null,
            "grid_gap": null,
            "grid_row": null,
            "grid_template_areas": null,
            "grid_template_columns": null,
            "grid_template_rows": null,
            "height": null,
            "justify_content": null,
            "justify_items": null,
            "left": null,
            "margin": null,
            "max_height": null,
            "max_width": null,
            "min_height": null,
            "min_width": null,
            "object_fit": null,
            "object_position": null,
            "order": null,
            "overflow": null,
            "overflow_x": null,
            "overflow_y": null,
            "padding": null,
            "right": null,
            "top": null,
            "visibility": null,
            "width": null
          }
        },
        "66d966ba0714489688d489f6d6fe786f": {
          "model_module": "@jupyter-widgets/controls",
          "model_name": "ProgressStyleModel",
          "model_module_version": "1.5.0",
          "state": {
            "_model_module": "@jupyter-widgets/controls",
            "_model_module_version": "1.5.0",
            "_model_name": "ProgressStyleModel",
            "_view_count": null,
            "_view_module": "@jupyter-widgets/base",
            "_view_module_version": "1.2.0",
            "_view_name": "StyleView",
            "bar_color": null,
            "description_width": ""
          }
        },
        "cdd8f7d5b93b44b6a871806f30a5352a": {
          "model_module": "@jupyter-widgets/base",
          "model_name": "LayoutModel",
          "model_module_version": "1.2.0",
          "state": {
            "_model_module": "@jupyter-widgets/base",
            "_model_module_version": "1.2.0",
            "_model_name": "LayoutModel",
            "_view_count": null,
            "_view_module": "@jupyter-widgets/base",
            "_view_module_version": "1.2.0",
            "_view_name": "LayoutView",
            "align_content": null,
            "align_items": null,
            "align_self": null,
            "border": null,
            "bottom": null,
            "display": null,
            "flex": null,
            "flex_flow": null,
            "grid_area": null,
            "grid_auto_columns": null,
            "grid_auto_flow": null,
            "grid_auto_rows": null,
            "grid_column": null,
            "grid_gap": null,
            "grid_row": null,
            "grid_template_areas": null,
            "grid_template_columns": null,
            "grid_template_rows": null,
            "height": null,
            "justify_content": null,
            "justify_items": null,
            "left": null,
            "margin": null,
            "max_height": null,
            "max_width": null,
            "min_height": null,
            "min_width": null,
            "object_fit": null,
            "object_position": null,
            "order": null,
            "overflow": null,
            "overflow_x": null,
            "overflow_y": null,
            "padding": null,
            "right": null,
            "top": null,
            "visibility": null,
            "width": null
          }
        },
        "3e7ffa81acc94b2d8e182a08205251f4": {
          "model_module": "@jupyter-widgets/controls",
          "model_name": "DescriptionStyleModel",
          "model_module_version": "1.5.0",
          "state": {
            "_model_module": "@jupyter-widgets/controls",
            "_model_module_version": "1.5.0",
            "_model_name": "DescriptionStyleModel",
            "_view_count": null,
            "_view_module": "@jupyter-widgets/base",
            "_view_module_version": "1.2.0",
            "_view_name": "StyleView",
            "description_width": ""
          }
        },
        "bbedf50a7311466b8b174cd5b7622a22": {
          "model_module": "@jupyter-widgets/controls",
          "model_name": "HBoxModel",
          "model_module_version": "1.5.0",
          "state": {
            "_dom_classes": [],
            "_model_module": "@jupyter-widgets/controls",
            "_model_module_version": "1.5.0",
            "_model_name": "HBoxModel",
            "_view_count": null,
            "_view_module": "@jupyter-widgets/controls",
            "_view_module_version": "1.5.0",
            "_view_name": "HBoxView",
            "box_style": "",
            "children": [
              "IPY_MODEL_04d018f1f5694eb0aca168753426e7fa",
              "IPY_MODEL_9c45b0a6d8454ddfae7fb16d20874266",
              "IPY_MODEL_2583070c0bdf4e7186351f60adb6636c"
            ],
            "layout": "IPY_MODEL_8f187e8653124a33bb4e55e112d72001"
          }
        },
        "04d018f1f5694eb0aca168753426e7fa": {
          "model_module": "@jupyter-widgets/controls",
          "model_name": "HTMLModel",
          "model_module_version": "1.5.0",
          "state": {
            "_dom_classes": [],
            "_model_module": "@jupyter-widgets/controls",
            "_model_module_version": "1.5.0",
            "_model_name": "HTMLModel",
            "_view_count": null,
            "_view_module": "@jupyter-widgets/controls",
            "_view_module_version": "1.5.0",
            "_view_name": "HTMLView",
            "description": "",
            "description_tooltip": null,
            "layout": "IPY_MODEL_80d850b958c2438c9247bb7c1dc855ee",
            "placeholder": "​",
            "style": "IPY_MODEL_e0e39e5bb1924698bf1dbb219396b12e",
            "value": "Downloading data files: 100%"
          }
        },
        "9c45b0a6d8454ddfae7fb16d20874266": {
          "model_module": "@jupyter-widgets/controls",
          "model_name": "FloatProgressModel",
          "model_module_version": "1.5.0",
          "state": {
            "_dom_classes": [],
            "_model_module": "@jupyter-widgets/controls",
            "_model_module_version": "1.5.0",
            "_model_name": "FloatProgressModel",
            "_view_count": null,
            "_view_module": "@jupyter-widgets/controls",
            "_view_module_version": "1.5.0",
            "_view_name": "ProgressView",
            "bar_style": "success",
            "description": "",
            "description_tooltip": null,
            "layout": "IPY_MODEL_be4daddbffee481c9dc8f4655ef9e4f3",
            "max": 2,
            "min": 0,
            "orientation": "horizontal",
            "style": "IPY_MODEL_10fda9c0be6c451cb01611b5cf36ce04",
            "value": 2
          }
        },
        "2583070c0bdf4e7186351f60adb6636c": {
          "model_module": "@jupyter-widgets/controls",
          "model_name": "HTMLModel",
          "model_module_version": "1.5.0",
          "state": {
            "_dom_classes": [],
            "_model_module": "@jupyter-widgets/controls",
            "_model_module_version": "1.5.0",
            "_model_name": "HTMLModel",
            "_view_count": null,
            "_view_module": "@jupyter-widgets/controls",
            "_view_module_version": "1.5.0",
            "_view_name": "HTMLView",
            "description": "",
            "description_tooltip": null,
            "layout": "IPY_MODEL_84a977679f6e4640af37aaebc1d751c0",
            "placeholder": "​",
            "style": "IPY_MODEL_5303f748d72c4605ab1e2d3bf6773961",
            "value": " 2/2 [00:06&lt;00:00,  2.91s/it]"
          }
        },
        "8f187e8653124a33bb4e55e112d72001": {
          "model_module": "@jupyter-widgets/base",
          "model_name": "LayoutModel",
          "model_module_version": "1.2.0",
          "state": {
            "_model_module": "@jupyter-widgets/base",
            "_model_module_version": "1.2.0",
            "_model_name": "LayoutModel",
            "_view_count": null,
            "_view_module": "@jupyter-widgets/base",
            "_view_module_version": "1.2.0",
            "_view_name": "LayoutView",
            "align_content": null,
            "align_items": null,
            "align_self": null,
            "border": null,
            "bottom": null,
            "display": null,
            "flex": null,
            "flex_flow": null,
            "grid_area": null,
            "grid_auto_columns": null,
            "grid_auto_flow": null,
            "grid_auto_rows": null,
            "grid_column": null,
            "grid_gap": null,
            "grid_row": null,
            "grid_template_areas": null,
            "grid_template_columns": null,
            "grid_template_rows": null,
            "height": null,
            "justify_content": null,
            "justify_items": null,
            "left": null,
            "margin": null,
            "max_height": null,
            "max_width": null,
            "min_height": null,
            "min_width": null,
            "object_fit": null,
            "object_position": null,
            "order": null,
            "overflow": null,
            "overflow_x": null,
            "overflow_y": null,
            "padding": null,
            "right": null,
            "top": null,
            "visibility": null,
            "width": null
          }
        },
        "80d850b958c2438c9247bb7c1dc855ee": {
          "model_module": "@jupyter-widgets/base",
          "model_name": "LayoutModel",
          "model_module_version": "1.2.0",
          "state": {
            "_model_module": "@jupyter-widgets/base",
            "_model_module_version": "1.2.0",
            "_model_name": "LayoutModel",
            "_view_count": null,
            "_view_module": "@jupyter-widgets/base",
            "_view_module_version": "1.2.0",
            "_view_name": "LayoutView",
            "align_content": null,
            "align_items": null,
            "align_self": null,
            "border": null,
            "bottom": null,
            "display": null,
            "flex": null,
            "flex_flow": null,
            "grid_area": null,
            "grid_auto_columns": null,
            "grid_auto_flow": null,
            "grid_auto_rows": null,
            "grid_column": null,
            "grid_gap": null,
            "grid_row": null,
            "grid_template_areas": null,
            "grid_template_columns": null,
            "grid_template_rows": null,
            "height": null,
            "justify_content": null,
            "justify_items": null,
            "left": null,
            "margin": null,
            "max_height": null,
            "max_width": null,
            "min_height": null,
            "min_width": null,
            "object_fit": null,
            "object_position": null,
            "order": null,
            "overflow": null,
            "overflow_x": null,
            "overflow_y": null,
            "padding": null,
            "right": null,
            "top": null,
            "visibility": null,
            "width": null
          }
        },
        "e0e39e5bb1924698bf1dbb219396b12e": {
          "model_module": "@jupyter-widgets/controls",
          "model_name": "DescriptionStyleModel",
          "model_module_version": "1.5.0",
          "state": {
            "_model_module": "@jupyter-widgets/controls",
            "_model_module_version": "1.5.0",
            "_model_name": "DescriptionStyleModel",
            "_view_count": null,
            "_view_module": "@jupyter-widgets/base",
            "_view_module_version": "1.2.0",
            "_view_name": "StyleView",
            "description_width": ""
          }
        },
        "be4daddbffee481c9dc8f4655ef9e4f3": {
          "model_module": "@jupyter-widgets/base",
          "model_name": "LayoutModel",
          "model_module_version": "1.2.0",
          "state": {
            "_model_module": "@jupyter-widgets/base",
            "_model_module_version": "1.2.0",
            "_model_name": "LayoutModel",
            "_view_count": null,
            "_view_module": "@jupyter-widgets/base",
            "_view_module_version": "1.2.0",
            "_view_name": "LayoutView",
            "align_content": null,
            "align_items": null,
            "align_self": null,
            "border": null,
            "bottom": null,
            "display": null,
            "flex": null,
            "flex_flow": null,
            "grid_area": null,
            "grid_auto_columns": null,
            "grid_auto_flow": null,
            "grid_auto_rows": null,
            "grid_column": null,
            "grid_gap": null,
            "grid_row": null,
            "grid_template_areas": null,
            "grid_template_columns": null,
            "grid_template_rows": null,
            "height": null,
            "justify_content": null,
            "justify_items": null,
            "left": null,
            "margin": null,
            "max_height": null,
            "max_width": null,
            "min_height": null,
            "min_width": null,
            "object_fit": null,
            "object_position": null,
            "order": null,
            "overflow": null,
            "overflow_x": null,
            "overflow_y": null,
            "padding": null,
            "right": null,
            "top": null,
            "visibility": null,
            "width": null
          }
        },
        "10fda9c0be6c451cb01611b5cf36ce04": {
          "model_module": "@jupyter-widgets/controls",
          "model_name": "ProgressStyleModel",
          "model_module_version": "1.5.0",
          "state": {
            "_model_module": "@jupyter-widgets/controls",
            "_model_module_version": "1.5.0",
            "_model_name": "ProgressStyleModel",
            "_view_count": null,
            "_view_module": "@jupyter-widgets/base",
            "_view_module_version": "1.2.0",
            "_view_name": "StyleView",
            "bar_color": null,
            "description_width": ""
          }
        },
        "84a977679f6e4640af37aaebc1d751c0": {
          "model_module": "@jupyter-widgets/base",
          "model_name": "LayoutModel",
          "model_module_version": "1.2.0",
          "state": {
            "_model_module": "@jupyter-widgets/base",
            "_model_module_version": "1.2.0",
            "_model_name": "LayoutModel",
            "_view_count": null,
            "_view_module": "@jupyter-widgets/base",
            "_view_module_version": "1.2.0",
            "_view_name": "LayoutView",
            "align_content": null,
            "align_items": null,
            "align_self": null,
            "border": null,
            "bottom": null,
            "display": null,
            "flex": null,
            "flex_flow": null,
            "grid_area": null,
            "grid_auto_columns": null,
            "grid_auto_flow": null,
            "grid_auto_rows": null,
            "grid_column": null,
            "grid_gap": null,
            "grid_row": null,
            "grid_template_areas": null,
            "grid_template_columns": null,
            "grid_template_rows": null,
            "height": null,
            "justify_content": null,
            "justify_items": null,
            "left": null,
            "margin": null,
            "max_height": null,
            "max_width": null,
            "min_height": null,
            "min_width": null,
            "object_fit": null,
            "object_position": null,
            "order": null,
            "overflow": null,
            "overflow_x": null,
            "overflow_y": null,
            "padding": null,
            "right": null,
            "top": null,
            "visibility": null,
            "width": null
          }
        },
        "5303f748d72c4605ab1e2d3bf6773961": {
          "model_module": "@jupyter-widgets/controls",
          "model_name": "DescriptionStyleModel",
          "model_module_version": "1.5.0",
          "state": {
            "_model_module": "@jupyter-widgets/controls",
            "_model_module_version": "1.5.0",
            "_model_name": "DescriptionStyleModel",
            "_view_count": null,
            "_view_module": "@jupyter-widgets/base",
            "_view_module_version": "1.2.0",
            "_view_name": "StyleView",
            "description_width": ""
          }
        },
        "136532a476524865b2ab2140c3e10127": {
          "model_module": "@jupyter-widgets/controls",
          "model_name": "HBoxModel",
          "model_module_version": "1.5.0",
          "state": {
            "_dom_classes": [],
            "_model_module": "@jupyter-widgets/controls",
            "_model_module_version": "1.5.0",
            "_model_name": "HBoxModel",
            "_view_count": null,
            "_view_module": "@jupyter-widgets/controls",
            "_view_module_version": "1.5.0",
            "_view_name": "HBoxView",
            "box_style": "",
            "children": [
              "IPY_MODEL_036dde96d1f248d8904076cbe6b4277c",
              "IPY_MODEL_2370cec8d91f4b13bff9359fb990d5c5",
              "IPY_MODEL_4a110aa1e5714f65a35db8266450db49"
            ],
            "layout": "IPY_MODEL_7f50e563b2ad4e55afd1a9aa358a2d5d"
          }
        },
        "036dde96d1f248d8904076cbe6b4277c": {
          "model_module": "@jupyter-widgets/controls",
          "model_name": "HTMLModel",
          "model_module_version": "1.5.0",
          "state": {
            "_dom_classes": [],
            "_model_module": "@jupyter-widgets/controls",
            "_model_module_version": "1.5.0",
            "_model_name": "HTMLModel",
            "_view_count": null,
            "_view_module": "@jupyter-widgets/controls",
            "_view_module_version": "1.5.0",
            "_view_name": "HTMLView",
            "description": "",
            "description_tooltip": null,
            "layout": "IPY_MODEL_81e9bbce2c204e1f85a0ebc8109f17ae",
            "placeholder": "​",
            "style": "IPY_MODEL_71adcc0e4a6f4977ac23182d5634acaa",
            "value": "Downloading data: 100%"
          }
        },
        "2370cec8d91f4b13bff9359fb990d5c5": {
          "model_module": "@jupyter-widgets/controls",
          "model_name": "FloatProgressModel",
          "model_module_version": "1.5.0",
          "state": {
            "_dom_classes": [],
            "_model_module": "@jupyter-widgets/controls",
            "_model_module_version": "1.5.0",
            "_model_name": "FloatProgressModel",
            "_view_count": null,
            "_view_module": "@jupyter-widgets/controls",
            "_view_module_version": "1.5.0",
            "_view_name": "ProgressView",
            "bar_style": "success",
            "description": "",
            "description_tooltip": null,
            "layout": "IPY_MODEL_8d233bf8d9da4a97adbd8d00cb55213a",
            "max": 58004076,
            "min": 0,
            "orientation": "horizontal",
            "style": "IPY_MODEL_289032aa757344518681369d09419a41",
            "value": 58004076
          }
        },
        "4a110aa1e5714f65a35db8266450db49": {
          "model_module": "@jupyter-widgets/controls",
          "model_name": "HTMLModel",
          "model_module_version": "1.5.0",
          "state": {
            "_dom_classes": [],
            "_model_module": "@jupyter-widgets/controls",
            "_model_module_version": "1.5.0",
            "_model_name": "HTMLModel",
            "_view_count": null,
            "_view_module": "@jupyter-widgets/controls",
            "_view_module_version": "1.5.0",
            "_view_name": "HTMLView",
            "description": "",
            "description_tooltip": null,
            "layout": "IPY_MODEL_d98c69cb0590440dbbf85e867a308c2e",
            "placeholder": "​",
            "style": "IPY_MODEL_c3efe861be834067bdca53d7713f4efd",
            "value": " 58.0M/58.0M [00:03&lt;00:00, 17.3MB/s]"
          }
        },
        "7f50e563b2ad4e55afd1a9aa358a2d5d": {
          "model_module": "@jupyter-widgets/base",
          "model_name": "LayoutModel",
          "model_module_version": "1.2.0",
          "state": {
            "_model_module": "@jupyter-widgets/base",
            "_model_module_version": "1.2.0",
            "_model_name": "LayoutModel",
            "_view_count": null,
            "_view_module": "@jupyter-widgets/base",
            "_view_module_version": "1.2.0",
            "_view_name": "LayoutView",
            "align_content": null,
            "align_items": null,
            "align_self": null,
            "border": null,
            "bottom": null,
            "display": null,
            "flex": null,
            "flex_flow": null,
            "grid_area": null,
            "grid_auto_columns": null,
            "grid_auto_flow": null,
            "grid_auto_rows": null,
            "grid_column": null,
            "grid_gap": null,
            "grid_row": null,
            "grid_template_areas": null,
            "grid_template_columns": null,
            "grid_template_rows": null,
            "height": null,
            "justify_content": null,
            "justify_items": null,
            "left": null,
            "margin": null,
            "max_height": null,
            "max_width": null,
            "min_height": null,
            "min_width": null,
            "object_fit": null,
            "object_position": null,
            "order": null,
            "overflow": null,
            "overflow_x": null,
            "overflow_y": null,
            "padding": null,
            "right": null,
            "top": null,
            "visibility": null,
            "width": null
          }
        },
        "81e9bbce2c204e1f85a0ebc8109f17ae": {
          "model_module": "@jupyter-widgets/base",
          "model_name": "LayoutModel",
          "model_module_version": "1.2.0",
          "state": {
            "_model_module": "@jupyter-widgets/base",
            "_model_module_version": "1.2.0",
            "_model_name": "LayoutModel",
            "_view_count": null,
            "_view_module": "@jupyter-widgets/base",
            "_view_module_version": "1.2.0",
            "_view_name": "LayoutView",
            "align_content": null,
            "align_items": null,
            "align_self": null,
            "border": null,
            "bottom": null,
            "display": null,
            "flex": null,
            "flex_flow": null,
            "grid_area": null,
            "grid_auto_columns": null,
            "grid_auto_flow": null,
            "grid_auto_rows": null,
            "grid_column": null,
            "grid_gap": null,
            "grid_row": null,
            "grid_template_areas": null,
            "grid_template_columns": null,
            "grid_template_rows": null,
            "height": null,
            "justify_content": null,
            "justify_items": null,
            "left": null,
            "margin": null,
            "max_height": null,
            "max_width": null,
            "min_height": null,
            "min_width": null,
            "object_fit": null,
            "object_position": null,
            "order": null,
            "overflow": null,
            "overflow_x": null,
            "overflow_y": null,
            "padding": null,
            "right": null,
            "top": null,
            "visibility": null,
            "width": null
          }
        },
        "71adcc0e4a6f4977ac23182d5634acaa": {
          "model_module": "@jupyter-widgets/controls",
          "model_name": "DescriptionStyleModel",
          "model_module_version": "1.5.0",
          "state": {
            "_model_module": "@jupyter-widgets/controls",
            "_model_module_version": "1.5.0",
            "_model_name": "DescriptionStyleModel",
            "_view_count": null,
            "_view_module": "@jupyter-widgets/base",
            "_view_module_version": "1.2.0",
            "_view_name": "StyleView",
            "description_width": ""
          }
        },
        "8d233bf8d9da4a97adbd8d00cb55213a": {
          "model_module": "@jupyter-widgets/base",
          "model_name": "LayoutModel",
          "model_module_version": "1.2.0",
          "state": {
            "_model_module": "@jupyter-widgets/base",
            "_model_module_version": "1.2.0",
            "_model_name": "LayoutModel",
            "_view_count": null,
            "_view_module": "@jupyter-widgets/base",
            "_view_module_version": "1.2.0",
            "_view_name": "LayoutView",
            "align_content": null,
            "align_items": null,
            "align_self": null,
            "border": null,
            "bottom": null,
            "display": null,
            "flex": null,
            "flex_flow": null,
            "grid_area": null,
            "grid_auto_columns": null,
            "grid_auto_flow": null,
            "grid_auto_rows": null,
            "grid_column": null,
            "grid_gap": null,
            "grid_row": null,
            "grid_template_areas": null,
            "grid_template_columns": null,
            "grid_template_rows": null,
            "height": null,
            "justify_content": null,
            "justify_items": null,
            "left": null,
            "margin": null,
            "max_height": null,
            "max_width": null,
            "min_height": null,
            "min_width": null,
            "object_fit": null,
            "object_position": null,
            "order": null,
            "overflow": null,
            "overflow_x": null,
            "overflow_y": null,
            "padding": null,
            "right": null,
            "top": null,
            "visibility": null,
            "width": null
          }
        },
        "289032aa757344518681369d09419a41": {
          "model_module": "@jupyter-widgets/controls",
          "model_name": "ProgressStyleModel",
          "model_module_version": "1.5.0",
          "state": {
            "_model_module": "@jupyter-widgets/controls",
            "_model_module_version": "1.5.0",
            "_model_name": "ProgressStyleModel",
            "_view_count": null,
            "_view_module": "@jupyter-widgets/base",
            "_view_module_version": "1.2.0",
            "_view_name": "StyleView",
            "bar_color": null,
            "description_width": ""
          }
        },
        "d98c69cb0590440dbbf85e867a308c2e": {
          "model_module": "@jupyter-widgets/base",
          "model_name": "LayoutModel",
          "model_module_version": "1.2.0",
          "state": {
            "_model_module": "@jupyter-widgets/base",
            "_model_module_version": "1.2.0",
            "_model_name": "LayoutModel",
            "_view_count": null,
            "_view_module": "@jupyter-widgets/base",
            "_view_module_version": "1.2.0",
            "_view_name": "LayoutView",
            "align_content": null,
            "align_items": null,
            "align_self": null,
            "border": null,
            "bottom": null,
            "display": null,
            "flex": null,
            "flex_flow": null,
            "grid_area": null,
            "grid_auto_columns": null,
            "grid_auto_flow": null,
            "grid_auto_rows": null,
            "grid_column": null,
            "grid_gap": null,
            "grid_row": null,
            "grid_template_areas": null,
            "grid_template_columns": null,
            "grid_template_rows": null,
            "height": null,
            "justify_content": null,
            "justify_items": null,
            "left": null,
            "margin": null,
            "max_height": null,
            "max_width": null,
            "min_height": null,
            "min_width": null,
            "object_fit": null,
            "object_position": null,
            "order": null,
            "overflow": null,
            "overflow_x": null,
            "overflow_y": null,
            "padding": null,
            "right": null,
            "top": null,
            "visibility": null,
            "width": null
          }
        },
        "c3efe861be834067bdca53d7713f4efd": {
          "model_module": "@jupyter-widgets/controls",
          "model_name": "DescriptionStyleModel",
          "model_module_version": "1.5.0",
          "state": {
            "_model_module": "@jupyter-widgets/controls",
            "_model_module_version": "1.5.0",
            "_model_name": "DescriptionStyleModel",
            "_view_count": null,
            "_view_module": "@jupyter-widgets/base",
            "_view_module_version": "1.2.0",
            "_view_name": "StyleView",
            "description_width": ""
          }
        },
        "dc784a96f33742eead85cddb02707918": {
          "model_module": "@jupyter-widgets/controls",
          "model_name": "HBoxModel",
          "model_module_version": "1.5.0",
          "state": {
            "_dom_classes": [],
            "_model_module": "@jupyter-widgets/controls",
            "_model_module_version": "1.5.0",
            "_model_name": "HBoxModel",
            "_view_count": null,
            "_view_module": "@jupyter-widgets/controls",
            "_view_module_version": "1.5.0",
            "_view_name": "HBoxView",
            "box_style": "",
            "children": [
              "IPY_MODEL_22d7c544a87748f699a923012372aa93",
              "IPY_MODEL_e33c2aa970604d3d861b483872068b10",
              "IPY_MODEL_b5c7e693e4a1444db78ce04094559982"
            ],
            "layout": "IPY_MODEL_2590871521964565942dcd3b6e2f2e30"
          }
        },
        "22d7c544a87748f699a923012372aa93": {
          "model_module": "@jupyter-widgets/controls",
          "model_name": "HTMLModel",
          "model_module_version": "1.5.0",
          "state": {
            "_dom_classes": [],
            "_model_module": "@jupyter-widgets/controls",
            "_model_module_version": "1.5.0",
            "_model_name": "HTMLModel",
            "_view_count": null,
            "_view_module": "@jupyter-widgets/controls",
            "_view_module_version": "1.5.0",
            "_view_name": "HTMLView",
            "description": "",
            "description_tooltip": null,
            "layout": "IPY_MODEL_dc88c4bb3f0546029ad9a54af1ebd6e1",
            "placeholder": "​",
            "style": "IPY_MODEL_da00d43b392d48449e166cb98ebea0f5",
            "value": "Downloading data: 100%"
          }
        },
        "e33c2aa970604d3d861b483872068b10": {
          "model_module": "@jupyter-widgets/controls",
          "model_name": "FloatProgressModel",
          "model_module_version": "1.5.0",
          "state": {
            "_dom_classes": [],
            "_model_module": "@jupyter-widgets/controls",
            "_model_module_version": "1.5.0",
            "_model_name": "FloatProgressModel",
            "_view_count": null,
            "_view_module": "@jupyter-widgets/controls",
            "_view_module_version": "1.5.0",
            "_view_name": "ProgressView",
            "bar_style": "success",
            "description": "",
            "description_tooltip": null,
            "layout": "IPY_MODEL_18a5e9bf25e547fca23f6c2044376d78",
            "max": 5617409,
            "min": 0,
            "orientation": "horizontal",
            "style": "IPY_MODEL_fee3f5f433e64f1fa5f00f436859c229",
            "value": 5617409
          }
        },
        "b5c7e693e4a1444db78ce04094559982": {
          "model_module": "@jupyter-widgets/controls",
          "model_name": "HTMLModel",
          "model_module_version": "1.5.0",
          "state": {
            "_dom_classes": [],
            "_model_module": "@jupyter-widgets/controls",
            "_model_module_version": "1.5.0",
            "_model_name": "HTMLModel",
            "_view_count": null,
            "_view_module": "@jupyter-widgets/controls",
            "_view_module_version": "1.5.0",
            "_view_name": "HTMLView",
            "description": "",
            "description_tooltip": null,
            "layout": "IPY_MODEL_b24bda9ebf374b9f915b690063bd2e4b",
            "placeholder": "​",
            "style": "IPY_MODEL_6a7b7a34b9664bcfa83a53a84f7cad1d",
            "value": " 5.62M/5.62M [00:01&lt;00:00, 9.88MB/s]"
          }
        },
        "2590871521964565942dcd3b6e2f2e30": {
          "model_module": "@jupyter-widgets/base",
          "model_name": "LayoutModel",
          "model_module_version": "1.2.0",
          "state": {
            "_model_module": "@jupyter-widgets/base",
            "_model_module_version": "1.2.0",
            "_model_name": "LayoutModel",
            "_view_count": null,
            "_view_module": "@jupyter-widgets/base",
            "_view_module_version": "1.2.0",
            "_view_name": "LayoutView",
            "align_content": null,
            "align_items": null,
            "align_self": null,
            "border": null,
            "bottom": null,
            "display": null,
            "flex": null,
            "flex_flow": null,
            "grid_area": null,
            "grid_auto_columns": null,
            "grid_auto_flow": null,
            "grid_auto_rows": null,
            "grid_column": null,
            "grid_gap": null,
            "grid_row": null,
            "grid_template_areas": null,
            "grid_template_columns": null,
            "grid_template_rows": null,
            "height": null,
            "justify_content": null,
            "justify_items": null,
            "left": null,
            "margin": null,
            "max_height": null,
            "max_width": null,
            "min_height": null,
            "min_width": null,
            "object_fit": null,
            "object_position": null,
            "order": null,
            "overflow": null,
            "overflow_x": null,
            "overflow_y": null,
            "padding": null,
            "right": null,
            "top": null,
            "visibility": null,
            "width": null
          }
        },
        "dc88c4bb3f0546029ad9a54af1ebd6e1": {
          "model_module": "@jupyter-widgets/base",
          "model_name": "LayoutModel",
          "model_module_version": "1.2.0",
          "state": {
            "_model_module": "@jupyter-widgets/base",
            "_model_module_version": "1.2.0",
            "_model_name": "LayoutModel",
            "_view_count": null,
            "_view_module": "@jupyter-widgets/base",
            "_view_module_version": "1.2.0",
            "_view_name": "LayoutView",
            "align_content": null,
            "align_items": null,
            "align_self": null,
            "border": null,
            "bottom": null,
            "display": null,
            "flex": null,
            "flex_flow": null,
            "grid_area": null,
            "grid_auto_columns": null,
            "grid_auto_flow": null,
            "grid_auto_rows": null,
            "grid_column": null,
            "grid_gap": null,
            "grid_row": null,
            "grid_template_areas": null,
            "grid_template_columns": null,
            "grid_template_rows": null,
            "height": null,
            "justify_content": null,
            "justify_items": null,
            "left": null,
            "margin": null,
            "max_height": null,
            "max_width": null,
            "min_height": null,
            "min_width": null,
            "object_fit": null,
            "object_position": null,
            "order": null,
            "overflow": null,
            "overflow_x": null,
            "overflow_y": null,
            "padding": null,
            "right": null,
            "top": null,
            "visibility": null,
            "width": null
          }
        },
        "da00d43b392d48449e166cb98ebea0f5": {
          "model_module": "@jupyter-widgets/controls",
          "model_name": "DescriptionStyleModel",
          "model_module_version": "1.5.0",
          "state": {
            "_model_module": "@jupyter-widgets/controls",
            "_model_module_version": "1.5.0",
            "_model_name": "DescriptionStyleModel",
            "_view_count": null,
            "_view_module": "@jupyter-widgets/base",
            "_view_module_version": "1.2.0",
            "_view_name": "StyleView",
            "description_width": ""
          }
        },
        "18a5e9bf25e547fca23f6c2044376d78": {
          "model_module": "@jupyter-widgets/base",
          "model_name": "LayoutModel",
          "model_module_version": "1.2.0",
          "state": {
            "_model_module": "@jupyter-widgets/base",
            "_model_module_version": "1.2.0",
            "_model_name": "LayoutModel",
            "_view_count": null,
            "_view_module": "@jupyter-widgets/base",
            "_view_module_version": "1.2.0",
            "_view_name": "LayoutView",
            "align_content": null,
            "align_items": null,
            "align_self": null,
            "border": null,
            "bottom": null,
            "display": null,
            "flex": null,
            "flex_flow": null,
            "grid_area": null,
            "grid_auto_columns": null,
            "grid_auto_flow": null,
            "grid_auto_rows": null,
            "grid_column": null,
            "grid_gap": null,
            "grid_row": null,
            "grid_template_areas": null,
            "grid_template_columns": null,
            "grid_template_rows": null,
            "height": null,
            "justify_content": null,
            "justify_items": null,
            "left": null,
            "margin": null,
            "max_height": null,
            "max_width": null,
            "min_height": null,
            "min_width": null,
            "object_fit": null,
            "object_position": null,
            "order": null,
            "overflow": null,
            "overflow_x": null,
            "overflow_y": null,
            "padding": null,
            "right": null,
            "top": null,
            "visibility": null,
            "width": null
          }
        },
        "fee3f5f433e64f1fa5f00f436859c229": {
          "model_module": "@jupyter-widgets/controls",
          "model_name": "ProgressStyleModel",
          "model_module_version": "1.5.0",
          "state": {
            "_model_module": "@jupyter-widgets/controls",
            "_model_module_version": "1.5.0",
            "_model_name": "ProgressStyleModel",
            "_view_count": null,
            "_view_module": "@jupyter-widgets/base",
            "_view_module_version": "1.2.0",
            "_view_name": "StyleView",
            "bar_color": null,
            "description_width": ""
          }
        },
        "b24bda9ebf374b9f915b690063bd2e4b": {
          "model_module": "@jupyter-widgets/base",
          "model_name": "LayoutModel",
          "model_module_version": "1.2.0",
          "state": {
            "_model_module": "@jupyter-widgets/base",
            "_model_module_version": "1.2.0",
            "_model_name": "LayoutModel",
            "_view_count": null,
            "_view_module": "@jupyter-widgets/base",
            "_view_module_version": "1.2.0",
            "_view_name": "LayoutView",
            "align_content": null,
            "align_items": null,
            "align_self": null,
            "border": null,
            "bottom": null,
            "display": null,
            "flex": null,
            "flex_flow": null,
            "grid_area": null,
            "grid_auto_columns": null,
            "grid_auto_flow": null,
            "grid_auto_rows": null,
            "grid_column": null,
            "grid_gap": null,
            "grid_row": null,
            "grid_template_areas": null,
            "grid_template_columns": null,
            "grid_template_rows": null,
            "height": null,
            "justify_content": null,
            "justify_items": null,
            "left": null,
            "margin": null,
            "max_height": null,
            "max_width": null,
            "min_height": null,
            "min_width": null,
            "object_fit": null,
            "object_position": null,
            "order": null,
            "overflow": null,
            "overflow_x": null,
            "overflow_y": null,
            "padding": null,
            "right": null,
            "top": null,
            "visibility": null,
            "width": null
          }
        },
        "6a7b7a34b9664bcfa83a53a84f7cad1d": {
          "model_module": "@jupyter-widgets/controls",
          "model_name": "DescriptionStyleModel",
          "model_module_version": "1.5.0",
          "state": {
            "_model_module": "@jupyter-widgets/controls",
            "_model_module_version": "1.5.0",
            "_model_name": "DescriptionStyleModel",
            "_view_count": null,
            "_view_module": "@jupyter-widgets/base",
            "_view_module_version": "1.2.0",
            "_view_name": "StyleView",
            "description_width": ""
          }
        },
        "8ec61629674c4a50abb1c57f2007fa1d": {
          "model_module": "@jupyter-widgets/controls",
          "model_name": "HBoxModel",
          "model_module_version": "1.5.0",
          "state": {
            "_dom_classes": [],
            "_model_module": "@jupyter-widgets/controls",
            "_model_module_version": "1.5.0",
            "_model_name": "HBoxModel",
            "_view_count": null,
            "_view_module": "@jupyter-widgets/controls",
            "_view_module_version": "1.5.0",
            "_view_name": "HBoxView",
            "box_style": "",
            "children": [
              "IPY_MODEL_8fbf5b39284a4797bfb69df0c484548c",
              "IPY_MODEL_d2aa65a2bc6241f69f9de0b84eab0f47",
              "IPY_MODEL_18417d4dff6f4befb289144bc707e916"
            ],
            "layout": "IPY_MODEL_80aade16d8a443d48ab572805d8e0181"
          }
        },
        "8fbf5b39284a4797bfb69df0c484548c": {
          "model_module": "@jupyter-widgets/controls",
          "model_name": "HTMLModel",
          "model_module_version": "1.5.0",
          "state": {
            "_dom_classes": [],
            "_model_module": "@jupyter-widgets/controls",
            "_model_module_version": "1.5.0",
            "_model_name": "HTMLModel",
            "_view_count": null,
            "_view_module": "@jupyter-widgets/controls",
            "_view_module_version": "1.5.0",
            "_view_name": "HTMLView",
            "description": "",
            "description_tooltip": null,
            "layout": "IPY_MODEL_b4db810f738246f2920e32189b210c75",
            "placeholder": "​",
            "style": "IPY_MODEL_0b6a6524cce74387a9c83fcdd76219d3",
            "value": "Extracting data files: 100%"
          }
        },
        "d2aa65a2bc6241f69f9de0b84eab0f47": {
          "model_module": "@jupyter-widgets/controls",
          "model_name": "FloatProgressModel",
          "model_module_version": "1.5.0",
          "state": {
            "_dom_classes": [],
            "_model_module": "@jupyter-widgets/controls",
            "_model_module_version": "1.5.0",
            "_model_name": "FloatProgressModel",
            "_view_count": null,
            "_view_module": "@jupyter-widgets/controls",
            "_view_module_version": "1.5.0",
            "_view_name": "ProgressView",
            "bar_style": "success",
            "description": "",
            "description_tooltip": null,
            "layout": "IPY_MODEL_1c23ff9ca66c4aa2997aecf391cf83c9",
            "max": 2,
            "min": 0,
            "orientation": "horizontal",
            "style": "IPY_MODEL_21831f1484f143cb83284b6b31a869b2",
            "value": 2
          }
        },
        "18417d4dff6f4befb289144bc707e916": {
          "model_module": "@jupyter-widgets/controls",
          "model_name": "HTMLModel",
          "model_module_version": "1.5.0",
          "state": {
            "_dom_classes": [],
            "_model_module": "@jupyter-widgets/controls",
            "_model_module_version": "1.5.0",
            "_model_name": "HTMLModel",
            "_view_count": null,
            "_view_module": "@jupyter-widgets/controls",
            "_view_module_version": "1.5.0",
            "_view_name": "HTMLView",
            "description": "",
            "description_tooltip": null,
            "layout": "IPY_MODEL_b5f24483cc8e4570822b867e608cc9c2",
            "placeholder": "​",
            "style": "IPY_MODEL_cf8ca718beaa4bfabeebf13877094dab",
            "value": " 2/2 [00:00&lt;00:00, 80.17it/s]"
          }
        },
        "80aade16d8a443d48ab572805d8e0181": {
          "model_module": "@jupyter-widgets/base",
          "model_name": "LayoutModel",
          "model_module_version": "1.2.0",
          "state": {
            "_model_module": "@jupyter-widgets/base",
            "_model_module_version": "1.2.0",
            "_model_name": "LayoutModel",
            "_view_count": null,
            "_view_module": "@jupyter-widgets/base",
            "_view_module_version": "1.2.0",
            "_view_name": "LayoutView",
            "align_content": null,
            "align_items": null,
            "align_self": null,
            "border": null,
            "bottom": null,
            "display": null,
            "flex": null,
            "flex_flow": null,
            "grid_area": null,
            "grid_auto_columns": null,
            "grid_auto_flow": null,
            "grid_auto_rows": null,
            "grid_column": null,
            "grid_gap": null,
            "grid_row": null,
            "grid_template_areas": null,
            "grid_template_columns": null,
            "grid_template_rows": null,
            "height": null,
            "justify_content": null,
            "justify_items": null,
            "left": null,
            "margin": null,
            "max_height": null,
            "max_width": null,
            "min_height": null,
            "min_width": null,
            "object_fit": null,
            "object_position": null,
            "order": null,
            "overflow": null,
            "overflow_x": null,
            "overflow_y": null,
            "padding": null,
            "right": null,
            "top": null,
            "visibility": null,
            "width": null
          }
        },
        "b4db810f738246f2920e32189b210c75": {
          "model_module": "@jupyter-widgets/base",
          "model_name": "LayoutModel",
          "model_module_version": "1.2.0",
          "state": {
            "_model_module": "@jupyter-widgets/base",
            "_model_module_version": "1.2.0",
            "_model_name": "LayoutModel",
            "_view_count": null,
            "_view_module": "@jupyter-widgets/base",
            "_view_module_version": "1.2.0",
            "_view_name": "LayoutView",
            "align_content": null,
            "align_items": null,
            "align_self": null,
            "border": null,
            "bottom": null,
            "display": null,
            "flex": null,
            "flex_flow": null,
            "grid_area": null,
            "grid_auto_columns": null,
            "grid_auto_flow": null,
            "grid_auto_rows": null,
            "grid_column": null,
            "grid_gap": null,
            "grid_row": null,
            "grid_template_areas": null,
            "grid_template_columns": null,
            "grid_template_rows": null,
            "height": null,
            "justify_content": null,
            "justify_items": null,
            "left": null,
            "margin": null,
            "max_height": null,
            "max_width": null,
            "min_height": null,
            "min_width": null,
            "object_fit": null,
            "object_position": null,
            "order": null,
            "overflow": null,
            "overflow_x": null,
            "overflow_y": null,
            "padding": null,
            "right": null,
            "top": null,
            "visibility": null,
            "width": null
          }
        },
        "0b6a6524cce74387a9c83fcdd76219d3": {
          "model_module": "@jupyter-widgets/controls",
          "model_name": "DescriptionStyleModel",
          "model_module_version": "1.5.0",
          "state": {
            "_model_module": "@jupyter-widgets/controls",
            "_model_module_version": "1.5.0",
            "_model_name": "DescriptionStyleModel",
            "_view_count": null,
            "_view_module": "@jupyter-widgets/base",
            "_view_module_version": "1.2.0",
            "_view_name": "StyleView",
            "description_width": ""
          }
        },
        "1c23ff9ca66c4aa2997aecf391cf83c9": {
          "model_module": "@jupyter-widgets/base",
          "model_name": "LayoutModel",
          "model_module_version": "1.2.0",
          "state": {
            "_model_module": "@jupyter-widgets/base",
            "_model_module_version": "1.2.0",
            "_model_name": "LayoutModel",
            "_view_count": null,
            "_view_module": "@jupyter-widgets/base",
            "_view_module_version": "1.2.0",
            "_view_name": "LayoutView",
            "align_content": null,
            "align_items": null,
            "align_self": null,
            "border": null,
            "bottom": null,
            "display": null,
            "flex": null,
            "flex_flow": null,
            "grid_area": null,
            "grid_auto_columns": null,
            "grid_auto_flow": null,
            "grid_auto_rows": null,
            "grid_column": null,
            "grid_gap": null,
            "grid_row": null,
            "grid_template_areas": null,
            "grid_template_columns": null,
            "grid_template_rows": null,
            "height": null,
            "justify_content": null,
            "justify_items": null,
            "left": null,
            "margin": null,
            "max_height": null,
            "max_width": null,
            "min_height": null,
            "min_width": null,
            "object_fit": null,
            "object_position": null,
            "order": null,
            "overflow": null,
            "overflow_x": null,
            "overflow_y": null,
            "padding": null,
            "right": null,
            "top": null,
            "visibility": null,
            "width": null
          }
        },
        "21831f1484f143cb83284b6b31a869b2": {
          "model_module": "@jupyter-widgets/controls",
          "model_name": "ProgressStyleModel",
          "model_module_version": "1.5.0",
          "state": {
            "_model_module": "@jupyter-widgets/controls",
            "_model_module_version": "1.5.0",
            "_model_name": "ProgressStyleModel",
            "_view_count": null,
            "_view_module": "@jupyter-widgets/base",
            "_view_module_version": "1.2.0",
            "_view_name": "StyleView",
            "bar_color": null,
            "description_width": ""
          }
        },
        "b5f24483cc8e4570822b867e608cc9c2": {
          "model_module": "@jupyter-widgets/base",
          "model_name": "LayoutModel",
          "model_module_version": "1.2.0",
          "state": {
            "_model_module": "@jupyter-widgets/base",
            "_model_module_version": "1.2.0",
            "_model_name": "LayoutModel",
            "_view_count": null,
            "_view_module": "@jupyter-widgets/base",
            "_view_module_version": "1.2.0",
            "_view_name": "LayoutView",
            "align_content": null,
            "align_items": null,
            "align_self": null,
            "border": null,
            "bottom": null,
            "display": null,
            "flex": null,
            "flex_flow": null,
            "grid_area": null,
            "grid_auto_columns": null,
            "grid_auto_flow": null,
            "grid_auto_rows": null,
            "grid_column": null,
            "grid_gap": null,
            "grid_row": null,
            "grid_template_areas": null,
            "grid_template_columns": null,
            "grid_template_rows": null,
            "height": null,
            "justify_content": null,
            "justify_items": null,
            "left": null,
            "margin": null,
            "max_height": null,
            "max_width": null,
            "min_height": null,
            "min_width": null,
            "object_fit": null,
            "object_position": null,
            "order": null,
            "overflow": null,
            "overflow_x": null,
            "overflow_y": null,
            "padding": null,
            "right": null,
            "top": null,
            "visibility": null,
            "width": null
          }
        },
        "cf8ca718beaa4bfabeebf13877094dab": {
          "model_module": "@jupyter-widgets/controls",
          "model_name": "DescriptionStyleModel",
          "model_module_version": "1.5.0",
          "state": {
            "_model_module": "@jupyter-widgets/controls",
            "_model_module_version": "1.5.0",
            "_model_name": "DescriptionStyleModel",
            "_view_count": null,
            "_view_module": "@jupyter-widgets/base",
            "_view_module_version": "1.2.0",
            "_view_name": "StyleView",
            "description_width": ""
          }
        },
        "132b604580ce4d00948d747d2dceac04": {
          "model_module": "@jupyter-widgets/controls",
          "model_name": "HBoxModel",
          "model_module_version": "1.5.0",
          "state": {
            "_dom_classes": [],
            "_model_module": "@jupyter-widgets/controls",
            "_model_module_version": "1.5.0",
            "_model_name": "HBoxModel",
            "_view_count": null,
            "_view_module": "@jupyter-widgets/controls",
            "_view_module_version": "1.5.0",
            "_view_name": "HBoxView",
            "box_style": "",
            "children": [
              "IPY_MODEL_24334a9d9c034195b4624d035bec70df",
              "IPY_MODEL_0b93341e59824a2d88c117d742465566",
              "IPY_MODEL_c611670a52124071844ea03ba17291a7"
            ],
            "layout": "IPY_MODEL_d2c4102ba8c24f9393b41da5c33aa7c0"
          }
        },
        "24334a9d9c034195b4624d035bec70df": {
          "model_module": "@jupyter-widgets/controls",
          "model_name": "HTMLModel",
          "model_module_version": "1.5.0",
          "state": {
            "_dom_classes": [],
            "_model_module": "@jupyter-widgets/controls",
            "_model_module_version": "1.5.0",
            "_model_name": "HTMLModel",
            "_view_count": null,
            "_view_module": "@jupyter-widgets/controls",
            "_view_module_version": "1.5.0",
            "_view_name": "HTMLView",
            "description": "",
            "description_tooltip": null,
            "layout": "IPY_MODEL_8454cd1373c643d49240ab94e7889c4e",
            "placeholder": "​",
            "style": "IPY_MODEL_156d7cb7723c407c8a0889567a870c95",
            "value": "Generating train split: 100%"
          }
        },
        "0b93341e59824a2d88c117d742465566": {
          "model_module": "@jupyter-widgets/controls",
          "model_name": "FloatProgressModel",
          "model_module_version": "1.5.0",
          "state": {
            "_dom_classes": [],
            "_model_module": "@jupyter-widgets/controls",
            "_model_module_version": "1.5.0",
            "_model_name": "FloatProgressModel",
            "_view_count": null,
            "_view_module": "@jupyter-widgets/controls",
            "_view_module_version": "1.5.0",
            "_view_name": "ProgressView",
            "bar_style": "success",
            "description": "",
            "description_tooltip": null,
            "layout": "IPY_MODEL_7efe7b2033bb4316a8fad8d99b4650c1",
            "max": 166916,
            "min": 0,
            "orientation": "horizontal",
            "style": "IPY_MODEL_b9ccf74d2bf54bc2af433f1a160fa53f",
            "value": 166916
          }
        },
        "c611670a52124071844ea03ba17291a7": {
          "model_module": "@jupyter-widgets/controls",
          "model_name": "HTMLModel",
          "model_module_version": "1.5.0",
          "state": {
            "_dom_classes": [],
            "_model_module": "@jupyter-widgets/controls",
            "_model_module_version": "1.5.0",
            "_model_name": "HTMLModel",
            "_view_count": null,
            "_view_module": "@jupyter-widgets/controls",
            "_view_module_version": "1.5.0",
            "_view_name": "HTMLView",
            "description": "",
            "description_tooltip": null,
            "layout": "IPY_MODEL_4436b9fded6c46cb9c45e6547d401d72",
            "placeholder": "​",
            "style": "IPY_MODEL_5a02b3b0302b44af95bd4f14de30bc05",
            "value": " 166916/166916 [02:32&lt;00:00, 1584.96 examples/s]"
          }
        },
        "d2c4102ba8c24f9393b41da5c33aa7c0": {
          "model_module": "@jupyter-widgets/base",
          "model_name": "LayoutModel",
          "model_module_version": "1.2.0",
          "state": {
            "_model_module": "@jupyter-widgets/base",
            "_model_module_version": "1.2.0",
            "_model_name": "LayoutModel",
            "_view_count": null,
            "_view_module": "@jupyter-widgets/base",
            "_view_module_version": "1.2.0",
            "_view_name": "LayoutView",
            "align_content": null,
            "align_items": null,
            "align_self": null,
            "border": null,
            "bottom": null,
            "display": null,
            "flex": null,
            "flex_flow": null,
            "grid_area": null,
            "grid_auto_columns": null,
            "grid_auto_flow": null,
            "grid_auto_rows": null,
            "grid_column": null,
            "grid_gap": null,
            "grid_row": null,
            "grid_template_areas": null,
            "grid_template_columns": null,
            "grid_template_rows": null,
            "height": null,
            "justify_content": null,
            "justify_items": null,
            "left": null,
            "margin": null,
            "max_height": null,
            "max_width": null,
            "min_height": null,
            "min_width": null,
            "object_fit": null,
            "object_position": null,
            "order": null,
            "overflow": null,
            "overflow_x": null,
            "overflow_y": null,
            "padding": null,
            "right": null,
            "top": null,
            "visibility": null,
            "width": null
          }
        },
        "8454cd1373c643d49240ab94e7889c4e": {
          "model_module": "@jupyter-widgets/base",
          "model_name": "LayoutModel",
          "model_module_version": "1.2.0",
          "state": {
            "_model_module": "@jupyter-widgets/base",
            "_model_module_version": "1.2.0",
            "_model_name": "LayoutModel",
            "_view_count": null,
            "_view_module": "@jupyter-widgets/base",
            "_view_module_version": "1.2.0",
            "_view_name": "LayoutView",
            "align_content": null,
            "align_items": null,
            "align_self": null,
            "border": null,
            "bottom": null,
            "display": null,
            "flex": null,
            "flex_flow": null,
            "grid_area": null,
            "grid_auto_columns": null,
            "grid_auto_flow": null,
            "grid_auto_rows": null,
            "grid_column": null,
            "grid_gap": null,
            "grid_row": null,
            "grid_template_areas": null,
            "grid_template_columns": null,
            "grid_template_rows": null,
            "height": null,
            "justify_content": null,
            "justify_items": null,
            "left": null,
            "margin": null,
            "max_height": null,
            "max_width": null,
            "min_height": null,
            "min_width": null,
            "object_fit": null,
            "object_position": null,
            "order": null,
            "overflow": null,
            "overflow_x": null,
            "overflow_y": null,
            "padding": null,
            "right": null,
            "top": null,
            "visibility": null,
            "width": null
          }
        },
        "156d7cb7723c407c8a0889567a870c95": {
          "model_module": "@jupyter-widgets/controls",
          "model_name": "DescriptionStyleModel",
          "model_module_version": "1.5.0",
          "state": {
            "_model_module": "@jupyter-widgets/controls",
            "_model_module_version": "1.5.0",
            "_model_name": "DescriptionStyleModel",
            "_view_count": null,
            "_view_module": "@jupyter-widgets/base",
            "_view_module_version": "1.2.0",
            "_view_name": "StyleView",
            "description_width": ""
          }
        },
        "7efe7b2033bb4316a8fad8d99b4650c1": {
          "model_module": "@jupyter-widgets/base",
          "model_name": "LayoutModel",
          "model_module_version": "1.2.0",
          "state": {
            "_model_module": "@jupyter-widgets/base",
            "_model_module_version": "1.2.0",
            "_model_name": "LayoutModel",
            "_view_count": null,
            "_view_module": "@jupyter-widgets/base",
            "_view_module_version": "1.2.0",
            "_view_name": "LayoutView",
            "align_content": null,
            "align_items": null,
            "align_self": null,
            "border": null,
            "bottom": null,
            "display": null,
            "flex": null,
            "flex_flow": null,
            "grid_area": null,
            "grid_auto_columns": null,
            "grid_auto_flow": null,
            "grid_auto_rows": null,
            "grid_column": null,
            "grid_gap": null,
            "grid_row": null,
            "grid_template_areas": null,
            "grid_template_columns": null,
            "grid_template_rows": null,
            "height": null,
            "justify_content": null,
            "justify_items": null,
            "left": null,
            "margin": null,
            "max_height": null,
            "max_width": null,
            "min_height": null,
            "min_width": null,
            "object_fit": null,
            "object_position": null,
            "order": null,
            "overflow": null,
            "overflow_x": null,
            "overflow_y": null,
            "padding": null,
            "right": null,
            "top": null,
            "visibility": null,
            "width": null
          }
        },
        "b9ccf74d2bf54bc2af433f1a160fa53f": {
          "model_module": "@jupyter-widgets/controls",
          "model_name": "ProgressStyleModel",
          "model_module_version": "1.5.0",
          "state": {
            "_model_module": "@jupyter-widgets/controls",
            "_model_module_version": "1.5.0",
            "_model_name": "ProgressStyleModel",
            "_view_count": null,
            "_view_module": "@jupyter-widgets/base",
            "_view_module_version": "1.2.0",
            "_view_name": "StyleView",
            "bar_color": null,
            "description_width": ""
          }
        },
        "4436b9fded6c46cb9c45e6547d401d72": {
          "model_module": "@jupyter-widgets/base",
          "model_name": "LayoutModel",
          "model_module_version": "1.2.0",
          "state": {
            "_model_module": "@jupyter-widgets/base",
            "_model_module_version": "1.2.0",
            "_model_name": "LayoutModel",
            "_view_count": null,
            "_view_module": "@jupyter-widgets/base",
            "_view_module_version": "1.2.0",
            "_view_name": "LayoutView",
            "align_content": null,
            "align_items": null,
            "align_self": null,
            "border": null,
            "bottom": null,
            "display": null,
            "flex": null,
            "flex_flow": null,
            "grid_area": null,
            "grid_auto_columns": null,
            "grid_auto_flow": null,
            "grid_auto_rows": null,
            "grid_column": null,
            "grid_gap": null,
            "grid_row": null,
            "grid_template_areas": null,
            "grid_template_columns": null,
            "grid_template_rows": null,
            "height": null,
            "justify_content": null,
            "justify_items": null,
            "left": null,
            "margin": null,
            "max_height": null,
            "max_width": null,
            "min_height": null,
            "min_width": null,
            "object_fit": null,
            "object_position": null,
            "order": null,
            "overflow": null,
            "overflow_x": null,
            "overflow_y": null,
            "padding": null,
            "right": null,
            "top": null,
            "visibility": null,
            "width": null
          }
        },
        "5a02b3b0302b44af95bd4f14de30bc05": {
          "model_module": "@jupyter-widgets/controls",
          "model_name": "DescriptionStyleModel",
          "model_module_version": "1.5.0",
          "state": {
            "_model_module": "@jupyter-widgets/controls",
            "_model_module_version": "1.5.0",
            "_model_name": "DescriptionStyleModel",
            "_view_count": null,
            "_view_module": "@jupyter-widgets/base",
            "_view_module_version": "1.2.0",
            "_view_name": "StyleView",
            "description_width": ""
          }
        },
        "ba2bae0936c648d884c7623a1fb40821": {
          "model_module": "@jupyter-widgets/controls",
          "model_name": "HBoxModel",
          "model_module_version": "1.5.0",
          "state": {
            "_dom_classes": [],
            "_model_module": "@jupyter-widgets/controls",
            "_model_module_version": "1.5.0",
            "_model_name": "HBoxModel",
            "_view_count": null,
            "_view_module": "@jupyter-widgets/controls",
            "_view_module_version": "1.5.0",
            "_view_name": "HBoxView",
            "box_style": "",
            "children": [
              "IPY_MODEL_e0b3d546c1dc49a5b1606e65f1053365",
              "IPY_MODEL_5d5bd0dd5dc748eda562b5790f9d4326",
              "IPY_MODEL_ca06a57a64b04a64862010045adbd2b6"
            ],
            "layout": "IPY_MODEL_dbfaab1ff866428bbe7c78b35e8164a6"
          }
        },
        "e0b3d546c1dc49a5b1606e65f1053365": {
          "model_module": "@jupyter-widgets/controls",
          "model_name": "HTMLModel",
          "model_module_version": "1.5.0",
          "state": {
            "_dom_classes": [],
            "_model_module": "@jupyter-widgets/controls",
            "_model_module_version": "1.5.0",
            "_model_name": "HTMLModel",
            "_view_count": null,
            "_view_module": "@jupyter-widgets/controls",
            "_view_module_version": "1.5.0",
            "_view_name": "HTMLView",
            "description": "",
            "description_tooltip": null,
            "layout": "IPY_MODEL_9bbdf8e21019455aa4d7e9bd4f6c6107",
            "placeholder": "​",
            "style": "IPY_MODEL_8f5f7a0d2dab4721879e650cbb81f9cc",
            "value": "Generating validation split: 100%"
          }
        },
        "5d5bd0dd5dc748eda562b5790f9d4326": {
          "model_module": "@jupyter-widgets/controls",
          "model_name": "FloatProgressModel",
          "model_module_version": "1.5.0",
          "state": {
            "_dom_classes": [],
            "_model_module": "@jupyter-widgets/controls",
            "_model_module_version": "1.5.0",
            "_model_name": "FloatProgressModel",
            "_view_count": null,
            "_view_module": "@jupyter-widgets/controls",
            "_view_module_version": "1.5.0",
            "_view_name": "ProgressView",
            "bar_style": "success",
            "description": "",
            "description_tooltip": null,
            "layout": "IPY_MODEL_e591bcabd5294c029b9a2779df951501",
            "max": 18670,
            "min": 0,
            "orientation": "horizontal",
            "style": "IPY_MODEL_af38bd50ab714d4899aba9293210a0d7",
            "value": 18670
          }
        },
        "ca06a57a64b04a64862010045adbd2b6": {
          "model_module": "@jupyter-widgets/controls",
          "model_name": "HTMLModel",
          "model_module_version": "1.5.0",
          "state": {
            "_dom_classes": [],
            "_model_module": "@jupyter-widgets/controls",
            "_model_module_version": "1.5.0",
            "_model_name": "HTMLModel",
            "_view_count": null,
            "_view_module": "@jupyter-widgets/controls",
            "_view_module_version": "1.5.0",
            "_view_name": "HTMLView",
            "description": "",
            "description_tooltip": null,
            "layout": "IPY_MODEL_0f7dc743f19e46a4aaba5176485c1bf7",
            "placeholder": "​",
            "style": "IPY_MODEL_a9b590b45bb94a979fbd9dce555d26d9",
            "value": " 18670/18670 [00:15&lt;00:00, 1562.71 examples/s]"
          }
        },
        "dbfaab1ff866428bbe7c78b35e8164a6": {
          "model_module": "@jupyter-widgets/base",
          "model_name": "LayoutModel",
          "model_module_version": "1.2.0",
          "state": {
            "_model_module": "@jupyter-widgets/base",
            "_model_module_version": "1.2.0",
            "_model_name": "LayoutModel",
            "_view_count": null,
            "_view_module": "@jupyter-widgets/base",
            "_view_module_version": "1.2.0",
            "_view_name": "LayoutView",
            "align_content": null,
            "align_items": null,
            "align_self": null,
            "border": null,
            "bottom": null,
            "display": null,
            "flex": null,
            "flex_flow": null,
            "grid_area": null,
            "grid_auto_columns": null,
            "grid_auto_flow": null,
            "grid_auto_rows": null,
            "grid_column": null,
            "grid_gap": null,
            "grid_row": null,
            "grid_template_areas": null,
            "grid_template_columns": null,
            "grid_template_rows": null,
            "height": null,
            "justify_content": null,
            "justify_items": null,
            "left": null,
            "margin": null,
            "max_height": null,
            "max_width": null,
            "min_height": null,
            "min_width": null,
            "object_fit": null,
            "object_position": null,
            "order": null,
            "overflow": null,
            "overflow_x": null,
            "overflow_y": null,
            "padding": null,
            "right": null,
            "top": null,
            "visibility": null,
            "width": null
          }
        },
        "9bbdf8e21019455aa4d7e9bd4f6c6107": {
          "model_module": "@jupyter-widgets/base",
          "model_name": "LayoutModel",
          "model_module_version": "1.2.0",
          "state": {
            "_model_module": "@jupyter-widgets/base",
            "_model_module_version": "1.2.0",
            "_model_name": "LayoutModel",
            "_view_count": null,
            "_view_module": "@jupyter-widgets/base",
            "_view_module_version": "1.2.0",
            "_view_name": "LayoutView",
            "align_content": null,
            "align_items": null,
            "align_self": null,
            "border": null,
            "bottom": null,
            "display": null,
            "flex": null,
            "flex_flow": null,
            "grid_area": null,
            "grid_auto_columns": null,
            "grid_auto_flow": null,
            "grid_auto_rows": null,
            "grid_column": null,
            "grid_gap": null,
            "grid_row": null,
            "grid_template_areas": null,
            "grid_template_columns": null,
            "grid_template_rows": null,
            "height": null,
            "justify_content": null,
            "justify_items": null,
            "left": null,
            "margin": null,
            "max_height": null,
            "max_width": null,
            "min_height": null,
            "min_width": null,
            "object_fit": null,
            "object_position": null,
            "order": null,
            "overflow": null,
            "overflow_x": null,
            "overflow_y": null,
            "padding": null,
            "right": null,
            "top": null,
            "visibility": null,
            "width": null
          }
        },
        "8f5f7a0d2dab4721879e650cbb81f9cc": {
          "model_module": "@jupyter-widgets/controls",
          "model_name": "DescriptionStyleModel",
          "model_module_version": "1.5.0",
          "state": {
            "_model_module": "@jupyter-widgets/controls",
            "_model_module_version": "1.5.0",
            "_model_name": "DescriptionStyleModel",
            "_view_count": null,
            "_view_module": "@jupyter-widgets/base",
            "_view_module_version": "1.2.0",
            "_view_name": "StyleView",
            "description_width": ""
          }
        },
        "e591bcabd5294c029b9a2779df951501": {
          "model_module": "@jupyter-widgets/base",
          "model_name": "LayoutModel",
          "model_module_version": "1.2.0",
          "state": {
            "_model_module": "@jupyter-widgets/base",
            "_model_module_version": "1.2.0",
            "_model_name": "LayoutModel",
            "_view_count": null,
            "_view_module": "@jupyter-widgets/base",
            "_view_module_version": "1.2.0",
            "_view_name": "LayoutView",
            "align_content": null,
            "align_items": null,
            "align_self": null,
            "border": null,
            "bottom": null,
            "display": null,
            "flex": null,
            "flex_flow": null,
            "grid_area": null,
            "grid_auto_columns": null,
            "grid_auto_flow": null,
            "grid_auto_rows": null,
            "grid_column": null,
            "grid_gap": null,
            "grid_row": null,
            "grid_template_areas": null,
            "grid_template_columns": null,
            "grid_template_rows": null,
            "height": null,
            "justify_content": null,
            "justify_items": null,
            "left": null,
            "margin": null,
            "max_height": null,
            "max_width": null,
            "min_height": null,
            "min_width": null,
            "object_fit": null,
            "object_position": null,
            "order": null,
            "overflow": null,
            "overflow_x": null,
            "overflow_y": null,
            "padding": null,
            "right": null,
            "top": null,
            "visibility": null,
            "width": null
          }
        },
        "af38bd50ab714d4899aba9293210a0d7": {
          "model_module": "@jupyter-widgets/controls",
          "model_name": "ProgressStyleModel",
          "model_module_version": "1.5.0",
          "state": {
            "_model_module": "@jupyter-widgets/controls",
            "_model_module_version": "1.5.0",
            "_model_name": "ProgressStyleModel",
            "_view_count": null,
            "_view_module": "@jupyter-widgets/base",
            "_view_module_version": "1.2.0",
            "_view_name": "StyleView",
            "bar_color": null,
            "description_width": ""
          }
        },
        "0f7dc743f19e46a4aaba5176485c1bf7": {
          "model_module": "@jupyter-widgets/base",
          "model_name": "LayoutModel",
          "model_module_version": "1.2.0",
          "state": {
            "_model_module": "@jupyter-widgets/base",
            "_model_module_version": "1.2.0",
            "_model_name": "LayoutModel",
            "_view_count": null,
            "_view_module": "@jupyter-widgets/base",
            "_view_module_version": "1.2.0",
            "_view_name": "LayoutView",
            "align_content": null,
            "align_items": null,
            "align_self": null,
            "border": null,
            "bottom": null,
            "display": null,
            "flex": null,
            "flex_flow": null,
            "grid_area": null,
            "grid_auto_columns": null,
            "grid_auto_flow": null,
            "grid_auto_rows": null,
            "grid_column": null,
            "grid_gap": null,
            "grid_row": null,
            "grid_template_areas": null,
            "grid_template_columns": null,
            "grid_template_rows": null,
            "height": null,
            "justify_content": null,
            "justify_items": null,
            "left": null,
            "margin": null,
            "max_height": null,
            "max_width": null,
            "min_height": null,
            "min_width": null,
            "object_fit": null,
            "object_position": null,
            "order": null,
            "overflow": null,
            "overflow_x": null,
            "overflow_y": null,
            "padding": null,
            "right": null,
            "top": null,
            "visibility": null,
            "width": null
          }
        },
        "a9b590b45bb94a979fbd9dce555d26d9": {
          "model_module": "@jupyter-widgets/controls",
          "model_name": "DescriptionStyleModel",
          "model_module_version": "1.5.0",
          "state": {
            "_model_module": "@jupyter-widgets/controls",
            "_model_module_version": "1.5.0",
            "_model_name": "DescriptionStyleModel",
            "_view_count": null,
            "_view_module": "@jupyter-widgets/base",
            "_view_module_version": "1.2.0",
            "_view_name": "StyleView",
            "description_width": ""
          }
        },
        "14a748844060494c8ce687ed51446ce7": {
          "model_module": "@jupyter-widgets/controls",
          "model_name": "HBoxModel",
          "model_module_version": "1.5.0",
          "state": {
            "_dom_classes": [],
            "_model_module": "@jupyter-widgets/controls",
            "_model_module_version": "1.5.0",
            "_model_name": "HBoxModel",
            "_view_count": null,
            "_view_module": "@jupyter-widgets/controls",
            "_view_module_version": "1.5.0",
            "_view_name": "HBoxView",
            "box_style": "",
            "children": [
              "IPY_MODEL_7be2c88181584068a853b7d5d5f29e02",
              "IPY_MODEL_2c48215a6f274a1e8c711b79b91a154c",
              "IPY_MODEL_71a483d4d447457b92510e45c5cbecc1"
            ],
            "layout": "IPY_MODEL_d97b18641bcf47f1aad80ccf543255b2"
          }
        },
        "7be2c88181584068a853b7d5d5f29e02": {
          "model_module": "@jupyter-widgets/controls",
          "model_name": "HTMLModel",
          "model_module_version": "1.5.0",
          "state": {
            "_dom_classes": [],
            "_model_module": "@jupyter-widgets/controls",
            "_model_module_version": "1.5.0",
            "_model_name": "HTMLModel",
            "_view_count": null,
            "_view_module": "@jupyter-widgets/controls",
            "_view_module_version": "1.5.0",
            "_view_name": "HTMLView",
            "description": "",
            "description_tooltip": null,
            "layout": "IPY_MODEL_c231a09cdc2f433990132d6d93b3cf18",
            "placeholder": "​",
            "style": "IPY_MODEL_2fe6955d2ac04dc693bc2d53a701a74d",
            "value": "Filter: 100%"
          }
        },
        "2c48215a6f274a1e8c711b79b91a154c": {
          "model_module": "@jupyter-widgets/controls",
          "model_name": "FloatProgressModel",
          "model_module_version": "1.5.0",
          "state": {
            "_dom_classes": [],
            "_model_module": "@jupyter-widgets/controls",
            "_model_module_version": "1.5.0",
            "_model_name": "FloatProgressModel",
            "_view_count": null,
            "_view_module": "@jupyter-widgets/controls",
            "_view_module_version": "1.5.0",
            "_view_name": "ProgressView",
            "bar_style": "success",
            "description": "",
            "description_tooltip": null,
            "layout": "IPY_MODEL_16a117c35b184e879e6ecc139833d8f6",
            "max": 166916,
            "min": 0,
            "orientation": "horizontal",
            "style": "IPY_MODEL_9f377f1a29d44e5188aa1127bc9b04b8",
            "value": 166916
          }
        },
        "71a483d4d447457b92510e45c5cbecc1": {
          "model_module": "@jupyter-widgets/controls",
          "model_name": "HTMLModel",
          "model_module_version": "1.5.0",
          "state": {
            "_dom_classes": [],
            "_model_module": "@jupyter-widgets/controls",
            "_model_module_version": "1.5.0",
            "_model_name": "HTMLModel",
            "_view_count": null,
            "_view_module": "@jupyter-widgets/controls",
            "_view_module_version": "1.5.0",
            "_view_name": "HTMLView",
            "description": "",
            "description_tooltip": null,
            "layout": "IPY_MODEL_c034c3ad9d81496db7c5bb2da6a525fa",
            "placeholder": "​",
            "style": "IPY_MODEL_482dc81b3c39463e9fe6facd49236bf4",
            "value": " 166916/166916 [00:45&lt;00:00, 4175.30 examples/s]"
          }
        },
        "d97b18641bcf47f1aad80ccf543255b2": {
          "model_module": "@jupyter-widgets/base",
          "model_name": "LayoutModel",
          "model_module_version": "1.2.0",
          "state": {
            "_model_module": "@jupyter-widgets/base",
            "_model_module_version": "1.2.0",
            "_model_name": "LayoutModel",
            "_view_count": null,
            "_view_module": "@jupyter-widgets/base",
            "_view_module_version": "1.2.0",
            "_view_name": "LayoutView",
            "align_content": null,
            "align_items": null,
            "align_self": null,
            "border": null,
            "bottom": null,
            "display": null,
            "flex": null,
            "flex_flow": null,
            "grid_area": null,
            "grid_auto_columns": null,
            "grid_auto_flow": null,
            "grid_auto_rows": null,
            "grid_column": null,
            "grid_gap": null,
            "grid_row": null,
            "grid_template_areas": null,
            "grid_template_columns": null,
            "grid_template_rows": null,
            "height": null,
            "justify_content": null,
            "justify_items": null,
            "left": null,
            "margin": null,
            "max_height": null,
            "max_width": null,
            "min_height": null,
            "min_width": null,
            "object_fit": null,
            "object_position": null,
            "order": null,
            "overflow": null,
            "overflow_x": null,
            "overflow_y": null,
            "padding": null,
            "right": null,
            "top": null,
            "visibility": null,
            "width": null
          }
        },
        "c231a09cdc2f433990132d6d93b3cf18": {
          "model_module": "@jupyter-widgets/base",
          "model_name": "LayoutModel",
          "model_module_version": "1.2.0",
          "state": {
            "_model_module": "@jupyter-widgets/base",
            "_model_module_version": "1.2.0",
            "_model_name": "LayoutModel",
            "_view_count": null,
            "_view_module": "@jupyter-widgets/base",
            "_view_module_version": "1.2.0",
            "_view_name": "LayoutView",
            "align_content": null,
            "align_items": null,
            "align_self": null,
            "border": null,
            "bottom": null,
            "display": null,
            "flex": null,
            "flex_flow": null,
            "grid_area": null,
            "grid_auto_columns": null,
            "grid_auto_flow": null,
            "grid_auto_rows": null,
            "grid_column": null,
            "grid_gap": null,
            "grid_row": null,
            "grid_template_areas": null,
            "grid_template_columns": null,
            "grid_template_rows": null,
            "height": null,
            "justify_content": null,
            "justify_items": null,
            "left": null,
            "margin": null,
            "max_height": null,
            "max_width": null,
            "min_height": null,
            "min_width": null,
            "object_fit": null,
            "object_position": null,
            "order": null,
            "overflow": null,
            "overflow_x": null,
            "overflow_y": null,
            "padding": null,
            "right": null,
            "top": null,
            "visibility": null,
            "width": null
          }
        },
        "2fe6955d2ac04dc693bc2d53a701a74d": {
          "model_module": "@jupyter-widgets/controls",
          "model_name": "DescriptionStyleModel",
          "model_module_version": "1.5.0",
          "state": {
            "_model_module": "@jupyter-widgets/controls",
            "_model_module_version": "1.5.0",
            "_model_name": "DescriptionStyleModel",
            "_view_count": null,
            "_view_module": "@jupyter-widgets/base",
            "_view_module_version": "1.2.0",
            "_view_name": "StyleView",
            "description_width": ""
          }
        },
        "16a117c35b184e879e6ecc139833d8f6": {
          "model_module": "@jupyter-widgets/base",
          "model_name": "LayoutModel",
          "model_module_version": "1.2.0",
          "state": {
            "_model_module": "@jupyter-widgets/base",
            "_model_module_version": "1.2.0",
            "_model_name": "LayoutModel",
            "_view_count": null,
            "_view_module": "@jupyter-widgets/base",
            "_view_module_version": "1.2.0",
            "_view_name": "LayoutView",
            "align_content": null,
            "align_items": null,
            "align_self": null,
            "border": null,
            "bottom": null,
            "display": null,
            "flex": null,
            "flex_flow": null,
            "grid_area": null,
            "grid_auto_columns": null,
            "grid_auto_flow": null,
            "grid_auto_rows": null,
            "grid_column": null,
            "grid_gap": null,
            "grid_row": null,
            "grid_template_areas": null,
            "grid_template_columns": null,
            "grid_template_rows": null,
            "height": null,
            "justify_content": null,
            "justify_items": null,
            "left": null,
            "margin": null,
            "max_height": null,
            "max_width": null,
            "min_height": null,
            "min_width": null,
            "object_fit": null,
            "object_position": null,
            "order": null,
            "overflow": null,
            "overflow_x": null,
            "overflow_y": null,
            "padding": null,
            "right": null,
            "top": null,
            "visibility": null,
            "width": null
          }
        },
        "9f377f1a29d44e5188aa1127bc9b04b8": {
          "model_module": "@jupyter-widgets/controls",
          "model_name": "ProgressStyleModel",
          "model_module_version": "1.5.0",
          "state": {
            "_model_module": "@jupyter-widgets/controls",
            "_model_module_version": "1.5.0",
            "_model_name": "ProgressStyleModel",
            "_view_count": null,
            "_view_module": "@jupyter-widgets/base",
            "_view_module_version": "1.2.0",
            "_view_name": "StyleView",
            "bar_color": null,
            "description_width": ""
          }
        },
        "c034c3ad9d81496db7c5bb2da6a525fa": {
          "model_module": "@jupyter-widgets/base",
          "model_name": "LayoutModel",
          "model_module_version": "1.2.0",
          "state": {
            "_model_module": "@jupyter-widgets/base",
            "_model_module_version": "1.2.0",
            "_model_name": "LayoutModel",
            "_view_count": null,
            "_view_module": "@jupyter-widgets/base",
            "_view_module_version": "1.2.0",
            "_view_name": "LayoutView",
            "align_content": null,
            "align_items": null,
            "align_self": null,
            "border": null,
            "bottom": null,
            "display": null,
            "flex": null,
            "flex_flow": null,
            "grid_area": null,
            "grid_auto_columns": null,
            "grid_auto_flow": null,
            "grid_auto_rows": null,
            "grid_column": null,
            "grid_gap": null,
            "grid_row": null,
            "grid_template_areas": null,
            "grid_template_columns": null,
            "grid_template_rows": null,
            "height": null,
            "justify_content": null,
            "justify_items": null,
            "left": null,
            "margin": null,
            "max_height": null,
            "max_width": null,
            "min_height": null,
            "min_width": null,
            "object_fit": null,
            "object_position": null,
            "order": null,
            "overflow": null,
            "overflow_x": null,
            "overflow_y": null,
            "padding": null,
            "right": null,
            "top": null,
            "visibility": null,
            "width": null
          }
        },
        "482dc81b3c39463e9fe6facd49236bf4": {
          "model_module": "@jupyter-widgets/controls",
          "model_name": "DescriptionStyleModel",
          "model_module_version": "1.5.0",
          "state": {
            "_model_module": "@jupyter-widgets/controls",
            "_model_module_version": "1.5.0",
            "_model_name": "DescriptionStyleModel",
            "_view_count": null,
            "_view_module": "@jupyter-widgets/base",
            "_view_module_version": "1.2.0",
            "_view_name": "StyleView",
            "description_width": ""
          }
        },
        "84e442959c854b069171590dd5399471": {
          "model_module": "@jupyter-widgets/controls",
          "model_name": "HBoxModel",
          "model_module_version": "1.5.0",
          "state": {
            "_dom_classes": [],
            "_model_module": "@jupyter-widgets/controls",
            "_model_module_version": "1.5.0",
            "_model_name": "HBoxModel",
            "_view_count": null,
            "_view_module": "@jupyter-widgets/controls",
            "_view_module_version": "1.5.0",
            "_view_name": "HBoxView",
            "box_style": "",
            "children": [
              "IPY_MODEL_5284480d6a6e4d0eb6a6028bcea0b83a",
              "IPY_MODEL_e67c7779211741b088ad3fae3d8f8f4a",
              "IPY_MODEL_519489655042434a9fada906da6de144"
            ],
            "layout": "IPY_MODEL_cbe6bc2f280641b8917cbc350da46189"
          }
        },
        "5284480d6a6e4d0eb6a6028bcea0b83a": {
          "model_module": "@jupyter-widgets/controls",
          "model_name": "HTMLModel",
          "model_module_version": "1.5.0",
          "state": {
            "_dom_classes": [],
            "_model_module": "@jupyter-widgets/controls",
            "_model_module_version": "1.5.0",
            "_model_name": "HTMLModel",
            "_view_count": null,
            "_view_module": "@jupyter-widgets/controls",
            "_view_module_version": "1.5.0",
            "_view_name": "HTMLView",
            "description": "",
            "description_tooltip": null,
            "layout": "IPY_MODEL_1b2ac5d503cc409b8c933762f9bb774a",
            "placeholder": "​",
            "style": "IPY_MODEL_de66c0554a1d401ba74a091832717f7a",
            "value": "Filter: 100%"
          }
        },
        "e67c7779211741b088ad3fae3d8f8f4a": {
          "model_module": "@jupyter-widgets/controls",
          "model_name": "FloatProgressModel",
          "model_module_version": "1.5.0",
          "state": {
            "_dom_classes": [],
            "_model_module": "@jupyter-widgets/controls",
            "_model_module_version": "1.5.0",
            "_model_name": "FloatProgressModel",
            "_view_count": null,
            "_view_module": "@jupyter-widgets/controls",
            "_view_module_version": "1.5.0",
            "_view_name": "ProgressView",
            "bar_style": "success",
            "description": "",
            "description_tooltip": null,
            "layout": "IPY_MODEL_afb33287bb7142e6bb0e4fb64be8a78f",
            "max": 18670,
            "min": 0,
            "orientation": "horizontal",
            "style": "IPY_MODEL_805d2e5e3fae43feb5ab65ed5192b4f9",
            "value": 18670
          }
        },
        "519489655042434a9fada906da6de144": {
          "model_module": "@jupyter-widgets/controls",
          "model_name": "HTMLModel",
          "model_module_version": "1.5.0",
          "state": {
            "_dom_classes": [],
            "_model_module": "@jupyter-widgets/controls",
            "_model_module_version": "1.5.0",
            "_model_name": "HTMLModel",
            "_view_count": null,
            "_view_module": "@jupyter-widgets/controls",
            "_view_module_version": "1.5.0",
            "_view_name": "HTMLView",
            "description": "",
            "description_tooltip": null,
            "layout": "IPY_MODEL_d2d419ccf33748a89397b5801ec36c90",
            "placeholder": "​",
            "style": "IPY_MODEL_022e3326e4ca45708c2ae83d46cc07ff",
            "value": " 18670/18670 [00:03&lt;00:00, 5314.50 examples/s]"
          }
        },
        "cbe6bc2f280641b8917cbc350da46189": {
          "model_module": "@jupyter-widgets/base",
          "model_name": "LayoutModel",
          "model_module_version": "1.2.0",
          "state": {
            "_model_module": "@jupyter-widgets/base",
            "_model_module_version": "1.2.0",
            "_model_name": "LayoutModel",
            "_view_count": null,
            "_view_module": "@jupyter-widgets/base",
            "_view_module_version": "1.2.0",
            "_view_name": "LayoutView",
            "align_content": null,
            "align_items": null,
            "align_self": null,
            "border": null,
            "bottom": null,
            "display": null,
            "flex": null,
            "flex_flow": null,
            "grid_area": null,
            "grid_auto_columns": null,
            "grid_auto_flow": null,
            "grid_auto_rows": null,
            "grid_column": null,
            "grid_gap": null,
            "grid_row": null,
            "grid_template_areas": null,
            "grid_template_columns": null,
            "grid_template_rows": null,
            "height": null,
            "justify_content": null,
            "justify_items": null,
            "left": null,
            "margin": null,
            "max_height": null,
            "max_width": null,
            "min_height": null,
            "min_width": null,
            "object_fit": null,
            "object_position": null,
            "order": null,
            "overflow": null,
            "overflow_x": null,
            "overflow_y": null,
            "padding": null,
            "right": null,
            "top": null,
            "visibility": null,
            "width": null
          }
        },
        "1b2ac5d503cc409b8c933762f9bb774a": {
          "model_module": "@jupyter-widgets/base",
          "model_name": "LayoutModel",
          "model_module_version": "1.2.0",
          "state": {
            "_model_module": "@jupyter-widgets/base",
            "_model_module_version": "1.2.0",
            "_model_name": "LayoutModel",
            "_view_count": null,
            "_view_module": "@jupyter-widgets/base",
            "_view_module_version": "1.2.0",
            "_view_name": "LayoutView",
            "align_content": null,
            "align_items": null,
            "align_self": null,
            "border": null,
            "bottom": null,
            "display": null,
            "flex": null,
            "flex_flow": null,
            "grid_area": null,
            "grid_auto_columns": null,
            "grid_auto_flow": null,
            "grid_auto_rows": null,
            "grid_column": null,
            "grid_gap": null,
            "grid_row": null,
            "grid_template_areas": null,
            "grid_template_columns": null,
            "grid_template_rows": null,
            "height": null,
            "justify_content": null,
            "justify_items": null,
            "left": null,
            "margin": null,
            "max_height": null,
            "max_width": null,
            "min_height": null,
            "min_width": null,
            "object_fit": null,
            "object_position": null,
            "order": null,
            "overflow": null,
            "overflow_x": null,
            "overflow_y": null,
            "padding": null,
            "right": null,
            "top": null,
            "visibility": null,
            "width": null
          }
        },
        "de66c0554a1d401ba74a091832717f7a": {
          "model_module": "@jupyter-widgets/controls",
          "model_name": "DescriptionStyleModel",
          "model_module_version": "1.5.0",
          "state": {
            "_model_module": "@jupyter-widgets/controls",
            "_model_module_version": "1.5.0",
            "_model_name": "DescriptionStyleModel",
            "_view_count": null,
            "_view_module": "@jupyter-widgets/base",
            "_view_module_version": "1.2.0",
            "_view_name": "StyleView",
            "description_width": ""
          }
        },
        "afb33287bb7142e6bb0e4fb64be8a78f": {
          "model_module": "@jupyter-widgets/base",
          "model_name": "LayoutModel",
          "model_module_version": "1.2.0",
          "state": {
            "_model_module": "@jupyter-widgets/base",
            "_model_module_version": "1.2.0",
            "_model_name": "LayoutModel",
            "_view_count": null,
            "_view_module": "@jupyter-widgets/base",
            "_view_module_version": "1.2.0",
            "_view_name": "LayoutView",
            "align_content": null,
            "align_items": null,
            "align_self": null,
            "border": null,
            "bottom": null,
            "display": null,
            "flex": null,
            "flex_flow": null,
            "grid_area": null,
            "grid_auto_columns": null,
            "grid_auto_flow": null,
            "grid_auto_rows": null,
            "grid_column": null,
            "grid_gap": null,
            "grid_row": null,
            "grid_template_areas": null,
            "grid_template_columns": null,
            "grid_template_rows": null,
            "height": null,
            "justify_content": null,
            "justify_items": null,
            "left": null,
            "margin": null,
            "max_height": null,
            "max_width": null,
            "min_height": null,
            "min_width": null,
            "object_fit": null,
            "object_position": null,
            "order": null,
            "overflow": null,
            "overflow_x": null,
            "overflow_y": null,
            "padding": null,
            "right": null,
            "top": null,
            "visibility": null,
            "width": null
          }
        },
        "805d2e5e3fae43feb5ab65ed5192b4f9": {
          "model_module": "@jupyter-widgets/controls",
          "model_name": "ProgressStyleModel",
          "model_module_version": "1.5.0",
          "state": {
            "_model_module": "@jupyter-widgets/controls",
            "_model_module_version": "1.5.0",
            "_model_name": "ProgressStyleModel",
            "_view_count": null,
            "_view_module": "@jupyter-widgets/base",
            "_view_module_version": "1.2.0",
            "_view_name": "StyleView",
            "bar_color": null,
            "description_width": ""
          }
        },
        "d2d419ccf33748a89397b5801ec36c90": {
          "model_module": "@jupyter-widgets/base",
          "model_name": "LayoutModel",
          "model_module_version": "1.2.0",
          "state": {
            "_model_module": "@jupyter-widgets/base",
            "_model_module_version": "1.2.0",
            "_model_name": "LayoutModel",
            "_view_count": null,
            "_view_module": "@jupyter-widgets/base",
            "_view_module_version": "1.2.0",
            "_view_name": "LayoutView",
            "align_content": null,
            "align_items": null,
            "align_self": null,
            "border": null,
            "bottom": null,
            "display": null,
            "flex": null,
            "flex_flow": null,
            "grid_area": null,
            "grid_auto_columns": null,
            "grid_auto_flow": null,
            "grid_auto_rows": null,
            "grid_column": null,
            "grid_gap": null,
            "grid_row": null,
            "grid_template_areas": null,
            "grid_template_columns": null,
            "grid_template_rows": null,
            "height": null,
            "justify_content": null,
            "justify_items": null,
            "left": null,
            "margin": null,
            "max_height": null,
            "max_width": null,
            "min_height": null,
            "min_width": null,
            "object_fit": null,
            "object_position": null,
            "order": null,
            "overflow": null,
            "overflow_x": null,
            "overflow_y": null,
            "padding": null,
            "right": null,
            "top": null,
            "visibility": null,
            "width": null
          }
        },
        "022e3326e4ca45708c2ae83d46cc07ff": {
          "model_module": "@jupyter-widgets/controls",
          "model_name": "DescriptionStyleModel",
          "model_module_version": "1.5.0",
          "state": {
            "_model_module": "@jupyter-widgets/controls",
            "_model_module_version": "1.5.0",
            "_model_name": "DescriptionStyleModel",
            "_view_count": null,
            "_view_module": "@jupyter-widgets/base",
            "_view_module_version": "1.2.0",
            "_view_name": "StyleView",
            "description_width": ""
          }
        },
        "722a96ab11bc4280bf7eb3654cf2ca97": {
          "model_module": "@jupyter-widgets/controls",
          "model_name": "HBoxModel",
          "model_module_version": "1.5.0",
          "state": {
            "_dom_classes": [],
            "_model_module": "@jupyter-widgets/controls",
            "_model_module_version": "1.5.0",
            "_model_name": "HBoxModel",
            "_view_count": null,
            "_view_module": "@jupyter-widgets/controls",
            "_view_module_version": "1.5.0",
            "_view_name": "HBoxView",
            "box_style": "",
            "children": [
              "IPY_MODEL_4e0d896a041d421784f9e5526ff0ddd1",
              "IPY_MODEL_1d544a59ed6140558f87225f6cb627d3",
              "IPY_MODEL_22bbc8139a844e7899363fd8a064356b"
            ],
            "layout": "IPY_MODEL_501c9919b3e340c69b0d310bba5b4633"
          }
        },
        "4e0d896a041d421784f9e5526ff0ddd1": {
          "model_module": "@jupyter-widgets/controls",
          "model_name": "HTMLModel",
          "model_module_version": "1.5.0",
          "state": {
            "_dom_classes": [],
            "_model_module": "@jupyter-widgets/controls",
            "_model_module_version": "1.5.0",
            "_model_name": "HTMLModel",
            "_view_count": null,
            "_view_module": "@jupyter-widgets/controls",
            "_view_module_version": "1.5.0",
            "_view_name": "HTMLView",
            "description": "",
            "description_tooltip": null,
            "layout": "IPY_MODEL_157b09864984467092c6ddb90cec54f1",
            "placeholder": "​",
            "style": "IPY_MODEL_a351adf00bb04e669ae5d064056716e9",
            "value": "Map: 100%"
          }
        },
        "1d544a59ed6140558f87225f6cb627d3": {
          "model_module": "@jupyter-widgets/controls",
          "model_name": "FloatProgressModel",
          "model_module_version": "1.5.0",
          "state": {
            "_dom_classes": [],
            "_model_module": "@jupyter-widgets/controls",
            "_model_module_version": "1.5.0",
            "_model_name": "FloatProgressModel",
            "_view_count": null,
            "_view_module": "@jupyter-widgets/controls",
            "_view_module_version": "1.5.0",
            "_view_name": "ProgressView",
            "bar_style": "success",
            "description": "",
            "description_tooltip": null,
            "layout": "IPY_MODEL_fd4c5031b6de4e308f252088394e2083",
            "max": 9211,
            "min": 0,
            "orientation": "horizontal",
            "style": "IPY_MODEL_93817b6282a54593bd3d0cd63d393a85",
            "value": 9211
          }
        },
        "22bbc8139a844e7899363fd8a064356b": {
          "model_module": "@jupyter-widgets/controls",
          "model_name": "HTMLModel",
          "model_module_version": "1.5.0",
          "state": {
            "_dom_classes": [],
            "_model_module": "@jupyter-widgets/controls",
            "_model_module_version": "1.5.0",
            "_model_name": "HTMLModel",
            "_view_count": null,
            "_view_module": "@jupyter-widgets/controls",
            "_view_module_version": "1.5.0",
            "_view_name": "HTMLView",
            "description": "",
            "description_tooltip": null,
            "layout": "IPY_MODEL_4d7adf24c07041dca3e0f2eb2f515c82",
            "placeholder": "​",
            "style": "IPY_MODEL_02b6680df83e493185f5922e55145e1b",
            "value": " 9211/9211 [03:17&lt;00:00, 51.44 examples/s]"
          }
        },
        "501c9919b3e340c69b0d310bba5b4633": {
          "model_module": "@jupyter-widgets/base",
          "model_name": "LayoutModel",
          "model_module_version": "1.2.0",
          "state": {
            "_model_module": "@jupyter-widgets/base",
            "_model_module_version": "1.2.0",
            "_model_name": "LayoutModel",
            "_view_count": null,
            "_view_module": "@jupyter-widgets/base",
            "_view_module_version": "1.2.0",
            "_view_name": "LayoutView",
            "align_content": null,
            "align_items": null,
            "align_self": null,
            "border": null,
            "bottom": null,
            "display": null,
            "flex": null,
            "flex_flow": null,
            "grid_area": null,
            "grid_auto_columns": null,
            "grid_auto_flow": null,
            "grid_auto_rows": null,
            "grid_column": null,
            "grid_gap": null,
            "grid_row": null,
            "grid_template_areas": null,
            "grid_template_columns": null,
            "grid_template_rows": null,
            "height": null,
            "justify_content": null,
            "justify_items": null,
            "left": null,
            "margin": null,
            "max_height": null,
            "max_width": null,
            "min_height": null,
            "min_width": null,
            "object_fit": null,
            "object_position": null,
            "order": null,
            "overflow": null,
            "overflow_x": null,
            "overflow_y": null,
            "padding": null,
            "right": null,
            "top": null,
            "visibility": null,
            "width": null
          }
        },
        "157b09864984467092c6ddb90cec54f1": {
          "model_module": "@jupyter-widgets/base",
          "model_name": "LayoutModel",
          "model_module_version": "1.2.0",
          "state": {
            "_model_module": "@jupyter-widgets/base",
            "_model_module_version": "1.2.0",
            "_model_name": "LayoutModel",
            "_view_count": null,
            "_view_module": "@jupyter-widgets/base",
            "_view_module_version": "1.2.0",
            "_view_name": "LayoutView",
            "align_content": null,
            "align_items": null,
            "align_self": null,
            "border": null,
            "bottom": null,
            "display": null,
            "flex": null,
            "flex_flow": null,
            "grid_area": null,
            "grid_auto_columns": null,
            "grid_auto_flow": null,
            "grid_auto_rows": null,
            "grid_column": null,
            "grid_gap": null,
            "grid_row": null,
            "grid_template_areas": null,
            "grid_template_columns": null,
            "grid_template_rows": null,
            "height": null,
            "justify_content": null,
            "justify_items": null,
            "left": null,
            "margin": null,
            "max_height": null,
            "max_width": null,
            "min_height": null,
            "min_width": null,
            "object_fit": null,
            "object_position": null,
            "order": null,
            "overflow": null,
            "overflow_x": null,
            "overflow_y": null,
            "padding": null,
            "right": null,
            "top": null,
            "visibility": null,
            "width": null
          }
        },
        "a351adf00bb04e669ae5d064056716e9": {
          "model_module": "@jupyter-widgets/controls",
          "model_name": "DescriptionStyleModel",
          "model_module_version": "1.5.0",
          "state": {
            "_model_module": "@jupyter-widgets/controls",
            "_model_module_version": "1.5.0",
            "_model_name": "DescriptionStyleModel",
            "_view_count": null,
            "_view_module": "@jupyter-widgets/base",
            "_view_module_version": "1.2.0",
            "_view_name": "StyleView",
            "description_width": ""
          }
        },
        "fd4c5031b6de4e308f252088394e2083": {
          "model_module": "@jupyter-widgets/base",
          "model_name": "LayoutModel",
          "model_module_version": "1.2.0",
          "state": {
            "_model_module": "@jupyter-widgets/base",
            "_model_module_version": "1.2.0",
            "_model_name": "LayoutModel",
            "_view_count": null,
            "_view_module": "@jupyter-widgets/base",
            "_view_module_version": "1.2.0",
            "_view_name": "LayoutView",
            "align_content": null,
            "align_items": null,
            "align_self": null,
            "border": null,
            "bottom": null,
            "display": null,
            "flex": null,
            "flex_flow": null,
            "grid_area": null,
            "grid_auto_columns": null,
            "grid_auto_flow": null,
            "grid_auto_rows": null,
            "grid_column": null,
            "grid_gap": null,
            "grid_row": null,
            "grid_template_areas": null,
            "grid_template_columns": null,
            "grid_template_rows": null,
            "height": null,
            "justify_content": null,
            "justify_items": null,
            "left": null,
            "margin": null,
            "max_height": null,
            "max_width": null,
            "min_height": null,
            "min_width": null,
            "object_fit": null,
            "object_position": null,
            "order": null,
            "overflow": null,
            "overflow_x": null,
            "overflow_y": null,
            "padding": null,
            "right": null,
            "top": null,
            "visibility": null,
            "width": null
          }
        },
        "93817b6282a54593bd3d0cd63d393a85": {
          "model_module": "@jupyter-widgets/controls",
          "model_name": "ProgressStyleModel",
          "model_module_version": "1.5.0",
          "state": {
            "_model_module": "@jupyter-widgets/controls",
            "_model_module_version": "1.5.0",
            "_model_name": "ProgressStyleModel",
            "_view_count": null,
            "_view_module": "@jupyter-widgets/base",
            "_view_module_version": "1.2.0",
            "_view_name": "StyleView",
            "bar_color": null,
            "description_width": ""
          }
        },
        "4d7adf24c07041dca3e0f2eb2f515c82": {
          "model_module": "@jupyter-widgets/base",
          "model_name": "LayoutModel",
          "model_module_version": "1.2.0",
          "state": {
            "_model_module": "@jupyter-widgets/base",
            "_model_module_version": "1.2.0",
            "_model_name": "LayoutModel",
            "_view_count": null,
            "_view_module": "@jupyter-widgets/base",
            "_view_module_version": "1.2.0",
            "_view_name": "LayoutView",
            "align_content": null,
            "align_items": null,
            "align_self": null,
            "border": null,
            "bottom": null,
            "display": null,
            "flex": null,
            "flex_flow": null,
            "grid_area": null,
            "grid_auto_columns": null,
            "grid_auto_flow": null,
            "grid_auto_rows": null,
            "grid_column": null,
            "grid_gap": null,
            "grid_row": null,
            "grid_template_areas": null,
            "grid_template_columns": null,
            "grid_template_rows": null,
            "height": null,
            "justify_content": null,
            "justify_items": null,
            "left": null,
            "margin": null,
            "max_height": null,
            "max_width": null,
            "min_height": null,
            "min_width": null,
            "object_fit": null,
            "object_position": null,
            "order": null,
            "overflow": null,
            "overflow_x": null,
            "overflow_y": null,
            "padding": null,
            "right": null,
            "top": null,
            "visibility": null,
            "width": null
          }
        },
        "02b6680df83e493185f5922e55145e1b": {
          "model_module": "@jupyter-widgets/controls",
          "model_name": "DescriptionStyleModel",
          "model_module_version": "1.5.0",
          "state": {
            "_model_module": "@jupyter-widgets/controls",
            "_model_module_version": "1.5.0",
            "_model_name": "DescriptionStyleModel",
            "_view_count": null,
            "_view_module": "@jupyter-widgets/base",
            "_view_module_version": "1.2.0",
            "_view_name": "StyleView",
            "description_width": ""
          }
        },
        "a6358e0bf34d4a4f87393d73b108bfe3": {
          "model_module": "@jupyter-widgets/controls",
          "model_name": "HBoxModel",
          "model_module_version": "1.5.0",
          "state": {
            "_dom_classes": [],
            "_model_module": "@jupyter-widgets/controls",
            "_model_module_version": "1.5.0",
            "_model_name": "HBoxModel",
            "_view_count": null,
            "_view_module": "@jupyter-widgets/controls",
            "_view_module_version": "1.5.0",
            "_view_name": "HBoxView",
            "box_style": "",
            "children": [
              "IPY_MODEL_4d197099ee0d44f5a9b9001652577541",
              "IPY_MODEL_e2ff6ccfe7314dd0a2f692bf7bdbe663",
              "IPY_MODEL_de0992d0c4bf4d19a14adda7fe8f6f8c"
            ],
            "layout": "IPY_MODEL_75adbe9dacc04709a2e8fae670f6163e"
          }
        },
        "4d197099ee0d44f5a9b9001652577541": {
          "model_module": "@jupyter-widgets/controls",
          "model_name": "HTMLModel",
          "model_module_version": "1.5.0",
          "state": {
            "_dom_classes": [],
            "_model_module": "@jupyter-widgets/controls",
            "_model_module_version": "1.5.0",
            "_model_name": "HTMLModel",
            "_view_count": null,
            "_view_module": "@jupyter-widgets/controls",
            "_view_module_version": "1.5.0",
            "_view_name": "HTMLView",
            "description": "",
            "description_tooltip": null,
            "layout": "IPY_MODEL_9f014ce7343446068f47c48bc682937c",
            "placeholder": "​",
            "style": "IPY_MODEL_6778a4f9cb8c485e9ac3ff9e6bf15f6f",
            "value": "Map: 100%"
          }
        },
        "e2ff6ccfe7314dd0a2f692bf7bdbe663": {
          "model_module": "@jupyter-widgets/controls",
          "model_name": "FloatProgressModel",
          "model_module_version": "1.5.0",
          "state": {
            "_dom_classes": [],
            "_model_module": "@jupyter-widgets/controls",
            "_model_module_version": "1.5.0",
            "_model_name": "FloatProgressModel",
            "_view_count": null,
            "_view_module": "@jupyter-widgets/controls",
            "_view_module_version": "1.5.0",
            "_view_name": "ProgressView",
            "bar_style": "success",
            "description": "",
            "description_tooltip": null,
            "layout": "IPY_MODEL_3518ba63ea1c4e32b433bebbbacd2ada",
            "max": 1031,
            "min": 0,
            "orientation": "horizontal",
            "style": "IPY_MODEL_34ee5790b5994e6cbe9869f3a0e37faa",
            "value": 1031
          }
        },
        "de0992d0c4bf4d19a14adda7fe8f6f8c": {
          "model_module": "@jupyter-widgets/controls",
          "model_name": "HTMLModel",
          "model_module_version": "1.5.0",
          "state": {
            "_dom_classes": [],
            "_model_module": "@jupyter-widgets/controls",
            "_model_module_version": "1.5.0",
            "_model_name": "HTMLModel",
            "_view_count": null,
            "_view_module": "@jupyter-widgets/controls",
            "_view_module_version": "1.5.0",
            "_view_name": "HTMLView",
            "description": "",
            "description_tooltip": null,
            "layout": "IPY_MODEL_08f1b6182eff40c5b294059533b2da94",
            "placeholder": "​",
            "style": "IPY_MODEL_0d55ccb773f44da79ef31680995e227b",
            "value": " 1031/1031 [00:22&lt;00:00, 46.26 examples/s]"
          }
        },
        "75adbe9dacc04709a2e8fae670f6163e": {
          "model_module": "@jupyter-widgets/base",
          "model_name": "LayoutModel",
          "model_module_version": "1.2.0",
          "state": {
            "_model_module": "@jupyter-widgets/base",
            "_model_module_version": "1.2.0",
            "_model_name": "LayoutModel",
            "_view_count": null,
            "_view_module": "@jupyter-widgets/base",
            "_view_module_version": "1.2.0",
            "_view_name": "LayoutView",
            "align_content": null,
            "align_items": null,
            "align_self": null,
            "border": null,
            "bottom": null,
            "display": null,
            "flex": null,
            "flex_flow": null,
            "grid_area": null,
            "grid_auto_columns": null,
            "grid_auto_flow": null,
            "grid_auto_rows": null,
            "grid_column": null,
            "grid_gap": null,
            "grid_row": null,
            "grid_template_areas": null,
            "grid_template_columns": null,
            "grid_template_rows": null,
            "height": null,
            "justify_content": null,
            "justify_items": null,
            "left": null,
            "margin": null,
            "max_height": null,
            "max_width": null,
            "min_height": null,
            "min_width": null,
            "object_fit": null,
            "object_position": null,
            "order": null,
            "overflow": null,
            "overflow_x": null,
            "overflow_y": null,
            "padding": null,
            "right": null,
            "top": null,
            "visibility": null,
            "width": null
          }
        },
        "9f014ce7343446068f47c48bc682937c": {
          "model_module": "@jupyter-widgets/base",
          "model_name": "LayoutModel",
          "model_module_version": "1.2.0",
          "state": {
            "_model_module": "@jupyter-widgets/base",
            "_model_module_version": "1.2.0",
            "_model_name": "LayoutModel",
            "_view_count": null,
            "_view_module": "@jupyter-widgets/base",
            "_view_module_version": "1.2.0",
            "_view_name": "LayoutView",
            "align_content": null,
            "align_items": null,
            "align_self": null,
            "border": null,
            "bottom": null,
            "display": null,
            "flex": null,
            "flex_flow": null,
            "grid_area": null,
            "grid_auto_columns": null,
            "grid_auto_flow": null,
            "grid_auto_rows": null,
            "grid_column": null,
            "grid_gap": null,
            "grid_row": null,
            "grid_template_areas": null,
            "grid_template_columns": null,
            "grid_template_rows": null,
            "height": null,
            "justify_content": null,
            "justify_items": null,
            "left": null,
            "margin": null,
            "max_height": null,
            "max_width": null,
            "min_height": null,
            "min_width": null,
            "object_fit": null,
            "object_position": null,
            "order": null,
            "overflow": null,
            "overflow_x": null,
            "overflow_y": null,
            "padding": null,
            "right": null,
            "top": null,
            "visibility": null,
            "width": null
          }
        },
        "6778a4f9cb8c485e9ac3ff9e6bf15f6f": {
          "model_module": "@jupyter-widgets/controls",
          "model_name": "DescriptionStyleModel",
          "model_module_version": "1.5.0",
          "state": {
            "_model_module": "@jupyter-widgets/controls",
            "_model_module_version": "1.5.0",
            "_model_name": "DescriptionStyleModel",
            "_view_count": null,
            "_view_module": "@jupyter-widgets/base",
            "_view_module_version": "1.2.0",
            "_view_name": "StyleView",
            "description_width": ""
          }
        },
        "3518ba63ea1c4e32b433bebbbacd2ada": {
          "model_module": "@jupyter-widgets/base",
          "model_name": "LayoutModel",
          "model_module_version": "1.2.0",
          "state": {
            "_model_module": "@jupyter-widgets/base",
            "_model_module_version": "1.2.0",
            "_model_name": "LayoutModel",
            "_view_count": null,
            "_view_module": "@jupyter-widgets/base",
            "_view_module_version": "1.2.0",
            "_view_name": "LayoutView",
            "align_content": null,
            "align_items": null,
            "align_self": null,
            "border": null,
            "bottom": null,
            "display": null,
            "flex": null,
            "flex_flow": null,
            "grid_area": null,
            "grid_auto_columns": null,
            "grid_auto_flow": null,
            "grid_auto_rows": null,
            "grid_column": null,
            "grid_gap": null,
            "grid_row": null,
            "grid_template_areas": null,
            "grid_template_columns": null,
            "grid_template_rows": null,
            "height": null,
            "justify_content": null,
            "justify_items": null,
            "left": null,
            "margin": null,
            "max_height": null,
            "max_width": null,
            "min_height": null,
            "min_width": null,
            "object_fit": null,
            "object_position": null,
            "order": null,
            "overflow": null,
            "overflow_x": null,
            "overflow_y": null,
            "padding": null,
            "right": null,
            "top": null,
            "visibility": null,
            "width": null
          }
        },
        "34ee5790b5994e6cbe9869f3a0e37faa": {
          "model_module": "@jupyter-widgets/controls",
          "model_name": "ProgressStyleModel",
          "model_module_version": "1.5.0",
          "state": {
            "_model_module": "@jupyter-widgets/controls",
            "_model_module_version": "1.5.0",
            "_model_name": "ProgressStyleModel",
            "_view_count": null,
            "_view_module": "@jupyter-widgets/base",
            "_view_module_version": "1.2.0",
            "_view_name": "StyleView",
            "bar_color": null,
            "description_width": ""
          }
        },
        "08f1b6182eff40c5b294059533b2da94": {
          "model_module": "@jupyter-widgets/base",
          "model_name": "LayoutModel",
          "model_module_version": "1.2.0",
          "state": {
            "_model_module": "@jupyter-widgets/base",
            "_model_module_version": "1.2.0",
            "_model_name": "LayoutModel",
            "_view_count": null,
            "_view_module": "@jupyter-widgets/base",
            "_view_module_version": "1.2.0",
            "_view_name": "LayoutView",
            "align_content": null,
            "align_items": null,
            "align_self": null,
            "border": null,
            "bottom": null,
            "display": null,
            "flex": null,
            "flex_flow": null,
            "grid_area": null,
            "grid_auto_columns": null,
            "grid_auto_flow": null,
            "grid_auto_rows": null,
            "grid_column": null,
            "grid_gap": null,
            "grid_row": null,
            "grid_template_areas": null,
            "grid_template_columns": null,
            "grid_template_rows": null,
            "height": null,
            "justify_content": null,
            "justify_items": null,
            "left": null,
            "margin": null,
            "max_height": null,
            "max_width": null,
            "min_height": null,
            "min_width": null,
            "object_fit": null,
            "object_position": null,
            "order": null,
            "overflow": null,
            "overflow_x": null,
            "overflow_y": null,
            "padding": null,
            "right": null,
            "top": null,
            "visibility": null,
            "width": null
          }
        },
        "0d55ccb773f44da79ef31680995e227b": {
          "model_module": "@jupyter-widgets/controls",
          "model_name": "DescriptionStyleModel",
          "model_module_version": "1.5.0",
          "state": {
            "_model_module": "@jupyter-widgets/controls",
            "_model_module_version": "1.5.0",
            "_model_name": "DescriptionStyleModel",
            "_view_count": null,
            "_view_module": "@jupyter-widgets/base",
            "_view_module_version": "1.2.0",
            "_view_name": "StyleView",
            "description_width": ""
          }
        }
      }
    }
  },
  "nbformat": 4,
  "nbformat_minor": 0
}